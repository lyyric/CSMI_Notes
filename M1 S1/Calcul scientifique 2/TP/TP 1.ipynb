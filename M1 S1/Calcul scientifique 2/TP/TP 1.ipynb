{
  "cells": [
    {
      "cell_type": "code",
      "source": [
        "import numpy as np\n",
        "import scipy as sp\n",
        "import scipy.sparse as spsp"
      ],
      "metadata": {
        "id": "E1iMIRH4nmB7"
      },
      "execution_count": 2,
      "outputs": []
    },
    {
      "cell_type": "markdown",
      "source": [
        "## Partie 1. (Format Compressed Sparse Row)\n"
      ],
      "metadata": {
        "id": "uTMS4ledncSE"
      }
    },
    {
      "cell_type": "markdown",
      "source": [
        "1."
      ],
      "metadata": {
        "id": "AzWioKBvntLQ"
      }
    },
    {
      "cell_type": "code",
      "source": [
        "row = np.array([0, 0, 1, 2, 2, 2])\n",
        "col = np.array([0, 2, 2, 0, 1, 2])\n",
        "data = np.array([1, 2, 3, 4, 5, 6])\n",
        "A = spsp.csr_matrix((data, (row, col)), shape=(3, 3))\n",
        "\n",
        "print(\"A.toarray() =\\n\", A.toarray())"
      ],
      "metadata": {
        "id": "_tbxaWzrnr69",
        "outputId": "d594536d-bf10-4953-a3d4-70d72feaa79f",
        "colab": {
          "base_uri": "https://localhost:8080/"
        }
      },
      "execution_count": 4,
      "outputs": [
        {
          "output_type": "stream",
          "name": "stdout",
          "text": [
            "A.toarray() =\n",
            " [[1 0 2]\n",
            " [0 0 3]\n",
            " [4 5 6]]\n"
          ]
        }
      ]
    },
    {
      "cell_type": "code",
      "source": [
        "print(\"A =\\n\", A)"
      ],
      "metadata": {
        "colab": {
          "base_uri": "https://localhost:8080/"
        },
        "id": "wVreMCgLpCd6",
        "outputId": "7777f0ef-a700-41eb-d18f-f9fe88279eda"
      },
      "execution_count": 5,
      "outputs": [
        {
          "output_type": "stream",
          "name": "stdout",
          "text": [
            "A =\n",
            "   (0, 0)\t1\n",
            "  (0, 2)\t2\n",
            "  (1, 2)\t3\n",
            "  (2, 0)\t4\n",
            "  (2, 1)\t5\n",
            "  (2, 2)\t6\n"
          ]
        }
      ]
    },
    {
      "cell_type": "markdown",
      "source": [
        "2."
      ],
      "metadata": {
        "id": "8FZPBTswpHO5"
      }
    },
    {
      "cell_type": "code",
      "source": [
        "print(\"A[0, :] =\\n\", A[0, :])"
      ],
      "metadata": {
        "colab": {
          "base_uri": "https://localhost:8080/"
        },
        "id": "aRLDVyQcpI8H",
        "outputId": "539811a2-4272-46ac-d37c-73e3bd92a577"
      },
      "execution_count": 6,
      "outputs": [
        {
          "output_type": "stream",
          "name": "stdout",
          "text": [
            "A[0, :] =\n",
            "   (0, 0)\t1\n",
            "  (0, 2)\t2\n"
          ]
        }
      ]
    },
    {
      "cell_type": "markdown",
      "source": [
        "3."
      ],
      "metadata": {
        "id": "yPsxa75zpSH2"
      }
    },
    {
      "cell_type": "markdown",
      "source": [
        "4."
      ],
      "metadata": {
        "id": "WqW-nniSpS5l"
      }
    },
    {
      "cell_type": "markdown",
      "source": [
        "## Partie 2. (Factorisation LU)"
      ],
      "metadata": {
        "id": "l8McuxWmpTmq"
      }
    },
    {
      "cell_type": "markdown",
      "source": [
        "5."
      ],
      "metadata": {
        "id": "cmAoKPUKpatI"
      }
    },
    {
      "cell_type": "markdown",
      "source": [
        "6."
      ],
      "metadata": {
        "id": "fRzg7TcTpbzE"
      }
    },
    {
      "cell_type": "markdown",
      "source": [
        "7."
      ],
      "metadata": {
        "id": "rhUS7sdXpcqc"
      }
    },
    {
      "cell_type": "markdown",
      "source": [
        "## Partie 3 (Remplissage - fill in)."
      ],
      "metadata": {
        "id": "YK5IZa9jpqDF"
      }
    },
    {
      "cell_type": "markdown",
      "source": [
        "8."
      ],
      "metadata": {
        "id": "otG68UMNpdhr"
      }
    },
    {
      "cell_type": "markdown",
      "source": [
        "9."
      ],
      "metadata": {
        "id": "iM_SyibnpebB"
      }
    },
    {
      "cell_type": "markdown",
      "source": [
        "10."
      ],
      "metadata": {
        "id": "W20KONrxpfJx"
      }
    },
    {
      "cell_type": "markdown",
      "source": [
        "## Partie 4 (temps de calcul)."
      ],
      "metadata": {
        "id": "Xw2oicnbpthm"
      }
    },
    {
      "cell_type": "markdown",
      "source": [
        "11."
      ],
      "metadata": {
        "id": "UXzWrtucpf-h"
      }
    },
    {
      "cell_type": "markdown",
      "source": [
        "12."
      ],
      "metadata": {
        "id": "Z3p-NqtZpgyh"
      }
    },
    {
      "cell_type": "markdown",
      "source": [
        "13."
      ],
      "metadata": {
        "id": "CSTdBdeDphw8"
      }
    }
  ],
  "metadata": {
    "colab": {
      "toc_visible": true,
      "provenance": []
    },
    "kernelspec": {
      "display_name": "Python 3",
      "name": "python3"
    }
  },
  "nbformat": 4,
  "nbformat_minor": 0
}