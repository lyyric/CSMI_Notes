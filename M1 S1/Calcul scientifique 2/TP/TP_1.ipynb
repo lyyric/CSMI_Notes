{
  "cells": [
    {
      "cell_type": "code",
      "execution_count": 1,
      "metadata": {
        "id": "E1iMIRH4nmB7"
      },
      "outputs": [],
      "source": [
        "import numpy as np\n",
        "import scipy as sp\n",
        "import scipy.sparse as spsp"
      ]
    },
    {
      "cell_type": "markdown",
      "metadata": {
        "id": "GhSULfJIzoCv"
      },
      "source": [
        "## Partie 1. (Format Compressed Sparse Row)"
      ]
    },
    {
      "cell_type": "markdown",
      "metadata": {
        "id": "-cNor8_5zsKV"
      },
      "source": [
        "1. Expliquez A.data, A.indptr, A.indices par $A$."
      ]
    },
    {
      "cell_type": "code",
      "execution_count": 2,
      "metadata": {
        "colab": {
          "base_uri": "https://localhost:8080/"
        },
        "id": "lynL5EfCz1oT",
        "outputId": "9b08c349-2004-4acb-8e1a-9ee1e364d16a"
      },
      "outputs": [
        {
          "name": "stdout",
          "output_type": "stream",
          "text": [
            "A.toarray() =\n",
            " [[1 0 2]\n",
            " [0 0 3]\n",
            " [4 5 6]]\n"
          ]
        }
      ],
      "source": [
        "row = np.array([0, 0, 1, 2, 2, 2])\n",
        "col = np.array([0, 2, 2, 0, 1, 2])\n",
        "data = np.array([1, 2, 3, 4, 5, 6])\n",
        "\n",
        "A = spsp.csr_matrix((data, (row, col)), shape=(3, 3))\n",
        "print(\"A.toarray() =\\n\", A.toarray())"
      ]
    },
    {
      "cell_type": "code",
      "execution_count": 3,
      "metadata": {
        "colab": {
          "base_uri": "https://localhost:8080/"
        },
        "id": "Y09wOntd0frt",
        "outputId": "82a92d35-76cb-4ead-97e3-e808c266371d"
      },
      "outputs": [
        {
          "name": "stdout",
          "output_type": "stream",
          "text": [
            "[1 2 3 4 5 6]\n"
          ]
        }
      ],
      "source": [
        "print(A.data) # Stocker tous les éléments non nuls par lignes."
      ]
    },
    {
      "cell_type": "code",
      "execution_count": 4,
      "metadata": {
        "colab": {
          "base_uri": "https://localhost:8080/"
        },
        "id": "6pQedJYJ2zua",
        "outputId": "870104f7-9b78-4962-fe42-214c67275dc1"
      },
      "outputs": [
        {
          "name": "stdout",
          "output_type": "stream",
          "text": [
            "[0 2 3 6]\n"
          ]
        }
      ],
      "source": [
        "print(A.indptr) # Les positions de début et de fin de chaque ligne dans A.data."
      ]
    },
    {
      "cell_type": "code",
      "execution_count": 5,
      "metadata": {
        "colab": {
          "base_uri": "https://localhost:8080/"
        },
        "id": "G3p-ALL027J6",
        "outputId": "ffd06d09-a3fa-4003-dd7d-1ec3f2f552e3"
      },
      "outputs": [
        {
          "name": "stdout",
          "output_type": "stream",
          "text": [
            "[0 2 2 0 1 2]\n"
          ]
        }
      ],
      "source": [
        "print(A.indices) # Stocke l'index de colonne correspondant à chaque élément non nul."
      ]
    },
    {
      "cell_type": "code",
      "execution_count": 6,
      "metadata": {
        "colab": {
          "base_uri": "https://localhost:8080/"
        },
        "id": "xZwUOTPm3FJJ",
        "outputId": "ee217a16-2ffa-44b2-a7ff-17d4ee1d92c3"
      },
      "outputs": [
        {
          "name": "stdout",
          "output_type": "stream",
          "text": [
            "  (0, 0)\t1\n",
            "  (0, 2)\t2\n",
            "  (1, 2)\t3\n",
            "  (2, 0)\t4\n",
            "  (2, 1)\t5\n",
            "  (2, 2)\t6\n"
          ]
        }
      ],
      "source": [
        "print(A) # A est le format CSR."
      ]
    },
    {
      "cell_type": "markdown",
      "metadata": {
        "id": "5Y8aEuoP1iE-"
      },
      "source": [
        "2. Opérer sur une colonne nécessite de parcourir toutes les lignes. Étant donné que le format CSR est stocké par ligne, il ne convient pas directement à une extraction efficace des colonnes."
      ]
    },
    {
      "cell_type": "code",
      "execution_count": 7,
      "metadata": {
        "colab": {
          "base_uri": "https://localhost:8080/"
        },
        "id": "sv0H06LL3ffS",
        "outputId": "fc707990-c539-486f-cd8d-bfae29b7a3ef"
      },
      "outputs": [
        {
          "name": "stdout",
          "output_type": "stream",
          "text": [
            "A[0, :] =\n",
            "   (0, 0)\t1\n",
            "  (0, 2)\t2\n"
          ]
        }
      ],
      "source": [
        "print(\"A[0, :] =\\n\", A[0, :]) # Les opérations sur les lignes est rapid."
      ]
    },
    {
      "cell_type": "code",
      "execution_count": 8,
      "metadata": {
        "colab": {
          "base_uri": "https://localhost:8080/"
        },
        "id": "IHXJwgUQ3ig8",
        "outputId": "f3cc6e69-bed9-4c0b-a2da-4625e6e9ce76"
      },
      "outputs": [
        {
          "name": "stdout",
          "output_type": "stream",
          "text": [
            "A[:, 0] =\n",
            "   (0, 0)\t1\n",
            "  (2, 0)\t4\n"
          ]
        }
      ],
      "source": [
        "print(\"A[:, 0] =\\n\", A[:, 0]) # Les opérations sur les colonnes est lent。"
      ]
    },
    {
      "cell_type": "markdown",
      "metadata": {
        "id": "nrp-24Qg6e1y"
      },
      "source": [
        "3. Si les matrices A et B ont des formes différentes, l’addition **ne peut pas** avoir lieu. Parce que le code suivant signale une **erreur**."
      ]
    },
    {
      "cell_type": "code",
      "execution_count": 9,
      "metadata": {
        "id": "3xg-E4sv6m6g"
      },
      "outputs": [],
      "source": [
        "A1 = spsp.csr_matrix([[1, 0, 2, 1], [0, 0, 0, 9], [4, 5, 0, 8], [0, 2 ,0, 8]])\n",
        "A2 = spsp.csr_matrix([[0, 2, 0], [3, 0, 4], [0, 0, 6]])\n",
        "\n",
        "#A3 = A1 + A2\n",
        "#print(A3.toarray())"
      ]
    },
    {
      "cell_type": "markdown",
      "metadata": {
        "id": "epBjG0rA73SR"
      },
      "source": [
        "4. Comparez les résultats de calcul de la fonction personnalisée `matvect_multiply` avec la fonction intégrée `A.dot(b)` ou `A @ b`."
      ]
    },
    {
      "cell_type": "code",
      "execution_count": 10,
      "metadata": {
        "colab": {
          "base_uri": "https://localhost:8080/"
        },
        "id": "vgOinIr174ce",
        "outputId": "a6435869-088d-4227-a335-ab2a10bc3af9"
      },
      "outputs": [
        {
          "name": "stdout",
          "output_type": "stream",
          "text": [
            "[0.07969588 0.19154653 0.60146658]\n",
            "[1.28262904 1.80439974 4.88531569]\n",
            "[1.28262904 1.80439974 4.88531569]\n",
            "difference:  0.0\n"
          ]
        }
      ],
      "source": [
        "def matvect_multiply(A, b):\n",
        "    n = len(b)\n",
        "    y = np.zeros(n)\n",
        "    for i in range(n):\n",
        "      row_start = A.indptr[i]\n",
        "      row_end = A.indptr[i + 1]\n",
        "      for k in range(row_start, row_end):\n",
        "          j = A.indices[k]\n",
        "          y[i] += A.data[k] * b[j]\n",
        "    return y\n",
        "\n",
        "# test\n",
        "row = np.array([0, 0, 1, 2, 2, 2])\n",
        "col = np.array([0, 2, 2, 0, 1, 2])\n",
        "data = np.array([1, 2, 3, 4, 5, 6])\n",
        "A = spsp.csr_matrix((data, (row, col)), shape=(3, 3))\n",
        "\n",
        "b = np.random.rand(3)\n",
        "print(b)\n",
        "\n",
        "y_1 = matvect_multiply(A, b)\n",
        "y_2 = A.dot(b)\n",
        "\n",
        "print(y_1)\n",
        "print(y_2)\n",
        "\n",
        "difference = np.linalg.norm(y_1 - y_2)\n",
        "print(\"difference: \", difference)"
      ]
    },
    {
      "cell_type": "markdown",
      "metadata": {
        "id": "3AfVj6Sh1r0G"
      },
      "source": [
        "La fonction `np.dot(A, b)` génère une erreur car `np.dot` s'attend à une matrice dense, alors que `A` est une CSR. Il faut utiliser `A.dot(b)` pour effectuer la multiplication entre une matrice creuse et un vecteur."
      ]
    },
    {
      "cell_type": "markdown",
      "metadata": {
        "id": "SznX81EiBTxG"
      },
      "source": [
        "## Partie 2. (Factorisation LU)"
      ]
    },
    {
      "cell_type": "markdown",
      "metadata": {
        "id": "MrHuYptRBZNJ"
      },
      "source": [
        "5. Pour écrire une fonction de décomposition LU sur place `Facto_LU(A)`, la matrice A doit être traitée ligne par ligne, en mettant à jour ses parties triangulaires inférieure et supérieure."
      ]
    },
    {
      "cell_type": "code",
      "execution_count": 11,
      "metadata": {
        "colab": {
          "base_uri": "https://localhost:8080/"
        },
        "id": "qSYZY5HgBnlD",
        "outputId": "7fd570d8-1c0c-4537-8be0-cb3df98eea44"
      },
      "outputs": [
        {
          "name": "stdout",
          "output_type": "stream",
          "text": [
            "[[ 2.         -1.         -2.        ]\n",
            " [ 0.          6.          3.        ]\n",
            " [ 0.5         0.08333333  8.75      ]]\n"
          ]
        },
        {
          "name": "stderr",
          "output_type": "stream",
          "text": [
            "/home/lyric/anaconda3/envs/anaenv/lib/python3.11/site-packages/scipy/sparse/_index.py:108: SparseEfficiencyWarning: Changing the sparsity structure of a csr_matrix is expensive. lil_matrix is more efficient.\n",
            "  self._set_intXint(row, col, x.flat[0])\n",
            "/home/lyric/anaconda3/envs/anaenv/lib/python3.11/site-packages/scipy/sparse/_index.py:142: SparseEfficiencyWarning: Changing the sparsity structure of a csr_matrix is expensive. lil_matrix is more efficient.\n",
            "  self._set_arrayXarray_sparse(i, j, x)\n"
          ]
        }
      ],
      "source": [
        "def Facto_LU(A):\n",
        "    n = A.shape[0]\n",
        "    for i in range(n):\n",
        "        if A[i, i] == 0:\n",
        "            return -1\n",
        "        for j in range(i+1, n):\n",
        "            A[j, i] = A[j, i] / A[i, i]\n",
        "            A[j, i+1:] = A[j, i+1:] - A[j, i] * A[i, i+1:]\n",
        "    return A\n",
        "\n",
        "C = spsp.csr_matrix([[2, -1, -2],\n",
        "                      [0, 6, 3],\n",
        "                      [1, 0, 8]], dtype=float)\n",
        "\n",
        "B = Facto_LU(C.copy())\n",
        "print(B.toarray())"
      ]
    },
    {
      "cell_type": "markdown",
      "metadata": {
        "id": "jo_G7neaEClK"
      },
      "source": [
        "6. Après avoir obtenu la décomposition **LU** de la matrice $A$, le système linéaire $Ax = b$ peut être résolu par substitution avant et substitution arrière."
      ]
    },
    {
      "cell_type": "code",
      "execution_count": 12,
      "metadata": {
        "colab": {
          "base_uri": "https://localhost:8080/"
        },
        "id": "6NmULbP5EDaT",
        "outputId": "1bbd3f58-0c91-4b22-99c0-b9b680986ab8"
      },
      "outputs": [
        {
          "name": "stdout",
          "output_type": "stream",
          "text": [
            "x:\n",
            " [1.14583333 0.54166667 0.375     ]\n"
          ]
        }
      ],
      "source": [
        "def solve_LU(A, b):\n",
        "    n = len(b)\n",
        "    y = np.zeros(n)\n",
        "    x = np.zeros(n)\n",
        "    for i in range(n):\n",
        "        sum_L = 0\n",
        "        for k in range(i):\n",
        "            sum_L += A[i, k]*y[k]\n",
        "        y[i] = b[i] - sum_L\n",
        "\n",
        "    for i in range(n-1, -1, -1):\n",
        "        sum_U = 0\n",
        "        for k in range(i+1, n):\n",
        "            sum_U += A[i, k] * x[k]\n",
        "        x[i] = (y[i] - sum_U) / A[i, i]\n",
        "\n",
        "    return x\n",
        "\n",
        "C = np.array([[2, -1, -2],\n",
        "              [0, 3, 1],\n",
        "              [0, 0, 8]], dtype=float)\n",
        "b = np.array([1, 2, 3], dtype=float)\n",
        "\n",
        "x = solve_LU(C, b)\n",
        "print(\"x:\\n\", x)"
      ]
    },
    {
      "cell_type": "markdown",
      "metadata": {
        "id": "zj_KqxudGZwp"
      },
      "source": [
        "7. Utilisez la matrice donnée dans l'exercice pour tester et comparer la différence entre ma propre implémentation et la solution calculée à l'aide du solveur linéaire sparse de Scipy, `spsolve`."
      ]
    },
    {
      "cell_type": "code",
      "execution_count": 13,
      "metadata": {
        "colab": {
          "base_uri": "https://localhost:8080/"
        },
        "id": "ijV68ss7Ga4O",
        "outputId": "23d2b618-4fc6-4163-8f76-9860af484e3b"
      },
      "outputs": [
        {
          "name": "stdout",
          "output_type": "stream",
          "text": [
            "[1.86410013 2.80834663 2.86771876 2.58767123 1.38504234]\n",
            "[1.86410013 2.80834663 2.86771876 2.58767123 1.38504234]\n",
            "difference:  1.2560739669470201e-15\n"
          ]
        }
      ],
      "source": [
        "import scipy.sparse.linalg as spsplin\n",
        "\n",
        "n = 5\n",
        "A = spsp.diags([-np.ones(n-1), 2*np.ones(n), -np.ones(n-1)], [-1, 0, 1])\n",
        "A = A.tocsr()\n",
        "\n",
        "A_original = A.copy()\n",
        "\n",
        "b = np.random.rand(n)\n",
        "\n",
        "Facto_LU(A)\n",
        "\n",
        "x_moi = solve_LU(A, b)\n",
        "\n",
        "x_scipy = spsplin.spsolve(A_original, b)\n",
        "\n",
        "print(x_moi)\n",
        "print(x_scipy)\n",
        "\n",
        "difference = np.linalg.norm(x_moi - x_scipy)\n",
        "print(\"difference: \", difference)"
      ]
    },
    {
      "cell_type": "markdown",
      "metadata": {
        "id": "m1nZPnM1KfPt"
      },
      "source": [
        "## Partie 3 (Remplissage - fill in)."
      ]
    },
    {
      "cell_type": "markdown",
      "metadata": {
        "id": "otG68UMNpdhr"
      },
      "source": [
        "8. 矩阵 $A$, $B$ 的形式为：\n",
        "\n",
        "$$\n",
        "A = \\begin{pmatrix}\n",
        "\\alpha & 1 & 1 & \\dots & 1 \\\\\n",
        "1 & 1 & 0 & \\dots & 0 \\\\\n",
        "1 & 0 & 1 & \\dots & 0 \\\\\n",
        "\\vdots & \\vdots & \\vdots & \\ddots & \\vdots \\\\\n",
        "1 & 0 & 0 & \\dots & 1 \\\\\n",
        "\\end{pmatrix},\\quad\n",
        "B = \\begin{pmatrix}\n",
        "1 & 0 & 0 & \\dots & 1 \\\\\n",
        "0 & 1 & 0 & \\dots & 1 \\\\\n",
        "0 & 0 & 1 & \\dots & 1 \\\\\n",
        "\\vdots & \\vdots & \\vdots & \\ddots & \\vdots \\\\\n",
        "1 & 1 & 1 & \\dots & \\alpha \\\\\n",
        "\\end{pmatrix}\n",
        "$$\n",
        "\n",
        "- **矩阵 $A$**： $\\alpha \\notin \\{0, 1, 2, \\dots, n - 1\\}$\n",
        "\n",
        "- **矩阵 $B$**： $\\alpha \\neq n - 1$"
      ]
    },
    {
      "cell_type": "markdown",
      "metadata": {
        "id": "iM_SyibnpebB"
      },
      "source": [
        "9. Utilisez DOK pour créer les matrices ci-dessus, puis convertissez-les au format CSR."
      ]
    },
    {
      "cell_type": "code",
      "execution_count": 14,
      "metadata": {
        "colab": {
          "base_uri": "https://localhost:8080/"
        },
        "id": "1G-N4GbA5c5D",
        "outputId": "b4c5fee2-5935-48e7-bc23-3e8b848efe95"
      },
      "outputs": [
        {
          "name": "stdout",
          "output_type": "stream",
          "text": [
            "Matrix A in CSR format:\n",
            " [[7. 1. 1. 1. 1. 1. 1. 1. 1. 1.]\n",
            " [1. 1. 0. 0. 0. 0. 0. 0. 0. 0.]\n",
            " [1. 0. 1. 0. 0. 0. 0. 0. 0. 0.]\n",
            " [1. 0. 0. 1. 0. 0. 0. 0. 0. 0.]\n",
            " [1. 0. 0. 0. 1. 0. 0. 0. 0. 0.]\n",
            " [1. 0. 0. 0. 0. 1. 0. 0. 0. 0.]\n",
            " [1. 0. 0. 0. 0. 0. 1. 0. 0. 0.]\n",
            " [1. 0. 0. 0. 0. 0. 0. 1. 0. 0.]\n",
            " [1. 0. 0. 0. 0. 0. 0. 0. 1. 0.]\n",
            " [1. 0. 0. 0. 0. 0. 0. 0. 0. 1.]]\n",
            "Matrix B in CSR format:\n",
            " [[1. 0. 0. 0. 0. 0. 0. 0. 0. 1.]\n",
            " [0. 1. 0. 0. 0. 0. 0. 0. 0. 1.]\n",
            " [0. 0. 1. 0. 0. 0. 0. 0. 0. 1.]\n",
            " [0. 0. 0. 1. 0. 0. 0. 0. 0. 1.]\n",
            " [0. 0. 0. 0. 1. 0. 0. 0. 0. 1.]\n",
            " [0. 0. 0. 0. 0. 1. 0. 0. 0. 1.]\n",
            " [0. 0. 0. 0. 0. 0. 1. 0. 0. 1.]\n",
            " [0. 0. 0. 0. 0. 0. 0. 1. 0. 1.]\n",
            " [0. 0. 0. 0. 0. 0. 0. 0. 1. 1.]\n",
            " [1. 1. 1. 1. 1. 1. 1. 1. 1. 7.]]\n"
          ]
        }
      ],
      "source": [
        "n = 10\n",
        "\n",
        "alpha = 7\n",
        "\n",
        "A_dok = spsp.dok_matrix((n, n))\n",
        "\n",
        "for i in range(n):\n",
        "    for j in range(n):\n",
        "        if i == j:\n",
        "            A_dok[i, j] = 1\n",
        "        elif i == 0:\n",
        "            A_dok[i, j] = 1\n",
        "        elif j == 0:\n",
        "            A_dok[i, j] = 1\n",
        "A_dok[0, 0] = alpha\n",
        "\n",
        "A_csr = A_dok.tocsr()\n",
        "\n",
        "print(\"Matrix A in CSR format:\\n\", A_csr.toarray())\n",
        "\n",
        "B_dok = spsp.dok_matrix((n, n))\n",
        "\n",
        "for i in range(n):\n",
        "    for j in range(n):\n",
        "        if i == j:\n",
        "            B_dok[i, j] = 1\n",
        "        elif j == n - 1:\n",
        "            B_dok[i, j] = 1\n",
        "        elif i == n - 1:\n",
        "            B_dok[i, j] = 1\n",
        "B_dok[n-1, n-1] = alpha\n",
        "\n",
        "B_csr = B_dok.tocsr()\n",
        "\n",
        "print(\"Matrix B in CSR format:\\n\", B_csr.toarray())"
      ]
    },
    {
      "cell_type": "markdown",
      "metadata": {
        "id": "W20KONrxpfJx"
      },
      "source": [
        "10. Utilisez la commande `spy` de matplotlib pour observer la structure de la matrice avant et après la décomposition LU."
      ]
    },
    {
      "cell_type": "code",
      "execution_count": 15,
      "metadata": {
        "colab": {
          "base_uri": "https://localhost:8080/",
          "height": 685
        },
        "id": "ALDMj3-c5sOt",
        "outputId": "23a4f175-8bbc-4468-d2c2-0bd64423ccec"
      },
      "outputs": [
        {
          "name": "stderr",
          "output_type": "stream",
          "text": [
            "/tmp/ipykernel_21551/617076022.py:5: SparseEfficiencyWarning: splu converted its input to CSC format\n",
            "  lu_A = splu(A_csr)\n",
            "/tmp/ipykernel_21551/617076022.py:8: SparseEfficiencyWarning: splu converted its input to CSC format\n",
            "  lu_B = splu(B_csr)\n"
          ]
        },
        {
          "data": {
            "image/png": "[encoded data removed]",
            "text/plain": [
              "<Figure size 1000x300 with 3 Axes>"
            ]
          },
          "metadata": {},
          "output_type": "display_data"
        },
        {
          "data": {
            "image/png": "[encoded data removed]",
            "text/plain": [
              "<Figure size 1000x300 with 3 Axes>"
            ]
          },
          "metadata": {},
          "output_type": "display_data"
        }
      ],
      "source": [
        "import matplotlib.pyplot as plt\n",
        "from scipy.sparse.linalg import splu\n",
        "\n",
        "# Perform LU decomposition on A\n",
        "lu_A = splu(A_csr)\n",
        "\n",
        "# Perform LU decomposition on B\n",
        "lu_B = splu(B_csr)\n",
        "\n",
        "plt.figure(figsize=(10, 3))\n",
        "plt.subplot(1, 3, 1)\n",
        "plt.title('Matrix A')\n",
        "plt.spy(A_csr)\n",
        "\n",
        "plt.subplot(1, 3, 2)\n",
        "plt.title('L de A')\n",
        "plt.spy(lu_A.L)\n",
        "\n",
        "plt.subplot(1, 3, 3)\n",
        "plt.title('U de A')\n",
        "plt.spy(lu_A.U)\n",
        "plt.show()\n",
        "\n",
        "\n",
        "plt.figure(figsize=(10, 3))\n",
        "plt.subplot(1, 3, 1)\n",
        "plt.title('Matrix B')\n",
        "plt.spy(B_csr)\n",
        "\n",
        "plt.subplot(1, 3, 2)\n",
        "plt.title('L de B')\n",
        "plt.spy(lu_B.L)\n",
        "\n",
        "plt.subplot(1, 3, 3)\n",
        "plt.title('U de B')\n",
        "plt.spy(lu_B.U)\n",
        "plt.show()"
      ]
    },
    {
      "cell_type": "markdown",
      "metadata": {
        "id": "WuJKply2GrB9"
      },
      "source": [
        "Le CSR de la matrice d'origine ne peut pas être conservé sous décomposition LU."
      ]
    },
    {
      "cell_type": "markdown",
      "metadata": {
        "id": "Xw2oicnbpthm"
      },
      "source": [
        "## Partie 4 (temps de calcul)."
      ]
    },
    {
      "cell_type": "markdown",
      "metadata": {
        "id": "UXzWrtucpf-h"
      },
      "source": [
        "11. Générez une matrice basée sur la question. Utilisez `spdiags`."
      ]
    },
    {
      "cell_type": "code",
      "execution_count": 16,
      "metadata": {
        "colab": {
          "base_uri": "https://localhost:8080/"
        },
        "id": "m41v4qWR6j1P",
        "outputId": "adbe2923-e57b-492c-8355-f5de007d3cf9"
      },
      "outputs": [
        {
          "name": "stdout",
          "output_type": "stream",
          "text": [
            "[[ 4. -1.  0.  0. -1.  0.  0.  0.  0.  0.  0.  0.  0.  0.  0.  0.]\n",
            " [-1.  4. -1.  0.  0. -1.  0.  0.  0.  0.  0.  0.  0.  0.  0.  0.]\n",
            " [ 0. -1.  4. -1.  0.  0. -1.  0.  0.  0.  0.  0.  0.  0.  0.  0.]\n",
            " [ 0.  0. -1.  4. -1.  0.  0. -1.  0.  0.  0.  0.  0.  0.  0.  0.]\n",
            " [-1.  0.  0. -1.  4. -1.  0.  0. -1.  0.  0.  0.  0.  0.  0.  0.]\n",
            " [ 0. -1.  0.  0. -1.  4. -1.  0.  0. -1.  0.  0.  0.  0.  0.  0.]\n",
            " [ 0.  0. -1.  0.  0. -1.  4. -1.  0.  0. -1.  0.  0.  0.  0.  0.]\n",
            " [ 0.  0.  0. -1.  0.  0. -1.  4. -1.  0.  0. -1.  0.  0.  0.  0.]\n",
            " [ 0.  0.  0.  0. -1.  0.  0. -1.  4. -1.  0.  0. -1.  0.  0.  0.]\n",
            " [ 0.  0.  0.  0.  0. -1.  0.  0. -1.  4. -1.  0.  0. -1.  0.  0.]\n",
            " [ 0.  0.  0.  0.  0.  0. -1.  0.  0. -1.  4. -1.  0.  0. -1.  0.]\n",
            " [ 0.  0.  0.  0.  0.  0.  0. -1.  0.  0. -1.  4. -1.  0.  0. -1.]\n",
            " [ 0.  0.  0.  0.  0.  0.  0.  0. -1.  0.  0. -1.  4. -1.  0.  0.]\n",
            " [ 0.  0.  0.  0.  0.  0.  0.  0.  0. -1.  0.  0. -1.  4. -1.  0.]\n",
            " [ 0.  0.  0.  0.  0.  0.  0.  0.  0.  0. -1.  0.  0. -1.  4. -1.]\n",
            " [ 0.  0.  0.  0.  0.  0.  0.  0.  0.  0.  0. -1.  0.  0. -1.  4.]]\n"
          ]
        }
      ],
      "source": [
        "from scipy.sparse import spdiags\n",
        "\n",
        "d = 4\n",
        "n = d ** 2\n",
        "\n",
        "main_diag = 4 * np.ones(n)\n",
        "diag_1 = -1 * np.ones(n)\n",
        "diag_d = -1 * np.ones(n)\n",
        "\n",
        "diagonals = [main_diag, diag_1, diag_1, diag_d, diag_d]\n",
        "positions = [0, 1, -1, d, -d]\n",
        "\n",
        "matrix1 = spdiags(diagonals, positions, n, n)\n",
        "\n",
        "M = matrix1.tocsr()\n",
        "print(M.toarray())"
      ]
    },
    {
      "cell_type": "markdown",
      "metadata": {
        "id": "Z3p-NqtZpgyh"
      },
      "source": [
        "12. Utilisez le module time pour comparer le temps de calcul de la fonction `Facto_LU` que j'ai écrite lors de la décomposition de la matrice donnée et de sa version dense."
      ]
    },
    {
      "cell_type": "code",
      "execution_count": 17,
      "metadata": {
        "colab": {
          "base_uri": "https://localhost:8080/"
        },
        "id": "PXBTiATf7kvd",
        "outputId": "5bb06743-16ae-4d65-ce50-9dc946c301bf"
      },
      "outputs": [
        {
          "name": "stdout",
          "output_type": "stream",
          "text": [
            "(LU) time_sparse =  0.06720995903015137 s\n",
            "(LU) time_dense  =  0.0006909370422363281 s\n"
          ]
        },
        {
          "name": "stderr",
          "output_type": "stream",
          "text": [
            "/home/lyric/anaconda3/envs/anaenv/lib/python3.11/site-packages/scipy/sparse/_index.py:142: SparseEfficiencyWarning: Changing the sparsity structure of a csr_matrix is expensive. lil_matrix is more efficient.\n",
            "  self._set_arrayXarray_sparse(i, j, x)\n",
            "/home/lyric/anaconda3/envs/anaenv/lib/python3.11/site-packages/scipy/sparse/_index.py:108: SparseEfficiencyWarning: Changing the sparsity structure of a csr_matrix is expensive. lil_matrix is more efficient.\n",
            "  self._set_intXint(row, col, x.flat[0])\n"
          ]
        }
      ],
      "source": [
        "import time\n",
        "\n",
        "M_sparse = M.copy()\n",
        "\n",
        "start_time_sparse = time.time()\n",
        "Facto_LU(M_sparse)\n",
        "end_time_sparse = time.time()\n",
        "print(\"(LU) time_sparse = \", end_time_sparse - start_time_sparse, \"s\")\n",
        "\n",
        "M_dense = M.toarray()\n",
        "\n",
        "start_time_dense = time.time()\n",
        "Facto_LU(M_dense)\n",
        "end_time_dense = time.time()\n",
        "print(\"(LU) time_dense  = \", end_time_dense - start_time_dense, \"s\")"
      ]
    },
    {
      "cell_type": "markdown",
      "metadata": {
        "id": "RERN6EmoTFuz"
      },
      "source": [
        "Bien que, en général, les matrices creuses soient plus rapides, dans cet exemple, il est probable que de nombreux fill-ins doivent être effectués, ce qui nécessite plus de temps."
      ]
    },
    {
      "cell_type": "markdown",
      "metadata": {
        "id": "CSTdBdeDphw8"
      },
      "source": [
        "13. Utilisez le module time pour comparer le temps de calcul de la fonction `splu` de scipy lors de la décomposition de la matrice donnée et de sa version dense."
      ]
    },
    {
      "cell_type": "code",
      "execution_count": 18,
      "metadata": {
        "colab": {
          "base_uri": "https://localhost:8080/"
        },
        "id": "kSLVXpoV73Hm",
        "outputId": "d9c0fbc7-2b83-4ff8-8cc9-411bfdd1d030"
      },
      "outputs": [
        {
          "name": "stdout",
          "output_type": "stream",
          "text": [
            "(splu) time_sparse =  0.0011587142944335938 s\n",
            "( lu ) time_dense  =  0.0004563331604003906 s\n"
          ]
        },
        {
          "name": "stderr",
          "output_type": "stream",
          "text": [
            "/tmp/ipykernel_21551/1019851924.py:5: SparseEfficiencyWarning: splu converted its input to CSC format\n",
            "  lu_sparse = splu(M_sparse)\n"
          ]
        }
      ],
      "source": [
        "from scipy.sparse.linalg import splu\n",
        "from scipy.linalg import lu\n",
        "\n",
        "start_time_splu_sparse = time.time()\n",
        "lu_sparse = splu(M_sparse)\n",
        "end_time_splu_sparse = time.time()\n",
        "print(\"(splu) time_sparse = \", end_time_splu_sparse - start_time_splu_sparse, \"s\")\n",
        "\n",
        "start_time_splu_dense = time.time()\n",
        "P, L, U = lu(M_dense)\n",
        "end_time_splu_dense = time.time()\n",
        "print(\"( lu ) time_dense  = \", end_time_splu_dense - start_time_splu_dense, \"s\")"
      ]
    },
    {
      "cell_type": "markdown",
      "metadata": {
        "id": "6YFSFP6RTqC1"
      },
      "source": [
        "Comme avec le résultat obtenu par ma fonction, la matrice dense est également plus rapide. Cependant, la fonction `splu` est bien plus efficace que la mienne."
      ]
    }
  ],
  "metadata": {
    "colab": {
      "provenance": [],
      "toc_visible": true
    },
    "kernelspec": {
      "display_name": "Python 3",
      "name": "python3"
    },
    "language_info": {
      "codemirror_mode": {
        "name": "ipython",
        "version": 3
      },
      "file_extension": ".py",
      "mimetype": "text/x-python",
      "name": "python",
      "nbconvert_exporter": "python",
      "pygments_lexer": "ipython3",
      "version": "3.11.9"
    }
  },
  "nbformat": 4,
  "nbformat_minor": 0
}
