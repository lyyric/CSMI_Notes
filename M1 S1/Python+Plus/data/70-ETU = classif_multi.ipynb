{
 "cells": [
  {
   "cell_type": "markdown",
   "metadata": {
    "id": "oANmg-AJ2Ory"
   },
   "source": [
    "# Classification multi\n"
   ]
  },
  {
   "cell_type": "code",
   "execution_count": 1,
   "metadata": {
    "executionInfo": {
     "elapsed": 847,
     "status": "ok",
     "timestamp": 1731587853889,
     "user": {
      "displayName": "vincent vigon",
      "userId": "09456169185020192907"
     },
     "user_tz": -60
    },
    "id": "xagw1so_sqDM"
   },
   "outputs": [],
   "source": [
    "%reset -f"
   ]
  },
  {
   "cell_type": "code",
   "execution_count": 2,
   "metadata": {
    "executionInfo": {
     "elapsed": 17946,
     "status": "ok",
     "timestamp": 1731587872851,
     "user": {
      "displayName": "vincent vigon",
      "userId": "09456169185020192907"
     },
     "user_tz": -60
    },
    "id": "Ps5-MicA2Orz"
   },
   "outputs": [
    {
     "ename": "ModuleNotFoundError",
     "evalue": "No module named 'tensorflow'",
     "output_type": "error",
     "traceback": [
      "\u001b[0;31m---------------------------------------------------------------------------\u001b[0m",
      "\u001b[0;31mModuleNotFoundError\u001b[0m                       Traceback (most recent call last)",
      "Cell \u001b[0;32mIn[2], line 6\u001b[0m\n\u001b[1;32m      4\u001b[0m \u001b[38;5;28;01mimport\u001b[39;00m \u001b[38;5;21;01mnumpy\u001b[39;00m \u001b[38;5;28;01mas\u001b[39;00m \u001b[38;5;21;01mnp\u001b[39;00m\n\u001b[1;32m      5\u001b[0m \u001b[38;5;28;01mimport\u001b[39;00m \u001b[38;5;21;01mpandas\u001b[39;00m \u001b[38;5;28;01mas\u001b[39;00m \u001b[38;5;21;01mpd\u001b[39;00m\n\u001b[0;32m----> 6\u001b[0m \u001b[38;5;28;01mimport\u001b[39;00m \u001b[38;5;21;01mtensorflow\u001b[39;00m \u001b[38;5;28;01mas\u001b[39;00m \u001b[38;5;21;01mtf\u001b[39;00m\n\u001b[1;32m      7\u001b[0m \u001b[38;5;28;01mimport\u001b[39;00m \u001b[38;5;21;01mtorch\u001b[39;00m\n\u001b[1;32m      8\u001b[0m np\u001b[38;5;241m.\u001b[39mset_printoptions(linewidth\u001b[38;5;241m=\u001b[39m\u001b[38;5;241m500\u001b[39m,precision\u001b[38;5;241m=\u001b[39m\u001b[38;5;241m2\u001b[39m,suppress\u001b[38;5;241m=\u001b[39m\u001b[38;5;28;01mTrue\u001b[39;00m)\n",
      "\u001b[0;31mModuleNotFoundError\u001b[0m: No module named 'tensorflow'"
     ]
    }
   ],
   "source": [
    "import os\n",
    "import matplotlib\n",
    "import matplotlib.pyplot as plt\n",
    "import numpy as np\n",
    "import pandas as pd\n",
    "import tensorflow as tf\n",
    "import torch\n",
    "np.set_printoptions(linewidth=500,precision=2,suppress=True)"
   ]
  },
  {
   "cell_type": "code",
   "execution_count": null,
   "metadata": {
    "executionInfo": {
     "elapsed": 2,
     "status": "ok",
     "timestamp": 1731587872851,
     "user": {
      "displayName": "vincent vigon",
      "userId": "09456169185020192907"
     },
     "user_tz": -60
    },
    "id": "Q-gSV6ZyFd5f"
   },
   "outputs": [],
   "source": [
    "torch.set_default_device(\"cuda\")"
   ]
  },
  {
   "cell_type": "markdown",
   "metadata": {
    "id": "7lkec6z38jKz"
   },
   "source": [
    "##  MNIST data\n",
    "\n"
   ]
  },
  {
   "cell_type": "markdown",
   "metadata": {
    "id": "at39a_1t85YQ"
   },
   "source": [
    "### import data\n",
    "\n",
    "70 000 images de 28*28 pixel écrite à la main, représentant des chiffres à retrouver.\n",
    "\n",
    "C'est le \"Hello world\" du machine learning.\n",
    "\n"
   ]
  },
  {
   "cell_type": "code",
   "execution_count": null,
   "metadata": {
    "colab": {
     "base_uri": "https://localhost:8080/"
    },
    "executionInfo": {
     "elapsed": 2789,
     "status": "ok",
     "timestamp": 1731587875638,
     "user": {
      "displayName": "vincent vigon",
      "userId": "09456169185020192907"
     },
     "user_tz": -60
    },
    "id": "a3iGy198XBJu",
    "outputId": "e428e7ca-6104-4709-856f-d10cf4883f02"
   },
   "outputs": [],
   "source": [
    "(X_train, y_train), (X_test, y_test) = tf.keras.datasets.mnist.load_data()"
   ]
  },
  {
   "cell_type": "code",
   "execution_count": null,
   "metadata": {
    "executionInfo": {
     "elapsed": 5,
     "status": "ok",
     "timestamp": 1731587875638,
     "user": {
      "displayName": "vincent vigon",
      "userId": "09456169185020192907"
     },
     "user_tz": -60
    },
    "id": "PqP92OnsFmbO"
   },
   "outputs": [],
   "source": [
    "X_train=torch.tensor(X_train)\n",
    "y_train=torch.tensor(y_train)\n",
    "X_test=torch.tensor(X_test)\n",
    "y_test=torch.tensor(y_test)"
   ]
  },
  {
   "cell_type": "code",
   "execution_count": null,
   "metadata": {
    "colab": {
     "base_uri": "https://localhost:8080/"
    },
    "executionInfo": {
     "elapsed": 4,
     "status": "ok",
     "timestamp": 1731587875638,
     "user": {
      "displayName": "vincent vigon",
      "userId": "09456169185020192907"
     },
     "user_tz": -60
    },
    "id": "efDARCt4YD3P",
    "outputId": "e6162fc3-0861-4866-e111-9d10318d0024"
   },
   "outputs": [],
   "source": [
    "#data are classical images\n",
    "X_train.shape,y_train.shape,X_train.dtype,y_train.dtype"
   ]
  },
  {
   "cell_type": "code",
   "execution_count": null,
   "metadata": {
    "colab": {
     "base_uri": "https://localhost:8080/"
    },
    "executionInfo": {
     "elapsed": 572,
     "status": "ok",
     "timestamp": 1731587876208,
     "user": {
      "displayName": "vincent vigon",
      "userId": "09456169185020192907"
     },
     "user_tz": -60
    },
    "id": "LHOdYmu9SQhr",
    "outputId": "d7f42b71-6ecb-4523-f18d-dd66690a4311"
   },
   "outputs": [],
   "source": [
    "torch.unique(X_test)"
   ]
  },
  {
   "cell_type": "markdown",
   "metadata": {
    "id": "W6SUlAo5RQV7"
   },
   "source": [
    "Effectuons une normalisation des données"
   ]
  },
  {
   "cell_type": "code",
   "execution_count": null,
   "metadata": {
    "colab": {
     "base_uri": "https://localhost:8080/"
    },
    "executionInfo": {
     "elapsed": 4,
     "status": "ok",
     "timestamp": 1731587876208,
     "user": {
      "displayName": "vincent vigon",
      "userId": "09456169185020192907"
     },
     "user_tz": -60
    },
    "id": "EZAN-eocQho1",
    "outputId": "4d15aa55-137e-4b74-bc19-56d1d497762c"
   },
   "outputs": [],
   "source": [
    "# on préfére des floatant dans l'intervalle [0,1]\n",
    "X_train=X_train/255\n",
    "X_test=X_test/255\n",
    "X_train.dtype,X_test.dtype"
   ]
  },
  {
   "cell_type": "code",
   "execution_count": null,
   "metadata": {
    "colab": {
     "base_uri": "https://localhost:8080/",
     "height": 430
    },
    "executionInfo": {
     "elapsed": 1023,
     "status": "ok",
     "timestamp": 1731587877230,
     "user": {
      "displayName": "vincent vigon",
      "userId": "09456169185020192907"
     },
     "user_tz": -60
    },
    "id": "NYusFuuoYf4w",
    "outputId": "008a62e5-3102-47b5-83d2-bb5c9939948a"
   },
   "outputs": [],
   "source": [
    "plt.imshow(X_train[0,:,:].cpu());"
   ]
  },
  {
   "cell_type": "markdown",
   "metadata": {
    "id": "2f8uDfE7ab15"
   },
   "source": [
    "### Les labels"
   ]
  },
  {
   "cell_type": "code",
   "execution_count": null,
   "metadata": {
    "colab": {
     "base_uri": "https://localhost:8080/"
    },
    "executionInfo": {
     "elapsed": 4,
     "status": "ok",
     "timestamp": 1731587877230,
     "user": {
      "displayName": "vincent vigon",
      "userId": "09456169185020192907"
     },
     "user_tz": -60
    },
    "id": "vTI7vBGw2Or_",
    "outputId": "1962ebbc-02d9-4761-8ddd-d242349dd3ba"
   },
   "outputs": [],
   "source": [
    "\"\"\"the data are randomized\"\"\"\n",
    "print(y_train[:50])"
   ]
  },
  {
   "cell_type": "markdown",
   "metadata": {
    "id": "NCOjoigOUWt5"
   },
   "source": [
    "Oula, des `uint8`. Dangeureux. On les convertit en int68 (le dtype par défaut pour les entier torch)"
   ]
  },
  {
   "cell_type": "code",
   "execution_count": null,
   "metadata": {
    "executionInfo": {
     "elapsed": 596,
     "status": "ok",
     "timestamp": 1731587877824,
     "user": {
      "displayName": "vincent vigon",
      "userId": "09456169185020192907"
     },
     "user_tz": -60
    },
    "id": "ltVl3T1GUKjj"
   },
   "outputs": [],
   "source": [
    "y_train=y_train.to(torch.int64)\n",
    "y_test=y_test.to(torch.int64)"
   ]
  },
  {
   "cell_type": "code",
   "execution_count": null,
   "metadata": {
    "colab": {
     "base_uri": "https://localhost:8080/",
     "height": 431
    },
    "executionInfo": {
     "elapsed": 5,
     "status": "ok",
     "timestamp": 1731587877824,
     "user": {
      "displayName": "vincent vigon",
      "userId": "09456169185020192907"
     },
     "user_tz": -60
    },
    "id": "UK_Mr4Kt4Lte",
    "outputId": "bc5d2687-7347-4273-a55e-1b59ad34e391"
   },
   "outputs": [],
   "source": [
    "\"almost the same instance number for each digit\"\n",
    "val,count=np.unique(y_train.cpu(),return_counts=True)\n",
    "plt.bar(val,count);\n",
    "plt.xticks(val);"
   ]
  },
  {
   "cell_type": "code",
   "execution_count": null,
   "metadata": {
    "colab": {
     "base_uri": "https://localhost:8080/",
     "height": 733
    },
    "executionInfo": {
     "elapsed": 1865,
     "status": "ok",
     "timestamp": 1731587879686,
     "user": {
      "displayName": "vincent vigon",
      "userId": "09456169185020192907"
     },
     "user_tz": -60
    },
    "id": "iztxye516Hbd",
    "outputId": "1fddafed-4235-4670-fc94-b35a48f6dfca"
   },
   "outputs": [],
   "source": [
    "def plot_Xy(X,y):\n",
    "    ni=5\n",
    "    nj=5\n",
    "    fig,axs=plt.subplots(ni,nj,figsize=(2*nj,2*ni))\n",
    "    for i in range(ni):\n",
    "        for j in range(nj):\n",
    "            k=i*nj+j\n",
    "            axs[i,j].imshow(X[k,:,:].cpu())\n",
    "            axs[i,j].set_title(f\"{y[k].detach().cpu().numpy()}\")\n",
    "            axs[i,j].axis(\"off\")\n",
    "\n",
    "    fig.tight_layout()\n",
    "\n",
    "plot_Xy(X_train,y_train)"
   ]
  },
  {
   "cell_type": "markdown",
   "metadata": {
    "id": "0DYd_5TPyXvI"
   },
   "source": [
    "## Tout pour l'entrainement\n"
   ]
  },
  {
   "cell_type": "markdown",
   "metadata": {
    "id": "S-4jFmW9KHY6"
   },
   "source": [
    "### Distributeur de batch"
   ]
  },
  {
   "cell_type": "code",
   "execution_count": null,
   "metadata": {
    "executionInfo": {
     "elapsed": 4,
     "status": "ok",
     "timestamp": 1731587879686,
     "user": {
      "displayName": "vincent vigon",
      "userId": "09456169185020192907"
     },
     "user_tz": -60
    },
    "id": "mk2Pw6B2KJnW"
   },
   "outputs": [],
   "source": [
    "\"\"\"  distributeur de donnée par batch.   \"\"\"\n",
    "def oneEpoch(X_all,Y_all,batch_size):\n",
    "\n",
    "    nb_batches=len(X_all)//batch_size\n",
    "\n",
    "    shuffle_index=np.random.permutation(len(X_all))\n",
    "    X_all_shuffle=X_all[shuffle_index]\n",
    "    Y_all_shuffle=Y_all[shuffle_index]\n",
    "\n",
    "    for i in range(nb_batches):\n",
    "        yield X_all_shuffle[i*batch_size:(i+1)*batch_size],Y_all_shuffle[i*batch_size:(i+1)*batch_size]"
   ]
  },
  {
   "cell_type": "code",
   "execution_count": null,
   "metadata": {
    "colab": {
     "base_uri": "https://localhost:8080/"
    },
    "executionInfo": {
     "elapsed": 3,
     "status": "ok",
     "timestamp": 1731587879686,
     "user": {
      "displayName": "vincent vigon",
      "userId": "09456169185020192907"
     },
     "user_tz": -60
    },
    "id": "JFioXAIbKa6Q",
    "outputId": "bd4832b6-36c2-4a94-fc3f-846b350982e3"
   },
   "outputs": [],
   "source": [
    "for x,y in oneEpoch(X_train,y_train,10_000):\n",
    "    print(x.shape,y.shape)"
   ]
  },
  {
   "cell_type": "markdown",
   "metadata": {
    "id": "0BIfWNqeK59D"
   },
   "source": [
    "### Agent"
   ]
  },
  {
   "cell_type": "code",
   "execution_count": null,
   "metadata": {
    "executionInfo": {
     "elapsed": 3,
     "status": "ok",
     "timestamp": 1731587879687,
     "user": {
      "displayName": "vincent vigon",
      "userId": "09456169185020192907"
     },
     "user_tz": -60
    },
    "id": "6xpL41SBE-He"
   },
   "outputs": [],
   "source": [
    "import copy\n",
    "class Agent:\n",
    "\n",
    "    def __init__(self,model,learning_rate,X_train,Y_train,batch_size,loss_fn):\n",
    "        self.loss_fn = loss_fn\n",
    "        self.model = model\n",
    "        self.batch_size=batch_size\n",
    "        nb_data_train=int(len(X_train)*0.8)\n",
    "        self.X_train=X_train[:nb_data_train]\n",
    "        self.Y_train=Y_train[:nb_data_train]\n",
    "        self.X_val=X_train[nb_data_train:]\n",
    "        self.Y_val=Y_train[nb_data_train:]\n",
    "\n",
    "\n",
    "        self.optimizer = torch.optim.Adam(self.model.parameters(), lr=learning_rate)\n",
    "        self.losses=[]\n",
    "        self.val_steps=[]\n",
    "        self.val_losses=[]\n",
    "        self.step_count=-1\n",
    "\n",
    "\n",
    "    def train_step(self,x,y):\n",
    "        pred = self.model(x)\n",
    "        loss = self.loss_fn(pred,y)\n",
    "\n",
    "        loss.backward()\n",
    "        self.optimizer.step()\n",
    "        self.optimizer.zero_grad()\n",
    "\n",
    "        return loss\n",
    "\n",
    "\n",
    "    def val_step(self,x,y):\n",
    "        with torch.no_grad():\n",
    "            pred = self.model(x)\n",
    "            loss = self.loss_fn(pred,y)\n",
    "        return loss\n",
    "\n",
    "\n",
    "    def train(self,nb_epochs):\n",
    "        for _ in range(nb_epochs):\n",
    "            for x,y in oneEpoch(self.X_train,self.Y_train,self.batch_size):\n",
    "                self.step_count+=1\n",
    "                loss=self.train_step(x,y)\n",
    "                self.losses.append(loss.detach().cpu().numpy())\n",
    "\n",
    "            val_loss=self.val_step(self.X_val,self.Y_val).cpu().numpy()\n",
    "            self.val_losses.append(val_loss)\n",
    "\n",
    "            if val_loss<=np.min(self.val_losses):\n",
    "                print(f\"⬊{val_loss:.3g}\",end=\"\")\n",
    "                self.best_weights=copy.deepcopy(self.model.state_dict())\n",
    "            else:\n",
    "                print(\"⬈\",end=\"\")\n",
    "\n",
    "            self.val_steps.append(self.step_count)\n",
    "\n",
    "    def set_model_at_best(self):\n",
    "        self.model.load_state_dict(self.best_weights)"
   ]
  },
  {
   "cell_type": "markdown",
   "metadata": {
    "id": "LsrxQJcZ2OtW"
   },
   "source": [
    "##  Classification  Multi-classe"
   ]
  },
  {
   "cell_type": "markdown",
   "metadata": {
    "id": "24PeCxCQ_W-j"
   },
   "source": [
    "On va chercher à retrouver les labels à partir des images applaties."
   ]
  },
  {
   "cell_type": "markdown",
   "metadata": {
    "id": "MmVT9utACxHa"
   },
   "source": [
    "### Images applaties\n",
    "\n",
    "Nous transformons chacune des images 2D un vecteur 1D"
   ]
  },
  {
   "cell_type": "code",
   "execution_count": null,
   "metadata": {
    "colab": {
     "base_uri": "https://localhost:8080/"
    },
    "executionInfo": {
     "elapsed": 236,
     "status": "ok",
     "timestamp": 1731488930254,
     "user": {
      "displayName": "vincent vigon",
      "userId": "09456169185020192907"
     },
     "user_tz": -60
    },
    "id": "Do03XhWdC0uu",
    "outputId": "e6b05d3a-de46-4698-a060-69876e6dc1a6"
   },
   "outputs": [],
   "source": [
    "X_train_flat=X_train.reshape([-1,28*28])\n",
    "X_test_flat=X_test.reshape([-1,28*28])\n",
    "\n",
    "X_train_flat.shape"
   ]
  },
  {
   "cell_type": "markdown",
   "metadata": {
    "id": "d5KBjYsV-2wH"
   },
   "source": [
    "Traçons pleins d'images applaties, en les regroupant par label:"
   ]
  },
  {
   "cell_type": "code",
   "execution_count": null,
   "metadata": {
    "id": "Ued6WoSYC5mP"
   },
   "outputs": [],
   "source": [
    "def plot_one_label(label):\n",
    "    X_train_one=X_train_flat[y_train==label]\n",
    "    X_train_one=X_train_one[:200]\n",
    "    plt.matshow(X_train_one.cpu())\n",
    "    print(X_train_one.shape)"
   ]
  },
  {
   "cell_type": "code",
   "execution_count": null,
   "metadata": {
    "colab": {
     "base_uri": "https://localhost:8080/",
     "height": 348
    },
    "executionInfo": {
     "elapsed": 887,
     "status": "ok",
     "timestamp": 1731488939579,
     "user": {
      "displayName": "vincent vigon",
      "userId": "09456169185020192907"
     },
     "user_tz": -60
    },
    "id": "oM6lzIJoDQfC",
    "outputId": "01bd7631-9857-4826-c394-28c2a7248fe1"
   },
   "outputs": [],
   "source": [
    "plot_one_label(0)"
   ]
  },
  {
   "cell_type": "code",
   "execution_count": null,
   "metadata": {
    "colab": {
     "base_uri": "https://localhost:8080/",
     "height": 348
    },
    "executionInfo": {
     "elapsed": 3,
     "status": "ok",
     "timestamp": 1731488940270,
     "user": {
      "displayName": "vincent vigon",
      "userId": "09456169185020192907"
     },
     "user_tz": -60
    },
    "id": "-Ri--VZpDry9",
    "outputId": "a97d6324-a781-454a-8365-e3a8ddd852d4"
   },
   "outputs": [],
   "source": [
    "plot_one_label(1)"
   ]
  },
  {
   "cell_type": "code",
   "execution_count": null,
   "metadata": {
    "colab": {
     "base_uri": "https://localhost:8080/",
     "height": 348
    },
    "executionInfo": {
     "elapsed": 6,
     "status": "ok",
     "timestamp": 1731488940897,
     "user": {
      "displayName": "vincent vigon",
      "userId": "09456169185020192907"
     },
     "user_tz": -60
    },
    "id": "kXttgEN4Du5F",
    "outputId": "5f5dfa67-545b-4778-ec55-1ba97c8bdd21"
   },
   "outputs": [],
   "source": [
    "plot_one_label(2)"
   ]
  },
  {
   "cell_type": "markdown",
   "metadata": {
    "id": "VfD5RJIc_GwE"
   },
   "source": [
    "On voit que même toute applaties, chaque label donne un signal avec un aspect assez particulier."
   ]
  },
  {
   "cell_type": "markdown",
   "metadata": {
    "id": "1YhRyrh_HdWj"
   },
   "source": [
    "### Modèle\n",
    "\n",
    "Mais on va créer un modèle qui fera lui même le travail d'applatissage. Ainsi il mangera des images."
   ]
  },
  {
   "cell_type": "markdown",
   "metadata": {
    "id": "X1UpKY2fTBTh"
   },
   "source": [
    "#### ♡♡"
   ]
  },
  {
   "cell_type": "code",
   "execution_count": null,
   "metadata": {
    "colab": {
     "base_uri": "https://localhost:8080/"
    },
    "executionInfo": {
     "elapsed": 245,
     "status": "ok",
     "timestamp": 1731489190741,
     "user": {
      "displayName": "vincent vigon",
      "userId": "09456169185020192907"
     },
     "user_tz": -60
    },
    "id": "AYHHPcbOlptJ",
    "outputId": "c6b077fd-36fd-41d6-9aa5-e16534112679"
   },
   "outputs": [],
   "source": [
    "class Model_classif(torch.nn.Module):\n",
    "    def __init__(self,hidden_dim=64):\n",
    "        super().__init__()\n",
    "        ...\n",
    "\n",
    "    def forward(self, x):\n",
    "        x=x.reshape([-1,784])\n",
    "        ...\n",
    "\n",
    "def test():\n",
    "    model=Model_classif(64)\n",
    "    Y_pred=model(X_train[:20])\n",
    "    print(Y_pred.shape)\n",
    "test()"
   ]
  },
  {
   "cell_type": "markdown",
   "metadata": {
    "id": "KGhUlvfk1epT"
   },
   "source": [
    "### La loss"
   ]
  },
  {
   "cell_type": "markdown",
   "metadata": {
    "id": "UsUMoyE3275e"
   },
   "source": [
    "Colons la crossentropy à la main pour être certain d'avoir compris.\n",
    "\n",
    "Commençons par voir comment sélectionner les éléments par indice:\n",
    "\n"
   ]
  },
  {
   "cell_type": "code",
   "execution_count": null,
   "metadata": {
    "colab": {
     "base_uri": "https://localhost:8080/"
    },
    "executionInfo": {
     "elapsed": 236,
     "status": "ok",
     "timestamp": 1731490256495,
     "user": {
      "displayName": "vincent vigon",
      "userId": "09456169185020192907"
     },
     "user_tz": -60
    },
    "id": "p_87rKfd1iBs",
    "outputId": "bf454ece-c2a1-4d62-c337-7127316414da"
   },
   "outputs": [],
   "source": [
    "y_pred_logits=torch.rand([4,2])\n",
    "y_pred_logits"
   ]
  },
  {
   "cell_type": "code",
   "execution_count": null,
   "metadata": {
    "id": "NNfWwl260LnR"
   },
   "outputs": [],
   "source": [
    "y_true=torch.tensor([0,1,1,0])"
   ]
  },
  {
   "cell_type": "code",
   "execution_count": null,
   "metadata": {
    "colab": {
     "base_uri": "https://localhost:8080/"
    },
    "executionInfo": {
     "elapsed": 258,
     "status": "ok",
     "timestamp": 1731490260711,
     "user": {
      "displayName": "vincent vigon",
      "userId": "09456169185020192907"
     },
     "user_tz": -60
    },
    "id": "t5eG27Uz2T_I",
    "outputId": "ffcb83a6-7529-49eb-ca7a-a6c743cdc9eb"
   },
   "outputs": [],
   "source": [
    "y_pred_logits[torch.arange(4),y_true]"
   ]
  },
  {
   "cell_type": "code",
   "execution_count": null,
   "metadata": {
    "id": "I1MyLMGmzZBA"
   },
   "outputs": [],
   "source": [
    "def my_sparse_cross_entropy_from_logits(y_pred_logits,y_true):\n",
    "    y_pred_proba=torch.softmax(y_pred_logits,dim=1)\n",
    "    each=torch.arange(len(y_pred_proba))\n",
    "    selected=y_pred_proba[each,y_true]\n",
    "    return torch.mean(-torch.log(selected))"
   ]
  },
  {
   "cell_type": "code",
   "execution_count": null,
   "metadata": {
    "colab": {
     "base_uri": "https://localhost:8080/"
    },
    "executionInfo": {
     "elapsed": 240,
     "status": "ok",
     "timestamp": 1731490346132,
     "user": {
      "displayName": "vincent vigon",
      "userId": "09456169185020192907"
     },
     "user_tz": -60
    },
    "id": "oB7yVUN00Hzx",
    "outputId": "ab7dffb7-ccea-428c-e893-60899a34e22e"
   },
   "outputs": [],
   "source": [
    "my_sparse_cross_entropy_from_logits(y_pred_logits,y_true)"
   ]
  },
  {
   "cell_type": "code",
   "execution_count": null,
   "metadata": {
    "colab": {
     "base_uri": "https://localhost:8080/"
    },
    "executionInfo": {
     "elapsed": 245,
     "status": "ok",
     "timestamp": 1731490357259,
     "user": {
      "displayName": "vincent vigon",
      "userId": "09456169185020192907"
     },
     "user_tz": -60
    },
    "id": "wCVxChg3z3GI",
    "outputId": "3e093b32-e57b-4d68-a346-e0ce71ac3078"
   },
   "outputs": [],
   "source": [
    "scel_torch=torch.nn.CrossEntropyLoss()\n",
    "scel_torch(y_pred_logits,y_true)"
   ]
  },
  {
   "cell_type": "markdown",
   "metadata": {
    "id": "0JxOW9li3jky"
   },
   "source": [
    "Youpi, on a le même résultat que torch en personne."
   ]
  },
  {
   "cell_type": "markdown",
   "metadata": {
    "id": "hF5xevd35LrT"
   },
   "source": [
    "### Entrainement"
   ]
  },
  {
   "cell_type": "code",
   "execution_count": null,
   "metadata": {
    "id": "0p63YENMJih9"
   },
   "outputs": [],
   "source": [
    "model=Model_classif(64)\n",
    "agent=Agent(model,1e-3,X_train,y_train,256,torch.nn.CrossEntropyLoss())"
   ]
  },
  {
   "cell_type": "code",
   "execution_count": null,
   "metadata": {
    "colab": {
     "base_uri": "https://localhost:8080/"
    },
    "executionInfo": {
     "elapsed": 13241,
     "status": "ok",
     "timestamp": 1731489238875,
     "user": {
      "displayName": "vincent vigon",
      "userId": "09456169185020192907"
     },
     "user_tz": -60
    },
    "id": "tpj7-KJpJz94",
    "outputId": "9a83ec71-4fb3-4f2a-e160-98cc22f0a721"
   },
   "outputs": [],
   "source": [
    "agent.train(30)"
   ]
  },
  {
   "cell_type": "markdown",
   "metadata": {
    "id": "CVWa3vXPMbZQ"
   },
   "source": [
    "### Calcul de l'accuracy"
   ]
  },
  {
   "cell_type": "markdown",
   "metadata": {
    "id": "4qjNfsBvMd7s"
   },
   "source": [
    "#### ♡♡\n",
    "\n",
    "Complétez le calcul de l'accuracy"
   ]
  },
  {
   "cell_type": "code",
   "execution_count": null,
   "metadata": {
    "id": "6Roi0jCZLqk2"
   },
   "outputs": [],
   "source": [
    "agent.set_model_at_best()"
   ]
  },
  {
   "cell_type": "code",
   "execution_count": null,
   "metadata": {
    "colab": {
     "base_uri": "https://localhost:8080/"
    },
    "executionInfo": {
     "elapsed": 1,
     "status": "ok",
     "timestamp": 1731489240024,
     "user": {
      "displayName": "vincent vigon",
      "userId": "09456169185020192907"
     },
     "user_tz": -60
    },
    "id": "zmSSGNwNLzrU",
    "outputId": "dfa8d49c-06b6-4af2-c88e-49fea45355e0"
   },
   "outputs": [],
   "source": [
    "y_pred_logits=\n",
    "y_pred=\n",
    "y_pred.shape"
   ]
  },
  {
   "cell_type": "code",
   "execution_count": null,
   "metadata": {
    "colab": {
     "base_uri": "https://localhost:8080/"
    },
    "executionInfo": {
     "elapsed": 1,
     "status": "ok",
     "timestamp": 1731489240024,
     "user": {
      "displayName": "vincent vigon",
      "userId": "09456169185020192907"
     },
     "user_tz": -60
    },
    "id": "zmSSGNwNLzrU",
    "outputId": "dfa8d49c-06b6-4af2-c88e-49fea45355e0"
   },
   "outputs": [
    {
     "data": {
      "text/plain": [
       "torch.Size([10000])"
      ]
     },
     "execution_count": 29,
     "metadata": {},
     "output_type": "execute_result"
    }
   ],
   "source": [
    "#--- To keep following outputs, do not run this cell! ---"
   ]
  },
  {
   "cell_type": "markdown",
   "metadata": {
    "id": "ScPF0MD0MvRC"
   },
   "source": [
    "Contrairement à numpy il faut faire un cast pour transformer les True/False en 1/0"
   ]
  },
  {
   "cell_type": "code",
   "execution_count": null,
   "metadata": {
    "colab": {
     "base_uri": "https://localhost:8080/"
    },
    "executionInfo": {
     "elapsed": 460,
     "status": "ok",
     "timestamp": 1731489242490,
     "user": {
      "displayName": "vincent vigon",
      "userId": "09456169185020192907"
     },
     "user_tz": -60
    },
    "id": "6T44xwPTMFec",
    "outputId": "b3c95d54-d0dd-4b20-aa93-fd9a4dec5db5"
   },
   "outputs": [],
   "source": [
    "torch.mean((y_pred==y_test).to(torch.float32))"
   ]
  },
  {
   "cell_type": "code",
   "execution_count": null,
   "metadata": {
    "colab": {
     "base_uri": "https://localhost:8080/"
    },
    "executionInfo": {
     "elapsed": 460,
     "status": "ok",
     "timestamp": 1731489242490,
     "user": {
      "displayName": "vincent vigon",
      "userId": "09456169185020192907"
     },
     "user_tz": -60
    },
    "id": "6T44xwPTMFec",
    "outputId": "b3c95d54-d0dd-4b20-aa93-fd9a4dec5db5"
   },
   "outputs": [
    {
     "data": {
      "text/plain": [
       "tensor(0.9670, device='cuda:0')"
      ]
     },
     "execution_count": 30,
     "metadata": {},
     "output_type": "execute_result"
    }
   ],
   "source": [
    "#--- To keep following outputs, do not run this cell! ---"
   ]
  },
  {
   "cell_type": "markdown",
   "metadata": {
    "id": "Uv4Gqj-c2Otn"
   },
   "source": [
    "##  Analyse de l'erreur\n",
    "\n",
    "Bien sur, dans un projet complet de machine learning il faut:\n",
    "\n",
    "* Tester différentes préparation des données (resclaling, ACP, suppression de valeurs abhérentes ...)\n",
    "\n",
    "* Essayez différents modèles\n",
    "\n",
    "* Garder les plus prometteurs\n",
    "\n",
    "* ajuster les paramètres et sélectionner le modèle avec de la cross-validation et des recherche en grille ou aléatoire.\n",
    "\n",
    "Et tout l'art est de trouver le bon compromis entre:\n",
    "\n",
    "* tout automatiser (et risquer de mal comprendre les choses)\n",
    "* tout faire à la main (et y passer toutes ses nuits)\n",
    "\n",
    "Supposons que l'on a déjà choisi des modèles prometteurs. On aimerait analyser leur erreurs \"à la main\" pour tenter de les améliorer.\n",
    "\n",
    "En premier lieu, il faut regarder la matrice de confusion"
   ]
  },
  {
   "cell_type": "markdown",
   "metadata": {
    "id": "H1MNnp4fv7Go"
   },
   "source": [
    "### Matrice de confusion\n",
    "\n",
    "* Chaque ligne représente une vraie étiquette (`y_true`).\n",
    "* Chaque colonne représente une étiquette prédite (`y_pred`)\n",
    "\n",
    "Par exemple, sur la classification des chiffres, un modèle entrainé devrait donner ceci:"
   ]
  },
  {
   "cell_type": "markdown",
   "metadata": {
    "id": "ZCi-yKtb5heQ"
   },
   "source": [
    "    [[ 965    0    1    1    0    1    3    3    4    2]\n",
    "    [   0 1115    3    1    0    1    5    2    8    0]\n",
    "    [   6    1  998    6    5    3    5    5    3    0]\n",
    "    [   1    1   10  969    2   13    0    9    3    2]\n",
    "    [   1    0    9    1  938    1    3    5    2   22]\n",
    "    [   5    1    2   19    0  846    5    5    5    4]\n",
    "    [   9    3    2    0    9   12  922    0    1    0]\n",
    "    [   1    7   14    5    1    0    0  992    0    8]\n",
    "    [   6    2    5   12    8   11    6    7  915    2]\n",
    "    [   5    7    0    9   14    6    1   12    4  951]]"
   ]
  },
  {
   "cell_type": "markdown",
   "metadata": {
    "id": "Jci4aL5j58tJ"
   },
   "source": [
    "La lib `sklearn` permet de la calculer en une ligne:\n",
    "\n",
    "\n",
    "    conf_mx = sklearn.metrics.confusion_matrix(y_test, y_pred)\n",
    "\n",
    "Mais c'est aussi très facile à coder à la main."
   ]
  },
  {
   "cell_type": "markdown",
   "metadata": {
    "id": "przakvhdw7S_"
   },
   "source": [
    "***A vous:*** Faites un petit programme qui calcul cette matrice de confusion. C'est un bon exercice de programmation. Vous pouvez le faire  avec numpy ou avec torch, c'est quasi pareil."
   ]
  },
  {
   "cell_type": "markdown",
   "metadata": {
    "id": "aTYDhkilhaCh"
   },
   "source": [
    "Pour faire apparaitre des proportions: on divise chacune des valeurs par le nombre d'image dans la classe correspondante. ça devrait donner un truc comme ceci:"
   ]
  },
  {
   "cell_type": "markdown",
   "metadata": {
    "id": "_3MNn41t6aQr"
   },
   "source": [
    "    [[0.98 0.   0.   0.   0.   0.   0.   0.   0.   0.  ]\n",
    "    [0.   0.98 0.   0.   0.   0.   0.   0.   0.01 0.  ]\n",
    "    [0.01 0.   0.97 0.01 0.   0.   0.   0.   0.   0.  ]\n",
    "    [0.   0.   0.01 0.96 0.   0.01 0.   0.01 0.   0.  ]\n",
    "    [0.   0.   0.01 0.   0.96 0.   0.   0.01 0.   0.02]\n",
    "    [0.01 0.   0.   0.02 0.   0.95 0.01 0.01 0.01 0.  ]\n",
    "    [0.01 0.   0.   0.   0.01 0.01 0.96 0.   0.   0.  ]\n",
    "    [0.   0.01 0.01 0.   0.   0.   0.   0.96 0.   0.01]\n",
    "    [0.01 0.   0.01 0.01 0.01 0.01 0.01 0.01 0.94 0.  ]\n",
    "    [0.   0.01 0.   0.01 0.01 0.01 0.   0.01 0.   0.94]]"
   ]
  },
  {
   "cell_type": "markdown",
   "metadata": {
    "id": "YUvPTxcW2Otw"
   },
   "source": [
    "\n",
    "\n",
    "En notant $\\imath$ les vraie instances de la $i$ème-classe et $\\hat \\imath$ les instances prédites dans cette même classe, nous avons tracé la matrice dont les coefficients sont:\n",
    "$$\n",
    "\\frac {\\imath \\cap \\hat \\jmath}{\\imath}\n",
    "$$\n",
    "Ainsi on a affiché une proportion qui, en classification binaire, s'appellerait:\n",
    "\n",
    "* le rappel ?\n",
    "* la précision ?\n",
    "\n"
   ]
  },
  {
   "cell_type": "markdown",
   "metadata": {
    "id": "DsnIM4Aeh5oH"
   },
   "source": [
    "### En couleur\n",
    "\n"
   ]
  },
  {
   "cell_type": "code",
   "execution_count": null,
   "metadata": {
    "id": "O4dI_88i2Otu"
   },
   "outputs": [],
   "source": [
    "def plot_mat(conf_mx):\n",
    "    plt.matshow(conf_mx)\n",
    "    plt.xticks(range(10))\n",
    "    plt.yticks(range(10))\n",
    "    plt.grid(False)\n",
    "    plt.colorbar()"
   ]
  },
  {
   "cell_type": "markdown",
   "metadata": {
    "id": "mc06RUIW63L_"
   },
   "source": [
    "Le problème c'est que la diagonale est très dominante. Astuce: mettez à zéro les coefficients diagonnaux pour mieux voir les non-diagonnaux. ça donnera un truc comme ceci:"
   ]
  },
  {
   "cell_type": "markdown",
   "metadata": {
    "id": "hffU6H3360ej"
   },
   "source": [
    "![image.png](data:image/png;base64,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)"
   ]
  },
  {
   "cell_type": "markdown",
   "metadata": {
    "id": "TCcPso_SwBYa"
   },
   "source": [
    "### En couleur et en nombre\n",
    "\n"
   ]
  },
  {
   "cell_type": "code",
   "execution_count": null,
   "metadata": {
    "id": "igjmexpkv-8N"
   },
   "outputs": [],
   "source": [
    "from sklearn.metrics import confusion_matrix\n",
    "from sklearn.utils.multiclass import unique_labels\n",
    "\n",
    "def plot_confusion_matrix(y_true, y_pred,\n",
    "                          normalize=True,\n",
    "                          suppress_diag=False,\n",
    "                          title=\"\",\n",
    "                          cmap=\"jet\",\n",
    "                          precision=3,\n",
    "                         ):\n",
    "\n",
    "    y_true=y_true.astype(int)\n",
    "    y_pred=y_pred.astype(int)\n",
    "    np.set_printoptions(precision=precision)\n",
    "\n",
    "    # Compute confusion matrix\n",
    "    cm = confusion_matrix(y_true, y_pred)\n",
    "    classes=range(cm.shape[0])\n",
    "\n",
    "    #print(\"Confusion matrix, without normalization:\")\n",
    "    #print(cm)\n",
    "\n",
    "    if normalize:\n",
    "        cm = cm.astype('float') / cm.sum(axis=1)[:, np.newaxis]\n",
    "        #print(\"Normalized confusion matrix\")\n",
    "        #print(cm)\n",
    "\n",
    "    if suppress_diag:\n",
    "        for i in range(len(classes)):\n",
    "            cm[i,i]=0\n",
    "\n",
    "\n",
    "    fig, ax = plt.subplots(figsize=(8,8))\n",
    "    ax.grid(False)\n",
    "    im = ax.imshow(cm, interpolation='nearest', cmap=cmap)\n",
    "    ax.figure.colorbar(im, ax=ax)\n",
    "    # We want to show all ticks...\n",
    "    ax.set(xticks=np.arange(cm.shape[1]),\n",
    "           yticks=np.arange(cm.shape[0]),\n",
    "           # ... and label them with the respective list entries\n",
    "           xticklabels=classes, yticklabels=classes,\n",
    "           ylabel='True label',\n",
    "           xlabel='Predicted label')\n",
    "\n",
    "    # Rotate the tick labels and set their alignment.\n",
    "    plt.setp(ax.get_xticklabels(), rotation=45, ha=\"right\",\n",
    "             rotation_mode=\"anchor\")\n",
    "\n",
    "    # Loop over data dimensions and create text annotations.\n",
    "    fmt = '.'+str(precision)+'f' if normalize else 'd'\n",
    "    thresh = cm.max() / 2.\n",
    "    for i in range(cm.shape[0]):\n",
    "        for j in range(cm.shape[1]):\n",
    "            ax.text(j, i, format(cm[i, j], fmt),\n",
    "                    ha=\"center\", va=\"center\",\n",
    "                    color=\"white\" if cm[i, j] > thresh else \"coral\")\n",
    "    fig.tight_layout()\n",
    "    #fig.savefig(DIR_OUT+\"/\"+title)"
   ]
  },
  {
   "cell_type": "code",
   "execution_count": null,
   "metadata": {
    "colab": {
     "base_uri": "https://localhost:8080/",
     "height": 807
    },
    "executionInfo": {
     "elapsed": 876,
     "status": "ok",
     "timestamp": 1731449110050,
     "user": {
      "displayName": "vincent vigon",
      "userId": "09456169185020192907"
     },
     "user_tz": -60
    },
    "id": "2dPbFmixNNIy",
    "outputId": "a0b6ac97-959f-4663-c751-c76d3bf17c45"
   },
   "outputs": [],
   "source": [
    "plot_confusion_matrix(y_test.cpu().numpy(),y_pred.cpu().numpy(),suppress_diag=True)"
   ]
  },
  {
   "cell_type": "markdown",
   "metadata": {
    "id": "Lwplrm05yVpX"
   },
   "source": [
    "\n",
    "***A vous:*** Quels sont les chiffres que le modèle confond le plus ? Est-ce qu'il y a une certaine symétrie dans la confusion ?\n",
    "\n",
    "Que peut-on faire\n",
    "\n",
    "* rassembler plus de données correspondant à ces classes\n",
    "\n",
    "* créer des features particulière qui permettent de les distinguer: ex: compter le nombre de composante connexe du complémetaire, ce qui différentie le 8, le 9, et le 5. Mais là on sort un peu du machine learning pour revenir aux algos classiques.\n",
    "\n",
    "* Observer individuellement les erreurs pour voir s'il n'y a pas de problèmes d'étiquette, de valeurs abhérentes, des problèmes de normalisation etc.\n",
    "\n"
   ]
  },
  {
   "cell_type": "markdown",
   "metadata": {
    "id": "P2gbqavfwPdy"
   },
   "source": [
    "### Observation individuelle des erreurs"
   ]
  },
  {
   "cell_type": "markdown",
   "metadata": {
    "id": "-7M6VPmV8L5d"
   },
   "source": [
    "***A vous:*** Que fait le programme suivant ? Testez-le avec des chiffre  confondus fréquemment par le modèle."
   ]
  },
  {
   "cell_type": "code",
   "execution_count": null,
   "metadata": {
    "id": "n0uuGd2Xzsjh"
   },
   "outputs": [],
   "source": [
    "def see_confusions(class_true,class_pred,X,y_true,y_pred):\n",
    "    X_ab = X[(y_true == class_true) & (y_pred == class_pred),:,:]\n",
    "    print(X_ab.shape)\n",
    "\n",
    "    fig,axs=plt.subplots(4,4,figsize=(10,10))\n",
    "    axs=axs.flatten()\n",
    "    for i,ax in enumerate(axs):\n",
    "        if i>= len(X_ab):\n",
    "            break\n",
    "        ax.imshow(X_ab[i,:,:].cpu())\n",
    "        ax.axis(\"off\")"
   ]
  },
  {
   "cell_type": "code",
   "execution_count": null,
   "metadata": {
    "colab": {
     "base_uri": "https://localhost:8080/",
     "height": 849
    },
    "executionInfo": {
     "elapsed": 1243,
     "status": "ok",
     "timestamp": 1731449114983,
     "user": {
      "displayName": "vincent vigon",
      "userId": "09456169185020192907"
     },
     "user_tz": -60
    },
    "id": "bhM6xV_gPERk",
    "outputId": "152e5e03-4556-422f-fe20-4741b34cb59c"
   },
   "outputs": [],
   "source": [
    "see_confusions(8,3,X_test,y_test,y_pred)"
   ]
  },
  {
   "cell_type": "code",
   "execution_count": null,
   "metadata": {
    "colab": {
     "base_uri": "https://localhost:8080/",
     "height": 849
    },
    "executionInfo": {
     "elapsed": 1109,
     "status": "ok",
     "timestamp": 1731449116091,
     "user": {
      "displayName": "vincent vigon",
      "userId": "09456169185020192907"
     },
     "user_tz": -60
    },
    "id": "BkMVyt-tQQOP",
    "outputId": "ffd5c14e-ea92-4465-fb12-a7cd3b09e32a"
   },
   "outputs": [],
   "source": [
    "see_confusions(5,3,X_test,y_test,y_pred)"
   ]
  },
  {
   "cell_type": "code",
   "execution_count": null,
   "metadata": {
    "colab": {
     "base_uri": "https://localhost:8080/",
     "height": 849
    },
    "executionInfo": {
     "elapsed": 384,
     "status": "ok",
     "timestamp": 1731449116473,
     "user": {
      "displayName": "vincent vigon",
      "userId": "09456169185020192907"
     },
     "user_tz": -60
    },
    "id": "JWsJ-9bhQVIJ",
    "outputId": "b4f55173-60da-4b09-fa6c-239a9d46d09b"
   },
   "outputs": [],
   "source": [
    "see_confusions(3,5,X_test,y_test,y_pred)"
   ]
  },
  {
   "cell_type": "markdown",
   "metadata": {
    "id": "BgWVc7I95yot"
   },
   "source": [
    "##  Classification Multilabel\n",
    "\n",
    "Parfois on doit poser plusieurs étiquettes sur une même donnée. ex:\n",
    "\n",
    "* Une donnée = une photo avec plusieur visage. Les étiquettes:  \"présence d'un homme\", \"présence d'une femme\".  \n",
    "* Une donnée = une photo avec 1 animal. Les étiquettes:  mamifère, insecte, lion, chat, mouche: ce sont des catégories non-disjointes.\n"
   ]
  },
  {
   "cell_type": "markdown",
   "metadata": {
    "id": "uEC5b18Y_053"
   },
   "source": [
    "###  Création des données"
   ]
  },
  {
   "cell_type": "code",
   "execution_count": null,
   "metadata": {
    "colab": {
     "base_uri": "https://localhost:8080/"
    },
    "executionInfo": {
     "elapsed": 245,
     "status": "ok",
     "timestamp": 1731490675021,
     "user": {
      "displayName": "vincent vigon",
      "userId": "09456169185020192907"
     },
     "user_tz": -60
    },
    "id": "UBdStNMN7Kgg",
    "outputId": "cb96e8c0-127f-47ac-9f47-388b72df2495"
   },
   "outputs": [],
   "source": [
    "def make_multi_label(y):\n",
    "    y_large = (y >= 7).to(torch.float32)\n",
    "    y_odd = (y % 2 == 1).to(torch.float32)\n",
    "    y_prime = ((y==3)|(y==5)|(y==7)).to(torch.float32)\n",
    "\n",
    "    y_multilabel = torch.stack([y_large, y_odd,y_prime],dim=1)\n",
    "    return y_multilabel\n",
    "\n",
    "y_multi_train=make_multi_label(y_train)\n",
    "y_multi_test=make_multi_label(y_test)\n",
    "\n",
    "print(y_multi_train[:10])"
   ]
  },
  {
   "cell_type": "markdown",
   "metadata": {
    "id": "og3V-k4J8RUs"
   },
   "source": [
    "* La première colonne indique si un nombre est grand (7, 8, or 9)\n",
    "* La seconde colonne indique si un nombre est impair\n",
    "* La troisième colonne indique si un nombre est premier"
   ]
  },
  {
   "cell_type": "markdown",
   "metadata": {
    "id": "je_DLeemUG46"
   },
   "source": [
    "Remarquons que dans le problème précédent l'output `Y` était un simple vecteur d'entier (car on utilisait la Sparce-cross-entropy-from-logits).\n",
    "\n",
    "Si on n'avait pas utilisé la version 'sparse' de la cross entropy, l'ouput aurait été une matrice (ce qui est plus naturel en fait).\n",
    "\n",
    "\n",
    "Pour la situation actuel, l'output est aussi une matrice dont chaque ligne est composée d'un vecteur de tailles 2 composés de 0 ou de 1 (il n'y a pas d'astuce 'sparse' possible).   \n"
   ]
  },
  {
   "cell_type": "code",
   "execution_count": null,
   "metadata": {
    "colab": {
     "base_uri": "https://localhost:8080/"
    },
    "executionInfo": {
     "elapsed": 222,
     "status": "ok",
     "timestamp": 1731490707331,
     "user": {
      "displayName": "vincent vigon",
      "userId": "09456169185020192907"
     },
     "user_tz": -60
    },
    "id": "tWKkNixNYy90",
    "outputId": "7ad0c075-e30e-48fa-9067-739c38242e15"
   },
   "outputs": [],
   "source": [
    "for x,y in oneEpoch(X_train_flat,y_multi_train,10_000):\n",
    "    print(x.shape,y.shape)"
   ]
  },
  {
   "cell_type": "markdown",
   "metadata": {
    "id": "92I3oFuQY8tP"
   },
   "source": [
    "### La loss spécifique"
   ]
  },
  {
   "cell_type": "code",
   "execution_count": null,
   "metadata": {
    "colab": {
     "base_uri": "https://localhost:8080/"
    },
    "executionInfo": {
     "elapsed": 478,
     "status": "ok",
     "timestamp": 1731589026797,
     "user": {
      "displayName": "vincent vigon",
      "userId": "09456169185020192907"
     },
     "user_tz": -60
    },
    "id": "DGeOHoU7R2Eb",
    "outputId": "e9f1ced2-6fd4-43ea-b7b7-5ee06c4750ae"
   },
   "outputs": [],
   "source": [
    "def mean_binary_crossentropy(y_pred,y_true):\n",
    "    return torch.mean(-y_true*torch.log(y_pred+1e-10)-(1-y_true)*torch.log((1-y_pred)+1e-10))\n",
    "\n",
    "\n",
    "\n",
    "def test():\n",
    "    print(mean_binary_crossentropy(torch.tensor([[1.,1]]),torch.tensor([[1.,1]])))\n",
    "    print(mean_binary_crossentropy(torch.tensor([[0.,0]]),torch.tensor([[0.,0]])))\n",
    "    print(mean_binary_crossentropy(torch.tensor([[1.,0]]),torch.tensor([[1.,1]])))\n",
    "    print(mean_binary_crossentropy(torch.tensor([[0.,0]]),torch.tensor([[1.,1]])))\n",
    "\n",
    "\n",
    "test()"
   ]
  },
  {
   "cell_type": "markdown",
   "metadata": {
    "id": "tDtxSS46dZpC"
   },
   "source": [
    "### Le modèle had hoc"
   ]
  },
  {
   "cell_type": "code",
   "execution_count": null,
   "metadata": {
    "colab": {
     "base_uri": "https://localhost:8080/"
    },
    "executionInfo": {
     "elapsed": 256,
     "status": "ok",
     "timestamp": 1731490727506,
     "user": {
      "displayName": "vincent vigon",
      "userId": "09456169185020192907"
     },
     "user_tz": -60
    },
    "id": "hqZAiDvARjgb",
    "outputId": "6bad1804-7438-46a9-dfcd-f1262f231a03"
   },
   "outputs": [],
   "source": [
    "class Model_classif_multi_label(torch.nn.Module):\n",
    "    def __init__(self,hidden_dim):\n",
    "        super().__init__()\n",
    "        ...\n",
    "\n",
    "    def forward(self, x):\n",
    "        x=x.reshape([-1,784])\n",
    "        #attention à l'activation finale!!!\n",
    "        ...\n",
    "\n",
    "X=X_train_flat[:10,:]\n",
    "model=Model_classif_multi_label(64)\n",
    "Y_pred=model(X)\n",
    "print(Y_pred.shape)\n",
    "print(y_multi_train[:10,:].shape)\n"
   ]
  },
  {
   "cell_type": "markdown",
   "metadata": {
    "id": "i01wcDcldVVk"
   },
   "source": [
    "### Entrainement"
   ]
  },
  {
   "cell_type": "code",
   "execution_count": null,
   "metadata": {
    "id": "VqPnY5EKTNqT"
   },
   "outputs": [],
   "source": [
    "agent=Agent(Model_classif_multi_label(64),1e-3,X_train,y_multi_train,256,mean_binary_crossentropy)"
   ]
  },
  {
   "cell_type": "code",
   "execution_count": null,
   "metadata": {
    "colab": {
     "base_uri": "https://localhost:8080/"
    },
    "executionInfo": {
     "elapsed": 9667,
     "status": "ok",
     "timestamp": 1731490803674,
     "user": {
      "displayName": "vincent vigon",
      "userId": "09456169185020192907"
     },
     "user_tz": -60
    },
    "id": "P-0F_guuTj_K",
    "outputId": "2b5ad26d-f38e-452b-f133-3665683bde39"
   },
   "outputs": [],
   "source": [
    "agent.train(20)"
   ]
  },
  {
   "cell_type": "markdown",
   "metadata": {
    "id": "40R1dXJsdRCk"
   },
   "source": [
    "### Exploitation"
   ]
  },
  {
   "cell_type": "code",
   "execution_count": null,
   "metadata": {
    "id": "JHysk8R2agPr"
   },
   "outputs": [],
   "source": [
    "agent.set_model_at_best()"
   ]
  },
  {
   "cell_type": "code",
   "execution_count": null,
   "metadata": {
    "colab": {
     "base_uri": "https://localhost:8080/"
    },
    "executionInfo": {
     "elapsed": 260,
     "status": "ok",
     "timestamp": 1731490810825,
     "user": {
      "displayName": "vincent vigon",
      "userId": "09456169185020192907"
     },
     "user_tz": -60
    },
    "id": "JCB_vdfEalj5",
    "outputId": "3d88fcaa-20bf-473b-a633-b5ae2d38b828"
   },
   "outputs": [],
   "source": [
    "y_multi_pred=agent.model(X_test_flat)\n",
    "y_multi_pred"
   ]
  },
  {
   "cell_type": "code",
   "execution_count": null,
   "metadata": {
    "colab": {
     "base_uri": "https://localhost:8080/"
    },
    "executionInfo": {
     "elapsed": 226,
     "status": "ok",
     "timestamp": 1731490812071,
     "user": {
      "displayName": "vincent vigon",
      "userId": "09456169185020192907"
     },
     "user_tz": -60
    },
    "id": "On5Ogfzxb5_Y",
    "outputId": "4032d983-46c5-49b1-d403-baafc5c1d622"
   },
   "outputs": [],
   "source": [
    "y_multi_pred=(y_multi_pred>0.5).to(int)\n",
    "y_multi_pred"
   ]
  },
  {
   "cell_type": "markdown",
   "metadata": {
    "id": "7SaFwrj5cyBo"
   },
   "source": [
    "Calculons l'accuracy. Mais qu'est-ce que cela signifie dans un cadre multi-lable. Je vois déjà deux variante:\n",
    "\n",
    "La variante gentille:"
   ]
  },
  {
   "cell_type": "code",
   "execution_count": null,
   "metadata": {
    "colab": {
     "base_uri": "https://localhost:8080/"
    },
    "executionInfo": {
     "elapsed": 355,
     "status": "ok",
     "timestamp": 1731490826343,
     "user": {
      "displayName": "vincent vigon",
      "userId": "09456169185020192907"
     },
     "user_tz": -60
    },
    "id": "KYTjabRHa4Lm",
    "outputId": "11950722-ad38-41c3-ccb7-744167d0f9a9"
   },
   "outputs": [],
   "source": [
    "torch.mean((y_multi_pred==y_multi_test).to(torch.float32))"
   ]
  },
  {
   "cell_type": "markdown",
   "metadata": {
    "id": "0kj-t8s2c-LP"
   },
   "source": [
    "La variante sévère:"
   ]
  },
  {
   "cell_type": "code",
   "execution_count": null,
   "metadata": {
    "colab": {
     "base_uri": "https://localhost:8080/"
    },
    "executionInfo": {
     "elapsed": 241,
     "status": "ok",
     "timestamp": 1731490835445,
     "user": {
      "displayName": "vincent vigon",
      "userId": "09456169185020192907"
     },
     "user_tz": -60
    },
    "id": "gz5vSiA8cO2B",
    "outputId": "f57136b4-47f6-40d2-839c-57d1344804b2"
   },
   "outputs": [],
   "source": [
    "both=(y_multi_pred[:,0]==y_multi_test[:,0])&(y_multi_pred[:,0]==y_multi_test[:,0])\n",
    "torch.mean(both.to(torch.float32))"
   ]
  },
  {
   "cell_type": "markdown",
   "metadata": {
    "id": "txGHMHzicKe2"
   },
   "source": [
    "#### ♡\n",
    "\n",
    "***A vous:*** Tranduisez en quelques mots ce que j'entend par 'gentille' et 'sévère'."
   ]
  },
  {
   "cell_type": "markdown",
   "metadata": {
    "id": "pfDTw2wmAoPS"
   },
   "source": [
    "##  Classification  Multi-output\n",
    "\n",
    "Cela regroupe toutes les notions où l'output `Y` est \"complexe\".\n",
    "\n",
    "\n",
    "\n",
    "* Exemple 1: `X` est une image et `Y` est aussi une image, de même résolution que `X`. Et `Y[i,j] = 0,1,2,3` selon si `X[i,j]` est un pixel de route, de maison, d'humain, d'arbre. On dit que `Y` est une segmentation de `X`\n",
    "\n",
    "\n",
    "* Exemple 2: `X` est une image prise par un véhicule. `Y` est un couple contenant une segmentation de `X` et d'une variable indiquant si notre véhicule peut avancer.\n",
    "\n",
    "* Exemple 3: L'exemple 'multi-label' précédent pouvait aussi être vu comme un multi-output: nous donnions 3 sorties, chacune d'elle décrivant une propriété arithmétique.\n",
    "\n",
    "\n",
    "\n",
    "\n"
   ]
  },
  {
   "cell_type": "markdown",
   "metadata": {
    "id": "MjHzQNuotY26"
   },
   "source": [
    "L'exemple que l'on va traiter est proche de l'exemple 1 (segmentation d'image).\n",
    "\n",
    " L'input `X` est une image MNIST bruité, l'output `Y` est l'image  débruité.\n"
   ]
  },
  {
   "cell_type": "markdown",
   "metadata": {
    "id": "UXckLYp5FuVX"
   },
   "source": [
    "### Créons les données\n"
   ]
  },
  {
   "cell_type": "code",
   "execution_count": null,
   "metadata": {
    "executionInfo": {
     "elapsed": 425,
     "status": "ok",
     "timestamp": 1731588546591,
     "user": {
      "displayName": "vincent vigon",
      "userId": "09456169185020192907"
     },
     "user_tz": -60
    },
    "id": "HL0DdeyBD9uf"
   },
   "outputs": [],
   "source": [
    "def add_noise(X):\n",
    "    noise = torch.rand(len(X),28,28)*2\n",
    "    noise2= 0.9*((torch.rand(len(X),28,28)<0.2).to(torch.float32))\n",
    "    return X+noise+noise2\n",
    "\n",
    "X_train_mo=add_noise(X_train)\n",
    "X_test_mo=add_noise(X_test)\n",
    "\n",
    "#les étiquettes, c'est le images non bruitées, binarisées = chaque pixel peut appartenir à la  classe 0 ou à la classe 1\n",
    "Y_train_mo=(X_train>0).to(torch.float32)\n",
    "Y_test_mo=(X_test>0).to(torch.float32)"
   ]
  },
  {
   "cell_type": "code",
   "execution_count": null,
   "metadata": {
    "executionInfo": {
     "elapsed": 1071,
     "status": "ok",
     "timestamp": 1731588550612,
     "user": {
      "displayName": "vincent vigon",
      "userId": "09456169185020192907"
     },
     "user_tz": -60
    },
    "id": "EPrbMcAb40h5"
   },
   "outputs": [],
   "source": [
    "def plot_imgs(imgs_list,labels):\n",
    "    ni=len(imgs_list)\n",
    "    nj=10\n",
    "\n",
    "    fig,axs=plt.subplots(ni,nj,figsize=(nj*2,ni*2))\n",
    "    for i,imgs in enumerate(imgs_list):\n",
    "        for j in range(nj):\n",
    "            axs[i,j].imshow(imgs[j,:,:].detach().cpu())\n",
    "            axs[i,j].set_xticks([])\n",
    "            axs[i,j].set_yticks([])\n",
    "\n",
    "    for i, label in enumerate(labels):\n",
    "        axs[i,0].set_ylabel(label)\n"
   ]
  },
  {
   "cell_type": "code",
   "execution_count": null,
   "metadata": {
    "colab": {
     "base_uri": "https://localhost:8080/",
     "height": 157
    },
    "executionInfo": {
     "elapsed": 1639,
     "status": "ok",
     "timestamp": 1731588554352,
     "user": {
      "displayName": "vincent vigon",
      "userId": "09456169185020192907"
     },
     "user_tz": -60
    },
    "id": "tjT7plVBk3yV",
    "outputId": "910d0612-7822-4ce7-fa13-791aa2d6fc29"
   },
   "outputs": [],
   "source": [
    "plot_imgs([X_train_mo,Y_train_mo],[\"input\",\"output\"])"
   ]
  },
  {
   "cell_type": "markdown",
   "metadata": {
    "id": "ILGP-bWGuKie"
   },
   "source": [
    "\n",
    " Remarque: les images MNIST qui constitue l'output ont été seuilée. Chaque pixel ne peut être que blanc ou noir (pas de gris). Cela donne les deux classes pour notre problème de classification multi-output.    \n",
    "\n",
    "\n"
   ]
  },
  {
   "cell_type": "code",
   "execution_count": null,
   "metadata": {
    "executionInfo": {
     "elapsed": 426,
     "status": "ok",
     "timestamp": 1731588908154,
     "user": {
      "displayName": "vincent vigon",
      "userId": "09456169185020192907"
     },
     "user_tz": -60
    },
    "id": "QKSKgDnEgKXe"
   },
   "outputs": [],
   "source": [
    "class Model_classif_multi_output(torch.nn.Module):\n",
    "    def __init__(self,hidden_dim):\n",
    "        super().__init__()\n",
    "        self.lay1=torch.nn.Linear(784,hidden_dim)\n",
    "        self.lay2=torch.nn.Linear(hidden_dim,hidden_dim)\n",
    "        self.lay3=torch.nn.Linear(hidden_dim,hidden_dim)\n",
    "        self.final_layer=\n",
    "\n",
    "\n",
    "    def forward(self, x):\n",
    "        #attention à la dernière activation\n"
   ]
  },
  {
   "cell_type": "code",
   "execution_count": null,
   "metadata": {
    "executionInfo": {
     "elapsed": 440,
     "status": "ok",
     "timestamp": 1731588911411,
     "user": {
      "displayName": "vincent vigon",
      "userId": "09456169185020192907"
     },
     "user_tz": -60
    },
    "id": "eDmZ-c1EhAqj"
   },
   "outputs": [],
   "source": [
    "def mse(y_pred,y_true):\n",
    "    return torch.mean((y_pred-y_true)**2)"
   ]
  },
  {
   "cell_type": "code",
   "execution_count": null,
   "metadata": {
    "executionInfo": {
     "elapsed": 5647,
     "status": "ok",
     "timestamp": 1731589041937,
     "user": {
      "displayName": "vincent vigon",
      "userId": "09456169185020192907"
     },
     "user_tz": -60
    },
    "id": "5ud3ajKpiJqc"
   },
   "outputs": [],
   "source": [
    "model=Model_classif_multi_output(256)\n",
    "agent=Agent(model,1e-3,X_train_mo,Y_train_mo,256,mean_binary_crossentropy)"
   ]
  },
  {
   "cell_type": "code",
   "execution_count": null,
   "metadata": {
    "colab": {
     "base_uri": "https://localhost:8080/"
    },
    "executionInfo": {
     "elapsed": 17274,
     "status": "ok",
     "timestamp": 1731589063029,
     "user": {
      "displayName": "vincent vigon",
      "userId": "09456169185020192907"
     },
     "user_tz": -60
    },
    "id": "3RMcu3XxiYXi",
    "outputId": "1cbd9e2f-d477-40be-e05e-0cb80bd5932a"
   },
   "outputs": [],
   "source": [
    "agent.train(30)"
   ]
  },
  {
   "cell_type": "code",
   "execution_count": null,
   "metadata": {
    "executionInfo": {
     "elapsed": 422,
     "status": "ok",
     "timestamp": 1731589595842,
     "user": {
      "displayName": "vincent vigon",
      "userId": "09456169185020192907"
     },
     "user_tz": -60
    },
    "id": "1hedvqyniazM"
   },
   "outputs": [],
   "source": [
    "agent.set_model_at_best()"
   ]
  },
  {
   "cell_type": "code",
   "execution_count": null,
   "metadata": {
    "executionInfo": {
     "elapsed": 3,
     "status": "ok",
     "timestamp": 1731589613237,
     "user": {
      "displayName": "vincent vigon",
      "userId": "09456169185020192907"
     },
     "user_tz": -60
    },
    "id": "HqcWVTQJjpam"
   },
   "outputs": [],
   "source": [
    "Y_pred_mo=agent.model(X_test_mo)"
   ]
  },
  {
   "cell_type": "code",
   "execution_count": null,
   "metadata": {
    "executionInfo": {
     "elapsed": 859,
     "status": "ok",
     "timestamp": 1731589615790,
     "user": {
      "displayName": "vincent vigon",
      "userId": "09456169185020192907"
     },
     "user_tz": -60
    },
    "id": "U06xSM5uoHSA"
   },
   "outputs": [],
   "source": [
    "Y_pred_mo_bin=(Y_pred_mo>0.5)"
   ]
  },
  {
   "cell_type": "code",
   "execution_count": null,
   "metadata": {
    "colab": {
     "base_uri": "https://localhost:8080/",
     "height": 295
    },
    "executionInfo": {
     "elapsed": 2133,
     "status": "ok",
     "timestamp": 1731589621445,
     "user": {
      "displayName": "vincent vigon",
      "userId": "09456169185020192907"
     },
     "user_tz": -60
    },
    "id": "srPuXVC5oSXN",
    "outputId": "4a1ede43-13e6-4f30-a006-b48e907c27b6"
   },
   "outputs": [],
   "source": [
    "plot_imgs([X_test_mo,Y_test_mo,Y_pred_mo,Y_pred_mo_bin],[\"input\",\"output\",\"pred\", \"pred_bin\"])"
   ]
  },
  {
   "cell_type": "markdown",
   "metadata": {
    "id": "wqUX-pJW5dJA"
   },
   "source": [
    "## Multi à vous"
   ]
  },
  {
   "cell_type": "markdown",
   "metadata": {
    "id": "8c3HZYibt86P"
   },
   "source": [
    "### Variante sur le débruitage\n",
    "\n",
    "\n",
    "Notre problème de debruitage serait plus naturellement un problème de regression"
   ]
  },
  {
   "cell_type": "markdown",
   "metadata": {
    "id": "5S5Qc1Qlysdp"
   },
   "source": [
    "#### ♡♡♡♡\n",
    "\n",
    "Créez le modèle et choisissez la bonne loss pour retrouver des images originelle `X_test` (considérer comme des output) à partir des l'input `X_test_mo`"
   ]
  },
  {
   "cell_type": "markdown",
   "metadata": {
    "id": "-uu6CeLIljUK"
   },
   "source": [
    "### Un vrai problème pour vous"
   ]
  },
  {
   "cell_type": "code",
   "execution_count": null,
   "metadata": {
    "executionInfo": {
     "elapsed": 438,
     "status": "ok",
     "timestamp": 1731590102873,
     "user": {
      "displayName": "vincent vigon",
      "userId": "09456169185020192907"
     },
     "user_tz": -60
    },
    "id": "vinG1D4W5zp2"
   },
   "outputs": [],
   "source": [
    "def make_multi_label_hard(X,y):\n",
    "    n=len(X)\n",
    "\n",
    "    rand_perm=np.random.permutation(n)\n",
    "    X1=X[rand_perm]\n",
    "    y1=y[rand_perm]\n",
    "\n",
    "    rand_perm=np.random.permutation(n)\n",
    "    X2=X[rand_perm]\n",
    "    y2=y[rand_perm]\n",
    "\n",
    "    rand_perm=np.random.permutation(n)\n",
    "    X3=X[rand_perm]\n",
    "    y3=y[rand_perm]\n",
    "\n",
    "    rand_perm=np.random.permutation(n)\n",
    "    X4=X[rand_perm]\n",
    "    y4=y[rand_perm]\n",
    "\n",
    "    Z_haut=torch.concat([X1,X2],dim=1)\n",
    "    Z_bas=torch.concat([X3,X4],dim=1)\n",
    "    Z = torch.concat([Z_haut,Z_bas],dim=2)\n",
    "\n",
    "    yy = torch.stack([y1,y2,y3,y4],dim=1)\n",
    "    for i in range(n):\n",
    "        yy[i,:]= torch.sort(yy[i,:])[0]\n",
    "\n",
    "    return Z,yy"
   ]
  },
  {
   "cell_type": "code",
   "execution_count": null,
   "metadata": {
    "colab": {
     "base_uri": "https://localhost:8080/",
     "height": 733
    },
    "executionInfo": {
     "elapsed": 10068,
     "status": "ok",
     "timestamp": 1731590114615,
     "user": {
      "displayName": "vincent vigon",
      "userId": "09456169185020192907"
     },
     "user_tz": -60
    },
    "id": "SIaHMLuQ9fex",
    "outputId": "f7026200-41d1-4ce1-a956-70e262320ac8"
   },
   "outputs": [],
   "source": [
    "X_train_mlh,Y_train_mlh=make_multi_label_hard(X_train,y_train)\n",
    "\n",
    "plot_Xy(X_train_mlh,Y_train_mlh)"
   ]
  },
  {
   "cell_type": "markdown",
   "metadata": {
    "id": "fGrVOBw40OZD"
   },
   "source": [
    "#### ♡♡♡♡♡♡♡\n",
    "\n",
    "Retrouvez au mieux les étiquettes à partir des images.\n",
    "\n",
    "L'entrainement ne devra pas être long. Le plus gros du travail et de trouver comme \"encoder\" ces étiquettes."
   ]
  },
  {
   "cell_type": "code",
   "execution_count": null,
   "metadata": {
    "colab": {
     "base_uri": "https://localhost:8080/"
    },
    "executionInfo": {
     "elapsed": 247,
     "status": "ok",
     "timestamp": 1731503889932,
     "user": {
      "displayName": "vincent vigon",
      "userId": "09456169185020192907"
     },
     "user_tz": -60
    },
    "id": "UtsEWUgUMVxm",
    "outputId": "0d17c6a7-2483-44aa-d7e2-b66a0746ef20"
   },
   "outputs": [],
   "source": []
  },
  {
   "cell_type": "markdown",
   "metadata": {
    "id": "gP4dg92iU2EN"
   },
   "source": [
    "ººuntil\n",
    "Et quand je vous disais que les `uint8` sont dangereux:"
   ]
  },
  {
   "cell_type": "code",
   "execution_count": null,
   "metadata": {
    "colab": {
     "base_uri": "https://localhost:8080/"
    },
    "executionInfo": {
     "elapsed": 252,
     "status": "ok",
     "timestamp": 1731503894790,
     "user": {
      "displayName": "vincent vigon",
      "userId": "09456169185020192907"
     },
     "user_tz": -60
    },
    "id": "QJroOQX2U9IX",
    "outputId": "19669a11-48b2-458f-e9c1-1823ebc61287"
   },
   "outputs": [],
   "source": []
  },
  {
   "cell_type": "code",
   "execution_count": null,
   "metadata": {
    "id": "Js2HrE9wH6ct"
   },
   "outputs": [],
   "source": []
  },
  {
   "cell_type": "code",
   "execution_count": null,
   "metadata": {
    "id": "2tOCOwAW_VuI"
   },
   "outputs": [],
   "source": []
  },
  {
   "cell_type": "code",
   "execution_count": null,
   "metadata": {
    "id": "ab6kB6uvnpYi"
   },
   "outputs": [],
   "source": []
  },
  {
   "cell_type": "code",
   "execution_count": null,
   "metadata": {
    "id": "Aam7F2vfQp1o"
   },
   "outputs": [],
   "source": [
    "# mse=lambda a,b:torch.mean((a-b)**2)\n",
    "\n",
    "model=Model_classif_multi_label_hard()\n",
    "agent=Agent(model,1e-3,X_train_mlh,Y_train_mlh_vec,256,cross_entropy)"
   ]
  },
  {
   "cell_type": "code",
   "execution_count": null,
   "metadata": {
    "colab": {
     "base_uri": "https://localhost:8080/"
    },
    "executionInfo": {
     "elapsed": 32306,
     "status": "ok",
     "timestamp": 1731503968478,
     "user": {
      "displayName": "vincent vigon",
      "userId": "09456169185020192907"
     },
     "user_tz": -60
    },
    "id": "ZtfQpDA9Qp5H",
    "outputId": "d557e97a-4554-48dc-a9a0-f2d0c21b00e2"
   },
   "outputs": [],
   "source": []
  },
  {
   "cell_type": "code",
   "execution_count": null,
   "metadata": {
    "id": "3UhFT4UAQp8i"
   },
   "outputs": [],
   "source": []
  },
  {
   "cell_type": "code",
   "execution_count": null,
   "metadata": {
    "id": "FqwnYBzPRlDg"
   },
   "outputs": [],
   "source": []
  },
  {
   "cell_type": "code",
   "execution_count": null,
   "metadata": {
    "id": "wZxitaoiSVZ3"
   },
   "outputs": [],
   "source": []
  },
  {
   "cell_type": "code",
   "execution_count": null,
   "metadata": {
    "id": "W_RXWAqIRYe1"
   },
   "outputs": [],
   "source": []
  },
  {
   "cell_type": "code",
   "execution_count": null,
   "metadata": {
    "colab": {
     "base_uri": "https://localhost:8080/"
    },
    "executionInfo": {
     "elapsed": 224,
     "status": "ok",
     "timestamp": 1731503976940,
     "user": {
      "displayName": "vincent vigon",
      "userId": "09456169185020192907"
     },
     "user_tz": -60
    },
    "id": "WSVGmSchR5fF",
    "outputId": "f369fc27-1142-40c5-c5d0-c692e8e3e1b0"
   },
   "outputs": [],
   "source": []
  },
  {
   "cell_type": "code",
   "execution_count": null,
   "metadata": {
    "colab": {
     "base_uri": "https://localhost:8080/"
    },
    "executionInfo": {
     "elapsed": 230,
     "status": "ok",
     "timestamp": 1731503978252,
     "user": {
      "displayName": "vincent vigon",
      "userId": "09456169185020192907"
     },
     "user_tz": -60
    },
    "id": "CGS3wHIoSIlo",
    "outputId": "50412009-34c8-46f7-f992-214c62b9d67f"
   },
   "outputs": [],
   "source": []
  }
 ],
 "metadata": {
  "accelerator": "GPU",
  "colab": {
   "collapsed_sections": [
    "2LksF_Qg-Ml-",
    "7E-oIQUa2Osi",
    "FRZt-r8z2Osp",
    "L20PSedy2Osz",
    "-NzQTaoS2Os0",
    "7QRx5Dio2OtD",
    "1cGiXS9N2OtI",
    "Cv63yUqG2OtI",
    "UXckLYp5FuVX"
   ],
   "provenance": []
  },
  "kernelspec": {
   "display_name": "myconda",
   "language": "python",
   "name": "python3"
  },
  "language_info": {
   "codemirror_mode": {
    "name": "ipython",
    "version": 3
   },
   "file_extension": ".py",
   "mimetype": "text/x-python",
   "name": "python",
   "nbconvert_exporter": "python",
   "pygments_lexer": "ipython3",
   "version": "3.12.7"
  }
 },
 "nbformat": 4,
 "nbformat_minor": 0
}
