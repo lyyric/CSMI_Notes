{
 "cells": [
  {
   "cell_type": "markdown",
   "metadata": {
    "hideCode": false,
    "hidePrompt": false,
    "slideshow": {
     "slide_type": "slide"
    }
   },
   "source": [
    "# Somme de deux variables gaussiennes"
   ]
  },
  {
   "cell_type": "markdown",
   "metadata": {
    "hideCode": false,
    "hidePrompt": false,
    "slideshow": {
     "slide_type": "subslide"
    }
   },
   "source": [
    "- Create the `Normal` distribution $X$ with parameters $\\mu=-5,\\sigma=3$\n",
    "- Create the `Normal` distribution $Y$ with parameters $\\mu=5,\\sigma=3$\n",
    "- Create the multivariate `Distribution` with marginals $X$ and $Y$ and independent copula\n",
    "- Create the `RandomVector` input random vector `inRV` defined with the distribution\n",
    "- Define the symbolic function `f` such that \n",
    "$$\n",
    "f(x,y)=x+y\n",
    "$$\n",
    "- Create the `RandomVector` output random vector `outRV` as composition of `f` and `inRV`\n",
    "- Create three sample with sizes `N=100,1000,10000` of the output random vector `outRV`.\n",
    "- For each sample, compute :\n",
    "\n",
    "  - The mean,\n",
    "  - The standard deviation,\n",
    "  - The quantiles of level $\\alpha$=`0.05,0.50,0.95`. \n",
    "\n",
    "- Now instead of the `Function` and random vectors, use the `+` operator to define the variable `Z=X+Y`.\n",
    "\n",
    "- From this distribution `Z`, compute :\n",
    "  - The mean,\n",
    "  - The standard deviation,\n",
    "  - The quantiles of level $\\alpha$=`0.05,0.50,0.95`. \n",
    "- Compare the two results: which one is more accurate?"
   ]
  },
  {
   "cell_type": "code",
   "execution_count": 1,
   "metadata": {},
   "outputs": [
    {
     "name": "stdout",
     "output_type": "stream",
     "text": [
      "=== Monte Carlo on outRV (f(X,Y)=X+Y) ===\n",
      "N=  100 | mean=-0.2378 | sd=4.3994 | quantiles [0.05, 0.5, 0.95] = [-7.3663, -0.3166, 7.4636]\n",
      "N= 1000 | mean=-0.1093 | sd=4.2336 | quantiles [0.05, 0.5, 0.95] = [-7.2289, -0.1775, 7.0372]\n",
      "N=10000 | mean=-0.0145 | sd=4.2362 | quantiles [0.05, 0.5, 0.95] = [-6.8414, -0.0555, 6.9169]\n",
      "\n",
      "=== Analytical distribution Z = X + Y (Normal) ===\n",
      "mean=0.0000 | sd=4.2426 | quantiles [0.05, 0.5, 0.95] = [-6.9785, 0.0, 6.9785]\n"
     ]
    }
   ],
   "source": [
    "import math\n",
    "import openturns as ot\n",
    "\n",
    "# 1) 定义边缘分布 X, Y\n",
    "X = ot.Normal(-5.0, 3.0)\n",
    "Y = ot.Normal( 5.0, 3.0)\n",
    "\n",
    "# 2) 二维独立联合分布\n",
    "distXY = ot.ComposedDistribution([X, Y], ot.IndependentCopula(2))\n",
    "\n",
    "# 3) 输入随机向量\n",
    "inRV = ot.RandomVector(distXY)\n",
    "\n",
    "# 4) 符号函数 f(x,y)=x+y\n",
    "f = ot.SymbolicFunction([\"x\",\"y\"], [\"x + y\"])\n",
    "\n",
    "# 5) 输出随机向量 outRV = f(inRV)\n",
    "outRV = ot.CompositeRandomVector(f, inRV)\n",
    "\n",
    "# 6) 三个样本规模\n",
    "Ns = [100, 1000, 10000]\n",
    "alphas = [0.05, 0.50, 0.95]\n",
    "\n",
    "def summarize_sample(rv, N, alphas):\n",
    "    sample = rv.getSample(N)\n",
    "    mean = sample.computeMean()                   # Point(1)\n",
    "    sd   = sample.computeStandardDeviation()      # Point(1)\n",
    "    qs   = [sample.computeQuantilePerComponent(a)[0] for a in alphas]\n",
    "    return float(mean[0]), float(sd[0]), qs\n",
    "\n",
    "print(\"=== Monte Carlo on outRV (f(X,Y)=X+Y) ===\")\n",
    "for N in Ns:\n",
    "    m, s, qs = summarize_sample(outRV, N, alphas)\n",
    "    print(f\"N={N:5d} | mean={m:.4f} | sd={s:.4f} | quantiles {alphas} = {[round(q,4) for q in qs]}\")\n",
    "\n",
    "# 7) 用 “+” 定义 Z = X + Y （分布层面：两独立正态之和仍为正态）\n",
    "#    解析结果：mu_Z = -5 + 5 = 0\n",
    "#            sigma_Z = sqrt(3^2 + 3^2) = sqrt(18)\n",
    "muZ = X.getMean()[0] + Y.getMean()[0]\n",
    "sdZ = math.sqrt(X.getStandardDeviation()[0]**2 + Y.getStandardDeviation()[0]**2)\n",
    "Z  = ot.Normal(muZ, sdZ)   # 直接得到 Z 的分布\n",
    "\n",
    "# 8) 从分布 Z 计算均值、标准差、分位数\n",
    "mZ  = Z.getMean()[0]\n",
    "sZ  = Z.getStandardDeviation()[0]\n",
    "qZs = [Z.computeQuantile(a)[0] for a in alphas]\n",
    "\n",
    "print(\"\\n=== Analytical distribution Z = X + Y (Normal) ===\")\n",
    "print(f\"mean={mZ:.4f} | sd={sZ:.4f} | quantiles {alphas} = {[round(q,4) for q in qZs]}\")\n"
   ]
  }
 ],
 "metadata": {
  "hide_code_all_hidden": false,
  "kernelspec": {
   "display_name": "study",
   "language": "python",
   "name": "python3"
  },
  "language_info": {
   "codemirror_mode": {
    "name": "ipython",
    "version": 3
   },
   "file_extension": ".py",
   "mimetype": "text/x-python",
   "name": "python",
   "nbconvert_exporter": "python",
   "pygments_lexer": "ipython3",
   "version": "3.12.11"
  }
 },
 "nbformat": 4,
 "nbformat_minor": 1
}
