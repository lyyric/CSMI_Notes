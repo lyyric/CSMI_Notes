{
 "cells": [
  {
   "cell_type": "code",
   "execution_count": 1,
   "metadata": {},
   "outputs": [],
   "source": [
    "import numpy as np \n",
    "import scipy as sp\n",
    "import scipy.sparse as spsp\n",
    "import scipy.sparse.linalg as spsplin\n",
    "import matplotlib.pyplot as plt"
   ]
  },
  {
   "cell_type": "code",
   "execution_count": 7,
   "metadata": {},
   "outputs": [
    {
     "name": "stdout",
     "output_type": "stream",
     "text": [
      "[[ 0.05555556 -0.02777778  0.          0.          0.        ]\n",
      " [-0.02777778  0.05555556 -0.02777778  0.          0.        ]\n",
      " [ 0.         -0.02777778  0.05555556 -0.02777778  0.        ]\n",
      " [ 0.          0.         -0.02777778  0.05555556 -0.02777778]\n",
      " [ 0.          0.          0.         -0.02777778  0.05555556]]\n"
     ]
    }
   ],
   "source": [
    "def matrice_Poisson(d):\n",
    "    A = 1/((d+1)**2)*spsp.diags([[2.]*d,[-1]*(d-1),[-1]*(d-1)],[0,1,-1])\n",
    "    return A\n",
    "\n",
    "d= 5\n",
    "print(matrice_Poisson(d).toarray() ).toarray()"
   ]
  },
  {
   "cell_type": "code",
   "execution_count": 13,
   "metadata": {},
   "outputs": [
    {
     "ename": "ValueError",
     "evalue": "Inexact indices into sparse matrices are not allowed",
     "output_type": "error",
     "traceback": [
      "\u001b[0;31m---------------------------------------------------------------------------\u001b[0m",
      "\u001b[0;31mTypeError\u001b[0m                                 Traceback (most recent call last)",
      "File \u001b[0;32m/opt/anaconda3/lib/python3.10/site-packages/scipy/sparse/_sputils.py:225\u001b[0m, in \u001b[0;36misintlike\u001b[0;34m(x)\u001b[0m\n\u001b[1;32m    224\u001b[0m \u001b[39mtry\u001b[39;00m:\n\u001b[0;32m--> 225\u001b[0m     operator\u001b[39m.\u001b[39;49mindex(x)\n\u001b[1;32m    226\u001b[0m \u001b[39mexcept\u001b[39;00m (\u001b[39mTypeError\u001b[39;00m, \u001b[39mValueError\u001b[39;00m):\n",
      "\u001b[0;31mTypeError\u001b[0m: 'float' object cannot be interpreted as an integer",
      "\nDuring handling of the above exception, another exception occurred:\n",
      "\u001b[0;31mValueError\u001b[0m                                Traceback (most recent call last)",
      "\u001b[1;32m/adhome/y/ye/yehua.he/Documents/CSMI_Notes/M1 S1/Calcul scientifique 2/EXAM/main.ipynb Cell 3\u001b[0m line \u001b[0;36m2\n\u001b[1;32m     <a href='vscode-notebook-cell:/adhome/y/ye/yehua.he/Documents/CSMI_Notes/M1%20S1/Calcul%20scientifique%202/EXAM/main.ipynb#W2sZmlsZQ%3D%3D?line=22'>23</a>\u001b[0m                 R[i, j] \u001b[39m=\u001b[39m \u001b[39m0.5\u001b[39m\n\u001b[1;32m     <a href='vscode-notebook-cell:/adhome/y/ye/yehua.he/Documents/CSMI_Notes/M1%20S1/Calcul%20scientifique%202/EXAM/main.ipynb#W2sZmlsZQ%3D%3D?line=23'>24</a>\u001b[0m     \u001b[39mreturn\u001b[39;00m R\u001b[39m.\u001b[39mtocsr(), I\u001b[39m.\u001b[39mtocsr(), ds\n\u001b[0;32m---> <a href='vscode-notebook-cell:/adhome/y/ye/yehua.he/Documents/CSMI_Notes/M1%20S1/Calcul%20scientifique%202/EXAM/main.ipynb#W2sZmlsZQ%3D%3D?line=24'>25</a>\u001b[0m R, I, ds \u001b[39m=\u001b[39m calcule_R_I(d)\n\u001b[1;32m     <a href='vscode-notebook-cell:/adhome/y/ye/yehua.he/Documents/CSMI_Notes/M1%20S1/Calcul%20scientifique%202/EXAM/main.ipynb#W2sZmlsZQ%3D%3D?line=25'>26</a>\u001b[0m \u001b[39mprint\u001b[39m(R\u001b[39m.\u001b[39mtoarray())\n",
      "\u001b[1;32m/adhome/y/ye/yehua.he/Documents/CSMI_Notes/M1 S1/Calcul scientifique 2/EXAM/main.ipynb Cell 3\u001b[0m line \u001b[0;36m5\n\u001b[1;32m      <a href='vscode-notebook-cell:/adhome/y/ye/yehua.he/Documents/CSMI_Notes/M1%20S1/Calcul%20scientifique%202/EXAM/main.ipynb#W2sZmlsZQ%3D%3D?line=1'>2</a>\u001b[0m \u001b[39mdef\u001b[39;00m \u001b[39mcalcule_R_I\u001b[39m(d):\n\u001b[1;32m      <a href='vscode-notebook-cell:/adhome/y/ye/yehua.he/Documents/CSMI_Notes/M1%20S1/Calcul%20scientifique%202/EXAM/main.ipynb#W2sZmlsZQ%3D%3D?line=2'>3</a>\u001b[0m     ds \u001b[39m=\u001b[39m (d \u001b[39m-\u001b[39m \u001b[39m1\u001b[39m) \u001b[39m*\u001b[39m \u001b[39m0.5\u001b[39m\n\u001b[0;32m----> <a href='vscode-notebook-cell:/adhome/y/ye/yehua.he/Documents/CSMI_Notes/M1%20S1/Calcul%20scientifique%202/EXAM/main.ipynb#W2sZmlsZQ%3D%3D?line=4'>5</a>\u001b[0m     R \u001b[39m=\u001b[39m spsp\u001b[39m.\u001b[39;49mdok_matrix((ds, d))\n\u001b[1;32m      <a href='vscode-notebook-cell:/adhome/y/ye/yehua.he/Documents/CSMI_Notes/M1%20S1/Calcul%20scientifique%202/EXAM/main.ipynb#W2sZmlsZQ%3D%3D?line=5'>6</a>\u001b[0m     I \u001b[39m=\u001b[39m spsp\u001b[39m.\u001b[39mdok_matrix((d, ds))\n\u001b[1;32m      <a href='vscode-notebook-cell:/adhome/y/ye/yehua.he/Documents/CSMI_Notes/M1%20S1/Calcul%20scientifique%202/EXAM/main.ipynb#W2sZmlsZQ%3D%3D?line=7'>8</a>\u001b[0m     \u001b[39mfor\u001b[39;00m i \u001b[39min\u001b[39;00m \u001b[39mrange\u001b[39m(ds):\n",
      "File \u001b[0;32m/opt/anaconda3/lib/python3.10/site-packages/scipy/sparse/_dok.py:79\u001b[0m, in \u001b[0;36mdok_matrix.__init__\u001b[0;34m(self, arg1, shape, dtype, copy)\u001b[0m\n\u001b[1;32m     76\u001b[0m spmatrix\u001b[39m.\u001b[39m\u001b[39m__init__\u001b[39m(\u001b[39mself\u001b[39m)\n\u001b[1;32m     78\u001b[0m \u001b[39mself\u001b[39m\u001b[39m.\u001b[39mdtype \u001b[39m=\u001b[39m getdtype(dtype, default\u001b[39m=\u001b[39m\u001b[39mfloat\u001b[39m)\n\u001b[0;32m---> 79\u001b[0m \u001b[39mif\u001b[39;00m \u001b[39misinstance\u001b[39m(arg1, \u001b[39mtuple\u001b[39m) \u001b[39mand\u001b[39;00m isshape(arg1):  \u001b[39m# (M,N)\u001b[39;00m\n\u001b[1;32m     80\u001b[0m     M, N \u001b[39m=\u001b[39m arg1\n\u001b[1;32m     81\u001b[0m     \u001b[39mself\u001b[39m\u001b[39m.\u001b[39m_shape \u001b[39m=\u001b[39m check_shape((M, N))\n",
      "File \u001b[0;32m/opt/anaconda3/lib/python3.10/site-packages/scipy/sparse/_sputils.py:249\u001b[0m, in \u001b[0;36misshape\u001b[0;34m(x, nonneg)\u001b[0m\n\u001b[1;32m    247\u001b[0m     \u001b[39mreturn\u001b[39;00m \u001b[39mFalse\u001b[39;00m\n\u001b[1;32m    248\u001b[0m \u001b[39melse\u001b[39;00m:\n\u001b[0;32m--> 249\u001b[0m     \u001b[39mif\u001b[39;00m isintlike(M) \u001b[39mand\u001b[39;00m isintlike(N):\n\u001b[1;32m    250\u001b[0m         \u001b[39mif\u001b[39;00m np\u001b[39m.\u001b[39mndim(M) \u001b[39m==\u001b[39m \u001b[39m0\u001b[39m \u001b[39mand\u001b[39;00m np\u001b[39m.\u001b[39mndim(N) \u001b[39m==\u001b[39m \u001b[39m0\u001b[39m:\n\u001b[1;32m    251\u001b[0m             \u001b[39mif\u001b[39;00m \u001b[39mnot\u001b[39;00m nonneg \u001b[39mor\u001b[39;00m (M \u001b[39m>\u001b[39m\u001b[39m=\u001b[39m \u001b[39m0\u001b[39m \u001b[39mand\u001b[39;00m N \u001b[39m>\u001b[39m\u001b[39m=\u001b[39m \u001b[39m0\u001b[39m):\n",
      "File \u001b[0;32m/opt/anaconda3/lib/python3.10/site-packages/scipy/sparse/_sputils.py:233\u001b[0m, in \u001b[0;36misintlike\u001b[0;34m(x)\u001b[0m\n\u001b[1;32m    231\u001b[0m     \u001b[39mif\u001b[39;00m loose_int:\n\u001b[1;32m    232\u001b[0m         msg \u001b[39m=\u001b[39m \u001b[39m\"\u001b[39m\u001b[39mInexact indices into sparse matrices are not allowed\u001b[39m\u001b[39m\"\u001b[39m\n\u001b[0;32m--> 233\u001b[0m         \u001b[39mraise\u001b[39;00m \u001b[39mValueError\u001b[39;00m(msg)\n\u001b[1;32m    234\u001b[0m     \u001b[39mreturn\u001b[39;00m loose_int\n\u001b[1;32m    235\u001b[0m \u001b[39mreturn\u001b[39;00m \u001b[39mTrue\u001b[39;00m\n",
      "\u001b[0;31mValueError\u001b[0m: Inexact indices into sparse matrices are not allowed"
     ]
    }
   ],
   "source": [
    "d= 5\n",
    "def calcule_R_I(d):\n",
    "    ds = (d - 1) * 0.5\n",
    "\n",
    "    R = spsp.dok_matrix((ds, d))\n",
    "    I = spsp.dok_matrix((d, ds))\n",
    "\n",
    "    for i in range(ds):\n",
    "        for j in range(d):\n",
    "            if 2*i == j:\n",
    "                R[i, j] = 0.25\n",
    "            elif 2*i+1 == j:\n",
    "                R[i, j] = 0.5\n",
    "            elif 2*i+2 == j:\n",
    "                R[i, j] = 0.25\n",
    "    for i in range(d):\n",
    "        for j in range(ds):\n",
    "            if i == 2*j:\n",
    "                R[i, j] = 0.5\n",
    "            elif i == 2*j+1:\n",
    "                R[i, j] = 1.0\n",
    "            elif i == 2*j+2:\n",
    "                R[i, j] = 0.5\n",
    "    return R.tocsr(), I.tocsr(), ds\n",
    "R, I, ds = calcule_R_I(d)\n",
    "print(R.toarray())"
   ]
  }
 ],
 "metadata": {
  "kernelspec": {
   "display_name": "base",
   "language": "python",
   "name": "python3"
  },
  "language_info": {
   "codemirror_mode": {
    "name": "ipython",
    "version": 3
   },
   "file_extension": ".py",
   "mimetype": "text/x-python",
   "name": "python",
   "nbconvert_exporter": "python",
   "pygments_lexer": "ipython3",
   "version": "3.10.9"
  },
  "orig_nbformat": 4
 },
 "nbformat": 4,
 "nbformat_minor": 2
}
