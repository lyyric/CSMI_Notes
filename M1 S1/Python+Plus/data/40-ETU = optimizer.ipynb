{
 "cells": [
  {
   "cell_type": "markdown",
   "metadata": {
    "id": "Wfm0IRefQ1XM"
   },
   "source": [
    "# Optimizer"
   ]
  },
  {
   "cell_type": "code",
   "execution_count": 1,
   "metadata": {
    "executionInfo": {
     "elapsed": 351,
     "status": "ok",
     "timestamp": 1732607139340,
     "user": {
      "displayName": "vincent vigon",
      "userId": "09456169185020192907"
     },
     "user_tz": -60
    },
    "id": "TgcWgRaI4e_f"
   },
   "outputs": [],
   "source": [
    "%reset -f"
   ]
  },
  {
   "cell_type": "code",
   "execution_count": 2,
   "metadata": {
    "executionInfo": {
     "elapsed": 20763,
     "status": "ok",
     "timestamp": 1732607160101,
     "user": {
      "displayName": "vincent vigon",
      "userId": "09456169185020192907"
     },
     "user_tz": -60
    },
    "id": "9QtTcAeItyN8"
   },
   "outputs": [],
   "source": [
    "import numpy as np\n",
    "import tensorflow as tf\n",
    "import matplotlib.pyplot as plt\n",
    "import torch"
   ]
  },
  {
   "cell_type": "markdown",
   "metadata": {
    "id": "eaDXBm2INOao"
   },
   "source": [
    "## Principe\n",
    "\n",
    "On ne fera plus la descende de gradient à la main. On utilisera des optimiseur qui vont soustraire les gradients aux variables entrainables.\n",
    "\n",
    "En fait l'optimiseur le plus utilisé est `Adam`. Il ne fait pas que soustraire les gradients aux variables, mais il effectue un scaling adaptatif des gradients. On verra ceci en détail dans un autre TP."
   ]
  },
  {
   "cell_type": "markdown",
   "metadata": {
    "id": "bnNOhVwfxa9l"
   },
   "source": [
    "### Optimiser une  variable"
   ]
  },
  {
   "cell_type": "code",
   "execution_count": 3,
   "metadata": {
    "colab": {
     "base_uri": "https://localhost:8080/"
    },
    "executionInfo": {
     "elapsed": 5599,
     "status": "ok",
     "timestamp": 1732607165697,
     "user": {
      "displayName": "vincent vigon",
      "userId": "09456169185020192907"
     },
     "user_tz": -60
    },
    "id": "XfpROAX_UBI_",
    "outputId": "b921a970-4fe9-4e67-fb13-de45ef780216"
   },
   "outputs": [],
   "source": [
    "x=torch.tensor(10.,requires_grad=True)\n",
    "opt=torch.optim.Adam([x],lr=1.) #on précise sur quelle(s) variable(s) l'optimiseur doit travailler.\n",
    "\n",
    "for _ in range(10):\n",
    "    y=x**2\n",
    "    y.backward()\n",
    "    opt.step()\n",
    "    opt.zero_grad()\n",
    "    print(f\"x:{x}\")"
   ]
  },
  {
   "cell_type": "markdown",
   "metadata": {
    "id": "eW3_f7bcxe8A"
   },
   "source": [
    "### Optimiser deux variables"
   ]
  },
  {
   "cell_type": "code",
   "execution_count": 4,
   "metadata": {
    "colab": {
     "base_uri": "https://localhost:8080/"
    },
    "executionInfo": {
     "elapsed": 7,
     "status": "ok",
     "timestamp": 1732607165698,
     "user": {
      "displayName": "vincent vigon",
      "userId": "09456169185020192907"
     },
     "user_tz": -60
    },
    "id": "wYm54uxNxiiN",
    "outputId": "87492777-ce7e-41a7-d97a-c864d0273684"
   },
   "outputs": [],
   "source": [
    "x=torch.tensor(10.,requires_grad=True)\n",
    "y=torch.tensor(10.,requires_grad=True)\n",
    "opt=torch.optim.Adam([x,y],lr=1.)\n",
    "\n",
    "for _ in range(10):\n",
    "    loss=torch.abs(x+y)\n",
    "    loss.backward()\n",
    "    opt.step()\n",
    "    opt.zero_grad()\n",
    "    print(f\"loss:{loss}-> x:{x},y:{y}\")"
   ]
  },
  {
   "cell_type": "markdown",
   "metadata": {
    "id": "e2L-0_AFkRk-"
   },
   "source": [
    "#### ♡♡♡\n",
    "\n",
    "***A vous:*** Expliquez pourquoi `x` et `y` descendent exactement de 1 à chaque itération. Si on fait plus d'itérations, est-ce que ça va permettre d'atteindre le minimum global de la loss ? Et si on baisse le learning rate ?\n",
    "\n",
    "\n",
    "Si vous répondez bien, vous devreiez comprendre pourquoi, de manière générale, on  préfère les `mse` aux `mae`."
   ]
  },
  {
   "cell_type": "markdown",
   "metadata": {
    "id": "CjoWAp4Ulk8a"
   },
   "source": [
    "### Idem, mais avec un tenseur plus gros"
   ]
  },
  {
   "cell_type": "code",
   "execution_count": 5,
   "metadata": {
    "colab": {
     "base_uri": "https://localhost:8080/"
    },
    "executionInfo": {
     "elapsed": 6,
     "status": "ok",
     "timestamp": 1732607165698,
     "user": {
      "displayName": "vincent vigon",
      "userId": "09456169185020192907"
     },
     "user_tz": -60
    },
    "id": "gRFzmsZUljtS",
    "outputId": "92a95112-e2c9-484a-adf1-84fc248fe885"
   },
   "outputs": [],
   "source": [
    "xy=torch.tensor([10.,10.],requires_grad=True)\n",
    "opt=torch.optim.Adam([xy],lr=1.)\n",
    "\n",
    "for _ in range(10):\n",
    "    loss=torch.abs(torch.sum(xy))\n",
    "    loss.backward()\n",
    "    opt.step()\n",
    "    opt.zero_grad()\n",
    "    print(f\"loss:{loss}-> x:{xy[0]},y:{xy[1]}\")"
   ]
  },
  {
   "cell_type": "markdown",
   "metadata": {
    "id": "LDjvT3fnzL2T"
   },
   "source": [
    "## Détacher\n",
    "\n",
    "Une petite aparté:\n",
    "\n",
    "Quand on veut faire des plot on tombe souvent sur ce bug:\n",
    "\n",
    "\n"
   ]
  },
  {
   "cell_type": "markdown",
   "metadata": {
    "id": "uSd2Ev5amM8e"
   },
   "source": [
    "###Le bug"
   ]
  },
  {
   "cell_type": "code",
   "execution_count": 6,
   "metadata": {
    "colab": {
     "base_uri": "https://localhost:8080/",
     "height": 474
    },
    "executionInfo": {
     "elapsed": 341,
     "status": "ok",
     "timestamp": 1732607166035,
     "user": {
      "displayName": "vincent vigon",
      "userId": "09456169185020192907"
     },
     "user_tz": -60
    },
    "id": "qksjgsSW5G_D",
    "outputId": "cbb10c44-e22a-4476-a432-0d09226430b6"
   },
   "outputs": [],
   "source": [
    "x=torch.tensor(3.,requires_grad=True)\n",
    "y=torch.tensor(5.,requires_grad=True)\n",
    "z=x+y\n",
    "try:\n",
    "    plt.scatter(x,z)\n",
    "except Exception as e:\n",
    "    print(e)"
   ]
  },
  {
   "cell_type": "markdown",
   "metadata": {
    "id": "Vc8xwcnq0veO"
   },
   "source": [
    "Puisque `x`, `y`, `z` vérifient `requires_grad=True`, elles sont **attachées** à un graph de calcul.\n",
    "\n",
    "\n",
    " Le message d'erreur indique qu'avant d'utiliser le contenu des variables, `plt.scatter` les convertit automatiquement  en numpy. Mais cette convertion ne peut pas se faire avec des variables attachées.\n",
    "\n",
    "\n",
    "De même quand un tenseur est sur le gpu, il faut le rappatrié sur le cpu avec la méthode `cpu()` avant de pouvoir le transformer en numpy(). Vous verrez donc souvent dans les programme torch la suite de méthode:\n",
    "\n",
    "\n",
    "    x.detach().cpu().numpy()\n",
    "\n",
    "(bien que la dernière méthode est souvent facultative, car lancée automatiquement par les autres lib).\n",
    "\n",
    "\n",
    "\n"
   ]
  },
  {
   "cell_type": "markdown",
   "metadata": {
    "id": "7HMMkmD43yyd"
   },
   "source": [
    "### Optimiser une variable sur deux"
   ]
  },
  {
   "cell_type": "code",
   "execution_count": 7,
   "metadata": {
    "colab": {
     "base_uri": "https://localhost:8080/"
    },
    "executionInfo": {
     "elapsed": 7,
     "status": "ok",
     "timestamp": 1732607166035,
     "user": {
      "displayName": "vincent vigon",
      "userId": "09456169185020192907"
     },
     "user_tz": -60
    },
    "id": "43k3q3lOy8Bv",
    "outputId": "799f2483-17a7-4959-e4a4-67b0aa4d3fc7"
   },
   "outputs": [],
   "source": [
    "x=torch.tensor(10.,requires_grad=True)\n",
    "y=torch.tensor(10.,requires_grad=True)\n",
    "opt=torch.optim.Adam([x,y],lr=1.)\n",
    "\n",
    "for _ in range(10):\n",
    "    x_=x.detach()\n",
    "    loss=torch.abs(x_ + y)\n",
    "    loss.backward()\n",
    "    opt.step()\n",
    "    opt.zero_grad()\n",
    "    print(f\"x:{x},x':{x_},y:{y},loss:{loss}\")"
   ]
  },
  {
   "cell_type": "markdown",
   "metadata": {
    "id": "g63l983M3-LR"
   },
   "source": [
    "La variable `x_` n'est pas attachée au graph des calcul. Elle n'influe pas sur le calcul de la `loss`. Elle n'est donc pas bouger par l'optimizer."
   ]
  },
  {
   "cell_type": "markdown",
   "metadata": {
    "id": "Gezie5vX35xz"
   },
   "source": [
    "### La copie suit"
   ]
  },
  {
   "cell_type": "markdown",
   "metadata": {
    "id": "_T-EdBVw7HMa"
   },
   "source": [
    "Attention va méthode `.detach()`  crée une copie de surface  en retirant toutes les informations relative au graph. Mais les `data` sont partagées entre `x` et `x.detach()` comme on le voit dans le programme ci-dessous.\n"
   ]
  },
  {
   "cell_type": "code",
   "execution_count": 8,
   "metadata": {
    "colab": {
     "base_uri": "https://localhost:8080/"
    },
    "executionInfo": {
     "elapsed": 6,
     "status": "ok",
     "timestamp": 1732607166036,
     "user": {
      "displayName": "vincent vigon",
      "userId": "09456169185020192907"
     },
     "user_tz": -60
    },
    "id": "L-atC0Sf2gSp",
    "outputId": "11f921b7-da5e-4bd3-878a-48e1b1c71151"
   },
   "outputs": [],
   "source": [
    "x=torch.tensor(10.,requires_grad=True)\n",
    "y=torch.tensor(10.,requires_grad=True)\n",
    "opt=torch.optim.Adam([x,y],lr=1.)\n",
    "\n",
    "for _ in range(10):\n",
    "    x_=x.detach()\n",
    "    loss=torch.abs(x + y)\n",
    "    loss.backward()\n",
    "    opt.step()\n",
    "    opt.zero_grad()\n",
    "    print(f\"x:{x},x':{x_},y:{y},loss:{loss}\")"
   ]
  },
  {
   "cell_type": "markdown",
   "metadata": {
    "id": "Uibx88eP7aDC"
   },
   "source": [
    "Attention,\n",
    "* la méthode `x.numpy()` tout comme `x.detach()` ne copie pas `x.data`\n",
    "*  la méthode `.clone()`  par contre fait une copie profonde.\n",
    "* la méthode `.item()`, pour les tenseurs scalaire uniquement, fait forcément une copie profonde puisque qu'elle renvoit un float/int en pure-python\n",
    "* la méthode `.cpu()` ... a vous de voir.  "
   ]
  },
  {
   "cell_type": "markdown",
   "metadata": {
    "id": "VWM9xSetpoC1"
   },
   "source": [
    "## Regression"
   ]
  },
  {
   "cell_type": "markdown",
   "metadata": {
    "id": "uF1w_yDjOA-o"
   },
   "source": [
    "Bien sur, on utilisera les optimiseurs sur l'ensemble des variables d'un modèle. Ainsi la syntaxe sera:\n",
    "\n",
    "\n",
    "    opt=torch.optim.Adam(model.parameters(),lr=1e-4)\n"
   ]
  },
  {
   "cell_type": "markdown",
   "metadata": {
    "id": "RTxJcWf2pqMW"
   },
   "source": [
    "### Data"
   ]
  },
  {
   "cell_type": "code",
   "execution_count": 9,
   "metadata": {
    "executionInfo": {
     "elapsed": 6,
     "status": "ok",
     "timestamp": 1732607166037,
     "user": {
      "displayName": "vincent vigon",
      "userId": "09456169185020192907"
     },
     "user_tz": -60
    },
    "id": "qxb-jy5Fvbd-"
   },
   "outputs": [],
   "source": [
    "def make_data(nb):\n",
    "    X=torch.rand(nb)*2\n",
    "    Y=torch.exp(-X)*torch.sin((5*X))+torch.randn(nb)*0.005\n",
    "    return X,Y"
   ]
  },
  {
   "cell_type": "code",
   "execution_count": 10,
   "metadata": {
    "colab": {
     "base_uri": "https://localhost:8080/"
    },
    "executionInfo": {
     "elapsed": 6,
     "status": "ok",
     "timestamp": 1732607166037,
     "user": {
      "displayName": "vincent vigon",
      "userId": "09456169185020192907"
     },
     "user_tz": -60
    },
    "id": "9y9LA38sv8o3",
    "outputId": "3e16b8c5-8d00-4709-c058-aff49faad6fb"
   },
   "outputs": [],
   "source": [
    "X_train,Y_train=make_data(10000)\n",
    "X_train.shape,Y_train.shape"
   ]
  },
  {
   "cell_type": "code",
   "execution_count": 11,
   "metadata": {
    "colab": {
     "base_uri": "https://localhost:8080/",
     "height": 430
    },
    "executionInfo": {
     "elapsed": 832,
     "status": "ok",
     "timestamp": 1732607166864,
     "user": {
      "displayName": "vincent vigon",
      "userId": "09456169185020192907"
     },
     "user_tz": -60
    },
    "id": "5Ucx81CXwMVW",
    "outputId": "70b0fa03-4d73-43cd-c858-4c94fcf9f440"
   },
   "outputs": [],
   "source": [
    "plt.plot(X_train,Y_train,\".\");"
   ]
  },
  {
   "cell_type": "markdown",
   "metadata": {
    "id": "5GcMQ5k29r06"
   },
   "source": [
    "### modèle"
   ]
  },
  {
   "cell_type": "code",
   "execution_count": 12,
   "metadata": {
    "colab": {
     "base_uri": "https://localhost:8080/"
    },
    "executionInfo": {
     "elapsed": 2,
     "status": "ok",
     "timestamp": 1732607166864,
     "user": {
      "displayName": "vincent vigon",
      "userId": "09456169185020192907"
     },
     "user_tz": -60
    },
    "id": "PBsOaJfZn-yH",
    "outputId": "abf8b221-a720-4fb5-b48a-a03da23d52c3"
   },
   "outputs": [],
   "source": [
    "class Model_1d_to_1d(torch.nn.Module):\n",
    "    def __init__(self,hidden_dim=20):\n",
    "        super().__init__()\n",
    "        self.lay1=torch.nn.Linear(1,hidden_dim)\n",
    "        self.lay2=torch.nn.Linear(hidden_dim,hidden_dim)\n",
    "        self.lay3=torch.nn.Linear(hidden_dim,hidden_dim)\n",
    "        self.final_layer=torch.nn.Linear(hidden_dim,1)\n",
    "\n",
    "\n",
    "    def forward(self, x):\n",
    "        x=torch.tanh(self.lay1(x))\n",
    "        x=torch.tanh(self.lay2(x))\n",
    "        x=torch.tanh(self.lay3(x))\n",
    "        return self.final_layer(x)\n",
    "\n",
    "\n",
    "model = Model_1d_to_1d()\n",
    "model(X_train[:13,None]).shape"
   ]
  },
  {
   "cell_type": "markdown",
   "metadata": {
    "id": "0f3LeXRG9ux0"
   },
   "source": [
    "Rémarque: si vous voulez travailler avec un gpu il faudra faire:\n",
    "\n",
    "    X_train=X_train.to(\"cuda\")\n",
    "    Y_train=Y_train.to(\"cuda\")\n",
    "    model=model.to(\"cuda\")"
   ]
  },
  {
   "cell_type": "markdown",
   "metadata": {
    "id": "rS3Ae2JKL3un"
   },
   "source": [
    "### Train"
   ]
  },
  {
   "cell_type": "code",
   "execution_count": 13,
   "metadata": {
    "executionInfo": {
     "elapsed": 1,
     "status": "ok",
     "timestamp": 1732607166864,
     "user": {
      "displayName": "vincent vigon",
      "userId": "09456169185020192907"
     },
     "user_tz": -60
    },
    "id": "3B45aIy4iQKW"
   },
   "outputs": [],
   "source": [
    "optimizer = torch.optim.Adam(model.parameters(),lr=1e-2);\n",
    "losses=[]\n",
    "batch_size=126\n",
    "nb_steps=300"
   ]
  },
  {
   "cell_type": "markdown",
   "metadata": {
    "id": "u2VGGaFO_ZFw"
   },
   "source": [
    "#### ♡♡"
   ]
  },
  {
   "cell_type": "code",
   "execution_count": 14,
   "metadata": {
    "executionInfo": {
     "elapsed": 361,
     "status": "ok",
     "timestamp": 1732607167224,
     "user": {
      "displayName": "vincent vigon",
      "userId": "09456169185020192907"
     },
     "user_tz": -60
    },
    "id": "THZzb_gFgS1s"
   },
   "outputs": [],
   "source": [
    "for _ in range(nb_steps):\n",
    "    indices=np.random.randint(0,len(X_train),size=batch_size)\n",
    "    x=X_train[indices,None]\n",
    "    y=Y_train[indices,None]\n",
    "    y_pred =\n",
    "    loss =\n",
    "\n",
    "    # Backpropagation\n",
    "    loss.\n",
    "    optimizer.\n",
    "    optimizer.\n",
    "\n",
    "    losses.append(loss.item())"
   ]
  },
  {
   "cell_type": "code",
   "execution_count": 15,
   "metadata": {
    "colab": {
     "base_uri": "https://localhost:8080/",
     "height": 430
    },
    "executionInfo": {
     "elapsed": 1444,
     "status": "ok",
     "timestamp": 1732607168667,
     "user": {
      "displayName": "vincent vigon",
      "userId": "09456169185020192907"
     },
     "user_tz": -60
    },
    "id": "_F8h8IGsjFbq",
    "outputId": "1d956c7f-f034-43c5-b832-5085719c56cd"
   },
   "outputs": [],
   "source": [
    "fig,ax=plt.subplots()\n",
    "ax.set_yscale(\"log\")\n",
    "ax.plot(losses);"
   ]
  },
  {
   "cell_type": "code",
   "execution_count": 15,
   "metadata": {
    "colab": {
     "base_uri": "https://localhost:8080/",
     "height": 430
    },
    "executionInfo": {
     "elapsed": 1444,
     "status": "ok",
     "timestamp": 1732607168667,
     "user": {
      "displayName": "vincent vigon",
      "userId": "09456169185020192907"
     },
     "user_tz": -60
    },
    "id": "_F8h8IGsjFbq",
    "outputId": "1d956c7f-f034-43c5-b832-5085719c56cd"
   },
   "outputs": [
    {
     "data": {
      "image/png": "[encoded data removed]",
      "text/plain": [
       "<Figure size 640x480 with 1 Axes>"
      ]
     },
     "metadata": {},
     "output_type": "display_data"
    }
   ],
   "source": [
    "#--- To keep following outputs, do not run this cell! ---"
   ]
  },
  {
   "cell_type": "markdown",
   "metadata": {
    "id": "9qum5-lG_KES"
   },
   "source": [
    "### test"
   ]
  },
  {
   "cell_type": "code",
   "execution_count": 16,
   "metadata": {
    "colab": {
     "base_uri": "https://localhost:8080/",
     "height": 430
    },
    "executionInfo": {
     "elapsed": 783,
     "status": "ok",
     "timestamp": 1732607169449,
     "user": {
      "displayName": "vincent vigon",
      "userId": "09456169185020192907"
     },
     "user_tz": -60
    },
    "id": "sy3XutdxjVju",
    "outputId": "5d77dbd8-e2b0-4cde-c9bb-83790f21e496"
   },
   "outputs": [],
   "source": [
    "X_test=torch.linspace(0,2,500)\n",
    "Y_test=model(X_test[:,None])[:,0].detach()\n",
    "plt.plot(X_train,Y_train,\".\")\n",
    "plt.plot(X_test,Y_test);"
   ]
  },
  {
   "cell_type": "markdown",
   "metadata": {
    "id": "tWWszrW8mlAa"
   },
   "source": [
    "#### ♡♡\n",
    "\n",
    "***A vous:*** Comment obtient-on le plot ci-dessous?"
   ]
  },
  {
   "cell_type": "code",
   "execution_count": 17,
   "metadata": {
    "colab": {
     "base_uri": "https://localhost:8080/",
     "height": 430
    },
    "executionInfo": {
     "elapsed": 486,
     "status": "ok",
     "timestamp": 1732607169931,
     "user": {
      "displayName": "vincent vigon",
      "userId": "09456169185020192907"
     },
     "user_tz": -60
    },
    "id": "e7FS5mLoMSOi",
    "outputId": "bf5fa123-f81d-4585-a4cd-df3515ec01ac"
   },
   "outputs": [],
   "source": []
  },
  {
   "cell_type": "code",
   "execution_count": 17,
   "metadata": {
    "colab": {
     "base_uri": "https://localhost:8080/",
     "height": 430
    },
    "executionInfo": {
     "elapsed": 486,
     "status": "ok",
     "timestamp": 1732607169931,
     "user": {
      "displayName": "vincent vigon",
      "userId": "09456169185020192907"
     },
     "user_tz": -60
    },
    "id": "e7FS5mLoMSOi",
    "outputId": "bf5fa123-f81d-4585-a4cd-df3515ec01ac"
   },
   "outputs": [
    {
     "data": {
      "image/png": "[encoded data removed]",
      "text/plain": [
       "<Figure size 640x480 with 1 Axes>"
      ]
     },
     "metadata": {},
     "output_type": "display_data"
    }
   ],
   "source": [
    "#--- To keep following outputs, do not run this cell! ---"
   ]
  },
  {
   "cell_type": "markdown",
   "metadata": {
    "id": "UvvQquM2jyEH"
   },
   "source": [
    "#### ♡♡\n",
    "\n",
    "\n",
    "Refaites tourner tout ceci en remplaçant la fonction d'activation `torch.arctan` par `torch.relu`. Analysez le plot obtenu."
   ]
  },
  {
   "cell_type": "code",
   "execution_count": 22,
   "metadata": {
    "colab": {
     "base_uri": "https://localhost:8080/",
     "height": 430
    },
    "executionInfo": {
     "elapsed": 1091,
     "status": "ok",
     "timestamp": 1732607371180,
     "user": {
      "displayName": "vincent vigon",
      "userId": "09456169185020192907"
     },
     "user_tz": -60
    },
    "id": "3csKHqE6bXKk",
    "outputId": "d51248a5-035c-4deb-f755-8c60fecbf3c3"
   },
   "outputs": [],
   "source": [
    "class Model_1d_to_1d_relu(torch.nn.Module):\n",
    "    def __init__(self,hidden_dim=20):\n",
    "        super().__init__()\n",
    "        self.lay1=torch.nn.Linear(1,hidden_dim)\n",
    "        self.lay2=torch.nn.Linear(hidden_dim,hidden_dim)\n",
    "        self.lay3=torch.nn.Linear(hidden_dim,hidden_dim)\n",
    "        self.final_layer=torch.nn.Linear(hidden_dim,1)\n",
    "\n",
    "\n",
    "    def forward(self, x):\n",
    "        x=torch.relu(self.lay1(x))\n",
    "        x=torch.relu(self.lay2(x))\n",
    "        x=torch.relu(self.lay3(x))\n",
    "        return self.final_layer(x)\n",
    "\n",
    "model = Model_1d_to_1d_relu()\n",
    "\n",
    "optimizer = torch.optim.Adam(model.parameters(),lr=1e-2);\n",
    "losses=[]\n",
    "batch_size=126\n",
    "nb_steps=300\n",
    "\n",
    "for _ in range(nb_steps):\n",
    "    indices=np.random.randint(0,len(X_train),size=batch_size)\n",
    "    x=X_train[indices,None]\n",
    "    y=Y_train[indices,None]\n",
    "    y_pred = model(x)\n",
    "    loss = torch.mean((y_pred-y)**2)\n",
    "\n",
    "    loss.backward()\n",
    "    optimizer.step()\n",
    "    optimizer.zero_grad()\n",
    "    losses.append(loss.item())\n",
    "\n",
    "fig,ax=plt.subplots()\n",
    "ax.set_yscale(\"log\")\n",
    "ax.plot(losses);\n"
   ]
  },
  {
   "cell_type": "code",
   "execution_count": 23,
   "metadata": {
    "colab": {
     "base_uri": "https://localhost:8080/",
     "height": 430
    },
    "executionInfo": {
     "elapsed": 1012,
     "status": "ok",
     "timestamp": 1732607375163,
     "user": {
      "displayName": "vincent vigon",
      "userId": "09456169185020192907"
     },
     "user_tz": -60
    },
    "id": "HjCCdFQSb9Ye",
    "outputId": "b6d6c548-2f86-4d75-a2ce-0a051174d271"
   },
   "outputs": [],
   "source": [
    "X_test=torch.linspace(0,2,500)\n",
    "Y_test=model(X_test[:,None])[:,0].detach()\n",
    "plt.plot(X_train,Y_train,\".\")\n",
    "plt.plot(X_test,Y_test);"
   ]
  },
  {
   "cell_type": "markdown",
   "metadata": {
    "id": "wBeH-6fsLCiX"
   },
   "source": [
    "### Un bug silencieux"
   ]
  },
  {
   "cell_type": "markdown",
   "metadata": {
    "id": "jlpR7Qm1AfCX"
   },
   "source": [
    "Attention, les modèles que l'on crée prennent en entrée des matrices et resortent des matrices. Quand on travail avec des vecteur il y a donc des conversions à faire. C'est pour cela qu'apparaissent les crochets `[:,None]` puis `[:,0]`dans les codes.\n",
    "\n",
    "\n",
    "Une erreur ultraclassique est d'avoir des données comme ceci:\n",
    "\n",
    "    X_train.shape=(batch_size,)\n",
    "    Y_train.shape=(batch_size,)\n",
    "\n",
    "Puis de calculer une loss ainsi:\n",
    "\n",
    "    Y_pred=model(X_train[:,None])\n",
    "    loss=torch.mean((Y_pred - Y_train)**2)\n",
    "\n",
    "Comme on fait une opération entre tenseur de dimensions différente, il y aura un `new-axis` ajouté automatiquement. Le calcul qui sera fait sera donc:\n",
    "\n",
    "    \n",
    "    loss=torch.mean((Y_pred         -  Y_train[None,:])**2)\n",
    "    #                (batch_size,1) -  (1,batch_size)\n",
    "\n",
    "On fait  la différence entre une matrice ligne et une matrice colonne:  ainsi toutes les données sont mélangées, la loss n'a aucun sens. Cela crée un bug 'silencieux' (pas de message d'erreur).\n",
    "\n",
    "J'ai perdu beaucoup de temps sur ce bug; vous, vous n'en perdrez pas 😉.\n",
    "\n",
    "\n",
    "\n"
   ]
  },
  {
   "cell_type": "markdown",
   "metadata": {
    "id": "vPLjsWcjpxYe"
   },
   "source": [
    "# Classification"
   ]
  },
  {
   "cell_type": "markdown",
   "metadata": {
    "id": "Us2SFAl5pzyZ"
   },
   "source": [
    "## Data\n",
    "\n",
    "On télécharge les data via le site de tensorflow, qui nous donne des tenseurs numpy. Plus pratique que le site de torch qui donne les données sous des formats plus complexe (pour moi)."
   ]
  },
  {
   "cell_type": "code",
   "execution_count": null,
   "metadata": {
    "colab": {
     "base_uri": "https://localhost:8080/"
    },
    "executionInfo": {
     "elapsed": 957,
     "status": "ok",
     "timestamp": 1731418934130,
     "user": {
      "displayName": "vincent vigon",
      "userId": "09456169185020192907"
     },
     "user_tz": -60
    },
    "id": "xKfQxa6yp5tA",
    "outputId": "90421abd-1cf6-4dcd-f647-fcffa6a986b4"
   },
   "outputs": [],
   "source": [
    "fashion_mnist = tf.keras.datasets.fashion_mnist\n",
    "(train_images, train_labels), (test_images, test_labels) = fashion_mnist.load_data()"
   ]
  },
  {
   "cell_type": "code",
   "execution_count": null,
   "metadata": {
    "colab": {
     "base_uri": "https://localhost:8080/"
    },
    "executionInfo": {
     "elapsed": 2,
     "status": "ok",
     "timestamp": 1731418934491,
     "user": {
      "displayName": "vincent vigon",
      "userId": "09456169185020192907"
     },
     "user_tz": -60
    },
    "id": "zuc_2Rq9qI2d",
    "outputId": "23d07cf6-2c82-439b-ad41-24e47caf80d7"
   },
   "outputs": [],
   "source": [
    "train_images.shape,type(train_images)"
   ]
  },
  {
   "cell_type": "code",
   "execution_count": null,
   "metadata": {
    "colab": {
     "base_uri": "https://localhost:8080/",
     "height": 1000
    },
    "executionInfo": {
     "elapsed": 4462,
     "status": "ok",
     "timestamp": 1731418940009,
     "user": {
      "displayName": "vincent vigon",
      "userId": "09456169185020192907"
     },
     "user_tz": -60
    },
    "id": "YSbrW_eNqLCR",
    "outputId": "858b8a20-e304-4deb-f105-b4437301273f"
   },
   "outputs": [],
   "source": [
    "fig,axs=plt.subplots(5,5,figsize=(10,10),sharex=\"all\",sharey=\"all\")\n",
    "for i in range(5):\n",
    "    for j in range(5):\n",
    "        axs[i,j].imshow(train_images[i*5+j,:,:])\n",
    "        axs[i,j].set_title(f\"classe:{train_labels[i*5+j]}\")\n",
    "fig.tight_layout()"
   ]
  },
  {
   "cell_type": "markdown",
   "metadata": {
    "id": "K5N__x68rUu1"
   },
   "source": [
    "Voici la signification des classes:\n",
    "\n",
    "    0\tT-shirt/haut\n",
    "    1\tPantalon\n",
    "    2\tPullover (dans un tuto français=> \"Arrêtez-vous\" :-)\n",
    "    3\tRobe\n",
    "    4\tManteau\n",
    "    5\tSandale\n",
    "    6\tChemise\n",
    "    7\tBasket\n",
    "    8\tSac\n",
    "    9\tBottine"
   ]
  },
  {
   "cell_type": "markdown",
   "metadata": {
    "id": "mNiFjiFDtUsR"
   },
   "source": [
    "On va traiter chaque image comme un simple vecteur de taille 784. On ignore la structure bi-dimensionnel.\n",
    "\n",
    "Il faut penser à renormaliser les données pour qu'elles ne soient pas trop grandes. Les réseaux de neuronnent peuvent assez facilement recrcher en sortie des grandes valeurs, mais elles n'aiment pas manger en entrées de grandes valeurs => Centrer-réduire, ou faire un min-max scaling (=  ramener des data dans [0,1])"
   ]
  },
  {
   "cell_type": "code",
   "execution_count": null,
   "metadata": {
    "id": "STL-ZlEwqneD"
   },
   "outputs": [],
   "source": [
    "X_train=np.reshape(train_images/255,[-1,28*28])\n",
    "X_test=np.reshape(test_images/255,[-1,28*28])\n",
    "\n",
    "Y_train=train_labels\n",
    "Y_test=test_labels"
   ]
  },
  {
   "cell_type": "code",
   "execution_count": null,
   "metadata": {
    "colab": {
     "base_uri": "https://localhost:8080/"
    },
    "executionInfo": {
     "elapsed": 1,
     "status": "ok",
     "timestamp": 1731419132344,
     "user": {
      "displayName": "vincent vigon",
      "userId": "09456169185020192907"
     },
     "user_tz": -60
    },
    "id": "bgOhVcGFtR41",
    "outputId": "f1a2a2f7-f82d-4a16-b9de-9baf6f7b804c"
   },
   "outputs": [],
   "source": [
    "X_train.shape,X_test.shape"
   ]
  },
  {
   "cell_type": "markdown",
   "metadata": {
    "id": "qI7i8331_iaA"
   },
   "source": [
    "## Train"
   ]
  },
  {
   "cell_type": "markdown",
   "metadata": {
    "id": "JLAtAkiP8glY"
   },
   "source": [
    "On prend les même hyper-paramètre pour les entrainements tf et torch"
   ]
  },
  {
   "cell_type": "code",
   "execution_count": null,
   "metadata": {
    "id": "aCkQ-JXf_l9h"
   },
   "outputs": [],
   "source": [
    "batch_size=128\n",
    "learning_rate=1e-3\n",
    "hidden_dim=20\n",
    "nb_steps=1_000"
   ]
  },
  {
   "cell_type": "code",
   "execution_count": null,
   "metadata": {
    "id": "y9PAOpvhWnMH"
   },
   "outputs": [],
   "source": [
    "X_train_torch=torch.tensor(X_train,dtype=torch.float32)\n",
    "X_test_torch=torch.tensor(X_test,dtype=torch.float32)\n",
    "\n",
    "Y_train_torch=torch.tensor(Y_train,dtype=torch.int64)\n",
    "Y_test_torch=torch.tensor(Y_test,dtype=torch.int64)"
   ]
  },
  {
   "cell_type": "code",
   "execution_count": null,
   "metadata": {
    "id": "AYHHPcbOlptJ"
   },
   "outputs": [],
   "source": [
    "class Model_classif(torch.nn.Module):\n",
    "    def __init__(self,hidden_dim):\n",
    "        super().__init__()\n",
    "        self.lay1=torch.nn.Linear(784,hidden_dim)\n",
    "        self.lay2=torch.nn.Linear(hidden_dim,hidden_dim)\n",
    "        self.lay3=torch.nn.Linear(hidden_dim,hidden_dim)\n",
    "        self.final_layer=torch.nn.Linear(hidden_dim,10)\n",
    "\n",
    "    def forward(self, x):\n",
    "        x=torch.relu(self.lay1(x))\n",
    "        x=torch.relu(self.lay2(x))\n",
    "        x=torch.relu(self.lay3(x))\n",
    "        return self.final_layer(x)"
   ]
  },
  {
   "cell_type": "code",
   "execution_count": null,
   "metadata": {
    "id": "yRS8Ehx-1Hd1"
   },
   "outputs": [],
   "source": [
    "def train_step_torch(x,y,model,optimizer,loss_fn):\n",
    "    pred = model(x)\n",
    "    loss = loss_fn(pred,y)\n",
    "\n",
    "    loss.backward()\n",
    "    optimizer.step()\n",
    "    optimizer.zero_grad()\n",
    "\n",
    "    return loss.item()"
   ]
  },
  {
   "cell_type": "code",
   "execution_count": null,
   "metadata": {
    "id": "lWDzqBoeh6IW"
   },
   "outputs": [],
   "source": [
    "loss_fn = torch.nn.CrossEntropyLoss()\n",
    "model = Model_classif(hidden_dim)\n",
    "optimizer = torch.optim.Adam(model.parameters(), lr=learning_rate)\n",
    "losses=[]"
   ]
  },
  {
   "cell_type": "code",
   "execution_count": null,
   "metadata": {
    "colab": {
     "base_uri": "https://localhost:8080/"
    },
    "executionInfo": {
     "elapsed": 2136,
     "status": "ok",
     "timestamp": 1731419152741,
     "user": {
      "displayName": "vincent vigon",
      "userId": "09456169185020192907"
     },
     "user_tz": -60
    },
    "id": "XdGsB6UMlbsO",
    "outputId": "a2bbeb31-b1ab-43fe-c797-1b0f39a7cec6"
   },
   "outputs": [],
   "source": [
    "%%time\n",
    "for _ in range(nb_steps):\n",
    "    indices=np.random.randint(0,len(X_train),size=batch_size)\n",
    "    x=X_train_torch[indices,:]\n",
    "    y=Y_train_torch[indices]\n",
    "\n",
    "    loss=train_step_torch(x,y,model,optimizer,loss_fn)\n",
    "    losses.append(loss)\n"
   ]
  },
  {
   "cell_type": "code",
   "execution_count": null,
   "metadata": {
    "colab": {
     "base_uri": "https://localhost:8080/",
     "height": 430
    },
    "executionInfo": {
     "elapsed": 752,
     "status": "ok",
     "timestamp": 1731419188010,
     "user": {
      "displayName": "vincent vigon",
      "userId": "09456169185020192907"
     },
     "user_tz": -60
    },
    "id": "xT_UO6SbjDFP",
    "outputId": "ca2f404a-4896-48cf-be55-c194903af45d"
   },
   "outputs": [],
   "source": []
  },
  {
   "cell_type": "code",
   "execution_count": null,
   "metadata": {
    "colab": {
     "base_uri": "https://localhost:8080/",
     "height": 430
    },
    "executionInfo": {
     "elapsed": 752,
     "status": "ok",
     "timestamp": 1731419188010,
     "user": {
      "displayName": "vincent vigon",
      "userId": "09456169185020192907"
     },
     "user_tz": -60
    },
    "id": "xT_UO6SbjDFP",
    "outputId": "ca2f404a-4896-48cf-be55-c194903af45d"
   },
   "outputs": [
    {
     "data": {
      "image/png": "[encoded data removed]",
      "text/plain": [
       "<Figure size 640x480 with 1 Axes>"
      ]
     },
     "metadata": {},
     "output_type": "display_data"
    }
   ],
   "source": [
    "#--- To keep following outputs, do not run this cell! ---"
   ]
  },
  {
   "cell_type": "code",
   "execution_count": null,
   "metadata": {
    "colab": {
     "base_uri": "https://localhost:8080/"
    },
    "executionInfo": {
     "elapsed": 317,
     "status": "ok",
     "timestamp": 1731419206098,
     "user": {
      "displayName": "vincent vigon",
      "userId": "09456169185020192907"
     },
     "user_tz": -60
    },
    "id": "JjzB5VohnJH1",
    "outputId": "4c97aace-97ab-4759-d73a-38718e251a20"
   },
   "outputs": [],
   "source": [
    "Y_test_pred_logits=model(X_test_torch).detach().cpu().numpy()\n",
    "Y_test_pred=np.argmax(Y_test_pred_logits,axis=1)\n",
    "Y_test_pred"
   ]
  },
  {
   "cell_type": "markdown",
   "metadata": {
    "id": "ha0pOpLfCTXw"
   },
   "source": [
    "Calculons l'accuracy:"
   ]
  },
  {
   "cell_type": "code",
   "execution_count": null,
   "metadata": {
    "colab": {
     "base_uri": "https://localhost:8080/"
    },
    "executionInfo": {
     "elapsed": 323,
     "status": "ok",
     "timestamp": 1731419207908,
     "user": {
      "displayName": "vincent vigon",
      "userId": "09456169185020192907"
     },
     "user_tz": -60
    },
    "id": "u4MkkVn0oYep",
    "outputId": "b47bc275-3c01-4f3b-cadf-f8280a188fd4"
   },
   "outputs": [],
   "source": [
    "np.mean(Y_test_pred==Y_test)"
   ]
  },
  {
   "cell_type": "markdown",
   "metadata": {
    "id": "PHGFaPh8oI1P"
   },
   "source": [
    "#### ♡♡\n",
    "\n",
    "Faites durer l'entrainement plus longtemps pour voir si cela améliore l'accuracy."
   ]
  }
 ],
 "metadata": {
  "accelerator": "GPU",
  "colab": {
   "authorship_tag": "ABX9TyP/nw2eRvtmxXfSaIylw4N8",
   "gpuType": "T4",
   "provenance": [],
   "toc_visible": true
  },
  "kernelspec": {
   "display_name": "myconda",
   "language": "python",
   "name": "python3"
  },
  "language_info": {
   "name": "python",
   "version": "3.12.7"
  }
 },
 "nbformat": 4,
 "nbformat_minor": 0
}
