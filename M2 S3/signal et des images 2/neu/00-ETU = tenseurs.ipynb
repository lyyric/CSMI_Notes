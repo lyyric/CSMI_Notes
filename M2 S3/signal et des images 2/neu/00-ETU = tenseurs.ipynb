{
 "cells": [
  {
   "cell_type": "code",
   "execution_count": 1,
   "metadata": {
    "ExecuteTime": {
     "end_time": "2025-02-14T22:01:54.165136Z",
     "start_time": "2025-02-14T22:01:53.698919Z"
    },
    "executionInfo": {
     "elapsed": 441,
     "status": "ok",
     "timestamp": 1757575764730,
     "user": {
      "displayName": "vincent vigon",
      "userId": "09456169185020192907"
     },
     "user_tz": -120
    },
    "id": "f1c95fe958fc3d86"
   },
   "outputs": [],
   "source": [
    "import jax\n",
    "import jax.numpy as jnp\n",
    "import numpy as np\n",
    "from matplotlib import pyplot as plt\n",
    "import jax.random as jr"
   ]
  },
  {
   "cell_type": "markdown",
   "metadata": {
    "id": "-3DkejBusChI"
   },
   "source": [
    "Véritions que l'on dispose d'un gpu"
   ]
  },
  {
   "cell_type": "code",
   "execution_count": 2,
   "metadata": {
    "colab": {
     "base_uri": "https://localhost:8080/"
    },
    "executionInfo": {
     "elapsed": 708,
     "status": "ok",
     "timestamp": 1757575765437,
     "user": {
      "displayName": "vincent vigon",
      "userId": "09456169185020192907"
     },
     "user_tz": -120
    },
    "id": "j3B74jFTncE2",
    "outputId": "e2bfaf64-697c-4a30-f08d-ccc9bb12dfc9"
   },
   "outputs": [
    {
     "data": {
      "text/plain": [
       "[CpuDevice(id=0)]"
      ]
     },
     "execution_count": 2,
     "metadata": {},
     "output_type": "execute_result"
    }
   ],
   "source": [
    "jax.devices()"
   ]
  },
  {
   "cell_type": "markdown",
   "metadata": {
    "id": "HWtY9P9xqaEF"
   },
   "source": [
    "⇑ Si `[CudaDevice(id=0)]` ne s'affiche pas, allez dans  'Exécution>Modifier le type d'exécussion'.\n",
    "    Puis choisir un GPU"
   ]
  },
  {
   "cell_type": "markdown",
   "metadata": {
    "id": "OzBj5PvY4bc1"
   },
   "source": [
    "## Intro"
   ]
  },
  {
   "cell_type": "markdown",
   "metadata": {
    "collapsed": false,
    "id": "2f805d7a4360c709"
   },
   "source": [
    "\n",
    "* JAX définit des graphes de calcul, les compile à la première exécution (jit = just time compilation) et  optimise leur exécution (via la lib XLA).\n",
    "* Les fonctions JAX sont dérivables. Ce qui permet de construire des réseaux de neurone notamment.\n",
    "* JAX peut exécuter les calculs sur le GPU"
   ]
  },
  {
   "cell_type": "markdown",
   "metadata": {
    "collapsed": false,
    "id": "3790524eced864a9"
   },
   "source": [
    "## numpy = jax.numpy\n",
    "\n",
    "\n",
    "Le sous-module numpy de jax est un clone de numpy. Ainsi on n'a pas de nouvelles fonctions à apprendre !\n",
    "\n",
    "    import jax.numpy as jnp\n",
    "\n",
    "\n"
   ]
  },
  {
   "cell_type": "code",
   "execution_count": 3,
   "metadata": {
    "ExecuteTime": {
     "end_time": "2025-02-13T22:21:27.341831Z",
     "start_time": "2025-02-13T22:21:27.339311Z"
    },
    "id": "3b3ae6be05691b3"
   },
   "outputs": [],
   "source": [
    "L = [0, 1, 2, 3]\n",
    "x_np  =  np.array(L, dtype= np.int32)\n",
    "x_jnp = jnp.array(L, dtype=jnp.int32)"
   ]
  },
  {
   "cell_type": "code",
   "execution_count": 4,
   "metadata": {
    "ExecuteTime": {
     "end_time": "2025-02-13T22:21:27.757672Z",
     "start_time": "2025-02-13T22:21:27.751066Z"
    },
    "colab": {
     "base_uri": "https://localhost:8080/"
    },
    "executionInfo": {
     "elapsed": 164,
     "status": "ok",
     "timestamp": 1747041062139,
     "user": {
      "displayName": "vincent vigon",
      "userId": "09456169185020192907"
     },
     "user_tz": -120
    },
    "id": "2d9e1c82228ca564",
    "outputId": "9413a994-6949-471c-8094-60e67da1f8c9"
   },
   "outputs": [
    {
     "data": {
      "text/plain": [
       "(array([0, 1, 2, 3], dtype=int32), Array([0, 1, 2, 3], dtype=int32))"
      ]
     },
     "execution_count": 4,
     "metadata": {},
     "output_type": "execute_result"
    }
   ],
   "source": [
    "x_np,x_jnp"
   ]
  },
  {
   "cell_type": "code",
   "execution_count": 5,
   "metadata": {
    "ExecuteTime": {
     "end_time": "2025-02-13T22:21:28.164827Z",
     "start_time": "2025-02-13T22:21:28.158062Z"
    },
    "colab": {
     "base_uri": "https://localhost:8080/"
    },
    "executionInfo": {
     "elapsed": 730,
     "status": "ok",
     "timestamp": 1747041062870,
     "user": {
      "displayName": "vincent vigon",
      "userId": "09456169185020192907"
     },
     "user_tz": -120
    },
    "id": "f7ce17ef0a3c1776",
    "outputId": "5d464a11-fc32-44f7-ee80-805e7e9044ca"
   },
   "outputs": [
    {
     "data": {
      "text/plain": [
       "(Array([0, 2, 4, 6], dtype=int32),\n",
       " Array([1, 2, 3, 4], dtype=int32),\n",
       " Array([ 1,  4,  7, 10], dtype=int32))"
      ]
     },
     "execution_count": 5,
     "metadata": {},
     "output_type": "execute_result"
    }
   ],
   "source": [
    "x1 = x_jnp * 2\n",
    "x2 = x_jnp + 1\n",
    "x3 = x1 + x2\n",
    "\n",
    "x1, x2, x3"
   ]
  },
  {
   "cell_type": "code",
   "execution_count": null,
   "metadata": {
    "ExecuteTime": {
     "end_time": "2025-02-13T22:21:31.151283Z",
     "start_time": "2025-02-13T22:21:31.143999Z"
    },
    "colab": {
     "base_uri": "https://localhost:8080/"
    },
    "executionInfo": {
     "elapsed": 332,
     "status": "ok",
     "timestamp": 1747041063204,
     "user": {
      "displayName": "vincent vigon",
      "userId": "09456169185020192907"
     },
     "user_tz": -120
    },
    "id": "2971c9f19c4668cf",
    "outputId": "2106c661-09db-435c-d807-1a1fa493052b"
   },
   "outputs": [],
   "source": [
    "jnp.dot(x1, x2), jnp.outer(x1, x2)"
   ]
  },
  {
   "cell_type": "code",
   "execution_count": null,
   "metadata": {
    "ExecuteTime": {
     "end_time": "2025-02-14T20:41:54.573851Z",
     "start_time": "2025-02-14T20:41:54.016963Z"
    },
    "colab": {
     "base_uri": "https://localhost:8080/"
    },
    "executionInfo": {
     "elapsed": 230,
     "status": "ok",
     "timestamp": 1747041063466,
     "user": {
      "displayName": "vincent vigon",
      "userId": "09456169185020192907"
     },
     "user_tz": -120
    },
    "id": "27be17e1938a21ca",
    "outputId": "5f9cb841-f5d7-42cc-b822-7f2855f34e99"
   },
   "outputs": [],
   "source": [
    "np.sin(x_np),jnp.sin(x_jnp)"
   ]
  },
  {
   "cell_type": "markdown",
   "metadata": {
    "collapsed": false,
    "id": "3b101a6e131d367"
   },
   "source": [
    "#### ♡\n",
    "\n",
    "\n",
    "***À Vous:***\n",
    "\n",
    "* Quel print ci-dessous correspond à `jnp` et à `np` ?\n",
    "\n",
    "        (array([0, 1, 2, 3], dtype=int32), Array([0, 1, 2, 3], dtype=int32))\n",
    "\n",
    "\n",
    "* Quand une fonction `np` prend en gargument un tenseur `jnp` que ce passe-t-il ? Et inversement ?\n",
    "* Quand on fait une addition d'un tensur `np` et `jnp`, quel est le résultat ?\n",
    "      \n"
   ]
  },
  {
   "cell_type": "markdown",
   "metadata": {
    "collapsed": false,
    "id": "c001edeb655f5fa3"
   },
   "source": [
    "#### ♡♡♡\n",
    "\n",
    "Faite le tracé suivant avec JAX et matplotlib."
   ]
  },
  {
   "cell_type": "code",
   "execution_count": null,
   "metadata": {
    "ExecuteTime": {
     "end_time": "2025-02-14T22:03:05.413292Z",
     "start_time": "2025-02-14T22:03:05.141153Z"
    },
    "colab": {
     "base_uri": "https://localhost:8080/",
     "height": 452
    },
    "executionInfo": {
     "elapsed": 1767,
     "status": "ok",
     "timestamp": 1747041065257,
     "user": {
      "displayName": "vincent vigon",
      "userId": "09456169185020192907"
     },
     "user_tz": -120
    },
    "id": "80899008b33d4c8b",
    "outputId": "36838117-cf67-4491-dc4a-0d8b8d210c61"
   },
   "outputs": [],
   "source": []
  },
  {
   "cell_type": "code",
   "execution_count": null,
   "metadata": {
    "ExecuteTime": {
     "end_time": "2025-02-14T22:03:05.413292Z",
     "start_time": "2025-02-14T22:03:05.141153Z"
    },
    "colab": {
     "base_uri": "https://localhost:8080/",
     "height": 452
    },
    "executionInfo": {
     "elapsed": 1767,
     "status": "ok",
     "timestamp": 1747041065257,
     "user": {
      "displayName": "vincent vigon",
      "userId": "09456169185020192907"
     },
     "user_tz": -120
    },
    "id": "80899008b33d4c8b",
    "outputId": "36838117-cf67-4491-dc4a-0d8b8d210c61"
   },
   "outputs": [
    {
     "data": {
      "image/png": "[encoded data removed]",
      "text/plain": [
       "<Figure size 640x480 with 1 Axes>"
      ]
     },
     "metadata": {},
     "output_type": "display_data"
    }
   ],
   "source": [
    "#--- To keep following outputs, do not run this cell! ---"
   ]
  },
  {
   "cell_type": "markdown",
   "metadata": {
    "collapsed": false,
    "id": "2fab1dfa4214c4ed"
   },
   "source": [
    "## Tirage aléatoire"
   ]
  },
  {
   "cell_type": "markdown",
   "metadata": {
    "collapsed": false,
    "id": "c59b9e5c46b7b5da"
   },
   "source": [
    "Concept clé: en JAX, on privilégie les fonctions 'pures'.\n",
    "\n",
    "1. Même entrée => même sortie\n",
    "\n",
    "2. Une fonction pure  ne fois pas influencer ni être infulencé par des variables globale. Dans le jargons: on dit qu'il ne doit pas y avoir de 'side effect' (effet de bord).\n",
    "\n",
    "\n",
    "***À vous:*** Pourquoi toutes les fonctions du module `np.random` violent ces 2 principes ?"
   ]
  },
  {
   "cell_type": "code",
   "execution_count": null,
   "metadata": {
    "ExecuteTime": {
     "end_time": "2025-02-13T22:21:34.993205Z",
     "start_time": "2025-02-13T22:21:34.989311Z"
    },
    "colab": {
     "base_uri": "https://localhost:8080/"
    },
    "executionInfo": {
     "elapsed": 3,
     "status": "ok",
     "timestamp": 1747041065259,
     "user": {
      "displayName": "vincent vigon",
      "userId": "09456169185020192907"
     },
     "user_tz": -120
    },
    "id": "6da790feee6c9ade",
    "outputId": "c0b8c26c-6580-460e-c578-9f41abe39e13"
   },
   "outputs": [],
   "source": [
    "#par exemple:\n",
    "np.random.random([5])"
   ]
  },
  {
   "cell_type": "markdown",
   "metadata": {
    "collapsed": false,
    "id": "2ad1dccfdbd49630"
   },
   "source": [
    "En jax, les fonctions ne s'exécutent pas forcément dans l'ordre où on les écrit (exécussion asynchrone)."
   ]
  },
  {
   "cell_type": "code",
   "execution_count": null,
   "metadata": {
    "ExecuteTime": {
     "end_time": "2025-02-14T21:03:38.341463Z",
     "start_time": "2025-02-14T21:03:38.337480Z"
    },
    "id": "f5826d5f06efe070"
   },
   "outputs": [],
   "source": [
    "def rand_fn_1():\n",
    "    return np.random.rand(3)\n",
    "def rand_fn_2():\n",
    "    return 10*np.random.rand(3)"
   ]
  },
  {
   "cell_type": "code",
   "execution_count": null,
   "metadata": {
    "ExecuteTime": {
     "end_time": "2025-02-14T21:03:49.436756Z",
     "start_time": "2025-02-14T21:03:49.433125Z"
    },
    "colab": {
     "base_uri": "https://localhost:8080/"
    },
    "executionInfo": {
     "elapsed": 2,
     "status": "ok",
     "timestamp": 1747041065262,
     "user": {
      "displayName": "vincent vigon",
      "userId": "09456169185020192907"
     },
     "user_tz": -120
    },
    "id": "82da694b697b37ff",
    "outputId": "3a0c9bb6-5e9b-4c24-ed63-3cc34a77a4ad"
   },
   "outputs": [],
   "source": [
    "def go(seed):\n",
    "    np.random.seed(seed)\n",
    "    print(rand_fn_1()+rand_fn_2())\n",
    "\n",
    "#we want a reproductible program:\n",
    "go(32)"
   ]
  },
  {
   "cell_type": "markdown",
   "metadata": {
    "collapsed": false,
    "id": "6f561c92eaf7e172"
   },
   "source": [
    "Exécutez plusieurs fois la cellule ci-dessus, cela donne toujours le même résultat.\n",
    "\n",
    "Mais imaginer que le compilateur décide d'exécuter ainsi la fonction `go()`"
   ]
  },
  {
   "cell_type": "code",
   "execution_count": null,
   "metadata": {
    "ExecuteTime": {
     "end_time": "2025-02-14T21:04:14.886382Z",
     "start_time": "2025-02-14T21:04:14.879412Z"
    },
    "colab": {
     "base_uri": "https://localhost:8080/"
    },
    "executionInfo": {
     "elapsed": 10,
     "status": "ok",
     "timestamp": 1747041065277,
     "user": {
      "displayName": "vincent vigon",
      "userId": "09456169185020192907"
     },
     "user_tz": -120
    },
    "id": "d8eb5cd9afe04bfd",
    "outputId": "367b9d81-c9b8-45d6-d831-e8cdf9277d8e"
   },
   "outputs": [],
   "source": [
    "def go(seed):\n",
    "    np.random.seed(seed)\n",
    "    print(rand_fn_2()+rand_fn_1())\n",
    "\n",
    "#we want a reproductible program, but we fail.\n",
    "go(23)"
   ]
  },
  {
   "cell_type": "markdown",
   "metadata": {
    "collapsed": false,
    "id": "20c643b33cefc403"
   },
   "source": [
    "Aille, cela change le résultat.\n",
    "\n",
    "Voici la solution qu'a trouvée jax:"
   ]
  },
  {
   "cell_type": "code",
   "execution_count": null,
   "metadata": {
    "ExecuteTime": {
     "end_time": "2025-02-14T21:06:26.689588Z",
     "start_time": "2025-02-14T21:06:26.684285Z"
    },
    "id": "97babb3d6554de0e"
   },
   "outputs": [],
   "source": [
    "def rand_fn_1(key):\n",
    "    return jax.random.uniform(key,[3])\n",
    "def rand_fn_2(key):\n",
    "    return 10*jax.random.uniform(key,[3])\n",
    "\n",
    "def go(key):\n",
    "    k1,k2=jax.random.split(key)\n",
    "    print(rand_fn_2(k1)+rand_fn_1(k1))"
   ]
  },
  {
   "cell_type": "markdown",
   "metadata": {
    "id": "GQg9q94f6GMB"
   },
   "source": [
    "Attention: la première clé il faut la générer avec `jax.random.key(un_entier_de_votre_choix)`."
   ]
  },
  {
   "cell_type": "code",
   "execution_count": null,
   "metadata": {
    "ExecuteTime": {
     "end_time": "2025-02-14T21:06:27.270883Z",
     "start_time": "2025-02-14T21:06:27.119488Z"
    },
    "colab": {
     "base_uri": "https://localhost:8080/"
    },
    "executionInfo": {
     "elapsed": 2527,
     "status": "ok",
     "timestamp": 1747041067891,
     "user": {
      "displayName": "vincent vigon",
      "userId": "09456169185020192907"
     },
     "user_tz": -120
    },
    "id": "971275119b24deb8",
    "outputId": "41636d79-5740-4f2a-b72f-0a24c33aebcb"
   },
   "outputs": [],
   "source": [
    "key=jax.random.key(32)\n",
    "go(key)"
   ]
  },
  {
   "cell_type": "markdown",
   "metadata": {
    "id": "el3li4EO9M3m"
   },
   "source": [
    "Explication:\n",
    "\n",
    "* Toutes les fonctions de `jax.random` ont comme premier argument une clé.\n",
    "* Les clé peuvent se spliter, créant ainsi une arborescence.\n",
    "* Deux branches distincte dans l'arbre produise des nombre aléatoire \"pseudo\" indépendants.\n",
    "\n",
    "Le spliting est déterministe ce qui permet la reproductibilité.   \n",
    "\n",
    "\n"
   ]
  },
  {
   "cell_type": "markdown",
   "metadata": {
    "collapsed": false,
    "id": "1074de8b9c29430f"
   },
   "source": [
    "Pour que tous les tirages aléatoires soient indépendant, il ne faut pas réutiliser une clé que l'on vient de spliter.  "
   ]
  },
  {
   "cell_type": "markdown",
   "metadata": {
    "id": "hbdO-6oeBgb4"
   },
   "source": [
    "\n",
    "Astuce: on peut détruire la clé mère sur la même ligne que le `split`"
   ]
  },
  {
   "cell_type": "code",
   "execution_count": null,
   "metadata": {
    "ExecuteTime": {
     "end_time": "2025-02-14T21:15:28.763428Z",
     "start_time": "2025-02-14T21:15:28.736494Z"
    },
    "colab": {
     "base_uri": "https://localhost:8080/"
    },
    "executionInfo": {
     "elapsed": 834,
     "status": "ok",
     "timestamp": 1747041068748,
     "user": {
      "displayName": "vincent vigon",
      "userId": "09456169185020192907"
     },
     "user_tz": -120
    },
    "id": "77745dd65a3317d",
    "outputId": "ef22f067-6ef5-4726-f486-7534c5427a38"
   },
   "outputs": [],
   "source": [
    "def rand_loop(key):\n",
    "    for i in range(10):\n",
    "        key_to_consume, key = jax.random.split(key)\n",
    "        print(jax.random.uniform(key_to_consume))\n",
    "\n",
    "\n",
    "rand_loop(jax.random.key(0))"
   ]
  },
  {
   "cell_type": "markdown",
   "metadata": {
    "id": "aKKx2y7X7pD6"
   },
   "source": [
    "#### ♡♡♡♡♡"
   ]
  },
  {
   "cell_type": "markdown",
   "metadata": {
    "id": "LBBaSsTxBleP"
   },
   "source": [
    "***A vous:*** Qu'est-ce qui ne va pas ci-dessous ?\n",
    "\n",
    "    def rand_loop_2(key):\n",
    "        for i in range(10):\n",
    "            key_to_consume, key = jax.random.split(key)\n",
    "            toto(key)\n",
    "\n",
    "\n",
    "où `toto` est une fonction qui a besoin d'une clé aléatoire.\n",
    "\n"
   ]
  },
  {
   "cell_type": "markdown",
   "metadata": {
    "id": "vug14XJh7siv"
   },
   "source": [
    "***A vous:*** En vous aidant éventuellement d'une IA déterminez:\n",
    "* Comment fait-on un tirage uniforme sur un intervalle donné ?\n",
    "* Comment précise-t-on que l'on veut un tenseur de shape donné ?\n",
    "* Comment fait-t-on un tirage gaussien ?\n",
    "* Quel est l'ordre des aguments dans les différentes fonctions de `jax.random`?"
   ]
  },
  {
   "cell_type": "markdown",
   "metadata": {
    "collapsed": false,
    "id": "a91b788cc6beb2ea"
   },
   "source": [
    "## sur 32 bits par défaut"
   ]
  },
  {
   "cell_type": "code",
   "execution_count": null,
   "metadata": {
    "colab": {
     "base_uri": "https://localhost:8080/"
    },
    "executionInfo": {
     "elapsed": 402,
     "status": "ok",
     "timestamp": 1747041070866,
     "user": {
      "displayName": "vincent vigon",
      "userId": "09456169185020192907"
     },
     "user_tz": -120
    },
    "id": "sJz9bqb1MWAF",
    "outputId": "fdb872a7-1587-460d-e77e-2b40988b5fa9"
   },
   "outputs": [],
   "source": [
    "jnp.ones([2,2])"
   ]
  },
  {
   "cell_type": "code",
   "execution_count": null,
   "metadata": {
    "colab": {
     "base_uri": "https://localhost:8080/"
    },
    "executionInfo": {
     "elapsed": 83,
     "status": "ok",
     "timestamp": 1747041071464,
     "user": {
      "displayName": "vincent vigon",
      "userId": "09456169185020192907"
     },
     "user_tz": -120
    },
    "id": "hWlLPrYGMciD",
    "outputId": "a158b213-5b40-45bd-ccd2-cf17773220d8"
   },
   "outputs": [],
   "source": [
    "jnp.arange(4)"
   ]
  },
  {
   "cell_type": "code",
   "execution_count": null,
   "metadata": {
    "colab": {
     "base_uri": "https://localhost:8080/"
    },
    "executionInfo": {
     "elapsed": 22,
     "status": "ok",
     "timestamp": 1747041072032,
     "user": {
      "displayName": "vincent vigon",
      "userId": "09456169185020192907"
     },
     "user_tz": -120
    },
    "id": "iaMMAlg6MgeF",
    "outputId": "190b6fa7-54f4-422b-92ba-c7f46f60accc"
   },
   "outputs": [],
   "source": [
    "jnp.array(5.5)"
   ]
  },
  {
   "cell_type": "markdown",
   "metadata": {
    "id": "kMpN0_UTNM9h"
   },
   "source": [
    "Si l'on veut travailler en double précision:\n",
    "\n",
    "    \n",
    "    jax.config.update(\"jax_enable_x64\", True)\n",
    "\n",
    "\n",
    "Alors, toutes les fonctions jax qui crée des tenseur le feront en 64 bit: `jnp.ones, jnp.arange, jnp.random.XXX, jnp.array` etc.\n",
    "\n",
    "Attention: certain GPU sont lents en 64 bits ! d'autre ne fonctionnent pas du tout.  \n",
    "\n"
   ]
  },
  {
   "cell_type": "markdown",
   "metadata": {
    "collapsed": false,
    "id": "85ac15cfa2c98ea4"
   },
   "source": [
    "## Arguments moins souples que numpy\n",
    "\n",
    "La plupart des fonctions JAX n'acceptent en entrée que des tableaux NumPy ou JAX. Cela  évite une dégradation silencieuse des performances. Exemple:"
   ]
  },
  {
   "cell_type": "code",
   "execution_count": null,
   "metadata": {
    "colab": {
     "base_uri": "https://localhost:8080/"
    },
    "executionInfo": {
     "elapsed": 21,
     "status": "ok",
     "timestamp": 1747041073201,
     "user": {
      "displayName": "vincent vigon",
      "userId": "09456169185020192907"
     },
     "user_tz": -120
    },
    "id": "FGY2AnWfCVrK",
    "outputId": "2dcb40da-b67a-4dac-8812-f864ac7e2da2"
   },
   "outputs": [],
   "source": [
    "np.stack([[1,2],[3,4]])"
   ]
  },
  {
   "cell_type": "code",
   "execution_count": null,
   "metadata": {
    "colab": {
     "base_uri": "https://localhost:8080/"
    },
    "executionInfo": {
     "elapsed": 7,
     "status": "ok",
     "timestamp": 1747041073960,
     "user": {
      "displayName": "vincent vigon",
      "userId": "09456169185020192907"
     },
     "user_tz": -120
    },
    "id": "pMYhPTf6CkXy",
    "outputId": "c116007b-8a16-4537-db53-5ec673d6121a"
   },
   "outputs": [],
   "source": [
    "try:\n",
    "    jnp.stack([[1,2],[3,4]])\n",
    "except Exception as e:\n",
    "    print(e)"
   ]
  },
  {
   "cell_type": "code",
   "execution_count": null,
   "metadata": {
    "colab": {
     "base_uri": "https://localhost:8080/"
    },
    "executionInfo": {
     "elapsed": 125,
     "status": "ok",
     "timestamp": 1747041074949,
     "user": {
      "displayName": "vincent vigon",
      "userId": "09456169185020192907"
     },
     "user_tz": -120
    },
    "id": "TmJJprjBtYNr",
    "outputId": "59328e57-66d9-4f98-8ae1-10b0b0127821"
   },
   "outputs": [],
   "source": [
    "#en jax il faut d'abord convertir avant de stacker.\n",
    "jnp.stack([jnp.array([1,2]),jnp.array([3,4])])"
   ]
  },
  {
   "cell_type": "code",
   "execution_count": null,
   "metadata": {
    "colab": {
     "base_uri": "https://localhost:8080/"
    },
    "executionInfo": {
     "elapsed": 36,
     "status": "ok",
     "timestamp": 1747041075258,
     "user": {
      "displayName": "vincent vigon",
      "userId": "09456169185020192907"
     },
     "user_tz": -120
    },
    "id": "ZNPBmw1b1Odg",
    "outputId": "42791126-6994-4114-ceca-d8556449c107"
   },
   "outputs": [],
   "source": [
    "#Par contre on peut faire comme ceci:\n",
    "jnp.array([[1,2],[3,4]])"
   ]
  },
  {
   "cell_type": "markdown",
   "metadata": {
    "id": "PMWkYWUelgXo"
   },
   "source": [
    "C'est idem avec toutes les fonctions numpy qui prennent des  listes comme entrée. Par exemple `np.meshgrid`, `np.concatenate` etc."
   ]
  },
  {
   "cell_type": "markdown",
   "metadata": {
    "collapsed": false,
    "id": "28fc8c393b4dce74"
   },
   "source": [
    "## Pas d'opération in-place"
   ]
  },
  {
   "cell_type": "code",
   "execution_count": null,
   "metadata": {
    "ExecuteTime": {
     "end_time": "2025-02-14T21:19:02.342318Z",
     "start_time": "2025-02-14T21:19:02.336133Z"
    },
    "colab": {
     "base_uri": "https://localhost:8080/"
    },
    "executionInfo": {
     "elapsed": 34,
     "status": "ok",
     "timestamp": 1747041082243,
     "user": {
      "displayName": "vincent vigon",
      "userId": "09456169185020192907"
     },
     "user_tz": -120
    },
    "id": "d8d0da072ee071d8",
    "outputId": "2a2fbda0-378e-46f1-a2a7-b36d51604c1b"
   },
   "outputs": [],
   "source": [
    "x = jnp.arange(10)\n",
    "print(x)\n",
    "try:\n",
    "    x[3] = 100\n",
    "except Exception as e:\n",
    "    print(e)"
   ]
  },
  {
   "cell_type": "markdown",
   "metadata": {
    "collapsed": false,
    "id": "891fb7a0ca7a566b"
   },
   "source": [
    "Le message dit entre autre: `JAX arrays are immutable` et il nous indique quelle est la bonne syntaxe:"
   ]
  },
  {
   "cell_type": "code",
   "execution_count": null,
   "metadata": {
    "ExecuteTime": {
     "end_time": "2025-02-14T21:19:11.381252Z",
     "start_time": "2025-02-14T21:19:11.365589Z"
    },
    "colab": {
     "base_uri": "https://localhost:8080/"
    },
    "executionInfo": {
     "elapsed": 83,
     "status": "ok",
     "timestamp": 1747041083114,
     "user": {
      "displayName": "vincent vigon",
      "userId": "09456169185020192907"
     },
     "user_tz": -120
    },
    "id": "b964106435c79e8b",
    "outputId": "c2ce6f9e-f5b1-41c1-da2a-4490ab33a443"
   },
   "outputs": [],
   "source": [
    "x = x.at[3].set(100)\n",
    "x"
   ]
  },
  {
   "cell_type": "markdown",
   "metadata": {
    "id": "jW67FuGE12Kx"
   },
   "source": [
    "Attention, piège:"
   ]
  },
  {
   "cell_type": "code",
   "execution_count": null,
   "metadata": {
    "colab": {
     "base_uri": "https://localhost:8080/"
    },
    "executionInfo": {
     "elapsed": 43,
     "status": "ok",
     "timestamp": 1747041084128,
     "user": {
      "displayName": "vincent vigon",
      "userId": "09456169185020192907"
     },
     "user_tz": -120
    },
    "id": "DgpkQC261sGS",
    "outputId": "c1d72b6f-4c30-4f45-a873-d2407b00d11b"
   },
   "outputs": [],
   "source": [
    "x.at[5].set(100)\n",
    "x #ça n'a pas marché"
   ]
  },
  {
   "cell_type": "markdown",
   "metadata": {
    "collapsed": false,
    "id": "3ccab289d4e75fba"
   },
   "source": [
    "Cela sécurise les programmes. Mais quand on `jit`-compile une fonction, si cela ne pose pas de problème de sécurité, le `at` devient 'inplace' pour gagner en performance."
   ]
  },
  {
   "cell_type": "markdown",
   "metadata": {
    "collapsed": false,
    "id": "be25f2eb6c3a47a5"
   },
   "source": [
    "## Moins d'exception\n",
    "\n",
    "Pour des raisons de performance: pas d'exception 'out of bounds'.   Mais c'est embêtant à mon avis."
   ]
  },
  {
   "cell_type": "code",
   "execution_count": null,
   "metadata": {
    "ExecuteTime": {
     "end_time": "2025-02-14T21:25:48.888331Z",
     "start_time": "2025-02-14T21:25:48.875197Z"
    },
    "colab": {
     "base_uri": "https://localhost:8080/"
    },
    "executionInfo": {
     "elapsed": 214,
     "status": "ok",
     "timestamp": 1747041087017,
     "user": {
      "displayName": "vincent vigon",
      "userId": "09456169185020192907"
     },
     "user_tz": -120
    },
    "id": "1de2780718cabbe7",
    "outputId": "4dcf512d-4b38-4f86-8dd7-30364757b8a3"
   },
   "outputs": [],
   "source": [
    "x=jnp.arange(10)\n",
    "x[0],x[-1],x[10],x[100]"
   ]
  },
  {
   "cell_type": "markdown",
   "metadata": {
    "collapsed": false,
    "id": "4a1599372171cb9c"
   },
   "source": [
    "Et aussi:"
   ]
  },
  {
   "cell_type": "code",
   "execution_count": null,
   "metadata": {
    "ExecuteTime": {
     "end_time": "2025-02-14T21:26:22.903589Z",
     "start_time": "2025-02-14T21:26:22.888196Z"
    },
    "colab": {
     "base_uri": "https://localhost:8080/"
    },
    "executionInfo": {
     "elapsed": 5,
     "status": "ok",
     "timestamp": 1747041087999,
     "user": {
      "displayName": "vincent vigon",
      "userId": "09456169185020192907"
     },
     "user_tz": -120
    },
    "id": "ae0de212ab9f9eff",
    "outputId": "31627f9d-7d33-40e1-9816-938d6b42ad3a"
   },
   "outputs": [],
   "source": [
    "x = x.at[10000].set(999)\n",
    "x"
   ]
  },
  {
   "cell_type": "markdown",
   "metadata": {
    "collapsed": false,
    "id": "785081736602d096"
   },
   "source": [
    "Heureusement pour débugger:"
   ]
  },
  {
   "cell_type": "code",
   "execution_count": null,
   "metadata": {
    "ExecuteTime": {
     "end_time": "2025-02-14T21:43:35.199633Z",
     "start_time": "2025-02-14T21:43:35.174139Z"
    },
    "colab": {
     "base_uri": "https://localhost:8080/"
    },
    "executionInfo": {
     "elapsed": 1069,
     "status": "ok",
     "timestamp": 1747041089996,
     "user": {
      "displayName": "vincent vigon",
      "userId": "09456169185020192907"
     },
     "user_tz": -120
    },
    "id": "3d57f5d3779469",
    "outputId": "1db1feac-1c38-4943-bb91-bf95e02da8ce"
   },
   "outputs": [],
   "source": [
    "import jax.experimental.checkify as checkify\n",
    "\n",
    "def modify_vec(x):\n",
    "    return x.at[10].set(999)\n",
    "\n",
    "x=jnp.arange(5)\n",
    "err, out =checkify.checkify(modify_vec,errors=checkify.index_checks)(x)\n",
    "\n",
    "print(err)"
   ]
  },
  {
   "cell_type": "code",
   "execution_count": null,
   "metadata": {
    "ExecuteTime": {
     "end_time": "2025-02-14T21:44:00.520773Z",
     "start_time": "2025-02-14T21:44:00.500219Z"
    },
    "colab": {
     "base_uri": "https://localhost:8080/"
    },
    "executionInfo": {
     "elapsed": 176,
     "status": "ok",
     "timestamp": 1747041090292,
     "user": {
      "displayName": "vincent vigon",
      "userId": "09456169185020192907"
     },
     "user_tz": -120
    },
    "id": "561e260205fdd445",
    "outputId": "8f11f93d-e33e-4ebb-8594-f2a8d9a6eafe"
   },
   "outputs": [],
   "source": [
    "x=jnp.arange(20)\n",
    "err, out =checkify.checkify(modify_vec,errors=checkify.index_checks)(x)\n",
    "\n",
    "print(err)"
   ]
  },
  {
   "cell_type": "markdown",
   "metadata": {
    "collapsed": false,
    "id": "eaed01df36f6cb03"
   },
   "source": [
    "Pas de warning quand on divise par zéro:"
   ]
  },
  {
   "cell_type": "code",
   "execution_count": null,
   "metadata": {
    "ExecuteTime": {
     "end_time": "2025-02-14T21:44:13.780324Z",
     "start_time": "2025-02-14T21:44:13.522216Z"
    },
    "colab": {
     "base_uri": "https://localhost:8080/"
    },
    "executionInfo": {
     "elapsed": 74,
     "status": "ok",
     "timestamp": 1747041092026,
     "user": {
      "displayName": "vincent vigon",
      "userId": "09456169185020192907"
     },
     "user_tz": -120
    },
    "id": "b10c890b220f6074",
    "outputId": "8b4877ee-b350-452c-cb02-bf7afe7e2cc7"
   },
   "outputs": [],
   "source": [
    "def f():\n",
    "    return 1/jnp.zeros([3])\n",
    "\n",
    "f()"
   ]
  },
  {
   "cell_type": "code",
   "execution_count": null,
   "metadata": {
    "colab": {
     "base_uri": "https://localhost:8080/"
    },
    "executionInfo": {
     "elapsed": 165,
     "status": "ok",
     "timestamp": 1747041092698,
     "user": {
      "displayName": "vincent vigon",
      "userId": "09456169185020192907"
     },
     "user_tz": -120
    },
    "id": "O8cTW1QU2PvX",
    "outputId": "1c2a6a1a-020d-4d2d-ec55-3fa13a3c616f"
   },
   "outputs": [],
   "source": [
    "err,out=checkify.checkify(f, errors=checkify.float_checks)()\n",
    "print(err)"
   ]
  },
  {
   "cell_type": "markdown",
   "metadata": {
    "collapsed": false,
    "id": "e3a02bda5d791fec"
   },
   "source": [
    "## GPU et Performances"
   ]
  },
  {
   "cell_type": "markdown",
   "metadata": {
    "collapsed": false,
    "id": "ea709e99c74f6a14"
   },
   "source": [
    "Un tenseur JAX peut être réparti\n",
    "sur plusieurs processeurs (device), voire\n",
    "plusieurs hôtes. Par défaut, il utilise un accélérateur disponible.  Mais on peut s'amuser à déplacer un tenseur."
   ]
  },
  {
   "cell_type": "code",
   "execution_count": 3,
   "metadata": {
    "colab": {
     "base_uri": "https://localhost:8080/"
    },
    "executionInfo": {
     "elapsed": 14,
     "status": "ok",
     "timestamp": 1757575783048,
     "user": {
      "displayName": "vincent vigon",
      "userId": "09456169185020192907"
     },
     "user_tz": -120
    },
    "id": "jidk4zBRremH",
    "outputId": "e6c3eea2-d510-404f-9cca-0c95e137fc26"
   },
   "outputs": [],
   "source": [
    "jax.devices()"
   ]
  },
  {
   "cell_type": "markdown",
   "metadata": {
    "id": "KF8BMyv_rnhp"
   },
   "source": [
    "⇑ si plusieurs accélérateurs Cuda disponible on aurait:\n",
    "\n",
    "    [CudaDevice(id=0),CudaDevice(id=1),...]"
   ]
  },
  {
   "cell_type": "markdown",
   "metadata": {
    "id": "-dfZs_OUsL0I"
   },
   "source": [
    "Attention, le nom de l'accélérateur peut changer. Ex, sur mon mac: \"CudaDevice\" devient \"MetalDevice\". Sur une carte amd cela devient \"RocmDevice\"."
   ]
  },
  {
   "cell_type": "markdown",
   "metadata": {
    "id": "EGPpwcher369"
   },
   "source": [
    "On prend le premier accélérateur disponible dans la liste:"
   ]
  },
  {
   "cell_type": "code",
   "execution_count": 4,
   "metadata": {
    "executionInfo": {
     "elapsed": 43,
     "status": "ok",
     "timestamp": 1757575932736,
     "user": {
      "displayName": "vincent vigon",
      "userId": "09456169185020192907"
     },
     "user_tz": -120
    },
    "id": "WB9FskXHrmsr"
   },
   "outputs": [],
   "source": [
    "gpu_device = jax.devices(\"cuda\")[0]"
   ]
  },
  {
   "cell_type": "markdown",
   "metadata": {
    "id": "YS0i3nLwr5r4"
   },
   "source": [
    "Syntaxe étrange: on sélectionne le cpu, qui n'est pas dans la liste des devices mais qui est quant même dispo bien heureusement !"
   ]
  },
  {
   "cell_type": "code",
   "execution_count": 5,
   "metadata": {
    "executionInfo": {
     "elapsed": 24,
     "status": "ok",
     "timestamp": 1757575933349,
     "user": {
      "displayName": "vincent vigon",
      "userId": "09456169185020192907"
     },
     "user_tz": -120
    },
    "id": "_tW51WzMr2Q8"
   },
   "outputs": [],
   "source": [
    "cpu_device = jax.devices(\"cpu\")[0]"
   ]
  },
  {
   "cell_type": "code",
   "execution_count": 6,
   "metadata": {
    "colab": {
     "base_uri": "https://localhost:8080/"
    },
    "executionInfo": {
     "elapsed": 1089,
     "status": "ok",
     "timestamp": 1757575934866,
     "user": {
      "displayName": "vincent vigon",
      "userId": "09456169185020192907"
     },
     "user_tz": -120
    },
    "id": "Q6FaqS6MtCxm",
    "outputId": "34b578ab-c02c-48a0-babf-48593bc190be"
   },
   "outputs": [],
   "source": [
    "x = jnp.zeros([200, 200])\n",
    "print(x.devices())\n",
    "x=jax.device_put(x,cpu_device)\n",
    "print(x.devices())\n",
    "x=jax.device_put(x,gpu_device)\n",
    "print(x.devices())"
   ]
  },
  {
   "cell_type": "markdown",
   "metadata": {
    "id": "tK44x8GouTTF"
   },
   "source": [
    "Variante:"
   ]
  },
  {
   "cell_type": "code",
   "execution_count": 11,
   "metadata": {
    "colab": {
     "base_uri": "https://localhost:8080/"
    },
    "executionInfo": {
     "elapsed": 65,
     "status": "ok",
     "timestamp": 1757576526495,
     "user": {
      "displayName": "vincent vigon",
      "userId": "09456169185020192907"
     },
     "user_tz": -120
    },
    "id": "1gc7sLJTuGx9",
    "outputId": "83fccb5c-4e99-4d21-a1c0-aab949e27763"
   },
   "outputs": [],
   "source": [
    "with jax.default_device(cpu_device):\n",
    "    x = jnp.zeros([200, 200])\n",
    "    print(x.devices())\n",
    "    y = jnp.ones([200, 200])\n",
    "    print(y.devices())\n",
    "    z=x+y\n",
    "    print(z.devices())"
   ]
  },
  {
   "cell_type": "markdown",
   "metadata": {
    "id": "G5q87nbSumfX"
   },
   "source": [
    "***A vous:*** Analyser les performances."
   ]
  },
  {
   "cell_type": "code",
   "execution_count": 13,
   "metadata": {
    "ExecuteTime": {
     "end_time": "2025-02-14T22:09:29.464378Z",
     "start_time": "2025-02-14T22:09:20.372474Z"
    },
    "colab": {
     "base_uri": "https://localhost:8080/"
    },
    "executionInfo": {
     "elapsed": 20139,
     "status": "ok",
     "timestamp": 1757576588901,
     "user": {
      "displayName": "vincent vigon",
      "userId": "09456169185020192907"
     },
     "user_tz": -120
    },
    "id": "54cece1e583ad29a",
    "outputId": "fd7ab40b-996c-4bbf-f8f9-759dae893863"
   },
   "outputs": [],
   "source": [
    "size = 3000\n",
    "key=jr.key(0)\n",
    "\n",
    "x_jnp = jax.random.normal(key, (size, size), dtype=jnp.float32)\n",
    "x_np = np.random.normal(size=(size, size)).astype(np.float32)  # some diff in API exists!\n",
    "\n",
    "print(\"on GPU - fast\")\n",
    "%timeit jnp.dot(x_jnp, x_jnp.T).block_until_ready()\n",
    "\n",
    "print(\"on CPU - slow (NumPy only works with CPUs)\")\n",
    "%timeit np.dot(x_np, x_np.T)\n",
    "\n",
    "print(\"on GPU with transfer overhead\")\n",
    "%timeit jnp.dot(x_np, x_np.T).block_until_ready()\n",
    "\n",
    "print(\"push NumPy explicitly to GPU\")\n",
    "x_np_device = jax.device_put(x_np)\n",
    "\n",
    "print(\"same as 1\")\n",
    "%timeit jnp.dot(x_np_device, x_np_device.T).block_until_ready()\n"
   ]
  },
  {
   "cell_type": "markdown",
   "metadata": {
    "collapsed": false,
    "id": "27f5acdeca65adff"
   },
   "source": [
    "JAX n'attend pas que l'opération soit terminée avant de renvoyer le contrôle à Python.\n",
    "\n",
    "`%timeit` lance plusieurs fois la même fonction, sans le `block_until_ready`, exécutions sont faites en parallèles et le temps n'est pas significatif.\n"
   ]
  },
  {
   "cell_type": "markdown",
   "metadata": {
    "id": "rH7Ykf3ZuKGO"
   },
   "source": [
    "### Device mélangés"
   ]
  },
  {
   "cell_type": "markdown",
   "metadata": {
    "id": "NDdXPjGLuTkU"
   },
   "source": [
    "#### ♡♡♡"
   ]
  },
  {
   "cell_type": "markdown",
   "metadata": {
    "id": "G2i9J4knueUg"
   },
   "source": [
    "***A vous:*** Quand on fait une opération entre des tenseurs sur des devices différent, que ce passe-t-il ? Analyser les codes ci-dessous."
   ]
  },
  {
   "cell_type": "code",
   "execution_count": null,
   "metadata": {
    "colab": {
     "base_uri": "https://localhost:8080/"
    },
    "executionInfo": {
     "elapsed": 203,
     "status": "ok",
     "timestamp": 1757576357136,
     "user": {
      "displayName": "vincent vigon",
      "userId": "09456169185020192907"
     },
     "user_tz": -120
    },
    "id": "KzFOSr2Zunal",
    "outputId": "de1d7c4b-7071-4239-cda3-3705de5a5770"
   },
   "outputs": [],
   "source": [
    "a=jnp.ones([5])\n",
    "b=jnp.ones([5])\n",
    "b=jax.device_put(b,cpu_device)\n",
    "c=a+b\n",
    "print(c.devices())"
   ]
  },
  {
   "cell_type": "code",
   "execution_count": null,
   "metadata": {
    "colab": {
     "base_uri": "https://localhost:8080/"
    },
    "executionInfo": {
     "elapsed": 63,
     "status": "ok",
     "timestamp": 1757576385203,
     "user": {
      "displayName": "vincent vigon",
      "userId": "09456169185020192907"
     },
     "user_tz": -120
    },
    "id": "WPrG5Onxtvx7",
    "outputId": "59e56c22-f119-4bd4-c013-daa6d91c71aa"
   },
   "outputs": [],
   "source": [
    "a=jnp.ones([5])\n",
    "b=jnp.ones([5])\n",
    "b=jax.device_put(b,gpu_device)\n",
    "c=a+b\n",
    "print(c.devices())"
   ]
  },
  {
   "cell_type": "code",
   "execution_count": null,
   "metadata": {
    "colab": {
     "base_uri": "https://localhost:8080/"
    },
    "executionInfo": {
     "elapsed": 54,
     "status": "ok",
     "timestamp": 1757576455478,
     "user": {
      "displayName": "vincent vigon",
      "userId": "09456169185020192907"
     },
     "user_tz": -120
    },
    "id": "4SIRD2Ppt3KC",
    "outputId": "25758863-d029-4388-8da0-25ad4a8d3d39"
   },
   "outputs": [],
   "source": [
    "a=jnp.ones([5])\n",
    "b=jnp.ones([5])\n",
    "a=jax.device_put(a,cpu_device)\n",
    "b=jax.device_put(b,gpu_device)\n",
    "\n",
    "\n",
    "try:\n",
    "    c=a+b\n",
    "    print(c.devices())\n",
    "except Exception as e:\n",
    "    print(e)"
   ]
  },
  {
   "cell_type": "markdown",
   "metadata": {
    "collapsed": false,
    "id": "b83fb3b5bda6a353"
   },
   "source": [
    "##  lax\n",
    "\n",
    "`jax.numpy` est une API qui imite numpy.\n",
    "\n",
    "\n",
    "`jax.lax` est une API de niveau inférieur qui donne des fonctions plus pointues (donc moins conviviales).\n",
    "\n"
   ]
  },
  {
   "cell_type": "code",
   "execution_count": null,
   "metadata": {
    "ExecuteTime": {
     "end_time": "2025-02-14T22:16:28.333117Z",
     "start_time": "2025-02-14T22:16:28.324440Z"
    },
    "id": "5fdfc983d688e49c"
   },
   "outputs": [],
   "source": [
    "from jax import lax"
   ]
  },
  {
   "cell_type": "code",
   "execution_count": null,
   "metadata": {
    "ExecuteTime": {
     "end_time": "2025-02-14T22:18:00.857621Z",
     "start_time": "2025-02-14T22:18:00.251437Z"
    },
    "colab": {
     "base_uri": "https://localhost:8080/"
    },
    "executionInfo": {
     "elapsed": 3459,
     "status": "ok",
     "timestamp": 1746994525651,
     "user": {
      "displayName": "vincent vigon",
      "userId": "09456169185020192907"
     },
     "user_tz": -120
    },
    "id": "178c30181459c018",
    "outputId": "a039ecdf-c5b7-406c-9bde-b8a436b5bb76"
   },
   "outputs": [],
   "source": [
    "x = jnp.array([1, 2, 1])\n",
    "y = jnp.ones(10)\n",
    "\n",
    "# NumPy API\n",
    "result1 = jnp.convolve(x, y)\n",
    "\n",
    "# lax API\n",
    "result2 = lax.conv_general_dilated(\n",
    "    x.reshape(1, 1, 3).astype(float),  # note: explicit promotion\n",
    "    y.reshape(1, 1, 10),\n",
    "    window_strides=(1,),\n",
    "    padding=[(len(y) - 1, len(y) - 1)])  # equivalent of padding='full' in NumPy\n",
    "\n",
    "print(result1)\n",
    "print(result2[0][0])\n",
    "assert np.allclose(result1, result2[0][0], atol=1E-6)"
   ]
  },
  {
   "cell_type": "markdown",
   "metadata": {
    "id": "hFd2PMcA_SYn"
   },
   "source": [
    "#### ♡♡\n",
    "\n",
    "***A vous:***\n",
    "\n",
    "Que se passe-t-il si on ne fait pas le cast explicite `astype(float)` dans le code précédent ?\n",
    "\n",
    "Vous en déduirez que les fonctions de `lax` sont très peu souples. Vérifiez le avec la fonction `lax.add` par exemple."
   ]
  },
  {
   "cell_type": "markdown",
   "metadata": {
    "id": "qriCs4Oh9tAg"
   },
   "source": [
    "## XLA\n",
    "\n",
    "\n",
    "XLA (Accelerated Linear Algebra) est un compilateur Open Source pour le machine learning. Il est utilisé par PyTorch, TensorFlow et JAX mais c'est sans doute JAX qui l'utilise le mieux.\n",
    "\n",
    "\n",
    "Remarque:  lax est une anagramme de xla."
   ]
  },
  {
   "cell_type": "markdown",
   "metadata": {
    "id": "bEKXsqgK-OQ9"
   },
   "source": [
    "## `jax.scipy`\n",
    "\n",
    "Notons aussi que [`jax.scipy`](https://docs.jax.dev/en/latest/jax.scipy.html) réimplémente de nombreuses fonctionnalités de scipy. Mais avec les atouts de jax en plus."
   ]
  },
  {
   "cell_type": "code",
   "execution_count": null,
   "metadata": {
    "colab": {
     "base_uri": "https://localhost:8080/"
    },
    "executionInfo": {
     "elapsed": 61,
     "status": "ok",
     "timestamp": 1746995900708,
     "user": {
      "displayName": "vincent vigon",
      "userId": "09456169185020192907"
     },
     "user_tz": -120
    },
    "id": "Y2CmiNZfAaTj",
    "outputId": "9e2d0f7c-65ca-4a83-a510-7865fe50f6e2"
   },
   "outputs": [],
   "source": [
    "from jax.scipy.ndimage import map_coordinates\n",
    "import numpy as np\n",
    "\n",
    "# Dimensions de l'image\n",
    "height, width = 6,6\n",
    "\n",
    "# Exemple d'image (1 canal, 10x10 pixels)\n",
    "img = jnp.arange(height*width).reshape(height, width).astype(np.float32)\n",
    "img"
   ]
  },
  {
   "cell_type": "code",
   "execution_count": null,
   "metadata": {
    "colab": {
     "base_uri": "https://localhost:8080/"
    },
    "executionInfo": {
     "elapsed": 151,
     "status": "ok",
     "timestamp": 1746995900949,
     "user": {
      "displayName": "vincent vigon",
      "userId": "09456169185020192907"
     },
     "user_tz": -120
    },
    "id": "Ts_MlNPpAsiY",
    "outputId": "fda452b5-309e-4325-cb21-eb4613b0563d"
   },
   "outputs": [],
   "source": [
    "i_choice=[0,0.1,1,3]\n",
    "j_choice=[0,0,0,0]\n",
    "interpo = map_coordinates(img, (i_choice,j_choice), order=1)\n",
    "interpo"
   ]
  },
  {
   "cell_type": "markdown",
   "metadata": {
    "id": "gq3WRIs2uyvr"
   },
   "source": [
    "### Défi prog"
   ]
  },
  {
   "cell_type": "markdown",
   "metadata": {
    "id": "2CUICTQlF-8A"
   },
   "source": [
    "#### ♡♡♡♡♡♡♡"
   ]
  },
  {
   "cell_type": "markdown",
   "metadata": {
    "id": "HAgQSahdFTD2"
   },
   "source": [
    "Utiliser cela pour produire un sous-échantillongage de l'image:\n",
    "\n",
    "Aide:\n",
    "* si `i_choice` et `j_choice` sont deux matrices, alors la sortie de `map_coordinates` est une matrice\n",
    "* utilisez `jnp.meshgrid(...,indexing=\"ij\")`"
   ]
  },
  {
   "cell_type": "code",
   "execution_count": null,
   "metadata": {
    "colab": {
     "base_uri": "https://localhost:8080/"
    },
    "executionInfo": {
     "elapsed": 139,
     "status": "ok",
     "timestamp": 1746995901152,
     "user": {
      "displayName": "vincent vigon",
      "userId": "09456169185020192907"
     },
     "user_tz": -120
    },
    "id": "6caQKoylDNZC",
    "outputId": "c260aaa2-2fed-4e80-8b51-6e24885525e5"
   },
   "outputs": [],
   "source": []
  },
  {
   "cell_type": "code",
   "execution_count": null,
   "metadata": {
    "colab": {
     "base_uri": "https://localhost:8080/"
    },
    "executionInfo": {
     "elapsed": 139,
     "status": "ok",
     "timestamp": 1746995901152,
     "user": {
      "displayName": "vincent vigon",
      "userId": "09456169185020192907"
     },
     "user_tz": -120
    },
    "id": "6caQKoylDNZC",
    "outputId": "c260aaa2-2fed-4e80-8b51-6e24885525e5"
   },
   "outputs": [
    {
     "data": {
      "text/plain": [
       "Array([[ 0.,  2.,  4.],\n",
       "       [12., 14., 16.],\n",
       "       [24., 26., 28.]], dtype=float32)"
      ]
     },
     "execution_count": 32,
     "metadata": {},
     "output_type": "execute_result"
    }
   ],
   "source": [
    "#--- To keep following outputs, do not run this cell! ---"
   ]
  },
  {
   "cell_type": "code",
   "execution_count": null,
   "metadata": {
    "id": "mJWO9mFtE9Aw"
   },
   "outputs": [],
   "source": [
    "jnp.set_printoptions(threshold=10000,precision=2,linewidth=10000)"
   ]
  },
  {
   "cell_type": "markdown",
   "metadata": {
    "id": "dc0X5kzDFYf1"
   },
   "source": [
    "Ou un sur-échantillonnage (ici de taille 10×10):"
   ]
  },
  {
   "cell_type": "code",
   "execution_count": null,
   "metadata": {
    "colab": {
     "base_uri": "https://localhost:8080/"
    },
    "executionInfo": {
     "elapsed": 11,
     "status": "ok",
     "timestamp": 1746996094632,
     "user": {
      "displayName": "vincent vigon",
      "userId": "09456169185020192907"
     },
     "user_tz": -120
    },
    "id": "0599MjBEDo_u",
    "outputId": "f441e617-da42-471c-aae3-45eb8f21dd41"
   },
   "outputs": [],
   "source": []
  },
  {
   "cell_type": "code",
   "execution_count": null,
   "metadata": {
    "colab": {
     "base_uri": "https://localhost:8080/"
    },
    "executionInfo": {
     "elapsed": 11,
     "status": "ok",
     "timestamp": 1746996094632,
     "user": {
      "displayName": "vincent vigon",
      "userId": "09456169185020192907"
     },
     "user_tz": -120
    },
    "id": "0599MjBEDo_u",
    "outputId": "f441e617-da42-471c-aae3-45eb8f21dd41"
   },
   "outputs": [
    {
     "data": {
      "text/plain": [
       "Array([[ 0.  ,  0.56,  1.11,  1.67,  2.22,  2.78,  3.33,  3.89,  4.44,  5.  ],\n",
       "       [ 3.33,  3.89,  4.44,  5.  ,  5.56,  6.11,  6.67,  7.22,  7.78,  8.33],\n",
       "       [ 6.67,  7.22,  7.78,  8.33,  8.89,  9.44, 10.  , 10.56, 11.11, 11.67],\n",
       "       [10.  , 10.56, 11.11, 11.67, 12.22, 12.78, 13.33, 13.89, 14.44, 15.  ],\n",
       "       [13.33, 13.89, 14.44, 15.  , 15.56, 16.11, 16.67, 17.22, 17.78, 18.33],\n",
       "       [16.67, 17.22, 17.78, 18.33, 18.89, 19.44, 20.  , 20.56, 21.11, 21.67],\n",
       "       [20.  , 20.56, 21.11, 21.67, 22.22, 22.78, 23.33, 23.89, 24.44, 25.  ],\n",
       "       [23.33, 23.89, 24.44, 25.  , 25.56, 26.11, 26.67, 27.22, 27.78, 28.33],\n",
       "       [26.67, 27.22, 27.78, 28.33, 28.89, 29.44, 30.  , 30.56, 31.11, 31.67],\n",
       "       [30.  , 30.56, 31.11, 31.67, 32.22, 32.78, 33.33, 33.89, 34.44, 35.  ]], dtype=float32)"
      ]
     },
     "execution_count": 43,
     "metadata": {},
     "output_type": "execute_result"
    }
   ],
   "source": [
    "#--- To keep following outputs, do not run this cell! ---"
   ]
  },
  {
   "cell_type": "code",
   "execution_count": null,
   "metadata": {
    "id": "Zz7e4QKHEyJM"
   },
   "outputs": [],
   "source": []
  }
 ],
 "metadata": {
  "accelerator": "GPU",
  "colab": {
   "authorship_tag": "ABX9TyNd5lkaKPPm1VZcDIjvFeAn",
   "gpuType": "T4",
   "provenance": [],
   "toc_visible": true
  },
  "kernelspec": {
   "display_name": "study",
   "language": "python",
   "name": "python3"
  },
  "language_info": {
   "codemirror_mode": {
    "name": "ipython",
    "version": 3
   },
   "file_extension": ".py",
   "mimetype": "text/x-python",
   "name": "python",
   "nbconvert_exporter": "python",
   "pygments_lexer": "ipython3",
   "version": "3.12.11"
  }
 },
 "nbformat": 4,
 "nbformat_minor": 0
}
