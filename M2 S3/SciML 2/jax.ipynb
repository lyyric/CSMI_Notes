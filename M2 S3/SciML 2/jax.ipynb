{
 "cells": [
  {
   "cell_type": "markdown",
   "id": "c2a7b527",
   "metadata": {
    "slideshow": {
     "slide_type": "slide"
    }
   },
   "source": [
    "# Jax and advanced methods for PINNs"
   ]
  },
  {
   "cell_type": "markdown",
   "id": "d493625a",
   "metadata": {},
   "source": [
    "## Basic of Jax"
   ]
  },
  {
   "cell_type": "markdown",
   "id": "028be9e4",
   "metadata": {},
   "source": [
    "Jax est une bibliothèque développée par Google pour faire du calcul intensif sur GPU/TPU différentiable. Il s'agit de **programmation fonctionnelle** et pas objet. On va donc surtout écrire des fonctions des **transformations de fonctions**.\n",
    "\n",
    "Les fonctions sur lesquelles JAX peut opérer doivent :\n",
    "\n",
    "- Prendre en entrée un ou plusieurs tenseurs (ou collections de tenseurs) et retourner en sortie un ou plusieurs tenseurs (ou collections de tenseurs).\n",
    "\n",
    "- Manipuler ces tenseurs uniquement en utilisant des fonctions des bibliothèques JAX, principalement dans les modules jax.numpy et jax.scipy, et qui ont souvent un équivalent direct dans NumPy ou SciPy.\n",
    "\n",
    "- Être **fonctionnellement pures** : exécuter la même fonction avec les mêmes entrées doit produire exactement les mêmes sorties. "
   ]
  },
  {
   "cell_type": "code",
   "execution_count": 1,
   "id": "00aa18e4",
   "metadata": {},
   "outputs": [
    {
     "name": "stdout",
     "output_type": "stream",
     "text": [
      "14.107978   <class 'jaxlib._jax.ArrayImpl'>\n",
      "[1. 4. 9.]   <class 'jaxlib._jax.ArrayImpl'>\n"
     ]
    }
   ],
   "source": [
    "import jax\n",
    "import jax.numpy as jnp\n",
    "import jax.scipy as jsp\n",
    "\n",
    "# Définir une fonction simple\n",
    "def f(x):\n",
    "    y = jnp.sum(x**2)          # somme des carrés\n",
    "    z = jnp.prod(jnp.sin(x))   # produit des sinus\n",
    "    return y + z\n",
    "\n",
    "def g(x):\n",
    "    return x*x\n",
    "\n",
    "# Créer un vecteur d'entrée\n",
    "x = jnp.array([1.0, 2.0, 3.0])\n",
    "y = f(x)\n",
    "y2= g(x)\n",
    "print(y,\" \",type(y))\n",
    "print(y2,\" \",type(y2))"
   ]
  },
  {
   "cell_type": "markdown",
   "id": "10981cca",
   "metadata": {},
   "source": [
    "### Transformations in JAX\n",
    "\n",
    "les transformations sont des \"fonctions\" qu'on va appliquer a nos fonctions classiques afin d'améliorer ou d'enrichir les fonctions auxquelles elles sont appliquées\n",
    "\n",
    "les **transformations** sont composables."
   ]
  },
  {
   "cell_type": "markdown",
   "id": "6e05d899",
   "metadata": {},
   "source": [
    "La première est **vmap** qui permet de **vectoriser** des fonctions\n"
   ]
  },
  {
   "cell_type": "code",
   "execution_count": 2,
   "id": "340bdb8e",
   "metadata": {},
   "outputs": [
    {
     "name": "stdout",
     "output_type": "stream",
     "text": [
      "Boucle : 1.2793321659992216 s\n",
      "vmap : 0.020754750003106892 s\n",
      "Vectorisé : 0.009089416998904198 s\n",
      "Différences : 0.0 0.0\n"
     ]
    }
   ],
   "source": [
    "import timeit\n",
    "from jax import vmap\n",
    "# Vecteur aléatoire\n",
    "key = jax.random.PRNGKey(0)\n",
    "x = jax.random.normal(key, (30000,))\n",
    "\n",
    "# 1. Boucle explicite (lent)\n",
    "start = timeit.default_timer()\n",
    "y_loop = jnp.array([jnp.sin(xi**2) for xi in x])\n",
    "print(\"Boucle :\", timeit.default_timer() - start, \"s\")\n",
    "\n",
    "# 2. vmap\n",
    "f = lambda x: jnp.sin(x**2)\n",
    "start = timeit.default_timer()\n",
    "y_vmap = vmap(f)(x)\n",
    "print(\"vmap :\", timeit.default_timer() - start, \"s\")\n",
    "\n",
    "# 3. Vectorisé natif (x**2)\n",
    "start = timeit.default_timer()\n",
    "y_vec = jnp.sin(x**2)\n",
    "print(\"Vectorisé :\", timeit.default_timer() - start, \"s\")\n",
    "\n",
    "# Vérif que tout est identique\n",
    "print(\"Différences :\", jnp.max(jnp.abs(y_loop - y_vec)), jnp.max(jnp.abs(y_vmap - y_vec)))"
   ]
  },
  {
   "cell_type": "code",
   "execution_count": 3,
   "id": "4e83a5d8",
   "metadata": {},
   "outputs": [
    {
     "name": "stdout",
     "output_type": "stream",
     "text": [
      "Boucle Python : 3.0503563749953173 s\n",
      "vmap : 0.14128100004745647 s\n",
      "Vectorisation native : 0.09318833297584206 s\n"
     ]
    }
   ],
   "source": [
    "# fonction sur un point 3D\n",
    "def f(point):\n",
    "    x, y, z = point\n",
    "    return jnp.sin(x) * jnp.cos(y) + x**2 * z + jnp.log(x + z + 1) * y\n",
    "\n",
    "key = jax.random.PRNGKey(0)\n",
    "points = jax.random.uniform(key, shape=(30000, 3))\n",
    "\n",
    "# 1. Boucle Python\n",
    "start = timeit.default_timer()\n",
    "res_loop = jnp.array([f(p) for p in points])\n",
    "end = timeit.default_timer()\n",
    "print(\"Boucle Python :\", end - start, \"s\")\n",
    "\n",
    "# 2. vmap\n",
    "f_vect = vmap(f)\n",
    "start = timeit.default_timer()\n",
    "res_vmap = f_vect(points)\n",
    "end = timeit.default_timer()\n",
    "print(\"vmap :\", end - start, \"s\")\n",
    "\n",
    "# 3. vectorisation native (opérations sur tout le tableau)\n",
    "def f_native(points):\n",
    "    x, y, z = points[:, 0], points[:, 1], points[:, 2]\n",
    "    return jnp.sin(x) * jnp.cos(y) + x**2 * z + jnp.log(x + z + 1) * y\n",
    "\n",
    "start = timeit.default_timer()\n",
    "res_native = f_native(points)\n",
    "end = timeit.default_timer()\n",
    "print(\"Vectorisation native :\", end - start, \"s\")"
   ]
  },
  {
   "cell_type": "markdown",
   "id": "40ef1ebd",
   "metadata": {},
   "source": [
    "Donc pour vectoriser une fonction:\n",
    "\n",
    "```\n",
    "python\n",
    "f_vmap= vmap(func)\n",
    "``` \n",
    "\n",
    "ce qui crée une fonction vectorisée qu'on appelle la nouvelle fonction comme une classique: \n",
    "\n",
    "```\n",
    "python\n",
    "f_map(x)\n",
    "```\n",
    "\n",
    "Cela s'écrit donc aussi d'un coup \n",
    "\n",
    "```\n",
    "python\n",
    "vmap(f)(points)\n",
    "```"
   ]
  },
  {
   "cell_type": "markdown",
   "id": "b4616f56",
   "metadata": {},
   "source": [
    "Dans **vmap** on peut choisir de vectoriser selon certaisn axes seulement un tenseur."
   ]
  },
  {
   "cell_type": "code",
   "execution_count": 4,
   "id": "b1bc8e68",
   "metadata": {},
   "outputs": [
    {
     "name": "stdout",
     "output_type": "stream",
     "text": [
      "[[ 1  4]\n",
      " [ 9 16]\n",
      " [25 36]]\n"
     ]
    }
   ],
   "source": [
    "import jax.numpy as jnp\n",
    "from jax import vmap\n",
    "\n",
    "# Matrice 3x2\n",
    "x = jnp.array([[1, 2],\n",
    "               [3, 4],\n",
    "               [5, 6]])\n",
    "\n",
    "# Fonction à appliquer sur chaque élément d'une ligne\n",
    "def f_row(row):\n",
    "    return row ** 2\n",
    "\n",
    "# Vectorisation sur l'axe 1 (colonnes)\n",
    "f_vect = vmap(f_row, in_axes=1, out_axes=1)\n",
    "res = f_vect(x)\n",
    "print(res)\n"
   ]
  },
  {
   "cell_type": "markdown",
   "id": "e66a4355",
   "metadata": {},
   "source": [
    "La transformation **jit** (Just-In-Time compilation) crée une nouvelle fonction qui est optimisée et compilée à partir de la fonction originale.\n",
    "\n",
    "- Le premier appel peut être lent, car JAX doit compiler la fonction.\n",
    "- Les appels suivants sont beaucoup plus rapides.\n",
    "\n",
    "jit est utile quand on appelle plusieurs fois une fonction sur des données de même forme. Les tableaux peuvent changer de valeurs, mais leur taille doit rester la même."
   ]
  },
  {
   "cell_type": "code",
   "execution_count": 5,
   "id": "a831cc78",
   "metadata": {},
   "outputs": [
    {
     "name": "stdout",
     "output_type": "stream",
     "text": [
      "Compilation (1_000_000) : 0.02638304204447195\n",
      "Appel sur 500_000 : 0.029265415971167386\n",
      "Appel sur 1_000_000 : 4.808296216651797e-05\n"
     ]
    }
   ],
   "source": [
    "from jax import jit\n",
    "# Fonction simple : somme des carrés\n",
    "def f(x):\n",
    "    return jnp.sum(x**2)\n",
    "\n",
    "# Version JIT\n",
    "f_jit = jit(f)\n",
    "\n",
    "# 1. Premier appel : compilation sur taille 100_000\n",
    "x_compile = jnp.ones(1_000_000)\n",
    "start = timeit.default_timer()\n",
    "f_jit(x_compile)\n",
    "end = timeit.default_timer()\n",
    "print(\"Compilation (1_000_000) :\", end - start)\n",
    "\n",
    "# 2. Appel sur taille 500_000\n",
    "x_500k = jnp.ones(500_000)\n",
    "start = timeit.default_timer()\n",
    "f_jit(x_500k)\n",
    "end = timeit.default_timer()\n",
    "print(\"Appel sur 500_000 :\", end - start)\n",
    "\n",
    "# 3. Appel sur taille 1_000_000\n",
    "x_1M = jnp.ones(1_000_000)\n",
    "start = timeit.default_timer()\n",
    "f_jit(x_1M)\n",
    "end = timeit.default_timer()\n",
    "print(\"Appel sur 1_000_000 :\", end - start)"
   ]
  },
  {
   "cell_type": "code",
   "execution_count": 6,
   "id": "f1fd64d6",
   "metadata": {},
   "outputs": [
    {
     "name": "stdout",
     "output_type": "stream",
     "text": [
      "\n",
      "=== Avec static_argnums=0 ===\n",
      "n=100000, time=0.06752867s\n",
      "n=100000, time=0.00002575s\n",
      "///////////////////\n",
      "n=500000, time=0.02680354s\n",
      "n=500000, time=0.00001546s\n",
      "///////////////////\n",
      "n=1000000, time=0.02515712s\n",
      "n=1000000, time=0.00002742s\n",
      "///////////////////\n"
     ]
    }
   ],
   "source": [
    "def f(n):\n",
    "    x = jnp.arange(n) ** 2\n",
    "    return jnp.sum(x)\n",
    "\n",
    "# Version JIT sans static_argnums\n",
    "f_jit = jax.jit(f)\n",
    "\n",
    "# Version JIT avec static_argnums=0\n",
    "f_jit_static = jax.jit(f, static_argnums=0)\n",
    "\n",
    "sizes = [100_000, 500_000, 1_000_000]\n",
    "\n",
    "#print(\"=== Sans static_argnums ===\")\n",
    "#for n in sizes:\n",
    "#    t = timeit.timeit(lambda: f_jit(n), number=1)\n",
    "#    print(f\"n={n}, time={t:.4f}s\")\n",
    "\n",
    "print(\"\\n=== Avec static_argnums=0 ===\")\n",
    "for n in sizes:\n",
    "    t = timeit.timeit(lambda: f_jit_static(n), number=1)\n",
    "    print(f\"n={n}, time={t:.8f}s\")\n",
    "    t = timeit.timeit(lambda: f_jit_static(n), number=1)\n",
    "    print(f\"n={n}, time={t:.8f}s\")\n",
    "    print('///////////////////')"
   ]
  },
  {
   "cell_type": "markdown",
   "id": "4d7e838e",
   "metadata": {},
   "source": [
    "On peut donc la composer avec une autre transformation comme **vmap**"
   ]
  },
  {
   "cell_type": "code",
   "execution_count": 7,
   "id": "55affcf9",
   "metadata": {},
   "outputs": [
    {
     "name": "stdout",
     "output_type": "stream",
     "text": [
      "Boucle Python : 2.9679302079603076 s\n",
      "vmap jit 1 : 0.020278625015635043 s\n",
      "vmap jit 2: 2.779101487249136e-05 s\n",
      "Vectorisation native : 0.0012481669546104968 s\n"
     ]
    }
   ],
   "source": [
    "# fonction sur un point 3D\n",
    "def f(point):\n",
    "    x, y, z = point\n",
    "    return jnp.sin(x) * jnp.cos(y) + x**2 * z + jnp.log(x + z + 1) * y\n",
    "\n",
    "key = jax.random.PRNGKey(0)\n",
    "points = jax.random.uniform(key, shape=(30000, 3))\n",
    "\n",
    "# 1. Boucle Python\n",
    "start = timeit.default_timer()\n",
    "res_loop = jnp.array([f(p) for p in points])\n",
    "end = timeit.default_timer()\n",
    "print(\"Boucle Python :\", end - start, \"s\")\n",
    "\n",
    "# 2. vmap\n",
    "f_vect = jit(vmap(f))\n",
    "start = timeit.default_timer()\n",
    "res_vmap = f_vect(points)\n",
    "end = timeit.default_timer()\n",
    "print(\"vmap jit 1 :\", end - start, \"s\")\n",
    "\n",
    "start = timeit.default_timer()\n",
    "res_vmap = f_vect(points)\n",
    "end = timeit.default_timer()\n",
    "print(\"vmap jit 2:\", end - start, \"s\")\n",
    "\n",
    "# 3. vectorisation native (opérations sur tout le tableau)\n",
    "def f_native(points):\n",
    "    x, y, z = points[:, 0], points[:, 1], points[:, 2]\n",
    "    return jnp.sin(x) * jnp.cos(y) + x**2 * z + jnp.log(x + z + 1) * y\n",
    "\n",
    "start = timeit.default_timer()\n",
    "res_native = f_native(points)\n",
    "end = timeit.default_timer()\n",
    "print(\"Vectorisation native :\", end - start, \"s\")"
   ]
  },
  {
   "cell_type": "markdown",
   "id": "bb3313e8",
   "metadata": {},
   "source": [
    "La dernière famille de transformation classique ce sont les transformations de derivation\n",
    "comme \"grad\", \"hessian\" qui permettent de dériver une ou plusieurs fois une fonction.\n",
    "\n",
    "La encore ses transformations **prennent en entrée des fonctions et renvoit des fonctions**.\n"
   ]
  },
  {
   "cell_type": "code",
   "execution_count": 8,
   "id": "93bcf0ec",
   "metadata": {},
   "outputs": [
    {
     "name": "stdout",
     "output_type": "stream",
     "text": [
      "Gradient : [4. 9.]\n",
      "Hessienne :\n",
      " [[ 2.  0.]\n",
      " [ 0. 18.]]\n"
     ]
    }
   ],
   "source": [
    "# Fonction scalaire simple\n",
    "def f(x):\n",
    "    return x[0]**2 + 3*x[1]**3\n",
    "\n",
    "x = jnp.array([2.0, 1.0])\n",
    "\n",
    "# Gradient : vecteur des dérivées partielles\n",
    "grad_f = jax.grad(f)\n",
    "print(\"Gradient :\", grad_f(x))  \n",
    "\n",
    "# Hessienne : matrice des dérivées secondes\n",
    "hess_f = jax.hessian(f)\n",
    "print(\"Hessienne :\\n\", hess_f(x))"
   ]
  },
  {
   "cell_type": "markdown",
   "id": "5126d1c5",
   "metadata": {},
   "source": [
    "### Jacobienne et modes de différentiation\n",
    "\n",
    "La **Jacobienne** $J_f(x)$ d'une fonction vectorielle $f : \\mathbb{R}^n \\to \\mathbb{R}^m$ est la matrice des dérivées partielles :  \n",
    "$$\n",
    "J_f(x) = \\begin{bmatrix} \\frac{\\partial f_1}{\\partial x_1} & \\cdots & \\frac{\\partial f_1}{\\partial x_n} \\\\ \\vdots & \\ddots & \\vdots \\\\ \\frac{\\partial f_m}{\\partial x_1} & \\cdots & \\frac{\\partial f_m}{\\partial x_n} \\end{bmatrix}\n",
    "$$\n",
    "\n",
    "En JAX, on peut la calculer avec `jax.jacobian(f)`.\n",
    "\n",
    "#### Modes de différentiation\n",
    "\n",
    "- **Forward mode** : efficace si $n \\ll m$ (peu de variables d'entrée, beaucoup de sorties)\n",
    "- **Reverse mode** : efficace si $m \\ll n$ (peu de sorties, beaucoup de variables d'entrée) — c'est le mode utilisé par `jax.grad` pour les fonctions scalaires.\n",
    "\n",
    "Le choix du mode détermine la complexité et la mémoire nécessaires pour le calcul de la Jacobienne.\n",
    "\n",
    "Les modes forward et reverse sont accessibles: `jax.jacfwd(f)` et `jax.jacrev(f)`.\n",
    "\n",
    "On peut aussi directement calculer les produis jacobienne vecteur forward (JVP) et reverse (VJP) avec `jax.jvp(f, (x,), (v,))` et `jax.vjp(f, (x,), (v,))`."
   ]
  },
  {
   "cell_type": "code",
   "execution_count": 9,
   "id": "e110b273",
   "metadata": {},
   "outputs": [
    {
     "name": "stdout",
     "output_type": "stream",
     "text": [
      "f(x) = [2. 3.]\n",
      "Jacobian-vector product = [1.5 1. ]\n",
      "vector jacobian product = (Array([1.5, 1. ], dtype=float32),)\n"
     ]
    }
   ],
   "source": [
    "import jax\n",
    "import jax.numpy as jnp\n",
    "\n",
    "def f(x):\n",
    "    return jnp.array([x[0] * x[1], x[0] + x[1]])\n",
    "\n",
    "x = jnp.array([1.0, 2.0])\n",
    "v = jnp.array([0.5, 0.5])  # direction\n",
    "\n",
    "y, jv = jax.jvp(f, (x,), (v,))\n",
    "print(\"f(x) =\", y)\n",
    "print(\"Jacobian-vector product =\", jv)\n",
    "\n",
    "fx,func_jvp = jax.vjp(f,x)\n",
    "y2= func_jvp(v)\n",
    "print(\"vector jacobian product =\", y2)"
   ]
  },
  {
   "cell_type": "markdown",
   "id": "f658db74",
   "metadata": {},
   "source": [
    "On peut évidemment combiner les transformations de dérivation et jit, vmap.\n",
    "\n",
    "A partir du moment on on dérive il s'agit de fonction non vectorisée donc vous pourrez pas l'appliquer a tableau directement comme sinus ou $x^2$. il faut la vectoriser avec **vmap** "
   ]
  },
  {
   "cell_type": "code",
   "execution_count": 10,
   "id": "568e9e63",
   "metadata": {},
   "outputs": [
    {
     "name": "stdout",
     "output_type": "stream",
     "text": [
      "Loop : 5.415703999984544\n",
      "vmap : 0.11494141700677574\n",
      "jit vmap (1er appel): 0.017729041050188243\n",
      "jit vmap (2ème appel): 5.770899588242173e-05\n"
     ]
    }
   ],
   "source": [
    "import jax\n",
    "import jax.numpy as jnp\n",
    "import timeit\n",
    "\n",
    "# Fonction scalaire\n",
    "def f(x):\n",
    "    return jnp.sin(x) * jnp.exp(x)\n",
    "\n",
    "# Gradient scalaire\n",
    "df = jax.grad(f)\n",
    "\n",
    "# Version vectorisée\n",
    "df_vmap = jax.vmap(df)\n",
    "\n",
    "# Version vectorisée + compilée\n",
    "df_jit = jax.jit(df_vmap)\n",
    "\n",
    "# Gros batch de points\n",
    "x = jnp.linspace(0, 10, 10_000)\n",
    "\n",
    "# --- Mesures de temps ---\n",
    "\n",
    "def grad_loop(x):\n",
    "    return jnp.array([df(xi) for xi in x])\n",
    "\n",
    "print(\"Loop :\", timeit.timeit(lambda: grad_loop(x), number=1))\n",
    "\n",
    "# vmap\n",
    "print(\"vmap :\", timeit.timeit(lambda: df_vmap(x).block_until_ready(), number=1))\n",
    "\n",
    "# jit (premier appel inclut la compilation)\n",
    "print(\"jit vmap (1er appel):\", timeit.timeit(lambda: df_jit(x).block_until_ready(), number=1))\n",
    "print(\"jit vmap (2ème appel):\", timeit.timeit(lambda: df_jit(x).block_until_ready(), number=1))"
   ]
  },
  {
   "cell_type": "markdown",
   "id": "486c5d06",
   "metadata": {},
   "source": [
    "### Example of application to numerical code"
   ]
  },
  {
   "cell_type": "code",
   "execution_count": 11,
   "id": "369f5506",
   "metadata": {},
   "outputs": [],
   "source": [
    "import timeit as it\n",
    "from jax.scipy.sparse.linalg import cg\n",
    "\n",
    " # ---- 1D Laplacien FD ----\n",
    "def build_matrix(N, L=1.0):\n",
    "    \"\"\"Matrice Laplacien 1D FD Dirichlet\"\"\"\n",
    "    dx = L / (N + 1)\n",
    "    diag = -2.0 * jnp.ones(N)\n",
    "    off = jnp.ones(N - 1)\n",
    "    A = jnp.diag(diag) + jnp.diag(off, 1) + jnp.diag(off, -1)\n",
    "    return -A / dx**2, dx\n",
    "\n",
    "\n",
    "# Fixer le maillage\n",
    "N = 200\n",
    "A, dx = build_matrix(N)\n",
    "x = jnp.linspace(dx, 1.0 - dx, N)\n",
    "\n",
    "\n",
    "# ---- Solveur ----\n",
    "def solve(mu, sigma):\n",
    "    \"\"\"Résout -u'' = exp(-(x-mu)^2/(2 sigma^2)), avec BC Dirichlet\"\"\"\n",
    "    f = jnp.exp(-0.5 * ((x - mu) / sigma) ** 2)\n",
    "\n",
    "    # CG retourne (solution, info)\n",
    "    u, info = cg(A, f, tol=1e-7, maxiter=500)\n",
    "    return u"
   ]
  },
  {
   "cell_type": "code",
   "execution_count": 12,
   "id": "fb1b5623",
   "metadata": {},
   "outputs": [
    {
     "name": "stdout",
     "output_type": "stream",
     "text": [
      "Temps boucle Python : 0.00000962 s\n",
      "Temps vmap : 0.48568967 s\n",
      "Temps vmap hit unitaire: 0.07540054 s\n",
      "Temps jit vmap hit unitaire: 0.05961092 s\n"
     ]
    }
   ],
   "source": [
    "# Vectorisation\n",
    "solve_vmap = jax.vmap(solve, in_axes=(0, 0))\n",
    "solve_vmap_jit = jax.jit(jax.vmap(solve, in_axes=(0, 0)))\n",
    "solve_jit_vmap = jax.vmap(jax.jit(solve), in_axes=(0, 0))\n",
    "solve_jit_vmap_jit = jax.jit(jax.vmap(jax.jit(solve), in_axes=(0, 0)))\n",
    "\n",
    "# ---- Comparaison temps ----\n",
    "import numpy as np\n",
    "\n",
    "# 100 couples (mu, sigma)\n",
    "key = jax.random.PRNGKey(0)\n",
    "mus = jax.random.uniform(key, (2000,), minval=0.2, maxval=0.8)\n",
    "sigmas = 0.05 + 0.15 * jax.random.uniform(key, (2000,))\n",
    "\n",
    "\n",
    "# Boucle Python\n",
    "t0 = it.default_timer()\n",
    "# us_loop = [solve(float(mu), float(sigma)) for mu, sigma in zip(mus, sigmas)]\n",
    "# us_loop = jnp.stack(us_loop)\n",
    "t1 = it.default_timer()\n",
    "\n",
    "\n",
    "# vmap + jit\n",
    "t2 = it.default_timer()\n",
    "us_vmap = solve_vmap(mus, sigmas)\n",
    "t3 = it.default_timer()\n",
    "\n",
    "t2bis = it.default_timer()\n",
    "us_vmap = solve_jit_vmap(mus, sigmas)\n",
    "t3bis = it.default_timer()\n",
    "\n",
    "\n",
    "t2bisbis = it.default_timer()\n",
    "us_vmap = solve_jit_vmap_jit(mus, sigmas)\n",
    "t3bisbis = it.default_timer()\n",
    "\n",
    "\n",
    "print(f\"Temps boucle Python : {t1 - t0:.8f} s\")\n",
    "print(f\"Temps vmap : {t3 - t2:.8f} s\")\n",
    "print(f\"Temps vmap hit unitaire: {t3bis - t2bis:.8f} s\")\n",
    "print(f\"Temps jit vmap hit unitaire: {t3bisbis - t2bisbis:.8f} s\")\n"
   ]
  },
  {
   "cell_type": "markdown",
   "id": "5cd61daf",
   "metadata": {},
   "source": [
    "### Efficient loop and control structure in Jax"
   ]
  },
  {
   "cell_type": "markdown",
   "id": "03830ae8",
   "metadata": {},
   "source": [
    "- En JAX, une boucle Python classique (for) est lente car elle sort du monde JAX et fait un aller-retour avec l’interpréteur Python à chaque itération.\n",
    "    \n",
    "- Pour que JAX compile et optimise la boucle, il faut utiliser les structures de contrôle spécifique a jax qui sont donc optimisé et compilé."
   ]
  },
  {
   "cell_type": "markdown",
   "id": "de46230b",
   "metadata": {},
   "source": [
    "- `scan` est l’équivalent d’une boucle `for` avec accumulation d’un état interne.  \n",
    "Il est souvent utilisé pour des boucles récurrentes ou des intégrateurs temporels.\n",
    "\n",
    "**Syntaxe :**\n",
    "```python\n",
    "y, state = lax.scan(f, init, xs)\n",
    "```\n",
    "\n",
    "- `white_loop` Permet d’exprimer une boucle conditionnelle while.\n",
    "La condition et le corps doivent être des fonctions pures.\n",
    "\n",
    "**Syntaxe :**\n",
    "```python\n",
    "result = lax.while_loop(cond_fun, body_fun, init)\n",
    "```\n",
    "\n",
    "\n",
    "- `fori_loop` Permet d’exprimer une boucle for.\n",
    "Le le corps doivent être une fonction pure.\n",
    "\n",
    "**Syntaxe :**\n",
    "```python\n",
    "result =  lax.fori_loop(start, stop, body_fun, init)\n",
    "```"
   ]
  },
  {
   "cell_type": "code",
   "execution_count": 47,
   "id": "2de3c9a7",
   "metadata": {},
   "outputs": [
    {
     "name": "stdout",
     "output_type": "stream",
     "text": [
      "[ 0  1  3  6 10]\n",
      "10\n",
      "10\n",
      "[ 0  1  3  6 10]\n"
     ]
    }
   ],
   "source": [
    "from jax import lax\n",
    "xs = jnp.arange(5)  # [0,1,2,3,4]\n",
    "\n",
    "sum = 0\n",
    "ys = []\n",
    "for x in xs:\n",
    "    sum = sum + x\n",
    "    ys.append(sum)\n",
    "\n",
    "ys = jnp.array(ys)\n",
    "final_state = sum\n",
    "\n",
    "print(ys)          # [0,1,3,6,10]\n",
    "print(final_state) # 10\n",
    "\n",
    "def f(sum, x):\n",
    "    sum = sum + x\n",
    "    return sum, sum\n",
    "\n",
    "xs = jnp.arange(5)  # [0,1,2,3,4]\n",
    "ys, final_state = lax.scan(f, 0, xs)\n",
    "\n",
    "print(ys)          # [0,1,3,6,10]\n",
    "print(final_state) # 10"
   ]
  },
  {
   "cell_type": "markdown",
   "id": "df479ccc",
   "metadata": {},
   "source": [
    "On doit donner a \"scan\" une fonction qui renvoit une variable d'accumulation et une autre qui contiendra une liste des sorties qu'on veut pour toutes les étapes."
   ]
  },
  {
   "cell_type": "code",
   "execution_count": 48,
   "id": "b8e0bd0b",
   "metadata": {},
   "outputs": [
    {
     "name": "stdout",
     "output_type": "stream",
     "text": [
      "État final = 22.612953\n",
      "Proportions collectées = [0.109      0.1187119  0.12917385 0.14042264 0.15249304 0.16541694\n",
      " 0.17922235 0.19393253 0.20956479 0.22612953]\n"
     ]
    }
   ],
   "source": [
    "import jax.numpy as jnp\n",
    "from jax import lax\n",
    "\n",
    "r = 0.1\n",
    "K = 100.0\n",
    "\n",
    "def logistic_step(N, _):\n",
    "    N_next = N + r * N * (1 - N / K)\n",
    "    y = N_next / K              # on stocke seulement la proportion\n",
    "    return N_next, y            # carry = état complet, y = ce qu'on collecte\n",
    "\n",
    "N0 = 10.0\n",
    "timesteps = jnp.arange(10)\n",
    "\n",
    "final_state, proportions = lax.scan(logistic_step, N0, timesteps)\n",
    "\n",
    "print(\"État final =\", final_state)\n",
    "print(\"Proportions collectées =\", proportions)"
   ]
  },
  {
   "cell_type": "markdown",
   "id": "95790e2a",
   "metadata": {},
   "source": [
    "### Random Numbers"
   ]
  },
  {
   "cell_type": "markdown",
   "id": "4fc02336",
   "metadata": {},
   "source": [
    "- La génération de nombres pseudo-aléatoires est nativement prise en charge dans le module numpy.random. \n",
    "- La génération de nombres pseudo-aléatoires repose sur un état global, qui peut être défini à une condition initiale déterministe en utilisant numpy.random.seed()"
   ]
  },
  {
   "cell_type": "code",
   "execution_count": 15,
   "id": "4f3eca8f",
   "metadata": {},
   "outputs": [
    {
     "name": "stdout",
     "output_type": "stream",
     "text": [
      "0.5488135039273248\n",
      "0.7151893663724195\n",
      "0.6027633760716439\n",
      "0.5448831829968969\n",
      "0.4236547993389047\n",
      "0.6458941130666561\n"
     ]
    }
   ],
   "source": [
    "import numpy as np\n",
    "np.random.seed(0)\n",
    "\n",
    "print(np.random.random())\n",
    "print(np.random.random())\n",
    "print(np.random.random())\n",
    "print(np.random.random())\n",
    "print(np.random.random())\n",
    "print(np.random.random())"
   ]
  },
  {
   "cell_type": "markdown",
   "id": "ff223f18",
   "metadata": {},
   "source": [
    "En fixant la Seed on va fixer la série de nombre pseudo aléatoire qu'on va générer. Si on ne donne pas de seed elle est généré aléatoirement à partir de l'horloge du système.\n",
    "\n",
    "En numpy pour générer plusieurs nombres aléatoire en même temps"
   ]
  },
  {
   "cell_type": "code",
   "execution_count": 15,
   "id": "87cd52f8",
   "metadata": {},
   "outputs": [
    {
     "name": "stdout",
     "output_type": "stream",
     "text": [
      "[0.5488135  0.71518937 0.60276338]\n",
      "[0.54488318 0.4236548  0.64589411]\n"
     ]
    }
   ],
   "source": [
    "np.random.seed(0)\n",
    "print(np.random.uniform(size=3))\n",
    "print(np.random.uniform(size=3))"
   ]
  },
  {
   "cell_type": "markdown",
   "id": "ece114f6",
   "metadata": {},
   "source": [
    "On voit que tirer 6 fois un nombre ou 2 fois 3 nombre sont deux opérations identiques lorsque la Seed est fixé."
   ]
  },
  {
   "cell_type": "markdown",
   "id": "7ed6f31c",
   "metadata": {},
   "source": [
    "La génération de nombres aléatoires dans JAX est très différente car il est important que la génération de nombres pseudo-aléatoires soit : reproductible, parallélisable et vectorisable.\n",
    "\n",
    "On va commencer par un problème de reproductibité "
   ]
  },
  {
   "cell_type": "code",
   "execution_count": 16,
   "id": "62c8fb4d",
   "metadata": {},
   "outputs": [
    {
     "name": "stdout",
     "output_type": "stream",
     "text": [
      "1.9791922366721637\n"
     ]
    }
   ],
   "source": [
    "import numpy as np\n",
    "\n",
    "np.random.seed(0)\n",
    "\n",
    "def f1(): return np.random.uniform()\n",
    "def f2(): return np.random.uniform()\n",
    "\n",
    "def f3(): return f1() + 2 * f2()\n",
    "\n",
    "print(f3())"
   ]
  },
  {
   "cell_type": "markdown",
   "id": "609c7c85",
   "metadata": {},
   "source": [
    "On comprend bien que le code ne donnera pas le même résultat si f1 est appelé en premier ou f2.\n",
    "En numpy c'est âs grave car l'ordre d'appel est prédéterminer et toujours le même\n",
    "\n",
    "Pour une exécution efficace le compilateur JIT est libre de réordonner, d’élider et de fusionner différentes opérations donc la nouvelle fonction après \"jit\" pourrait donné un résultat différent."
   ]
  },
  {
   "cell_type": "markdown",
   "id": "eb408c8b",
   "metadata": {},
   "source": [
    "Chaque fonction nécessitant des nombres aléatoires prend explicitement une **clé aléatoire** en entrée et retourne une **nouvelle clé** ainsi que le résultat afin que l’exécution reste déterministe et réordonnable, même avec le compilateur JIT ou dans des environnements multi-appareils."
   ]
  },
  {
   "cell_type": "code",
   "execution_count": 17,
   "id": "d7fd6777",
   "metadata": {},
   "outputs": [
    {
     "name": "stdout",
     "output_type": "stream",
     "text": [
      "Array((), dtype=key<fry>) overlaying:\n",
      "[ 0 42]\n"
     ]
    }
   ],
   "source": [
    "from jax import random\n",
    "\n",
    "key = random.key(42)\n",
    "print(key)"
   ]
  },
  {
   "cell_type": "markdown",
   "id": "84d1ff50",
   "metadata": {},
   "source": [
    "La clé sert en fait de substitut à l’objet d’état caché de NumPy. Ici elle est passé explicitement aux fonctions comme jax.random(). \n",
    "Il est important de noter que les fonctions aléatoires ne la modifient pas : fournir le même objet clé à une fonction aléatoire produira toujours le même échantillon."
   ]
  },
  {
   "cell_type": "code",
   "execution_count": 18,
   "id": "223a6301",
   "metadata": {},
   "outputs": [
    {
     "name": "stdout",
     "output_type": "stream",
     "text": [
      "-0.028304616\n",
      "-0.028304616\n",
      "0.07520543\n",
      "0.07520543\n"
     ]
    }
   ],
   "source": [
    "key = random.key(42)\n",
    "print(random.normal(key))\n",
    "print(random.normal(key))\n",
    "\n",
    "key = random.key(43)\n",
    "print(random.normal(key))\n",
    "print(random.normal(key))"
   ]
  },
  {
   "cell_type": "markdown",
   "id": "0572bdc4",
   "metadata": {},
   "source": [
    "Réutiliser la même clé, même avec différentes fonctions aléatoires peut entraîner des sorties corrélées, ce qui est généralement indésirable.\n",
    "\n",
    "Donc il est naturel de ne jamais réutiliser les clés sauf si vous voulez des sorties identiques."
   ]
  },
  {
   "cell_type": "markdown",
   "id": "40164397",
   "metadata": {},
   "source": [
    "Si on veut plusieurs échantillons indépendants, il faut diviser la clé en plusieurs nouvelles clés. \n",
    "On peut faire cela avec \"random.split()\""
   ]
  },
  {
   "cell_type": "code",
   "execution_count": 19,
   "id": "0d2b1553",
   "metadata": {},
   "outputs": [
    {
     "name": "stdout",
     "output_type": "stream",
     "text": [
      "0.07592554 0.60576403\n",
      "0.07592554 0.60576403\n"
     ]
    }
   ],
   "source": [
    "key = random.key(42)\n",
    "key1, key2 = random.split(key)\n",
    "x = random.normal(key1)\n",
    "y = random.normal(key2)\n",
    "print(x, y)\n",
    "\n",
    "x1 = random.normal(key1)\n",
    "y2 = random.normal(key2)\n",
    "print(x1, y2)"
   ]
  },
  {
   "cell_type": "markdown",
   "id": "42f2090e",
   "metadata": {},
   "source": [
    "On pourrait faire \n",
    "```\n",
    "key1 = jax.random.PRNGKey(42)\n",
    "key2 = jax.random.PRNGKey(43)\n",
    "x = jax.random.normal(key1)\n",
    "y = jax.random.normal(key2)\n",
    "```\n",
    "\n",
    "mais split est plus simple car généré un nombre important de clés. \n",
    "\n",
    "De plus quand tu écris une fonction qui prend une clé en entrée, tu ne veux pas avoir à inventer de nouvelles seeds arbitraires à l’intérieur. split() te permet de créer de nouvelles clés de manière systématique et sûre."
   ]
  },
  {
   "cell_type": "code",
   "execution_count": 20,
   "id": "b1561629",
   "metadata": {},
   "outputs": [
    {
     "name": "stdout",
     "output_type": "stream",
     "text": [
      "Clés générées :\n",
      " [[1832780943  270669613]\n",
      " [  64467757 2916123636]\n",
      " [2465931498  255383827]\n",
      " [3134548294  894150801]\n",
      " [2954079971 3276725750]\n",
      " [2765691542  824333390]\n",
      " [2768684296 3055579793]\n",
      " [2547012911 1371500959]\n",
      " [1016697191 2390192106]\n",
      " [1128875147 2463678267]]\n",
      "Échantillons aléatoires :\n",
      " [ 0.07592554  0.60576403  0.4323065  -0.2818947   0.6549178  -0.2166012\n",
      " -0.25440374  0.2886397   0.14384735 -1.3462586 ]\n"
     ]
    }
   ],
   "source": [
    "import jax\n",
    "import jax.numpy as jnp\n",
    "\n",
    "# Clé initiale\n",
    "key = jax.random.PRNGKey(42)\n",
    "\n",
    "# Générer 5 clés indépendantes\n",
    "keys = jax.random.split(key, num=10)\n",
    "\n",
    "# Utiliser chaque clé pour générer un échantillon aléatoire\n",
    "samples = jnp.array([jax.random.normal(k) for k in keys])\n",
    "\n",
    "print(\"Clés générées :\\n\", keys)\n",
    "print(\"Échantillons aléatoires :\\n\", samples)"
   ]
  },
  {
   "cell_type": "markdown",
   "id": "6048f70e",
   "metadata": {},
   "source": [
    "Contrairement a Numpy echnatillonnner d'un coup trois nombre ou fait trois échantinnollage d'un nombre ne sont pas équivalent"
   ]
  },
  {
   "cell_type": "code",
   "execution_count": 21,
   "id": "be858423",
   "metadata": {},
   "outputs": [
    {
     "name": "stdout",
     "output_type": "stream",
     "text": [
      "individually: [0.07592554 0.60576403 0.4323065 ]\n",
      "all at once:  [-0.02830462  0.46713185  0.29570296]\n"
     ]
    }
   ],
   "source": [
    "key = random.key(42)\n",
    "subkeys = random.split(key, 3)\n",
    "sequence = np.stack([random.normal(subkey) for subkey in subkeys])\n",
    "print(\"individually:\", sequence)\n",
    "\n",
    "key = random.key(42)\n",
    "print(\"all at once: \", random.normal(key, shape=(3,)))"
   ]
  },
  {
   "cell_type": "markdown",
   "id": "f266d40f",
   "metadata": {},
   "source": [
    "### Pytree"
   ]
  },
  {
   "cell_type": "markdown",
   "id": "da8ee1e1",
   "metadata": {},
   "source": [
    "Un **pytree** est une structure de données de type arbre hierarchique définie de Jax dont les feuilles sont des objets manipulables par JAX (typiquement des jnp.ndarray, des scalaires, etc.)\n",
    "\n",
    "- les **feuilles** sont des objets de type: jax.Array / jnp.ndarray, int, float, None qui seront les données sur lequel on fera les calculs.\n",
    "- des **noeuds internes**  qui sont les structures que Jax sait parcourir comme les tuples, listes, dictionnaires, namedtuple\n",
    "ou des pytrees. En pratique cela decrit comme les données sont organisés."
   ]
  },
  {
   "cell_type": "markdown",
   "id": "15d77b32",
   "metadata": {},
   "source": [
    "Quand tu veux différencier (grad) vectoriser (vmap) ou compiler une fonction (jit) avec des données complexes comme\n",
    " - paramètres de réseaux de neurones (poids, biais, hyperparamètres),\n",
    " - structures de maillage,\n",
    " - des matrices creuses,\n",
    " - mélange de scalaires, tableaux, dictionnaires…\n",
    "\n",
    " tu dois faire trois chose:\n",
    " - transformer ta structure complexe en un vecteur de paramètres $\\theta$,\n",
    " - différentier ou vectoriser la fonction par rapport à $\\theta$\n",
    " - re-construire la structure de données à partir du résultats\n",
    "\n",
    "Les **pytrees** automatise cela."
   ]
  },
  {
   "cell_type": "markdown",
   "id": "7a2da653",
   "metadata": {},
   "source": [
    "Les transformations **jit, vmap, grad, jacfwd, jacrev**, etc. de JAX ne savent travailler que sur des objets que JAX peut représenter comme un pytree de feuilles différentiables."
   ]
  },
  {
   "cell_type": "code",
   "execution_count": 22,
   "id": "5375ca61",
   "metadata": {},
   "outputs": [],
   "source": [
    "#example de pytree\n",
    "import jax\n",
    "import jax.numpy as jnp \n",
    "from collections import namedtuple\n",
    "\n",
    "x = jnp.array([1, 2, 3])\n",
    "# → pytree trivial : une seule feuille, pas de structure\n",
    "\n",
    "pytree = [jnp.array([1, 2]), jnp.array([3, 4])]\n",
    "# Feuilles : deux tableaux\n",
    "# Structure : list avec 2 éléments\n",
    "\n",
    "pytree = (jnp.array([1., 2.]), 3.0, jnp.array([[1, 2], [3, 4]]))\n",
    "# Feuilles : [array([1,2]), 3.0, array([[1,2],[3,4]])]\n",
    "# Structure : tuple avec 3 éléments\n",
    "\n",
    "params = {\n",
    "    \"layer1\": {\"W\": jnp.ones((2, 2)), \"b\": jnp.zeros(2)},\n",
    "    \"layer2\": (jnp.eye(2), 3.0)\n",
    "}\n",
    "# Feuilles : [layer1.W, layer1.b, layer2[0], layer2[1]]\n",
    "# Structure : dict -> dict -> array/scalar + tuple\n",
    "\n",
    "\n",
    "Point = namedtuple(\"Point\", [\"x\", \"y\"])\n",
    "pytree = Point(jnp.array([1.0]), jnp.array([2.0]))\n",
    "# Feuilles : [x, y]\n",
    "# Structure : namedtuple Point(x=*, y=*)\n",
    "\n",
    "config = {\n",
    "    \"mesh\": {\n",
    "        \"nodes\": jnp.linspace(0, 1, 10),\n",
    "    },\n",
    "    \"params\": {\n",
    "        \"alpha\": jnp.array(0.1),\n",
    "        \"beta\": jnp.array(0.01)\n",
    "    },\n",
    "    \"time\": 0.0\n",
    "}\n",
    "# Feuilles : [nodes, cells, alpha, beta, time]\n",
    "# Structure : dict -> dict -> arrays/scalars"
   ]
  },
  {
   "cell_type": "markdown",
   "id": "2b3caee7",
   "metadata": {},
   "source": [
    "**tree map**\n",
    "\n",
    "```jax.tree.map``` est une fonction très centrale dans JAX : elle permet d’appliquer une fonction à toutes les feuilles d’un pytree sans toucher à la structure"
   ]
  },
  {
   "cell_type": "code",
   "execution_count": 23,
   "id": "0ab98142",
   "metadata": {},
   "outputs": [
    {
     "name": "stdout",
     "output_type": "stream",
     "text": [
      "{'a': Array([2., 4.], dtype=float32), 'b': (Array([6., 8.], dtype=float32), Array([10., 12.], dtype=float32)), 'c': 14.0}\n"
     ]
    }
   ],
   "source": [
    "import jax\n",
    "import jax.numpy as jnp\n",
    "\n",
    "tree = {\n",
    "    \"a\": jnp.array([1., 2.]),\n",
    "    \"b\": (jnp.array([3., 4.]), jnp.array([5., 6.])),\n",
    "    \"c\": 7.\n",
    "}\n",
    "\n",
    "new_tree = jax.tree.map(lambda x: x * 2, tree)\n",
    "print(new_tree)"
   ]
  },
  {
   "cell_type": "markdown",
   "id": "4b4a1d32",
   "metadata": {},
   "source": [
    "On va regarder comment on calcul le gradient d'un fonction appliquée à un pytree et afficher uniquement \n",
    "la structure du pytree obtenu."
   ]
  },
  {
   "cell_type": "code",
   "execution_count": 24,
   "id": "63fbfac5",
   "metadata": {},
   "outputs": [
    {
     "name": "stdout",
     "output_type": "stream",
     "text": [
      "{'mesh': {'nodes': (10,)}, 'params': {'alpha': (), 'beta': ()}, 'time': ()}\n",
      "[ 0.          0.06228238  0.02247729 -0.05394261 -0.04207692  0.0360515\n",
      "  0.04943056 -0.0230454  -0.05627578  0.01296639]\n",
      "0.8725252\n",
      "0.0019498463\n"
     ]
    }
   ],
   "source": [
    "## exemple de differentiation de pytree\n",
    "\n",
    "def loss_fn(config):\n",
    "    nodes = config[\"mesh\"][\"nodes\"]\n",
    "    alpha = config[\"params\"][\"alpha\"]\n",
    "    beta = config[\"params\"][\"beta\"]\n",
    "    t = config[\"time\"]\n",
    "\n",
    "    # Exemple de \"perte\" : intégrale discrète d'une fonction dépendant des params\n",
    "    u = alpha * jnp.sin(2 * jnp.pi * nodes + t) + beta * nodes**2\n",
    "    return jnp.sum(u**2)\n",
    "\n",
    "grad_fn = jax.grad(loss_fn)\n",
    "grads = grad_fn(config)\n",
    "\n",
    "print(jax.tree.map(jnp.shape, grads))\n",
    "print(grads[\"mesh\"][\"nodes\"])  \n",
    "print(grads[\"params\"][\"alpha\"]) \n",
    "print(grads[\"time\"])  "
   ]
  },
  {
   "cell_type": "markdown",
   "id": "39cb66fe",
   "metadata": {},
   "source": [
    "On peut avoir des éléments non différentiable dans un pytree.\n",
    "Par exemple si on a des entier. Il est possible de filtrer le contenu non différentiable du pytree"
   ]
  },
  {
   "cell_type": "code",
   "execution_count": 25,
   "id": "f725080e",
   "metadata": {},
   "outputs": [
    {
     "name": "stdout",
     "output_type": "stream",
     "text": [
      "{'mesh': {'cells': (4, 1), 'nodes': (5,)}, 'params': {'alpha': (), 'beta': ()}, 'time': ()}\n",
      "[ 0.          0.00100624 -0.00309158 -0.00283125  0.01296639]\n",
      "0.39\n",
      "0.0015000042\n"
     ]
    }
   ],
   "source": [
    "config = {\n",
    "    \"mesh\": {\n",
    "        \"nodes\": jnp.linspace(0, 1, 5),\n",
    "        \"cells\": jnp.arange(4).reshape(-1, 1)  # int32 \n",
    "    },\n",
    "    \"params\": {\n",
    "        \"alpha\": jnp.array(0.1),\n",
    "        \"beta\": jnp.array(0.01)\n",
    "    },\n",
    "    \"time\": 0.0\n",
    "}\n",
    "\n",
    "frozen_config = jax.tree.map(\n",
    "    lambda x: (\n",
    "        jax.lax.stop_gradient(x.astype(jnp.float32))\n",
    "        if jnp.issubdtype(jnp.asarray(x).dtype, jnp.integer)\n",
    "        else x\n",
    "    ),\n",
    "    config\n",
    ")\n",
    "\n",
    "def loss_fn(config):\n",
    "    nodes = config[\"mesh\"][\"nodes\"]\n",
    "    alpha = config[\"params\"][\"alpha\"]\n",
    "    beta = config[\"params\"][\"beta\"]\n",
    "    t = config[\"time\"]\n",
    "\n",
    "    # Exemple de \"perte\" : intégrale discrète d'une fonction dépendant des params\n",
    "    u = alpha * jnp.sin(2 * jnp.pi * nodes + t) + beta * nodes**2\n",
    "    return jnp.sum(u**2)\n",
    "\n",
    "grad_fn = jax.grad(loss_fn)\n",
    "#grads = grad_fn(config)  # Erreur : int dans le pytree\n",
    "grads = grad_fn(frozen_config)\n",
    "\n",
    "print(jax.tree.map(jnp.shape, grads))\n",
    "print(grads[\"mesh\"][\"nodes\"])  # None, pas différentiable\n",
    "print(grads[\"params\"][\"alpha\"]) # scalaire    \n",
    "print(grads[\"time\"]) # scalaire   "
   ]
  },
  {
   "cell_type": "markdown",
   "id": "f5da315c",
   "metadata": {},
   "source": [
    "- flatten, transforme un pytree complexe en :\n",
    "    - feuilles : liste plate de tous les jax.Array (ou scalaires) différentiables.\n",
    "    - treedef (noeud internes) : structure qui permet de reconstruire le pytree.\n",
    "\n",
    "- unflatten → fait l’inverse :\n",
    "    - prend les feuilles + le treedef,"
   ]
  },
  {
   "cell_type": "code",
   "execution_count": 26,
   "id": "148102fb",
   "metadata": {},
   "outputs": [
    {
     "name": "stdout",
     "output_type": "stream",
     "text": [
      "Feuilles : [Array([0, 1, 2, 3], dtype=int32), Array([0.  , 0.25, 0.5 , 0.75, 1.  ], dtype=float32), Array(0.1, dtype=float32, weak_type=True), Array(0.01, dtype=float32, weak_type=True), 0.0]\n",
      "Treedef : PyTreeDef({'mesh': {'cells': *, 'nodes': *}, 'params': {'alpha': *, 'beta': *}, 'time': *})\n",
      "[0.   1.   2.   3.   0.   0.25 0.5  0.75 1.   0.1  0.01 0.  ]\n",
      "Config reconstructed: {'mesh': {'cells': Array([0, 1, 2, 3], dtype=int32), 'nodes': Array([0.  , 0.25, 0.5 , 0.75, 1.  ], dtype=float32)}, 'params': {'alpha': Array(0.1, dtype=float32, weak_type=True), 'beta': Array(0.01, dtype=float32, weak_type=True)}, 'time': Array(0., dtype=float32, weak_type=True)}\n"
     ]
    }
   ],
   "source": [
    "# Pytree exemple\n",
    "config = {\n",
    "    \"mesh\": {\"nodes\": jnp.linspace(0,1,5), \"cells\": jnp.arange(4)},\n",
    "    \"params\": {\"alpha\": jnp.array(0.1), \"beta\": jnp.array(0.01)},\n",
    "    \"time\": 0.0\n",
    "}\n",
    "\n",
    "# --- Flatten ---\n",
    "leaves, treedef = jax.tree_util.tree_flatten(config)\n",
    "print(\"Feuilles :\", leaves)\n",
    "print(\"Treedef :\", treedef)\n",
    "leaves = [jnp.asarray(x) for x in leaves]\n",
    "\n",
    "flat_vector = jnp.concatenate([jnp.ravel(x) for x in leaves])\n",
    "print(flat_vector)\n",
    "\n",
    "\n",
    "# Rebuild le pytree\n",
    "config_reconstructed = jax.tree_util.tree_unflatten(treedef, leaves)\n",
    "print(\"Config reconstructed:\", config_reconstructed)\n"
   ]
  },
  {
   "cell_type": "markdown",
   "id": "438ea217",
   "metadata": {},
   "source": [
    "On peut recuperer uniquement les feuilles avec ```leaves = jax.tree_util.tree_leaves(config)```\n",
    "ou la structure ```treedef = jax.tree_util.tree_structure(config)```"
   ]
  },
  {
   "cell_type": "markdown",
   "id": "f76035f7",
   "metadata": {},
   "source": [
    "Si on définit une classe on ne peut pas a priori appliquer ```vmap```, ```grad```et ```jit``` dessus.\n",
    "\n",
    "Pour les appliquer sur une classe, il faut specifier comment la classe peut être transformé en pytree. Une fois fait Jax sera appliquer les transformations.\n",
    "\n",
    "Toutes les données différentiable de la classe doivent être pouvoir être représentable par un pytree ou être un pytree."
   ]
  },
  {
   "cell_type": "code",
   "execution_count": 28,
   "id": "48f6fa99",
   "metadata": {},
   "outputs": [
    {
     "name": "stdout",
     "output_type": "stream",
     "text": [
      "[0.       0.051875 0.1075   0.166875 0.23    ]\n",
      "[0 1 2 3]\n"
     ]
    }
   ],
   "source": [
    "class Config:\n",
    "    def __init__(self, nodes, cells, alpha, beta, time):\n",
    "        self.nodes = nodes       # float, différentiable\n",
    "        self.cells = cells       # int, constant\n",
    "        self.alpha = alpha       # float, différentiable\n",
    "        self.beta = beta         # float, différentiable\n",
    "        self.time = time         # float, différentiable\n",
    "\n",
    "    # Flatten → JAX verra uniquement les feuilles différentiables\n",
    "    def tree_flatten(self):\n",
    "        children = (self.nodes, self.alpha, self.beta, self.time)\n",
    "        aux_data = {\"cells\": self.cells}  # non différentiable\n",
    "        return children, aux_data\n",
    "    \n",
    "    @classmethod\n",
    "    def tree_unflatten(cls, aux_data, children):\n",
    "        nodes, alpha, beta, time = children\n",
    "        return cls(nodes, aux_data[\"cells\"], alpha, beta, time)\n",
    "    ## cls correspond a la classe elle même donc on utilise le constructeur\n",
    "    \n",
    "jax.tree_util.register_pytree_node_class(Config)\n",
    "\n",
    "cfg = Config(\n",
    "    nodes=jnp.linspace(0,1,5),\n",
    "    cells=jnp.arange(4),\n",
    "    alpha=jnp.array(0.1),\n",
    "    beta=jnp.array(0.01),\n",
    "    time=jnp.array(0.0)\n",
    ")\n",
    "\n",
    "def loss_fn(cfg):\n",
    "    return jnp.sum(cfg.alpha * cfg.nodes**2 + cfg.beta * cfg.nodes**3 + cfg.time)\n",
    "\n",
    "grads = jax.grad(loss_fn)(cfg)\n",
    "\n",
    "print(grads.nodes)  # Gradient par rapport aux nodes\n",
    "print(grads.cells)  # Valeur constante, non différentiable"
   ]
  },
  {
   "cell_type": "markdown",
   "id": "2eaaa37f",
   "metadata": {},
   "source": [
    "## Neural network, Jax and equinox"
   ]
  },
  {
   "cell_type": "markdown",
   "id": "f56259a0",
   "metadata": {},
   "source": []
  },
  {
   "cell_type": "markdown",
   "id": "cb9f6c0c",
   "metadata": {},
   "source": [
    "On va maintenant regarder comment écrire un réseau de neurones simples en JAX"
   ]
  },
  {
   "cell_type": "code",
   "execution_count": 29,
   "id": "a1affd37",
   "metadata": {},
   "outputs": [
    {
     "name": "stdout",
     "output_type": "stream",
     "text": [
      "[-0.00028367]\n",
      "[(Array([[ 9.6943832e-06,  8.0792106e-06, -8.1601627e-07,  1.4039992e-06,\n",
      "         3.0251124e-06,  4.6802229e-06,  4.5576512e-06, -1.1801387e-06],\n",
      "       [ 1.3849119e-05,  1.1541730e-05, -1.1657376e-06,  2.0057132e-06,\n",
      "         4.3215891e-06,  6.6860325e-06,  6.5109302e-06, -1.6859125e-06]],      dtype=float32), Array([ 1.3849119e-05,  1.1541730e-05, -1.1657376e-06,  2.0057132e-06,\n",
      "        4.3215891e-06,  6.6860325e-06,  6.5109302e-06, -1.6859125e-06],      dtype=float32)), (Array([[-1.34117417e-05],\n",
      "       [ 1.43247335e-05],\n",
      "       [ 1.02826634e-05],\n",
      "       [ 3.89382967e-06],\n",
      "       [ 1.00004927e-05],\n",
      "       [-3.69602685e-06],\n",
      "       [-1.27716794e-05],\n",
      "       [ 1.20784932e-06]], dtype=float32), Array([-0.00056733], dtype=float32))]\n"
     ]
    }
   ],
   "source": [
    "class MLP:\n",
    "    def __init__(self, sizes, key, scale=0.01):\n",
    "        \"\"\"\n",
    "        sizes : liste des tailles [input_dim, hidden1, ..., output_dim]\n",
    "        key : PRNGKey JAX\n",
    "        \"\"\"\n",
    "        self.sizes = sizes\n",
    "        self.key = key\n",
    "        self.params = self._init_params(sizes, key, scale)\n",
    "\n",
    "    def _init_params(self, sizes, key, scale):\n",
    "        \"\"\"Initialise les poids et biais du MLP.\"\"\"\n",
    "        keys = random.split(key, len(sizes) - 1)\n",
    "        params = []\n",
    "        for k, (m, n) in zip(keys, zip(sizes[:-1], sizes[1:])):\n",
    "            W = scale * random.normal(k, (m, n))\n",
    "            b = jnp.zeros(n)\n",
    "            params.append((W, b))\n",
    "        return params\n",
    "\n",
    "    def forward(self, x, params=None):\n",
    "        \"\"\"Propagation avant.\"\"\"\n",
    "        if params is None:\n",
    "            params = self.params\n",
    "        activ = x\n",
    "        for W, b in params[:-1]:\n",
    "            activ = jnp.tanh(jnp.dot(activ, W) + b)\n",
    "        W, b = params[-1]\n",
    "        return jnp.dot(activ, W) + b\n",
    "\n",
    "# -----------------------\n",
    "# Exemple d'utilisation\n",
    "# -----------------------\n",
    "if __name__ == \"__main__\":\n",
    "    key = random.PRNGKey(0)\n",
    "    sizes = [2, 8, 1]\n",
    "    model = MLP(sizes, key)\n",
    "\n",
    "f = lambda params, x: jnp.sum(model.forward(x, params)**2)\n",
    "df_dtheta = jax.grad(f, argnums=0)\n",
    "x = jnp.array([0.7, 1.0])\n",
    "print(model.forward(x))  # évaluation du réseau\n",
    "print(df_dtheta(model.params,x))  # gradient par rapport aux params"
   ]
  },
  {
   "cell_type": "markdown",
   "id": "16a5e7af",
   "metadata": {},
   "source": [
    "En pratique on voit que l'implémentation naturel en Jax c'est\n",
    "- Une fonction qui crée et renvoit les poids\n",
    "- une fonction qui évalue le réseaux et prend en entrée: les inputs mais aussi les poids du réseau afin de dériver ce réseau par rapport au poids.\n",
    "\n",
    "On retrouve bien l'écriture totalement fonctionnnelle on notre réseau est juste une fonction de $\\theta$ et de $x$"
   ]
  },
  {
   "cell_type": "markdown",
   "id": "66bb714f",
   "metadata": {},
   "source": [
    "Il existe une librairie appelé equinox qui permet une implémentation des réseaux plus proche de Pytorch. \n",
    "Contrairement à l'approche précédente qui traite les poids comme un vecteur qu'on balade dans le code Equinox lui utilise les **Pytree**"
   ]
  },
  {
   "cell_type": "code",
   "execution_count": 30,
   "id": "98030b19",
   "metadata": {},
   "outputs": [],
   "source": [
    "import equinox as eqx\n",
    "class NeuralNetwork(eqx.Module):\n",
    "    layers: list\n",
    "    extra_bias: jax.Array\n",
    "\n",
    "    def __init__(self, key):\n",
    "        key1, key2, key3 = jax.random.split(key, 3)\n",
    "        # These contain trainable parameters.\n",
    "        self.layers = [eqx.nn.Linear(2, 8, key=key1),\n",
    "                       eqx.nn.Linear(8, 8, key=key2),\n",
    "                       eqx.nn.Linear(8, 2, key=key3)]\n",
    "        # This is also a trainable parameter.\n",
    "        self.extra_bias = jax.numpy.ones(2)\n",
    "\n",
    "    def __call__(self, x):\n",
    "        for layer in self.layers[:-1]:\n",
    "            x = jax.nn.relu(layer(x))\n",
    "        return self.layers[-1](x) + self.extra_bias\n",
    "    \n",
    "f = lambda params, x: model.forward(x, params)**2\n",
    "df_dtheta = jax.grad(f, argnums=0)  # gradient par rapport aux params"
   ]
  },
  {
   "cell_type": "markdown",
   "id": "16e08280",
   "metadata": {},
   "source": [
    "Ici la classe ne contient que des éléments par rapport auquel on souhaite différentier mais ce n'est pas toujours le cas.\n",
    "\n",
    "Par exemple on peut voir définir des paramètres constants (taille des couches) ou des fonctions d'activations"
   ]
  },
  {
   "cell_type": "code",
   "execution_count": 31,
   "id": "af8330d0",
   "metadata": {},
   "outputs": [],
   "source": [
    "\n",
    "class NeuralNetwork(eqx.Module):\n",
    "    layers: list\n",
    "    hidden_dims: tuple  # <-- statique\n",
    "\n",
    "    def __init__(self, key, in_dim=2, hidden_dims=(8, 8), out_dim=2):\n",
    "\n",
    "        self.hidden_dims = hidden_dims  # statique\n",
    "        keys = jax.random.split(key, len(hidden_dims) + 1)\n",
    "\n",
    "        # Construction dynamique des couches\n",
    "        dims = (in_dim,) + hidden_dims + (out_dim,)\n",
    "        self.layers = []\n",
    "        for i in range(len(dims) - 2):\n",
    "            self.layers.append(eqx.nn.Linear(dims[i], dims[i+1], key=keys[i]))\n",
    "            self.layers.append(jax.nn.relu)\n",
    "        # Dernière couche linéaire sans activation\n",
    "        self.layers.append(eqx.nn.Linear(dims[-2], dims[-1], key=keys[-1]))\n",
    "\n",
    "    def __call__(self, x):\n",
    "        for layer in self.layers:\n",
    "            x = layer(x)\n",
    "        return x\n",
    "\n",
    "\n",
    "# === Données factices ===\n",
    "key = jax.random.PRNGKey(0)\n",
    "x_key, y_key, model_key = jax.random.split(key, 3)\n",
    "x = jax.random.normal(x_key, (100, 2))\n",
    "y = jax.random.normal(y_key, (100, 2))\n",
    "\n",
    "# === Initialisation du modèle ===\n",
    "model = NeuralNetwork(model_key, in_dim=2, hidden_dims=(16, 32, 16), out_dim=2)"
   ]
  },
  {
   "cell_type": "markdown",
   "id": "a43c9888",
   "metadata": {},
   "source": [
    "Pour le gradient il faut donc séparer la partie différentiable de la classe de la partie non différentiable."
   ]
  },
  {
   "cell_type": "code",
   "execution_count": 32,
   "id": "82dea175",
   "metadata": {},
   "outputs": [
    {
     "name": "stdout",
     "output_type": "stream",
     "text": [
      "Shape des gradients : NeuralNetwork(\n",
      "  layers=[\n",
      "    Linear(\n",
      "      weight=(16, 2), bias=(16,), in_features=2, out_features=16, use_bias=True\n",
      "    ),\n",
      "    None,\n",
      "    Linear(\n",
      "      weight=(32, 16),\n",
      "      bias=(32,),\n",
      "      in_features=16,\n",
      "      out_features=32,\n",
      "      use_bias=True\n",
      "    ),\n",
      "    None,\n",
      "    Linear(\n",
      "      weight=(16, 32),\n",
      "      bias=(16,),\n",
      "      in_features=32,\n",
      "      out_features=16,\n",
      "      use_bias=True\n",
      "    ),\n",
      "    None,\n",
      "    Linear(\n",
      "      weight=(2, 16), bias=(2,), in_features=16, out_features=2, use_bias=True\n",
      "    )\n",
      "  ],\n",
      "  hidden_dims=(None, None, None)\n",
      ")\n"
     ]
    }
   ],
   "source": [
    "params, static = eqx.partition(model, eqx.is_array)\n",
    "# --------------------\n",
    "# Fonction de perte\n",
    "# --------------------\n",
    "def loss(params, static, x, y):\n",
    "    model = eqx.combine(params, static)\n",
    "    pred_y = jax.vmap(model)(x)\n",
    "    return jnp.mean((y - pred_y) ** 2)\n",
    "\n",
    "\n",
    "# --------------------\n",
    "# Gradient + JIT avec static_argnums\n",
    "# --------------------\n",
    "grad_loss = jax.jit(\n",
    "    jax.grad(loss,argnums=0),  # on dérive par rapport à params\n",
    "    static_argnums=1 # on gèle `static`\n",
    ")\n",
    "\n",
    "# --------------------\n",
    "# Calcul du gradient\n",
    "# --------------------\n",
    "grads = grad_loss(params, static, x, y)\n",
    "print(\"Shape des gradients :\", jax.tree.map(lambda g: g.shape, grads))"
   ]
  },
  {
   "cell_type": "markdown",
   "id": "057964de",
   "metadata": {},
   "source": [
    "```params, static = eqx.partition(model, eqx.is_array)``` separe les élements de model en partie différentiable (les tableaux typiquement) et non différential\n",
    "\n",
    "Ensuite on crée une fonction loss qui dépend des deux séparement ```loss(param,static,x,y)```\n",
    "puis on applique le grad ```jax.grad(loss)```.\n",
    "\n",
    "Par défaut le gradient porte que sur le 1er argument donc ici on dérive par rapport a params. On a spécifié ici ```argnum=0```mais pas necessaire\n",
    "\n",
    "Pour Jit on lui précise que l'argument ```static``` est statique et donc il optimisera pas par rapport a ceux la.\n",
    "\n",
    "Ces opérations peuvent être automatisé par equinox"
   ]
  },
  {
   "cell_type": "code",
   "execution_count": 33,
   "id": "bda7df70",
   "metadata": {},
   "outputs": [
    {
     "name": "stdout",
     "output_type": "stream",
     "text": [
      "Shape des gradients : NeuralNetwork(\n",
      "  layers=[\n",
      "    Linear(\n",
      "      weight=(16, 2), bias=(16,), in_features=2, out_features=16, use_bias=True\n",
      "    ),\n",
      "    None,\n",
      "    Linear(\n",
      "      weight=(32, 16),\n",
      "      bias=(32,),\n",
      "      in_features=16,\n",
      "      out_features=32,\n",
      "      use_bias=True\n",
      "    ),\n",
      "    None,\n",
      "    Linear(\n",
      "      weight=(16, 32),\n",
      "      bias=(16,),\n",
      "      in_features=32,\n",
      "      out_features=16,\n",
      "      use_bias=True\n",
      "    ),\n",
      "    None,\n",
      "    Linear(\n",
      "      weight=(2, 16), bias=(2,), in_features=16, out_features=2, use_bias=True\n",
      "    )\n",
      "  ],\n",
      "  hidden_dims=(None, None, None)\n",
      ")\n"
     ]
    }
   ],
   "source": [
    "def loss(model, x, y):\n",
    "    pred_y = jax.vmap(model)(x)\n",
    "    return jnp.mean((y - pred_y) ** 2)\n",
    "\n",
    "# --------------------\n",
    "# Gradient + JIT avec static_argnums\n",
    "# --------------------\n",
    "grad_loss = eqx.filter_jit(\n",
    "    eqx.filter_grad(loss),  # on dérive par rapport à params # on gèle `static`\n",
    ")\n",
    "\n",
    "# --------------------\n",
    "# Calcul du gradient\n",
    "# --------------------\n",
    "grads = grad_loss(model, x, y)\n",
    "print(\"Shape des gradients :\", jax.tree.map(lambda g: g.shape, grads))"
   ]
  },
  {
   "cell_type": "markdown",
   "id": "702adfda",
   "metadata": {},
   "source": [
    "## First PINNs in Jax"
   ]
  },
  {
   "cell_type": "code",
   "execution_count": 38,
   "id": "eedcdf2b",
   "metadata": {},
   "outputs": [],
   "source": [
    "class MLP1D(eqx.Module):\n",
    "    layers: list\n",
    "\n",
    "    def __init__(self, key, in_dim=1, hidden_dims=(16,16), out_dim=1):\n",
    "        keys = jax.random.split(key, len(hidden_dims) + 1)\n",
    "        dims = (in_dim,) + hidden_dims + (out_dim,)\n",
    "        self.layers = []\n",
    "        for i in range(len(dims) - 2):\n",
    "            self.layers.append(eqx.nn.Linear(dims[i], dims[i+1], key=keys[i]))\n",
    "            self.layers.append(jax.nn.tanh)\n",
    "        # Dernière couche linéaire sans activation\n",
    "        self.layers.append(eqx.nn.Linear(dims[-2], dims[-1], key=keys[-1]))\n",
    "\n",
    "    def __call__(self, x):\n",
    "        for layer in self.layers:\n",
    "            x = layer(x)\n",
    "        return x\n"
   ]
  },
  {
   "cell_type": "code",
   "execution_count": 40,
   "id": "6360f4ff",
   "metadata": {},
   "outputs": [],
   "source": [
    "class Sampler1D:\n",
    "    def __init__(self, key, x_min=0.0, x_max=1.0, n_collocation=2000, n_boundary=1000):\n",
    "        self.key = key\n",
    "        self.x_min = x_min\n",
    "        self.x_max = x_max\n",
    "        self.n_collocation = n_collocation\n",
    "        self.n_boundary = n_boundary\n",
    "\n",
    "    def collocation_points(self):\n",
    "        self.key, subkey = jax.random.split(self.key)\n",
    "        return jax.random.uniform(subkey, (self.n_collocation,1), minval=self.x_min, maxval=self.x_max)\n",
    "\n",
    "    def boundary_points(self):\n",
    "        # Points sur le bord gauche\n",
    "        left = jnp.linspace(self.x_min, self.x_min, self.n_boundary).reshape(-1,1)\n",
    "        # Points sur le bord droit\n",
    "        right = jnp.linspace(self.x_max, self.x_max, self.n_boundary).reshape(-1,1)\n",
    "        # Concaténation\n",
    "        return jnp.vstack([left, right])\n"
   ]
  },
  {
   "cell_type": "code",
   "execution_count": 45,
   "id": "56cfea3a",
   "metadata": {},
   "outputs": [],
   "source": [
    "def f(x):\n",
    "    return 4 * jnp.pi**2.0 * jnp.sin(2 * jnp.pi * x)\n",
    "\n",
    "# Loss pour un point collocation\n",
    "def pinn_loss_point(model, x):\n",
    "    u = lambda xi: model(xi)[0]  # scalar->scalar\n",
    "    u_xx = jax.hessian(u)(x)[:, 0]\n",
    "    return (u_xx + f(x)) ** 2\n",
    "\n",
    "\n",
    "# Loss pour un point boundary\n",
    "def boundary_loss_point(model, x):\n",
    "    u = lambda xi: model(xi)[0]\n",
    "    return u(x) ** 2\n",
    "\n",
    "\n",
    "# Loss totale vectorisée\n",
    "def pinn_loss(model, collocation, boundary):\n",
    "    # vmap sur collocation\n",
    "    loss_pde = jnp.mean(jax.vmap(lambda x: pinn_loss_point(model, x))(collocation))\n",
    "    # vmap sur boundary\n",
    "    loss_bc = jnp.mean(jax.vmap(lambda x: boundary_loss_point(model, x))(boundary))\n",
    "    return loss_pde + 5 * loss_bc\n",
    "\n",
    "\n",
    "def trace_pinn_loss(model, collocation, boundary):\n",
    "    # vmap sur collocation\n",
    "    loss_pde = jnp.mean(jax.vmap(lambda x: pinn_loss_point(model, x))(collocation))\n",
    "    # vmap sur boundary\n",
    "    loss_bc = jnp.mean(jax.vmap(lambda x: boundary_loss_point(model, x))(boundary))\n",
    "    return loss_pde + 5 * loss_bc, loss_pde, loss_bc\n",
    "\n",
    "\n",
    "# JIT\n",
    "pinn_loss = eqx.filter_jit(pinn_loss)"
   ]
  },
  {
   "cell_type": "code",
   "execution_count": 46,
   "id": "86defdbc",
   "metadata": {},
   "outputs": [
    {
     "name": "stdout",
     "output_type": "stream",
     "text": [
      " //// begining training //// \n",
      "Step 0: loss = 788.422485, loss_pde = 788.232239, loss_bc = 0.038047\n",
      "Step 500: loss = 357.048920, loss_pde = 356.418274, loss_bc = 0.126128\n",
      "Step 1000: loss = 3.413220, loss_pde = 3.390141, loss_bc = 0.004616\n",
      "Step 1500: loss = 1.734974, loss_pde = 1.713346, loss_bc = 0.004326\n",
      "Step 2000: loss = 0.962603, loss_pde = 0.950172, loss_bc = 0.002486\n",
      "Step 2500: loss = 0.583390, loss_pde = 0.575967, loss_bc = 0.001484\n",
      "Step 3000: loss = 0.370687, loss_pde = 0.366098, loss_bc = 0.000918\n",
      "Step 3500: loss = 0.243433, loss_pde = 0.240524, loss_bc = 0.000582\n",
      "Step 4000: loss = 0.165898, loss_pde = 0.164001, loss_bc = 0.000379\n",
      "Step 4500: loss = 0.118796, loss_pde = 0.117507, loss_bc = 0.000258\n",
      "Step 5000: loss = 0.090437, loss_pde = 0.089511, loss_bc = 0.000185\n",
      "Step 5500: loss = 0.073590, loss_pde = 0.072881, loss_bc = 0.000142\n",
      "Step 6000: loss = 0.063685, loss_pde = 0.063104, loss_bc = 0.000116\n",
      "Step 6500: loss = 0.057859, loss_pde = 0.057355, loss_bc = 0.000101\n",
      "Step 7000: loss = 0.054296, loss_pde = 0.053841, loss_bc = 0.000091\n",
      "Step 7500: loss = 0.051781, loss_pde = 0.051360, loss_bc = 0.000084\n",
      "Step 8000: loss = 0.049880, loss_pde = 0.049486, loss_bc = 0.000079\n",
      "Step 8500: loss = 0.048163, loss_pde = 0.047792, loss_bc = 0.000074\n",
      "Step 9000: loss = 0.046539, loss_pde = 0.046188, loss_bc = 0.000070\n",
      "Step 9500: loss = 0.045007, loss_pde = 0.044675, loss_bc = 0.000066\n"
     ]
    },
    {
     "data": {
      "image/png": "[encoded data removed]",
      "text/plain": [
       "<Figure size 640x480 with 1 Axes>"
      ]
     },
     "metadata": {},
     "output_type": "display_data"
    }
   ],
   "source": [
    "key = jax.random.PRNGKey(0)\n",
    "model_key, sampler_key = jax.random.split(key)\n",
    "\n",
    "# Modèle MLP\n",
    "model = MLP1D(model_key)\n",
    "\n",
    "# Sampler\n",
    "sampler = Sampler1D(sampler_key)\n",
    "x_collocation = sampler.collocation_points()\n",
    "x_boundary = sampler.boundary_points()\n",
    "\n",
    "# -------------------------------\n",
    "# Gradient + JIT avec Equinox\n",
    "# -------------------------------\n",
    "grad_fn = eqx.filter_grad(pinn_loss)\n",
    "grad_fn = eqx.filter_jit(grad_fn)\n",
    "\n",
    "# -------------------------------\n",
    "# Optimisation simple\n",
    "# -------------------------------\n",
    "import matplotlib.pyplot as plt\n",
    "\n",
    "\n",
    "print(\" //// begining training //// \")\n",
    "lr = 2.8e-4\n",
    "for step in range(10000):\n",
    "    grads = grad_fn(model, x_collocation, x_boundary)\n",
    "    model = eqx.apply_updates(model, jax.tree.map(lambda g: -lr * g, grads))\n",
    "    if step % 500 == 0:\n",
    "        loss, loss_pde, loss_bc = trace_pinn_loss(model, x_collocation, x_boundary)\n",
    "        print(\n",
    "            f\"Step {step}: loss = {loss:.6f}, loss_pde = {loss_pde:.6f}, loss_bc = {loss_bc:.6f}\"\n",
    "        )\n",
    "\n",
    "# -------------------------------\n",
    "# Évaluation\n",
    "# -------------------------------\n",
    "\n",
    "x_test = sampler.collocation_points()\n",
    "u_pred = jax.vmap(lambda x: model(x))(x_test)  # (1000,1,1)\n",
    "u_pred = u_pred[:, 0]  # aplatisse en (1000,)\n",
    "plt.scatter(x_test[:, 0], u_pred, label=\"PINN\")\n",
    "plt.scatter(x_test[:, 0], jnp.sin(2.0 * jnp.pi * x_test[:, 0]), label=\"Exact\")\n",
    "plt.legend()\n",
    "plt.show()"
   ]
  }
 ],
 "metadata": {
  "kernelspec": {
   "display_name": "study",
   "language": "python",
   "name": "python3"
  },
  "language_info": {
   "codemirror_mode": {
    "name": "ipython",
    "version": 3
   },
   "file_extension": ".py",
   "mimetype": "text/x-python",
   "name": "python",
   "nbconvert_exporter": "python",
   "pygments_lexer": "ipython3",
   "version": "3.12.11"
  }
 },
 "nbformat": 4,
 "nbformat_minor": 5
}
