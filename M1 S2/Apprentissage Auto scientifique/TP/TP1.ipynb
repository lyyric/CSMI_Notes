{
  "cells": [
    {
      "cell_type": "markdown",
      "metadata": {},
      "source": [
        "# TP1 : régression et propagation d'incertitudes"
      ]
    },
    {
      "cell_type": "code",
      "execution_count": 1,
      "metadata": {},
      "outputs": [
        {
          "ename": "ModuleNotFoundError",
          "evalue": "No module named 'torch'",
          "output_type": "error",
          "traceback": [
            "\u001b[0;31m---------------------------------------------------------------------------\u001b[0m",
            "\u001b[0;31mModuleNotFoundError\u001b[0m                       Traceback (most recent call last)",
            "Cell \u001b[0;32mIn[1], line 3\u001b[0m\n\u001b[1;32m      1\u001b[0m \u001b[38;5;28;01mimport\u001b[39;00m \u001b[38;5;21;01mnumpy\u001b[39;00m \u001b[38;5;28;01mas\u001b[39;00m \u001b[38;5;21;01mnp\u001b[39;00m\n\u001b[1;32m      2\u001b[0m \u001b[38;5;28;01mimport\u001b[39;00m \u001b[38;5;21;01mmatplotlib\u001b[39;00m\u001b[38;5;21;01m.\u001b[39;00m\u001b[38;5;21;01mpyplot\u001b[39;00m \u001b[38;5;28;01mas\u001b[39;00m \u001b[38;5;21;01mplt\u001b[39;00m\n\u001b[0;32m----> 3\u001b[0m \u001b[38;5;28;01mimport\u001b[39;00m \u001b[38;5;21;01mtorch\u001b[39;00m\n",
            "\u001b[0;31mModuleNotFoundError\u001b[0m: No module named 'torch'"
          ]
        }
      ],
      "source": [
        "import numpy as np\n",
        "import matplotlib.pyplot as plt\n",
        "import torch"
      ]
    },
    {
      "cell_type": "markdown",
      "metadata": {},
      "source": [
        "Ce TP a pour but d'utiliser différentes méthodes d'approximation pour \n",
        "interpoler des solutions obtenues par différences finies et étudier un problème de propagation d'incertitude.\n",
        "\n",
        "On considère le problème de Poisson suivant : \n",
        "$$\n",
        "\\left\\{\\begin{array}{l}\n",
        "- u''(x) =f, \\quad \\forall x\\in ]0,1[\\\\\n",
        "u(0)=u(1)=0,\\end{array}\\right.\n",
        "$$\n",
        "où $u : [0,1] \\to \\R$ est l'inconnue du problème et $f : [0,1] \\to \\R$ une fonction donnée.\n",
        "\n",
        "Pour résoudre cette équation, on utilise une méthode de type différence finie. On considère donc une subdivision régulière $0 = x_0 \\leq \\ldots \\leq x_{J+1}$ de l'intervalle $[0,1]$, avec $J \\in \\N^\\ast$, $\\Delta x = 1/J$ et $x_j = j \\Delta x$ pour $j = 0,\\ldots, J+1$. On cherche une solution approchée $u_j \\approx u(x_j)$, pour $j = 1,\\ldots, J$. Pour cela, on considère le schéma suivant\n",
        "$$\n",
        "\\frac{-u_{j+1}+2u_j-u_{j-1}}{\\Delta x^2} =f(x_j),\\quad \\forall j \\in \\{1,\\ldots, J\\}$$ \n",
        "$$ u_0=u_{J+1}=0\n",
        "$$\n",
        "qui se met sous forme matricielle $A u = b$."
      ]
    },
    {
      "cell_type": "code",
      "execution_count": 15,
      "metadata": {},
      "outputs": [
        {
          "data": {
            "image/png": "[encoded data removed]",
            "text/plain": [
              "<Figure size 640x480 with 1 Axes>"
            ]
          },
          "metadata": {},
          "output_type": "display_data"
        }
      ],
      "source": [
        "def matrix_poisson( J):\n",
        "    dx = 1/J\n",
        "    A = np.diag([2.]*J) + np.diag([-1]*(J-1), k=1) + np.diag([-1]*(J-1), k=-1) \n",
        "    A /= dx**2\n",
        "    return A\n",
        "\n",
        "def solve_poisson(J, f):\n",
        "    mesh = np.linspace(0, 1, J+2)\n",
        "    A = matrix_poisson( J)\n",
        "\n",
        "    b = f(mesh[1:-1])\n",
        "    u = np.zeros_like(mesh)\n",
        "    u[1:-1] = np.linalg.solve(A, b)\n",
        "    return mesh, u\n",
        "\n",
        "J = 20\n",
        "f = lambda x : 4.0 * (np.pi**2.0)*np.sin(2.0*np.pi*x)\n",
        "mesh, u = solve_poisson( J, f)\n",
        "\n",
        "plt.plot(mesh, u, '+')\n",
        "plt.xlim([0,1])\n",
        "plt.xlabel('x')\n",
        "plt.title(\"Solution approchée de l'équation de Poisson, J = \"+str(J));"
      ]
    },
    {
      "cell_type": "markdown",
      "metadata": {},
      "source": [
        "### Partie 1 - Régression\n",
        "\n",
        "1. Programmer une méthode de régression polynomiale pour interpoler la solution approchée sur un maillage composé de $200$ points. Comparer le résultat obtenu en comparant avec la solution exacte.\n"
      ]
    },
    {
      "cell_type": "code",
      "execution_count": null,
      "metadata": {},
      "outputs": [],
      "source": []
    },
    {
      "cell_type": "markdown",
      "metadata": {},
      "source": [
        "2. Reprennez la question précédente en utilisant la méthode de régression à noyau avec un noyau radial Gaussien $k(x,y) = \\exp(- ||x-y||^2 / (2\\ell^2))$."
      ]
    },
    {
      "cell_type": "code",
      "execution_count": null,
      "metadata": {},
      "outputs": [],
      "source": [
        "\n"
      ]
    },
    {
      "cell_type": "markdown",
      "metadata": {},
      "source": [
        "2. Reprenez le même exercice avec un réseau de neurones de type dense (multi-layer perceptron)."
      ]
    },
    {
      "cell_type": "code",
      "execution_count": 9,
      "metadata": {},
      "outputs": [],
      "source": [
        "class mlp(torch.nn.Module):\n",
        "    def __init__(self, layer_widths = list):\n",
        "        super().__init__()\n",
        "\n",
        "        self.layer_widths = layer_widths\n",
        "        \n",
        "        self.hidden_layers = []\n",
        "        for i in range( len(layer_widths)-1):\n",
        "            self.hidden_layers.append(torch.nn.Linear(self.layer_widths[i], self.layer_widths[i+1], dtype=torch.double))\n",
        "\n",
        "        self.hidden_layers = torch.nn.ModuleList(self.hidden_layers)\n",
        "        self.activation = torch.nn.Tanh()\n",
        "\n",
        "    def forward(self, inputs):\n",
        "        for i in range( len(self.layer_widths)-1):\n",
        "                inputs = self.activation(self.hidden_layers[i].forward(inputs))\n",
        "        return inputs\n"
      ]
    },
    {
      "cell_type": "code",
      "execution_count": 13,
      "metadata": {},
      "outputs": [],
      "source": [
        "#model = \n",
        "#optimizer = torch.optim.Adam(model.parameters())\n",
        "#nb_epochs = 400\n",
        "\n",
        "#x_train = \n",
        "#y_train = \n",
        "\n",
        "#for epoch in range( nb_epochs):\n",
        "#    optimizer.zero_grad()\n",
        "#    y_pred = model(x_train)\n",
        "#    loss = \n",
        "#    loss.backward()\n",
        "#    optimizer.step()\n",
        "\n",
        "#print(\"epoch \"+ str(epoch)+': '+str(loss.item()))"
      ]
    },
    {
      "cell_type": "code",
      "execution_count": null,
      "metadata": {},
      "outputs": [],
      "source": []
    },
    {
      "cell_type": "markdown",
      "metadata": {},
      "source": [
        "### Partie 2 - propagation d'incertitudes"
      ]
    },
    {
      "cell_type": "markdown",
      "metadata": {},
      "source": [
        "Supposons que l'on ne connaisse pas exactement la fonction $f(x)$. Celui peut être modélisé par un processus Gaussien avec un noyau de type radial Gaussien: c'est donc une fonction aléatoire. Par ailleurs, nous l'ajustons de sorte à ce qu'il passe par certaines valeurs ponctuelles $(f_i)_{i=1,\\ldots m}$ en certains points $(y_i)_{i=1,\\ldots m}$: nous obtenons ainsi une probabilité condtionnelle à cet évènement.\n",
        "\n",
        "Etant donné cette incertitude sur $f$, on voudrait connaitre celle sur $u$."
      ]
    },
    {
      "cell_type": "markdown",
      "metadata": {},
      "source": [
        "1. A l'aide de scikit-learn, ajuster un processus gaussien en supposant qu'il passe par $m$ points $(y_1,\\sin(2\\pi y_1)+\\varepsilon_1),\\ldots,(y_m,\\sin(2\\pi y_m)+\\varepsilon_m)$ et afficher le. "
      ]
    },
    {
      "cell_type": "code",
      "execution_count": 12,
      "metadata": {},
      "outputs": [],
      "source": [
        "from sklearn.gaussian_process import GaussianProcessRegressor\n",
        "from sklearn.gaussian_process.kernels import RBF\n",
        "\n",
        "\n",
        "#plt.plot(fine_mesh, mean_prediction, label=\"Mean prediction\")\n",
        "#plt.fill_between(\n",
        "#    fine_mesh.ravel(),\n",
        "#    mean_prediction - 1.96 * std_prediction,\n",
        "#    mean_prediction + 1.96 * std_prediction,\n",
        "#    alpha=0.5,\n",
        "#    label=r\"95% confidence interval\",\n",
        "#    );\n",
        "#plt.legend(loc='best');"
      ]
    },
    {
      "cell_type": "markdown",
      "metadata": {},
      "source": [
        "2. A partir de cette loi, échantillonner $n$ seconds membres discrets $(f_i)$ et calculer les solutions approchées associées. "
      ]
    },
    {
      "cell_type": "code",
      "execution_count": null,
      "metadata": {},
      "outputs": [],
      "source": []
    },
    {
      "cell_type": "markdown",
      "metadata": {},
      "source": [
        "3. Calculer la moyenne et l'écart type des solutions approchées à l'aide des estimateurs statistiques : \n",
        "$$\n",
        "E[u]=\\frac{1}{n}\\sum_{i=1}^n\\mathbf{u}_i, \\quad Var(u)=\\frac{1}{n}\\sum_{i=1}^n(\\mathbf{u}_i-E[u])^2\n",
        "$$\n",
        "Afficher ensuite le résultat."
      ]
    },
    {
      "cell_type": "code",
      "execution_count": null,
      "metadata": {},
      "outputs": [],
      "source": []
    }
  ],
  "metadata": {
    "kernelspec": {
      "display_name": "myconda",
      "language": "python",
      "name": "python3"
    },
    "language_info": {
      "codemirror_mode": {
        "name": "ipython",
        "version": 3
      },
      "file_extension": ".py",
      "mimetype": "text/x-python",
      "name": "python",
      "nbconvert_exporter": "python",
      "pygments_lexer": "ipython3",
      "version": "3.11.10"
    }
  },
  "nbformat": 4,
  "nbformat_minor": 2
}
