{
 "cells": [
  {
   "cell_type": "code",
   "execution_count": 6,
   "metadata": {},
   "outputs": [],
   "source": [
    "import numpy as np\n",
    "import matplotlib.pyplot as plt\n",
    "\n",
    "np.set_printoptions(linewidth=500,precision=3,suppress=True)"
   ]
  },
  {
   "cell_type": "code",
   "execution_count": 7,
   "metadata": {},
   "outputs": [
    {
     "name": "stdout",
     "output_type": "stream",
     "text": [
      "致命错误：目标路径 'assets_signal' 已经存在，并且不是一个空目录。\n"
     ]
    }
   ],
   "source": [
    "!git clone https://github.com/vincentvigon/assets_signal"
   ]
  },
  {
   "cell_type": "markdown",
   "metadata": {},
   "source": [
    "## Code récupéré dans le TP précédent\n",
    "\n",
    "\n",
    "La classe suivante permet de décomposer un signal dans une base `basis`."
   ]
  },
  {
   "cell_type": "code",
   "execution_count": 8,
   "metadata": {},
   "outputs": [],
   "source": [
    "\"\"\"The begin of the sinCos family, stacked in a matrix.\n",
    "The n-th line is the discretization of sc_n(t)\"\"\"\n",
    "def compute_sinCos_basis(t,T,M):\n",
    "    \"\"\"\n",
    "    Args:\n",
    "         t (1d-array) : time discretized\n",
    "         T (int) : Duration\n",
    "         M (int) : number of different frequencies, so the size of the basis is 2N+1\n",
    "    \"\"\"\n",
    "\n",
    "    basis_sc=np.empty([2*M+1,len(t)])\n",
    "    basis_sc[0]=np.ones_like(t)/np.sqrt(2)\n",
    "    for i in range(1,M+1):\n",
    "        basis_sc[2*i-1,:]=np.sin(i*2*np.pi*t/T)\n",
    "        basis_sc[2*i,:]=np.cos(i*2*np.pi*t/T)\n",
    "\n",
    "    return basis_sc"
   ]
  },
  {
   "cell_type": "code",
   "execution_count": 9,
   "metadata": {},
   "outputs": [],
   "source": [
    "#the informatic version of the scalar product.\n",
    "#The integral is approximate by a sum\n",
    "def dot(f,g):\n",
    "    return 2*np.sum(f*g)/len(f)"
   ]
  },
  {
   "cell_type": "code",
   "execution_count": 10,
   "metadata": {
    "id": "wQhR37531dIn"
   },
   "outputs": [],
   "source": [
    "class Decomposer:\n",
    "\n",
    "    def __init__(self,t,basis,dot_fn,dtype=np.float64):\n",
    "\n",
    "        self.t=t\n",
    "        self.basis=basis\n",
    "        self.dot=dot_fn\n",
    "        self.dtype=dtype\n",
    "\n",
    "\n",
    "    def check_ortho(self):\n",
    "\n",
    "        nb=len(self.basis)\n",
    "\n",
    "\n",
    "        res=np.empty([nb,nb],self.dtype)\n",
    "        for i in range(nb):\n",
    "            for j in range(nb):\n",
    "                res[i,j]=self.dot(self.basis[i,:],self.basis[j,:])\n",
    "        print(res)\n",
    "\n",
    "\n",
    "    def compute_coordinates(self,f,plotThem=False):\n",
    "\n",
    "\n",
    "        coordinates=np.empty(len(self.basis),dtype=self.dtype)\n",
    "\n",
    "        for i in range(len(self.basis)):\n",
    "            coordinates[i]=self.dot(f,self.basis[i,:])\n",
    "\n",
    "        if plotThem:\n",
    "            plt.plot(range(len(self.basis)),self.OUT_coordinates,\".\")\n",
    "\n",
    "        return coordinates\n",
    "\n",
    "\n",
    "\n",
    "    def compute_approximations(self,f,approx_indexes,plotThem=False):\n",
    "\n",
    "\n",
    "        assert max(approx_indexes)<=len(self.basis), \"approximation index can not be greater than the size of the basis\"\n",
    "\n",
    "        coordinates=self.compute_coordinates(f)\n",
    "\n",
    "\n",
    "        \"\"\"each line of the folowing matrix represent an approximation f_N of the signal f \"\"\"\n",
    "        approximations=np.empty([len(approx_indexes),len(self.t)],dtype=self.dtype)\n",
    "\n",
    "\n",
    "        for i,j in enumerate(approx_indexes):\n",
    "            coor_troncated=coordinates.copy()\n",
    "            coor_troncated[j:]=0\n",
    "            approximations[i,:]=coor_troncated@self.basis\n",
    "\n",
    "\n",
    "        if plotThem:\n",
    "            nb=len(approx_indexes)\n",
    "            if nb<=1: nb=2 # to avoid a bug when we write axs[i]\n",
    "            fig,axs=plt.subplots(nb,1,figsize=(8,nb*2))\n",
    "\n",
    "\n",
    "            for i in range(len(approx_indexes)):\n",
    "                axs[i].plot(self.t,f)\n",
    "                axs[i].plot(self.t,approximations[i,:])\n",
    "                axs[i].set_title(\"sum of \"+str(approx_indexes[i])+\" terms\")\n",
    "\n",
    "            fig.tight_layout()\n",
    "\n",
    "\n",
    "        #sauvegarde pour les méthode plus bas\n",
    "        self.OUT_approximations=approximations\n",
    "        self.approx_indexes=approx_indexes\n",
    "        self.f=f\n",
    "\n",
    "\n",
    "        return approximations\n",
    "\n",
    "\n",
    "\n",
    "    def compute_L2_error(self):\n",
    "\n",
    "      assert self.OUT_approximations is not None, \"Call compute_approximations() before compute_L2_error().\"\n",
    "\n",
    "\n",
    "      L2_error=np.empty(len(self.approx_indexes),dtype=self.dtype)\n",
    "\n",
    "      for i in range(len(self.approx_indexes)):\n",
    "        L2_error[i]=np.sqrt( dot(self.f-self.OUT_approximations[i], self.f-self.OUT_approximations[i]) )\n",
    "\n",
    "\n",
    "      return L2_error\n",
    "\n",
    "\n",
    "\n",
    "    def compute_Loo_error(self, plotThem=False):\n",
    "\n",
    "      assert self.OUT_approximations is not None, \"Call compute_approximations() before compute_Loo_error().\"\n",
    "\n",
    "      Loo_error=np.empty(len(self.approx_indexes),dtype=self.dtype)\n",
    "\n",
    "      Loo_error = np.max(np.abs(self.f - self.OUT_approximations), axis=1)\n",
    "\n",
    "      return Loo_error\n"
   ]
  },
  {
   "cell_type": "markdown",
   "metadata": {
    "id": "x3VrEKE9wmFr"
   },
   "source": [
    "## Exponential decomposition\n",
    "\n",
    "\n",
    "The sinCos decomposition is easy to understand because the basis function take real values. But for computations, a more pratical basis is the exponential family."
   ]
  },
  {
   "cell_type": "markdown",
   "metadata": {
    "id": "rfaK8QpQ9QnX"
   },
   "source": [
    "### Theory in one theorem\n",
    "\n",
    "\n",
    "We work now with signals that take complexe values. They are still defined on the time interval $[0,T]$. We need now an hermitian product:\n",
    "$$\n",
    "\\forall f,g \\qquad \\mathtt{her}(f,g) = \\frac 1 T \\int_0^T f(t) \\bar{g}(t) \\, dt\n",
    "$$\n",
    "Where $\\bar{g}(t)$ is the complexe-conjugate of $g(t)$.\n",
    "\n",
    "\n",
    "***Yo you:*** If you never met an hermitian-produc beforet, no problem. It is just a little variant of a dot-product. Now we try to point out the difference (As usual, it is not necessary to make some research on internet):\n",
    "* $(1\\heartsuit)$ What replace the symetry?\n",
    "* $(1\\heartsuit)$ $g\\to \\mathtt{her}(f,g)$ is not exatly linear. Why?\n",
    "*  $(1\\heartsuit)$ Show that the third axiom of the dot product is still valid.\n",
    "\n",
    "\n",
    "We define the expontial family  $(e_n)_{n\\in \\mathbb Z}$ by:\n",
    "$$\n",
    "e_n(t) = e^{2i\\pi \\frac {nt} T }\n",
    "$$\n",
    "where $i=\\sqrt{-1}$.\n",
    "\n",
    "\n",
    "\n",
    "***The 3 points theorem, exponential version***\n",
    "\n",
    "* The familly $(e_n)_{n\\in \\mathbb Z}$ is orthonormal for the hermitian product $\\mathtt{her}()$\n",
    "* Complex-signals $f$ can be writed:\n",
    "$$\n",
    "f(t) = \\sum_{n\\in \\mathbb Z} \\alpha_n e_n(t)\n",
    "$$\n",
    "    * The sum converges for every $t$ where $f$ is continuous\n",
    "    * morover, when $f$ is continuous and $f(0)=f(T)$ the convergence is uniform.\n",
    "\n",
    "* The coordinates $\\alpha_n$ are easy to compute:\n",
    "$$\n",
    "\\alpha_n= \\mathtt{her}(f,e_n)\n",
    "$$\n",
    "\n",
    "\n",
    "***Comments:***\n",
    "\n",
    "* The first point is elementary (it is an exercise below)\n",
    "* The second point is the difficult part. It means that  $(e_n)$ is a sort of basis for complex-signals.\n",
    "* The expression of $\\alpha_n$ comes from the orthonormality.\n",
    "* The coordinates $\\alpha_n$ are called the 'exponentail Fourier coefficients'. Sometimes we denote them by $\\alpha_n(f)$ or $\\hat f(n)$ or $\\mathbb F[f]_n$\n",
    "* Be careful, $\\mathtt{her}(e_n,f)$ would not give $\\alpha_n$ but ... $(1\\heartsuit)$.\n",
    "\n",
    "\n",
    "***To you:***\n",
    "\n",
    "* $(2\\heartsuit)$ Check the orthonormality. You just need to know the primitive of the exponential.\n",
    "* $(2\\heartsuit)$ From the orthonormality of the exponential family, deduce the orthonormality of the sinCos family. Help: use these facts:\n",
    "    * $\\mathtt{dot}(f,g)= 2  \\mathtt{her}(f,g)$ when $f,g$ take real values.\n",
    "    * $\\cos_n=\\frac {e_n + e_{-n}} 2$\n",
    "    * $\\sin_n = \\dots $\n",
    "    "
   ]
  },
  {
   "cell_type": "markdown",
   "metadata": {
    "id": "ECuhM4FK60lm"
   },
   "source": [
    "### complex numbers in python"
   ]
  },
  {
   "cell_type": "code",
   "execution_count": 11,
   "metadata": {
    "colab": {
     "base_uri": "https://localhost:8080/"
    },
    "executionInfo": {
     "elapsed": 359,
     "status": "ok",
     "timestamp": 1704638412156,
     "user": {
      "displayName": "vincent vigon",
      "userId": "09456169185020192907"
     },
     "user_tz": -60
    },
    "id": "iytFRiY96hNq",
    "outputId": "db1df9e0-7df0-4f92-a0c7-2ca3241c13a9"
   },
   "outputs": [
    {
     "data": {
      "text/plain": [
       "(-4+2j)"
      ]
     },
     "execution_count": 11,
     "metadata": {},
     "output_type": "execute_result"
    }
   ],
   "source": [
    "(2+1j*4)*1j #1j is sqrt(-1)"
   ]
  },
  {
   "cell_type": "code",
   "execution_count": 12,
   "metadata": {
    "colab": {
     "base_uri": "https://localhost:8080/"
    },
    "executionInfo": {
     "elapsed": 2,
     "status": "ok",
     "timestamp": 1704638412516,
     "user": {
      "displayName": "vincent vigon",
      "userId": "09456169185020192907"
     },
     "user_tz": -60
    },
    "id": "UTNXqdfF6my_",
    "outputId": "f68bb270-a6b6-462d-bca3-e3adbd4c7a97"
   },
   "outputs": [
    {
     "data": {
      "text/plain": [
       "(-1+1.2246467991473532e-16j)"
      ]
     },
     "execution_count": 12,
     "metadata": {},
     "output_type": "execute_result"
    }
   ],
   "source": [
    "np.exp(1j*np.pi)"
   ]
  },
  {
   "cell_type": "markdown",
   "metadata": {
    "id": "oktFAf5ffYH8"
   },
   "source": [
    "***To you:*** $(1\\heartsuit)$ Why is there a non-zero imaginary part in the number above?"
   ]
  },
  {
   "cell_type": "markdown",
   "metadata": {
    "id": "9zUErlhW6-WY"
   },
   "source": [
    "### Practice"
   ]
  },
  {
   "cell_type": "code",
   "execution_count": 13,
   "metadata": {
    "id": "qhuh7EiNvP6K"
   },
   "outputs": [],
   "source": [
    "T=2\n",
    "t=np.linspace(0,T,200,endpoint=False)"
   ]
  },
  {
   "cell_type": "code",
   "execution_count": 14,
   "metadata": {
    "id": "-_Rbcute6vPW"
   },
   "outputs": [],
   "source": [
    "def compute_basis_exp(t,T,M):\n",
    "\n",
    "    basis=np.empty([2*M+1,nb_points],dtype=np.complex128)\n",
    "\n",
    "    for n in range(-M,M+1):\n",
    "        basis[n+M,:]=np.exp(+2*1j*np.pi*n*t/T)\n",
    "\n",
    "    return basis"
   ]
  },
  {
   "cell_type": "code",
   "execution_count": 15,
   "metadata": {
    "colab": {
     "base_uri": "https://localhost:8080/"
    },
    "executionInfo": {
     "elapsed": 2,
     "status": "ok",
     "timestamp": 1704638649022,
     "user": {
      "displayName": "vincent vigon",
      "userId": "09456169185020192907"
     },
     "user_tz": -60
    },
    "id": "wPTiQNIv7xI1",
    "outputId": "7c138ec0-93cd-43ec-dc7d-52ae421fe0f9"
   },
   "outputs": [
    {
     "ename": "NameError",
     "evalue": "name 'nb_points' is not defined",
     "output_type": "error",
     "traceback": [
      "\u001b[0;31m---------------------------------------------------------------------------\u001b[0m",
      "\u001b[0;31mNameError\u001b[0m                                 Traceback (most recent call last)",
      "Cell \u001b[0;32mIn[15], line 3\u001b[0m\n\u001b[1;32m      1\u001b[0m M\u001b[38;5;241m=\u001b[39m\u001b[38;5;241m5\u001b[39m\n\u001b[1;32m      2\u001b[0m N\u001b[38;5;241m=\u001b[39m\u001b[38;5;241m2\u001b[39m\u001b[38;5;241m*\u001b[39mM\u001b[38;5;241m+\u001b[39m\u001b[38;5;241m1\u001b[39m\n\u001b[0;32m----> 3\u001b[0m basis_expo\u001b[38;5;241m=\u001b[39mcompute_basis_exp(t,T,M)\n\u001b[1;32m      4\u001b[0m basis_expo\u001b[38;5;241m.\u001b[39mshape,basis_expo\u001b[38;5;241m.\u001b[39mdtype\n",
      "Cell \u001b[0;32mIn[14], line 3\u001b[0m, in \u001b[0;36mcompute_basis_exp\u001b[0;34m(t, T, M)\u001b[0m\n\u001b[1;32m      1\u001b[0m \u001b[38;5;28;01mdef\u001b[39;00m \u001b[38;5;21mcompute_basis_exp\u001b[39m(t,T,M):\n\u001b[0;32m----> 3\u001b[0m     basis\u001b[38;5;241m=\u001b[39mnp\u001b[38;5;241m.\u001b[39mempty([\u001b[38;5;241m2\u001b[39m\u001b[38;5;241m*\u001b[39mM\u001b[38;5;241m+\u001b[39m\u001b[38;5;241m1\u001b[39m,nb_points],dtype\u001b[38;5;241m=\u001b[39mnp\u001b[38;5;241m.\u001b[39mcomplex128)\n\u001b[1;32m      5\u001b[0m     \u001b[38;5;28;01mfor\u001b[39;00m n \u001b[38;5;129;01min\u001b[39;00m \u001b[38;5;28mrange\u001b[39m(\u001b[38;5;241m-\u001b[39mM,M\u001b[38;5;241m+\u001b[39m\u001b[38;5;241m1\u001b[39m):\n\u001b[1;32m      6\u001b[0m         basis[n\u001b[38;5;241m+\u001b[39mM,:]\u001b[38;5;241m=\u001b[39mnp\u001b[38;5;241m.\u001b[39mexp(\u001b[38;5;241m+\u001b[39m\u001b[38;5;241m2\u001b[39m\u001b[38;5;241m*\u001b[39m\u001b[38;5;241m1\u001b[39mj\u001b[38;5;241m*\u001b[39mnp\u001b[38;5;241m.\u001b[39mpi\u001b[38;5;241m*\u001b[39mn\u001b[38;5;241m*\u001b[39mt\u001b[38;5;241m/\u001b[39mT)\n",
      "\u001b[0;31mNameError\u001b[0m: name 'nb_points' is not defined"
     ]
    }
   ],
   "source": [
    "M=5\n",
    "N=2*M+1\n",
    "basis_expo=compute_basis_exp(t,T,M)\n",
    "basis_expo.shape,basis_expo.dtype"
   ]
  },
  {
   "cell_type": "code",
   "execution_count": null,
   "metadata": {
    "colab": {
     "base_uri": "https://localhost:8080/",
     "height": 1000
    },
    "executionInfo": {
     "elapsed": 6006,
     "status": "ok",
     "timestamp": 1704638655395,
     "user": {
      "displayName": "vincent vigon",
      "userId": "09456169185020192907"
     },
     "user_tz": -60
    },
    "id": "pZ3TCyUa728L",
    "outputId": "3ba5c5b0-d37a-4128-9b31-97ebcc0e6e2b"
   },
   "outputs": [],
   "source": [
    "fig,axs=plt.subplots(N,2,figsize=(8,N),sharex=True,sharey=True)\n",
    "\n",
    "for n in range(-M,M+1):\n",
    "    i=M+n\n",
    "    axs[i,0].plot(t,np.real(basis_expo[i,:]))\n",
    "    axs[i,1].plot(t,np.imag(basis_expo[i,:]))\n",
    "    axs[i,0].set_title(\"real part, n=%d\"%n)\n",
    "    axs[i,1].set_title(\"imag part, n=%d\"%n)\n",
    "\n",
    "fig.tight_layout()"
   ]
  },
  {
   "cell_type": "code",
   "execution_count": null,
   "metadata": {
    "id": "sSBOLant8gLV"
   },
   "outputs": [],
   "source": [
    "def her(f,g):\n",
    "    return np.sum(f*np.conj(g))/len(f)"
   ]
  },
  {
   "cell_type": "code",
   "execution_count": null,
   "metadata": {
    "id": "wSwCwmIzv5On"
   },
   "outputs": [],
   "source": [
    "decomposer_expo=Decomposer(t,basis_expo,her,dtype=np.complex128)"
   ]
  },
  {
   "cell_type": "code",
   "execution_count": null,
   "metadata": {
    "colab": {
     "base_uri": "https://localhost:8080/",
     "height": 1000
    },
    "executionInfo": {
     "elapsed": 1901,
     "status": "ok",
     "timestamp": 1704638662349,
     "user": {
      "displayName": "vincent vigon",
      "userId": "09456169185020192907"
     },
     "user_tz": -60
    },
    "id": "OrnrfLCSwlUS",
    "outputId": "5843f31c-845f-4c45-d3a2-bd1957150f93"
   },
   "outputs": [],
   "source": [
    "decomposer_expo.compute_approximations(t*(2-t)**2+1,[2,5,7,9,11],True);"
   ]
  },
  {
   "cell_type": "markdown",
   "metadata": {
    "id": "i3eop-iZ34Wh"
   },
   "source": [
    "***To you:***\n",
    "\n",
    "* $(2\\heartsuit)$ Can you explain why the orange curve is so far from the blue one in the first approximations? Help: read the next question.\n",
    "* $(1\\heartsuit)$ Imagine a better ordering of the basis to avoid this problem. Bonus: you can code it, and restart the `Decomposer` with you re-ordered basis."
   ]
  },
  {
   "cell_type": "markdown",
   "metadata": {
    "id": "xzfmBZHe4jxi"
   },
   "source": [
    "### Change of coordinates\n",
    "\n",
    "\n",
    "Every real signal $f$ can be writen in two differents ways: as combinaison of $(\\frac 1 {\\sqrt 2},\\cos_n,\\sin_n)$ or as a combinaison of $(e_n)$.\n",
    "\n",
    "\n",
    "To pass from one to the other decomposition, we can compute some change of coordinates:\n",
    "\n",
    "\n"
   ]
  },
  {
   "cell_type": "markdown",
   "metadata": {
    "id": "AxdnwaiogLqu"
   },
   "source": [
    "\n",
    "\n",
    "\n",
    "For $n > 0$:\n",
    "\n",
    "\\begin{align}\n",
    "\\alpha_n&=  {1\\over T} \\int f \\, \\bar e_n \\\\\n",
    "&= {1\\over T} \\int f \\, (\\cos_n - i \\sin_n) \\\\\n",
    "\\end{align}\n",
    "\n",
    "...\n"
   ]
  },
  {
   "cell_type": "markdown",
   "metadata": {
    "id": "B0nBom4kj8dp"
   },
   "source": [
    "\n",
    "***To you:*** $(1\\heartsuit)$ Complete the computation above for the cases $n>0$, $n < 0 $ and $n=0$.  \n",
    "\n",
    "***To you:*** $(2\\heartsuit)$ Find a formula in the other sens: exprime $(a_{n})$ according to $(\\alpha_n)$.  \n",
    "\n",
    "\n"
   ]
  },
  {
   "cell_type": "markdown",
   "metadata": {
    "id": "SWlsTHTJmXfp"
   },
   "source": [
    "***To you:*** $(1\\heartsuit)$  Under which condition on $f$ the exponential-Fourier coefficients are real.\n",
    "\n",
    "Help: We must see under which condition $\\Im(\\alpha_n)$ cancel. We have:\n",
    "$$\n",
    "\\Im(\\alpha_n) = \\frac 1 T \\int_0^T \\Im(f \\bar e_n)\n",
    "$$\n",
    "Write $f=g+ih$ (with $g,h$ real functions) and $\\bar e_n=\\cos_n - i\\sin_n$. Make the product, extract the imaginary part, and see the conditions.\n"
   ]
  },
  {
   "cell_type": "markdown",
   "metadata": {
    "id": "raEuBOajnMq-"
   },
   "source": []
  },
  {
   "cell_type": "markdown",
   "metadata": {
    "id": "in-51ept-xia"
   },
   "source": [
    "### Hermitian symetry\n",
    "\n",
    "\n",
    "***To you:*** Prove that, when $f$ is a real signal, their complex Fourier coefficients satisfy $\\alpha_{-n}=\\overline{\\alpha_n}$\n",
    "\n",
    "\n"
   ]
  },
  {
   "cell_type": "code",
   "execution_count": null,
   "metadata": {
    "id": "w_2T_AuA1LJq"
   },
   "outputs": [],
   "source": [
    "alpha=decomposer_expo.compute_coordinates(t*(2-t)**2+1)\n",
    "print(alpha)"
   ]
  },
  {
   "cell_type": "code",
   "execution_count": null,
   "metadata": {
    "colab": {
     "base_uri": "https://localhost:8080/",
     "height": 430
    },
    "executionInfo": {
     "elapsed": 396,
     "status": "ok",
     "timestamp": 1704638678661,
     "user": {
      "displayName": "vincent vigon",
      "userId": "09456169185020192907"
     },
     "user_tz": -60
    },
    "id": "4h-BJVw8AqGY",
    "outputId": "3581fc74-58be-4359-fbaa-146c2ba6eae1"
   },
   "outputs": [],
   "source": [
    "fig,axs=plt.subplots(2,1)\n",
    "axs[0].plot(np.real(alpha),'.')\n",
    "axs[1].plot(np.imag(alpha),'.');\n",
    "axs[1].set_xticks(range(0,N))\n",
    "axs[1].set_xticklabels(range(-M,M+1));"
   ]
  },
  {
   "cell_type": "code",
   "execution_count": null,
   "metadata": {
    "colab": {
     "base_uri": "https://localhost:8080/",
     "height": 430
    },
    "executionInfo": {
     "elapsed": 825,
     "status": "ok",
     "timestamp": 1704638681631,
     "user": {
      "displayName": "vincent vigon",
      "userId": "09456169185020192907"
     },
     "user_tz": -60
    },
    "id": "VH7upu8l6hME",
    "outputId": "429e77c6-36cf-4060-bd4e-3fd5ac841532"
   },
   "outputs": [],
   "source": [
    "fig,ax=plt.subplots()\n",
    "ax.plot(np.abs(alpha),'.');"
   ]
  },
  {
   "cell_type": "markdown",
   "metadata": {
    "id": "zOO8qnYr5CXG"
   },
   "source": [
    "### Spectrum\n",
    "\n",
    "Here we just give some important vocabulary.\n",
    "\n",
    "\n",
    "* The spectrum is simply the family of Fourier coefficients (=coordinates):\n",
    "$\n",
    "\\mathtt{spectrum}=(\\alpha_n)_{n\\in \\mathbb Z}\n",
    "$\n",
    "* The amplitude spectrum is the module of the spectrum:\n",
    "$\n",
    "\\mathtt{amplitude\\_spectrum}=( |\\alpha_n|)_{n\\in \\mathbb Z}\n",
    "$\n",
    "* When the signal is real, because of the hermitian symetry, we often consider only the half spectrums:\n",
    "$\n",
    "\\mathtt{half\\_spectrum}=(\\alpha_n)_{n\\in \\mathbb N}\n",
    "$\n",
    "* And is amplitude version:\n",
    "$\n",
    "\\mathtt{half\\_amplitude\\_spectrum}=(|\\alpha_n|)_{n\\in \\mathbb N}\n",
    "$\n",
    "* Because we work with a limited computer (what a pity), we only plot part of the spectrums, which are actually the spectrums of the approximations of the signals:\n",
    "$\n",
    "\\mathtt{truncated\\_spectrum}=(\\alpha_n)_{|n|\\leq M}\n",
    "$\n",
    "* And of course, we could use only a 'half' and 'amplitude' version of the truncated spectrum.\n",
    "\n",
    "\n",
    "***To you:*** $(2\\heartsuit)$ Plot the truncated version of the half-amplitude-spectrum of our signal. Help: modify the previous code.\n"
   ]
  },
  {
   "cell_type": "markdown",
   "metadata": {
    "id": "uCqIUuHfGzF0"
   },
   "source": [
    "## Exo: Signal filtering\n",
    "\n",
    "The two main applications of signals decompostion are:\n",
    "\n",
    "* Signal filtering: Every signal can be decompose into a sum of elementary waves (ex: sinCos) with given frequency. To filter a signal is to keep only a part of these waves:\n",
    "    * Low-pass filters suppress all waves with high frequencies\n",
    "    * High-pass filters suppress all waves with low frequencies\n",
    "    * Band-pass filters suppress all waves whose frequencies does not belong to a given band, ex: [50Hz,2000Hz]\n",
    "    \n",
    "* Signal compression: Actually it is the same as filtering: we keep only waves that are visible, and suppress others to compress.\n",
    "\n"
   ]
  },
  {
   "cell_type": "code",
   "execution_count": null,
   "metadata": {
    "id": "Tve73q3DNmvY"
   },
   "outputs": [],
   "source": [
    "\"\"\"Here is a noisy signal\"\"\"\n",
    "f_noisy=np.loadtxt(\"assets_signal/signalToFilter.txt\")"
   ]
  },
  {
   "cell_type": "code",
   "execution_count": null,
   "metadata": {
    "colab": {
     "base_uri": "https://localhost:8080/",
     "height": 432
    },
    "executionInfo": {
     "elapsed": 4,
     "status": "ok",
     "timestamp": 1704638785477,
     "user": {
      "displayName": "vincent vigon",
      "userId": "09456169185020192907"
     },
     "user_tz": -60
    },
    "id": "RRuEESuGH9z0",
    "outputId": "3e4588b3-5a69-4ec8-aad1-26bb3980da0c"
   },
   "outputs": [],
   "source": [
    "\"\"\"Its duration is 2 seconds\"\"\"\n",
    "T=2\n",
    "t=np.linspace(0,T,2000)\n",
    "plt.plot(t,f_noisy);"
   ]
  },
  {
   "cell_type": "markdown",
   "metadata": {
    "id": "b3rOTsWwwhx5"
   },
   "source": [
    "***To you:*** In this exercise, I ask you to not use the `Decomposer`. To write all formulas explicitly will help you to remember them. It is even beter to not use copy-past at all.\n",
    "\n",
    "* $(3\\heartsuit)$ Decompose the noisy signal in the sinCos basis. Be careful, this signal has some high frequencies (=noise).\n",
    "* $(2\\heartsuit)$ Make a nice plot of the amplitude-spectrum (truncated of course).\n",
    "* $(4\\heartsuit)$ Suppress the noise of this signal, keeping only one frequency. Plot this denoised signal, plot it togeter with its spectrum. Help: to make nice plot you can plot on the same window the signal dans its approximation. You can also put the original spectrum and the filtrered spectrum one over the other."
   ]
  },
  {
   "cell_type": "markdown",
   "metadata": {
    "id": "8im82WlIzbGm"
   },
   "source": [
    "## Perfect sampling"
   ]
  },
  {
   "cell_type": "markdown",
   "metadata": {
    "id": "aJtLkkVczhM0"
   },
   "source": [
    "### We were perfect!\n",
    "\n",
    "Perhaps something seemed you strange in all the previous code: Everywhere we have approximate the integrals by the rectangle method (a non-so-good method), but however, our basis function were perfectly orthogonal: the dot-products were exactly $0$ or $1$!\n",
    "\n",
    "Observe the following code to see the trick.\n"
   ]
  },
  {
   "cell_type": "code",
   "execution_count": null,
   "metadata": {
    "id": "imCn2QkS1keC"
   },
   "outputs": [],
   "source": [
    "T=2"
   ]
  },
  {
   "cell_type": "code",
   "execution_count": null,
   "metadata": {
    "id": "QQTNQhne2OVi"
   },
   "outputs": [],
   "source": [
    "t_perfect=np.linspace(0,T,100,endpoint=False)"
   ]
  },
  {
   "cell_type": "code",
   "execution_count": null,
   "metadata": {
    "id": "Tfw3wg0tJVuI"
   },
   "outputs": [],
   "source": [
    "basis_sc_perfect=compute_sinCos_basis(t_perfect,T,5)"
   ]
  },
  {
   "cell_type": "code",
   "execution_count": null,
   "metadata": {
    "colab": {
     "base_uri": "https://localhost:8080/"
    },
    "executionInfo": {
     "elapsed": 2,
     "status": "ok",
     "timestamp": 1704638799992,
     "user": {
      "displayName": "vincent vigon",
      "userId": "09456169185020192907"
     },
     "user_tz": -60
    },
    "id": "EEef0FaGz_Id",
    "outputId": "817e77e5-705a-4438-c71f-c4002a18e608"
   },
   "outputs": [],
   "source": [
    "decomposer_perfect=Decomposer(t_perfect,basis_sc_perfect,dot)\n",
    "decomposer_perfect.check_ortho()"
   ]
  },
  {
   "cell_type": "code",
   "execution_count": null,
   "metadata": {
    "colab": {
     "base_uri": "https://localhost:8080/",
     "height": 407
    },
    "executionInfo": {
     "elapsed": 911,
     "status": "ok",
     "timestamp": 1704638835434,
     "user": {
      "displayName": "vincent vigon",
      "userId": "09456169185020192907"
     },
     "user_tz": -60
    },
    "id": "37X1GmGs0kBM",
    "outputId": "27793d94-b99a-42e7-c03a-02bbeb5f0eb4"
   },
   "outputs": [],
   "source": [
    "decomposer_perfect.compute_approximations((t_perfect-1)**2,[5,11],True);"
   ]
  },
  {
   "cell_type": "code",
   "execution_count": null,
   "metadata": {
    "colab": {
     "base_uri": "https://localhost:8080/"
    },
    "executionInfo": {
     "elapsed": 367,
     "status": "ok",
     "timestamp": 1704638846114,
     "user": {
      "displayName": "vincent vigon",
      "userId": "09456169185020192907"
     },
     "user_tz": -60
    },
    "id": "UjzKp-pq0yNq",
    "outputId": "934a5127-ed38-44e3-d0eb-647b4964ae2e"
   },
   "outputs": [],
   "source": [
    "t_bad=np.linspace(0,T,100) #endpoint=True by default\n",
    "f_bad=(t_bad-1)**2\n",
    "print(t_bad)"
   ]
  },
  {
   "cell_type": "code",
   "execution_count": null,
   "metadata": {
    "id": "laf1stVc1zCz"
   },
   "outputs": [],
   "source": [
    "basis_sc_bad=compute_sinCos_basis(t_bad,T,5)"
   ]
  },
  {
   "cell_type": "code",
   "execution_count": null,
   "metadata": {
    "colab": {
     "base_uri": "https://localhost:8080/"
    },
    "executionInfo": {
     "elapsed": 427,
     "status": "ok",
     "timestamp": 1704638855211,
     "user": {
      "displayName": "vincent vigon",
      "userId": "09456169185020192907"
     },
     "user_tz": -60
    },
    "id": "O35ZrCVg167r",
    "outputId": "b67f9986-13fa-4987-a22d-d136856edc5d"
   },
   "outputs": [],
   "source": [
    "decomposer_bad=Decomposer(t_bad,basis_sc_bad,dot)\n",
    "decomposer_bad.check_ortho()"
   ]
  },
  {
   "cell_type": "code",
   "execution_count": null,
   "metadata": {
    "colab": {
     "base_uri": "https://localhost:8080/",
     "height": 407
    },
    "executionInfo": {
     "elapsed": 1116,
     "status": "ok",
     "timestamp": 1704638862227,
     "user": {
      "displayName": "vincent vigon",
      "userId": "09456169185020192907"
     },
     "user_tz": -60
    },
    "id": "HQ2luJKZ4DId",
    "outputId": "faa54241-b870-4584-9e49-211a365c0102"
   },
   "outputs": [],
   "source": [
    "decomposer_bad.compute_approximations(f_bad,[5,11],True);"
   ]
  },
  {
   "cell_type": "markdown",
   "metadata": {
    "id": "shZBDqMv4dp3"
   },
   "source": [
    "Explanation: To be perfect: you must discretize $[0,T]$ regularly but without adding the point $T$!. It is quite intuivive: When you prolongate periodically the functions, the point $T$ is equivalent to the point $0$, so it is better to not add it as a discretisation point.\n",
    "\n",
    "When you make the perfect discretization,  the elements of the sinCos family becomes vectors that are exactly orthogonals according to the discrete dot-product which is:\n",
    "$$\n",
    "\\mathtt{dot_{dis}}(f,g) =\\frac 1N \\sum_{n} f(x_n) g(x_n)\n",
    "$$\n",
    "where $x_n$ are the discretisation points.\n",
    "\n",
    "\n",
    "To work directly with orthogonals vectors, and not with continuous-time functions, is the basic principle of the discrete Fourier decomposition that we will see in the next chapter.\n",
    "\n",
    "When you use an non-perfect discretization, the sinCos becomes only almots-orthogonal, and the approximations are worse."
   ]
  },
  {
   "cell_type": "markdown",
   "metadata": {
    "id": "dz33Aeam6epM"
   },
   "source": [
    "## Défi prog: Orthogonal polynomials $\\flat$\n",
    "\n",
    "We finish by an example, that show that there are others orthogonal basis. Legendre polynomials are often use in numerical analysis to make numerical integration: the idea is to approach function by polynomial (as we did with sinCos), and then to compute the integral exactly (because it is easy to extract the primitive of a polynomial).\n",
    "\n",
    "But we will see is really more complicated to get a perfect discretisation of the Legendre basis.\n",
    "\n",
    "\n",
    "***Definition:*** Legendre polynomials are defined on $[-1,+1]$ recursivly by:\n",
    "\\begin{align*}\n",
    "n P_n(x)&=  (2n-1) x P_{n-1}(x)- (n-1) P_{n-2}(x)\\\\\n",
    "P_0&=1\\\\\n",
    "P_1&=x\n",
    "\\end{align*}\n",
    "\n",
    "They are orthogonal with respect to the dot-product:\n",
    "$$\n",
    "\\mathtt{dot} (f,g) = \\int_{-1}^{+1} f(x)g(x) \\, dx\n",
    "$$\n",
    "\n",
    "\n",
    "To make a perfect discretization of $(P_0,...,P_n)$, we need to consider some special points: the Gauss-points which are the roots of $P_{n+1}$. Let us denote by$(x_0,...,x_n)$ these points. The discrtised family $(P_0,...,P_n)$ is orthogonal with respect to the discrete weighted dot-product:\n",
    "$$\n",
    "\\mathtt{dot_{dis}} (f,g) = \\sum_{i=0}^n w_i f(x_i) g(x_i)\n",
    "$$\n",
    "where $w_i$ are some weights.\n",
    "\n"
   ]
  },
  {
   "cell_type": "markdown",
   "metadata": {
    "id": "8yYjA7P71bW8"
   },
   "source": [
    "Next we get the Gauss points and the corresponding weights from `scipy`:"
   ]
  },
  {
   "cell_type": "code",
   "execution_count": null,
   "metadata": {
    "colab": {
     "base_uri": "https://localhost:8080/",
     "height": 469
    },
    "executionInfo": {
     "elapsed": 480,
     "status": "ok",
     "timestamp": 1704638870328,
     "user": {
      "displayName": "vincent vigon",
      "userId": "09456169185020192907"
     },
     "user_tz": -60
    },
    "id": "WZ2nVFbE79-P",
    "outputId": "614a9468-b059-4801-d822-6ede3bc04e00"
   },
   "outputs": [],
   "source": [
    "import scipy.special as spe\n",
    "\n",
    "degreeMax=19\n",
    "''' the working interval is [-1,1], we cut it into nbStep points'''\n",
    "nbStep=50\n",
    "\"\"\" The Gauss point, and their associated weights\"\"\"\n",
    "x, w, _ = spe.roots_legendre(nbStep, True)\n",
    "print(\"discrétisation:\",x)\n",
    "\n",
    "plt.plot(x, w, '.');"
   ]
  },
  {
   "cell_type": "markdown",
   "metadata": {
    "id": "UGQvW-HI2AEK"
   },
   "source": [
    "***To you:*** Let's define the legendre basis, sampled at the gauss points `x`. Stack them in the rows of a matrix `basis`. We you plot them you will optain such a result:\n",
    "\n",
    "    for i in range(len(basis)):\n",
    "        plt.plot(x,basis[i,:])"
   ]
  },
  {
   "cell_type": "markdown",
   "metadata": {
    "id": "AWPfqC541zd3"
   },
   "source": [
    "![legendre_poly.png](data:image/png;base64,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)"
   ]
  },
  {
   "cell_type": "markdown",
   "metadata": {
    "id": "EtobhkYYDo-w"
   },
   "source": [
    "***To you:*** Compute all the dot products. Bonus: make this without loop, juste with matricial products `@`. Hint: to weights the sum, use the following diagonal matrix:\n",
    "\n",
    "    W=np.diag(w)\n",
    "\n",
    "\n"
   ]
  },
  {
   "cell_type": "markdown",
   "metadata": {
    "id": "kHdP1k9X3FVt"
   },
   "source": [
    "You must have remark that the legendre family is orthogonal but not orthonormal. So define a new matrix `basisNor` whose lignes are orthonormal vectors for our special dot product."
   ]
  },
  {
   "cell_type": "markdown",
   "metadata": {
    "id": "AOEL71GG3wwi"
   },
   "source": [
    "As usual, for all following points, make  plots.\n",
    "\n",
    "* compute the approximation of the vector `y = np.sqrt(np.abs(x))` as a linear combinaison of legendre polynomials.\n",
    "\n",
    "* find an other vector where the gipps phenomenon is visible.\n",
    "\n",
    "* Observe the case where the number of element of the basis is equal to the number of discretisation points. Ex: `degreeMax=19` and `nbStep=20`."
   ]
  },
  {
   "cell_type": "markdown",
   "metadata": {
    "id": "WJBN0gvWEgR1"
   },
   "source": [
    "## Hilbertian theory $\\flat$\n",
    "\n",
    "Here is a more theoretical part. But howerver, very simple (trust me)."
   ]
  },
  {
   "cell_type": "markdown",
   "metadata": {
    "id": "lnf4sGYb-6HP"
   },
   "source": [
    "### Hilbertian basis\n",
    "\n",
    "\n",
    "If you consider that signal are square integrable function on $[0,T]$, then the sinCos-wave-basis or exponential-wave-basis are Hilbertian basis, which means that the approximations converge in $L_2$ norm.\n",
    "\n",
    "\n",
    "\n",
    "\n",
    "\n",
    "* Denote by $L_2([0,T]\\to \\mathbb C)$ the set of functions from $[0,T]$ to $\\mathbb C$ which are square integrable. For every $f$ in this space:\n",
    "$$\n",
    "\\| \\sum_{n=-M}^M \\mathtt{her}(f,e_n)\\, e_n   -   f  \\| \\to 0\n",
    "$$\n",
    "with $\\|g\\|^2=\\mathtt{her}(g,g)$.\n",
    "\n",
    "\n",
    "* Denote by $L_2([0,T]\\to \\mathbb R)$ the set of functions from $[0,T]$ to $\\mathbb R$ which are square integrable. For every $f$ in this space:\n",
    "$$\n",
    "\\| \\sum_{n=0}^N \\mathtt{dot}(f,sc_n)\\, sc_n   -   f  \\| \\to 0\n",
    "$$\n",
    "with $\\|g\\|^2=\\mathtt{dot}(g,g)$.\n",
    "\n",
    "* Actually, the second point above is also true for function $f \\in L_2([0,T]\\to \\mathbb C)$: you just have to add a conjugaison in the dot-product to change it on an hermitian product: $\\mathtt{dot}(f,g)= \\frac 2T \\int_0^T f \\bar g$."
   ]
  },
  {
   "cell_type": "markdown",
   "metadata": {
    "id": "1BabRD8E03U8"
   },
   "source": [
    "### Fourier transform as an isometry\n",
    "\n",
    "\n",
    "\n",
    "Let us change  notations  for Fourier coefficients:\n",
    "* $\\mathbb F_{sc}[f]_n =\\mathtt{dot}(f,sc_n)$\n",
    "* $\\mathbb F_{e}[f]_n = \\mathtt{her}(f,e_n)$\n",
    "\n",
    "\n",
    "It is interesant to considere the applications that, to a function, associate the Fourier coefs (=the spectrum).\n",
    "\n",
    "* $f\\to \\mathbb F_{sc}[f]$ is a bijection from $L_2([0,T]\\to \\mathbb R)$ to $\\ell_2(\\mathbb N \\to \\mathbb R)$\n",
    "* $f\\to \\mathbb F_{e}[f]$ is a bijection from $L_2([0,T]\\to \\mathbb C)$ to $\\ell_2(\\mathbb Z \\to \\mathbb C)$\n",
    "\n",
    "But also:\n",
    "* $f\\to \\mathbb F_{e}[f]$ is a bijection from $L_2([0,T]\\to \\mathbb R)$ to the set of the hermitian elements of $\\ell_2(\\mathbb Z \\to \\mathbb C)$.\n",
    "\n",
    "\n",
    "\n",
    "And we have these Plancherel-Parseval identities:\n",
    "$$\n",
    "\\mathtt{dot}(f,g) = \\sum_{n\\in \\mathbb N} \\mathbb F_{sc}[f]_n \\,  \\mathbb F_{sc}[g]_n\n",
    "$$\n",
    "$$\n",
    "\\mathtt{her}(f,g) = \\sum_{n\\in \\mathbb Z} \\mathbb F_{e}[f]_n \\,  \\mathbb F_{e}[g]_n  \n",
    "$$\n",
    "which indicates that both $\\mathbb  F$ are $L_2$-isometries.\n",
    "\n",
    "***To you:***\n",
    "* $(1\\heartsuit)$ Correct the small mistake in one of the equation above.\n",
    "*  $(2\\heartsuit)$ Prove them. Help: it is just a consquence of the orthonormality. To be rigourous, you must also invocate the continuity of the dot and hermitian products.\n",
    "\n",
    "***To you:*** Considere an approximation $f_{fitred}$ of the signal $f$ make by suppressing some term in the sinCos-Fourier serie. Ex:\n",
    "\n",
    "* You keep only cosinus\n",
    "* You keep only sinus\n",
    "* You keep only low frequencies waves\n",
    "* You keep only high frequencies waves\n",
    "* You suppress the constant term\n",
    "* etc.\n",
    "\n",
    "How can you define $f_{fitred}$ in term of projection $(2\\heartsuit)$?\n",
    "\n"
   ]
  },
  {
   "cell_type": "markdown",
   "metadata": {
    "id": "ygT5N3O7E7oS"
   },
   "source": [
    "### Energy of a signal\n",
    "\n",
    "\n",
    "The mean energy of a signal $f$ si define by\n",
    "$$\n",
    "E(f)=\\frac 1 T \\int_0^T |f'(t)|^2\\, dt\n",
    "$$\n",
    "\n",
    "\n",
    "\n",
    "***To you:***\n",
    "* Which is the energy of a wave $e_n$?\n",
    "* Which is the energy of a signal $f$ (expressed from its exponential-Fourier coef)?\n",
    "* Does a low-pitched sound (grave) is more energetic than  an high-piched sound (=aigu)?\n",
    "* Try to express the energy directly in term of exponential-Fourier-coefficients (a similar formula exists for sinCos-Fourier-coef of course).\n",
    "\n",
    "\n",
    "\n",
    "\n",
    "***Remark:*** In most of signal books,  the ernergy is simply defined as $\\int_0^T |f(t)|^2\\, dt$ (no derivation). But it depends of the physical meaning of $f$. Ex: if it is a pressure:  with constant pressure, you cannot produce energy at all, so the energy formula must incorporate the derivation of the signal.\n",
    "\n"
   ]
  },
  {
   "cell_type": "markdown",
   "metadata": {
    "id": "S05v1btkklNn"
   },
   "source": [
    "### Correction\n",
    "\n",
    "Commençons par calculer l'énergie moyenne d'une vaguellette élémentaire:\n",
    "\n",
    "$$\n",
    "E(e_n)=\\frac 1 T \\int_0^T |e_n'(t)|^2\\, dt  = ...\n",
    "$$\n",
    "\n",
    "\n"
   ]
  },
  {
   "cell_type": "markdown",
   "metadata": {
    "id": "GNHz1eDllWiP"
   },
   "source": [
    "\n",
    "Passons maintenant au cas général:\n",
    "\n",
    "En utilisant le fait que Fourier est une isométrie:\n",
    "$$\n",
    "\\frac 1 T \\int_0^T |f'|^2 = \\sum_n |\\alpha_n(f')|^2\n",
    "$$\n",
    "\n",
    "\n",
    "\n",
    "Par ailleurs:\n",
    "$$\n",
    "\\alpha_n(f') = \\frac 1 T \\int_0^T f' \\bar e_n = ...\n",
    "$$\n",
    "\n"
   ]
  },
  {
   "cell_type": "code",
   "execution_count": null,
   "metadata": {
    "id": "qQmKv-cuZQIU"
   },
   "outputs": [],
   "source": []
  }
 ],
 "metadata": {
  "colab": {
   "authorship_tag": "ABX9TyM6QPiSGIrGa3l3nr1RnkSm",
   "provenance": []
  },
  "kernelspec": {
   "display_name": "myconda",
   "language": "python",
   "name": "python3"
  },
  "language_info": {
   "codemirror_mode": {
    "name": "ipython",
    "version": 3
   },
   "file_extension": ".py",
   "mimetype": "text/x-python",
   "name": "python",
   "nbconvert_exporter": "python",
   "pygments_lexer": "ipython3",
   "version": "3.11.10"
  }
 },
 "nbformat": 4,
 "nbformat_minor": 0
}
