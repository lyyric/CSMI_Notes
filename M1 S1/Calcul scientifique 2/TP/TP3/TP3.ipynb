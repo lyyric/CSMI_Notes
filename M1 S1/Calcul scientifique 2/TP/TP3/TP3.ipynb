{
 "cells": [
  {
   "cell_type": "markdown",
   "metadata": {},
   "source": [
    "## TP 3 : Méthode de Lanczos"
   ]
  },
  {
   "cell_type": "code",
   "execution_count": 1,
   "metadata": {},
   "outputs": [],
   "source": [
    "import numpy as np  \n",
    "import scipy as sp  \n",
    "import scipy.sparse as spsp  \n",
    "import scipy.sparse.linalg as spsplin  "
   ]
  },
  {
   "cell_type": "markdown",
   "metadata": {},
   "source": [
    "### Partie 1. (Lanczos)"
   ]
  },
  {
   "cell_type": "markdown",
   "metadata": {},
   "source": [
    "1. 编写函数 `iter_Arnoldi_sym(A, v, vold, beta)`"
   ]
  },
  {
   "cell_type": "markdown",
   "metadata": {},
   "source": [
    "该函数用于执行对称矩阵的 Lanczos 迭代。根据给定的向量 $v_p$、$v_{p-1}$ 和标量 $\\beta_{p-1}$，更新 $v_{p+1}$、$v_p$，并返回 $\\beta_p$ 和 $\\alpha_p$。"
   ]
  },
  {
   "cell_type": "code",
   "execution_count": 2,
   "metadata": {},
   "outputs": [],
   "source": [
    "def iter_Arnoldi_sym(A, v, vold, beta):\n",
    "    \"\"\"\n",
    "    执行对称矩阵的 Lanczos 迭代。\n",
    "\n",
    "    参数：\n",
    "    A    -- 对称矩阵，形状为 (n, n)\n",
    "    v    -- 当前向量 v_p，形状为 (n,)\n",
    "    vold -- 前一个向量 v_{p-1}，形状为 (n,)\n",
    "    beta -- 前一个标量 β_{p-1}\n",
    "\n",
    "    返回：\n",
    "    v_new    -- 更新后的向量 v_{p+1}\n",
    "    vold_new -- 更新后的向量 v_p\n",
    "    beta_new -- 新的标量 β_p\n",
    "    alpha    -- 标量 α_p\n",
    "    \"\"\"\n",
    "    w = A @ v\n",
    "    alpha = np.dot(w, v)\n",
    "    w = w - alpha * v - beta * vold\n",
    "    beta_new = np.linalg.norm(w)\n",
    "    if beta_new != 0:\n",
    "        v_new = w / beta_new\n",
    "    else:\n",
    "        v_new = w\n",
    "    vold_new = v\n",
    "    return v_new, vold_new, beta_new, alpha"
   ]
  },
  {
   "cell_type": "markdown",
   "metadata": {},
   "source": [
    "**解释：**\n",
    "\n",
    "- **`w = A @ v`**：计算 $w_p = Av_p$。\n",
    "- **`alpha = np.dot(w, v)`**：计算 $\\alpha_p = (w_p, v_p)$。\n",
    "- **`w = w - alpha * v - beta * vold`**：更新 $w_p$。\n",
    "- **`beta_new = np.linalg.norm(w)`**：计算 $\\beta_p = \\|w_p\\|$。\n",
    "- **`v_new = w / beta_new`**：归一化得到 $v_{p+1}$。\n",
    "- **处理 $\\beta_p = 0$ 的情况**：避免除以零。"
   ]
  },
  {
   "cell_type": "markdown",
   "metadata": {},
   "source": [
    "2. 编写函数 `Lanczos(A, nbiter)`"
   ]
  },
  {
   "cell_type": "markdown",
   "metadata": {},
   "source": [
    "该函数从矩阵 $A$ 和迭代次数 $nbiter$ 出发，执行 Lanczos 算法，并返回每次迭代得到的 Ritz 值。"
   ]
  },
  {
   "cell_type": "code",
   "execution_count": 3,
   "metadata": {},
   "outputs": [],
   "source": [
    "def Lanczos(A, nbiter):\n",
    "    \"\"\"\n",
    "    使用 Lanczos 算法计算对称矩阵的 Ritz 值。\n",
    "\n",
    "    参数：\n",
    "    A      -- 对称矩阵，形状为 (n, n)\n",
    "    nbiter -- 迭代次数\n",
    "\n",
    "    返回：\n",
    "    eigval -- 大小为 (nbiter, n) 的数组，每行包含对应迭代的 Ritz 值\n",
    "    \"\"\"\n",
    "    n = A.shape[0]\n",
    "    eigval = np.zeros((nbiter, n))\n",
    "    v = np.random.rand(n)\n",
    "    v = v / np.linalg.norm(v)\n",
    "    vold = np.zeros(n)\n",
    "    beta = 0.0\n",
    "    alphas = []\n",
    "    betas = []\n",
    "    for p in range(nbiter):\n",
    "        v, vold, beta, alpha = iter_Arnoldi_sym(A, v, vold, beta)\n",
    "        alphas.append(alpha)\n",
    "        betas.append(beta)\n",
    "        # 构造三对角矩阵 T_p\n",
    "        T_p = np.diag(alphas) + np.diag(betas[:-1], k=1) + np.diag(betas[:-1], k=-1)\n",
    "        # 计算 Ritz 值\n",
    "        eigvals_Tp = np.linalg.eigvalsh(T_p)\n",
    "        eigvals_Tp_sorted = np.sort(eigvals_Tp)\n",
    "        # 将 Ritz 值存入数组\n",
    "        eigval[p, :len(eigvals_Tp_sorted)] = eigvals_Tp_sorted\n",
    "    return eigval"
   ]
  },
  {
   "cell_type": "markdown",
   "metadata": {},
   "source": [
    "**解释：**\n",
    "\n",
    "- **初始化**：随机生成单位向量 $v_0$，并设置 $\\beta_{-1} = 0$、$v_{-1} = 0$。\n",
    "- **循环迭代**：在每次迭代中，调用 `iter_Arnoldi_sym` 更新向量和标量，并存储 $\\alpha_p$ 和 $\\beta_p$。\n",
    "- **构造矩阵 $T_p$**：使用存储的 $\\alpha$ 和 $\\beta$ 构造对称三对角矩阵。\n",
    "- **计算 Ritz 值**：对 $T_p$ 求特征值，并按升序排序。\n",
    "- **存储结果**：将每次迭代得到的 Ritz 值存入 `eigval` 数组。"
   ]
  },
  {
   "cell_type": "markdown",
   "metadata": {},
   "source": [
    "3. 测试程序"
   ]
  },
  {
   "cell_type": "markdown",
   "metadata": {},
   "source": [
    "在给定矩阵上测试上述函数。"
   ]
  },
  {
   "cell_type": "code",
   "execution_count": 4,
   "metadata": {},
   "outputs": [
    {
     "name": "stderr",
     "output_type": "stream",
     "text": [
      "/opt/anaconda3/lib/python3.10/site-packages/IPython/core/pylabtools.py:152: UserWarning: Glyph 35823 (\\N{CJK UNIFIED IDEOGRAPH-8BEF}) missing from current font.\n",
      "  fig.canvas.print_figure(bytes_io, **kw)\n",
      "/opt/anaconda3/lib/python3.10/site-packages/IPython/core/pylabtools.py:152: UserWarning: Glyph 24046 (\\N{CJK UNIFIED IDEOGRAPH-5DEE}) missing from current font.\n",
      "  fig.canvas.print_figure(bytes_io, **kw)\n",
      "/opt/anaconda3/lib/python3.10/site-packages/IPython/core/pylabtools.py:152: UserWarning: Glyph 23545 (\\N{CJK UNIFIED IDEOGRAPH-5BF9}) missing from current font.\n",
      "  fig.canvas.print_figure(bytes_io, **kw)\n",
      "/opt/anaconda3/lib/python3.10/site-packages/IPython/core/pylabtools.py:152: UserWarning: Glyph 25968 (\\N{CJK UNIFIED IDEOGRAPH-6570}) missing from current font.\n",
      "  fig.canvas.print_figure(bytes_io, **kw)\n",
      "/opt/anaconda3/lib/python3.10/site-packages/IPython/core/pylabtools.py:152: UserWarning: Glyph 23610 (\\N{CJK UNIFIED IDEOGRAPH-5C3A}) missing from current font.\n",
      "  fig.canvas.print_figure(bytes_io, **kw)\n",
      "/opt/anaconda3/lib/python3.10/site-packages/IPython/core/pylabtools.py:152: UserWarning: Glyph 24230 (\\N{CJK UNIFIED IDEOGRAPH-5EA6}) missing from current font.\n",
      "  fig.canvas.print_figure(bytes_io, **kw)\n",
      "/opt/anaconda3/lib/python3.10/site-packages/IPython/core/pylabtools.py:152: UserWarning: Glyph 20540 (\\N{CJK UNIFIED IDEOGRAPH-503C}) missing from current font.\n",
      "  fig.canvas.print_figure(bytes_io, **kw)\n",
      "/opt/anaconda3/lib/python3.10/site-packages/IPython/core/pylabtools.py:152: UserWarning: Glyph 25910 (\\N{CJK UNIFIED IDEOGRAPH-6536}) missing from current font.\n",
      "  fig.canvas.print_figure(bytes_io, **kw)\n",
      "/opt/anaconda3/lib/python3.10/site-packages/IPython/core/pylabtools.py:152: UserWarning: Glyph 25947 (\\N{CJK UNIFIED IDEOGRAPH-655B}) missing from current font.\n",
      "  fig.canvas.print_figure(bytes_io, **kw)\n",
      "/opt/anaconda3/lib/python3.10/site-packages/IPython/core/pylabtools.py:152: UserWarning: Glyph 36845 (\\N{CJK UNIFIED IDEOGRAPH-8FED}) missing from current font.\n",
      "  fig.canvas.print_figure(bytes_io, **kw)\n",
      "/opt/anaconda3/lib/python3.10/site-packages/IPython/core/pylabtools.py:152: UserWarning: Glyph 20195 (\\N{CJK UNIFIED IDEOGRAPH-4EE3}) missing from current font.\n",
      "  fig.canvas.print_figure(bytes_io, **kw)\n",
      "/opt/anaconda3/lib/python3.10/site-packages/IPython/core/pylabtools.py:152: UserWarning: Glyph 27425 (\\N{CJK UNIFIED IDEOGRAPH-6B21}) missing from current font.\n",
      "  fig.canvas.print_figure(bytes_io, **kw)\n",
      "/opt/anaconda3/lib/python3.10/site-packages/IPython/core/pylabtools.py:152: UserWarning: Glyph 26368 (\\N{CJK UNIFIED IDEOGRAPH-6700}) missing from current font.\n",
      "  fig.canvas.print_figure(bytes_io, **kw)\n",
      "/opt/anaconda3/lib/python3.10/site-packages/IPython/core/pylabtools.py:152: UserWarning: Glyph 22823 (\\N{CJK UNIFIED IDEOGRAPH-5927}) missing from current font.\n",
      "  fig.canvas.print_figure(bytes_io, **kw)\n",
      "/opt/anaconda3/lib/python3.10/site-packages/IPython/core/pylabtools.py:152: UserWarning: Glyph 29305 (\\N{CJK UNIFIED IDEOGRAPH-7279}) missing from current font.\n",
      "  fig.canvas.print_figure(bytes_io, **kw)\n",
      "/opt/anaconda3/lib/python3.10/site-packages/IPython/core/pylabtools.py:152: UserWarning: Glyph 24449 (\\N{CJK UNIFIED IDEOGRAPH-5F81}) missing from current font.\n",
      "  fig.canvas.print_figure(bytes_io, **kw)\n",
      "/opt/anaconda3/lib/python3.10/site-packages/IPython/core/pylabtools.py:152: UserWarning: Glyph 23567 (\\N{CJK UNIFIED IDEOGRAPH-5C0F}) missing from current font.\n",
      "  fig.canvas.print_figure(bytes_io, **kw)\n"
     ]
    },
    {
     "data": {
      "image/png": "[encoded data removed]",
      "text/plain": [
       "<Figure size 1000x600 with 1 Axes>"
      ]
     },
     "metadata": {},
     "output_type": "display_data"
    },
    {
     "name": "stdout",
     "output_type": "stream",
     "text": [
      "矩阵的条件数为: 93.23038565290287\n"
     ]
    }
   ],
   "source": [
    "import scipy.sparse as spsp\n",
    "import matplotlib.pyplot as plt\n",
    "\n",
    "# 定义矩阵参数\n",
    "d = 10\n",
    "n = d**2\n",
    "nbiter = 40\n",
    "\n",
    "# 构造矩阵 A\n",
    "A = spsp.diags(\n",
    "    [[4.]*n, [-1]*(n-1), [-1]*(n-1), [-1]*(n-d), [-1]*(n-d)],\n",
    "    [0, 1, -1, d, -d]\n",
    ").toarray()\n",
    "\n",
    "# 计算精确特征值\n",
    "exact_eigvals = np.linalg.eigvalsh(A)\n",
    "exact_eigvals_sorted = np.sort(exact_eigvals)\n",
    "largest_eigval = exact_eigvals_sorted[-1]\n",
    "smallest_eigval = exact_eigvals_sorted[0]\n",
    "\n",
    "# 执行 Lanczos 算法\n",
    "eigvals = Lanczos(A, nbiter)\n",
    "\n",
    "# 提取每次迭代的最大和最小 Ritz 值\n",
    "largest_ritz = np.array([eigvals[i, i] for i in range(nbiter)])\n",
    "smallest_ritz = np.array([eigvals[i, 0] for i in range(nbiter)])\n",
    "\n",
    "# 计算误差\n",
    "error_max = np.abs(largest_eigval - largest_ritz)\n",
    "error_min = np.abs(smallest_eigval - smallest_ritz)\n",
    "\n",
    "# 绘制误差的对数图\n",
    "plt.figure(figsize=(10, 6))\n",
    "plt.semilogy(range(1, nbiter+1), error_max, label='最大特征值误差')\n",
    "plt.semilogy(range(1, nbiter+1), error_min, label='最小特征值误差')\n",
    "plt.xlabel('迭代次数')\n",
    "plt.ylabel('误差 (对数尺度)')\n",
    "plt.title('Ritz 值收敛误差')\n",
    "plt.legend()\n",
    "plt.grid(True)\n",
    "plt.show()\n",
    "\n",
    "# 估计条件数\n",
    "condition_number = np.abs(largest_eigval / smallest_eigval)\n",
    "print(f\"矩阵的条件数为: {condition_number}\")"
   ]
  },
  {
   "cell_type": "markdown",
   "metadata": {},
   "source": [
    "**结果与分析：**\n",
    "\n",
    "- **收敛性**：图像显示，最大的 Ritz 值逐渐收敛到矩阵的最大特征值，最小的 Ritz 值也收敛到最小特征值。\n",
    "- **条件数**：通过最大和最小特征值计算得到矩阵的条件数。"
   ]
  },
  {
   "cell_type": "markdown",
   "metadata": {},
   "source": [
    "4. 补充任务：显示所有 Ritz 值的演化"
   ]
  },
  {
   "cell_type": "code",
   "execution_count": 5,
   "metadata": {},
   "outputs": [
    {
     "name": "stderr",
     "output_type": "stream",
     "text": [
      "/opt/anaconda3/lib/python3.10/site-packages/IPython/core/pylabtools.py:152: UserWarning: Glyph 30340 (\\N{CJK UNIFIED IDEOGRAPH-7684}) missing from current font.\n",
      "  fig.canvas.print_figure(bytes_io, **kw)\n",
      "/opt/anaconda3/lib/python3.10/site-packages/IPython/core/pylabtools.py:152: UserWarning: Glyph 28436 (\\N{CJK UNIFIED IDEOGRAPH-6F14}) missing from current font.\n",
      "  fig.canvas.print_figure(bytes_io, **kw)\n",
      "/opt/anaconda3/lib/python3.10/site-packages/IPython/core/pylabtools.py:152: UserWarning: Glyph 21270 (\\N{CJK UNIFIED IDEOGRAPH-5316}) missing from current font.\n",
      "  fig.canvas.print_figure(bytes_io, **kw)\n"
     ]
    },
    {
     "data": {
      "image/png": "[encoded data removed]",
      "text/plain": [
       "<Figure size 1000x600 with 1 Axes>"
      ]
     },
     "metadata": {},
     "output_type": "display_data"
    }
   ],
   "source": [
    "# 绘制所有 Ritz 值的演化\n",
    "plt.figure(figsize=(10, 6))\n",
    "for i in range(nbiter):\n",
    "    plt.plot([i+1]*len(eigvals[i, :i+1]), eigvals[i, :i+1], 'bo')\n",
    "plt.xlabel('迭代次数')\n",
    "plt.ylabel('Ritz 值')\n",
    "plt.title('Ritz 值的演化')\n",
    "plt.grid(True)\n",
    "plt.show()"
   ]
  },
  {
   "cell_type": "markdown",
   "metadata": {},
   "source": [
    "**观察：**\n",
    "\n",
    "- **Ritz 值的分布**：随着迭代次数的增加，Ritz 值逐渐逼近矩阵的特征值。\n",
    "- **对称性**：对于此类矩阵，迭代次数为 $p$ 时，前 $(p+1)/2$ 个最大的特征值和后 $(p+1)/2$ 个最小的特征值得到更好的近似。"
   ]
  },
  {
   "cell_type": "markdown",
   "metadata": {},
   "source": [
    "5. 考虑矩阵 B，观察“伪特征值”现象"
   ]
  },
  {
   "cell_type": "code",
   "execution_count": 6,
   "metadata": {},
   "outputs": [
    {
     "name": "stderr",
     "output_type": "stream",
     "text": [
      "/opt/anaconda3/lib/python3.10/site-packages/IPython/core/pylabtools.py:152: UserWarning: Glyph 30697 (\\N{CJK UNIFIED IDEOGRAPH-77E9}) missing from current font.\n",
      "  fig.canvas.print_figure(bytes_io, **kw)\n",
      "/opt/anaconda3/lib/python3.10/site-packages/IPython/core/pylabtools.py:152: UserWarning: Glyph 38453 (\\N{CJK UNIFIED IDEOGRAPH-9635}) missing from current font.\n",
      "  fig.canvas.print_figure(bytes_io, **kw)\n",
      "/opt/anaconda3/lib/python3.10/site-packages/IPython/core/pylabtools.py:152: UserWarning: Glyph 31532 (\\N{CJK UNIFIED IDEOGRAPH-7B2C}) missing from current font.\n",
      "  fig.canvas.print_figure(bytes_io, **kw)\n",
      "/opt/anaconda3/lib/python3.10/site-packages/IPython/core/pylabtools.py:152: UserWarning: Glyph 20108 (\\N{CJK UNIFIED IDEOGRAPH-4E8C}) missing from current font.\n",
      "  fig.canvas.print_figure(bytes_io, **kw)\n"
     ]
    },
    {
     "data": {
      "image/png": "[encoded data removed]",
      "text/plain": [
       "<Figure size 1000x600 with 1 Axes>"
      ]
     },
     "metadata": {},
     "output_type": "display_data"
    }
   ],
   "source": [
    "# 构造矩阵 B\n",
    "L = np.concatenate((np.arange(0, 2.0, 0.01), [2.0, 2.5, 3.0]))\n",
    "B = spsp.diags(L, 0, dtype='float64').toarray()\n",
    "\n",
    "# 执行 Lanczos 算法\n",
    "nbiter_B = 50\n",
    "eigvals_B = Lanczos(B, nbiter_B)\n",
    "\n",
    "# 提取每次迭代的最大两个 Ritz 值\n",
    "largest_ritz_B = eigvals_B[:, -1]\n",
    "second_largest_ritz_B = eigvals_B[:, -2]\n",
    "\n",
    "# 绘制 Ritz 值的演化\n",
    "plt.figure(figsize=(10, 6))\n",
    "plt.plot(range(1, nbiter_B+1), largest_ritz_B, label='最大 Ritz 值')\n",
    "plt.plot(range(1, nbiter_B+1), second_largest_ritz_B, label='第二大 Ritz 值')\n",
    "plt.xlabel('迭代次数')\n",
    "plt.ylabel('Ritz 值')\n",
    "plt.title('矩阵 B 的 Ritz 值演化')\n",
    "plt.legend()\n",
    "plt.grid(True)\n",
    "plt.show()"
   ]
  },
  {
   "cell_type": "markdown",
   "metadata": {},
   "source": [
    "**观察与评论：**\n",
    "\n",
    "- **“伪特征值”现象**：在迭代过程中，Ritz 值可能出现暂时的停滞或振荡，无法立即收敛到实际的特征值。这种现象被称为“伪特征值”。\n",
    "- **原因**：由于矩阵的特征值分布密集，Lanczos 方法可能在一些特征值附近产生多个近似值，导致收敛缓慢。"
   ]
  },
  {
   "cell_type": "markdown",
   "metadata": {},
   "source": [
    "### Partie 2. (Méthode QR)"
   ]
  },
  {
   "cell_type": "markdown",
   "metadata": {},
   "source": [
    "6. 编写函数 `facto_QR_hessenberg(A)`"
   ]
  },
  {
   "cell_type": "code",
   "execution_count": 7,
   "metadata": {},
   "outputs": [],
   "source": [
    "def compute_givens(a, b):\n",
    "    \"\"\"\n",
    "    计算 Givens 旋转矩阵的参数 c 和 s，使得 [c, s; -s, c] @ [a; b] = [r; 0]\n",
    "    \"\"\"\n",
    "    r = np.hypot(a, b)\n",
    "    if r == 0:\n",
    "        c = 1.0\n",
    "        s = 0.0\n",
    "    else:\n",
    "        c = a / r\n",
    "        s = -b / r\n",
    "    return c, s\n",
    "\n",
    "def facto_QR_hessenberg(A):\n",
    "    \"\"\"\n",
    "    对 Hessenberg 矩阵执行 QR 分解，使用 Givens 旋转。\n",
    "\n",
    "    参数：\n",
    "    A -- Hessenberg 矩阵，形状为 (n, n)\n",
    "\n",
    "    返回：\n",
    "    Q -- 正交矩阵\n",
    "    R -- 上三角矩阵\n",
    "    \"\"\"\n",
    "    n = A.shape[0]\n",
    "    Q = np.eye(n)\n",
    "    R = A.copy()\n",
    "    for k in range(n - 1):\n",
    "        a = R[k, k]\n",
    "        b = R[k + 1, k]\n",
    "        c, s = compute_givens(a, b)\n",
    "        # 构造 Givens 旋转矩阵\n",
    "        G = np.array([[c, -s], [s, c]])\n",
    "        # 更新 R 矩阵\n",
    "        R_k = R[k:k+2, k:]\n",
    "        R[k:k+2, k:] = G @ R_k\n",
    "        # 更新 Q 矩阵\n",
    "        Q[:, k:k+2] = Q[:, k:k+2] @ G.T\n",
    "    return Q, np.triu(R)"
   ]
  },
  {
   "cell_type": "markdown",
   "metadata": {},
   "source": [
    "**解释：**\n",
    "\n",
    "- **`compute_givens`**：计算 Givens 旋转参数 $c$ 和 $s$。\n",
    "- **Givens 旋转**：用于消去矩阵中的元素，使其成为上三角矩阵。\n",
    "- **更新 R**：对 R 的第 $k$ 和 $k+1$ 行进行旋转。\n",
    "- **更新 Q**：对 Q 的第 $k$ 和 $k+1$ 列进行旋转。"
   ]
  },
  {
   "cell_type": "markdown",
   "metadata": {},
   "source": [
    "7. 测试程序"
   ]
  },
  {
   "cell_type": "code",
   "execution_count": 8,
   "metadata": {},
   "outputs": [
    {
     "name": "stdout",
     "output_type": "stream",
     "text": [
      "是否满足 A = Q @ R： True\n",
      "是否满足 Q^T Q = I： True\n"
     ]
    }
   ],
   "source": [
    "# 构造随机 Hessenberg 矩阵\n",
    "n = 5\n",
    "A = np.triu(np.random.rand(n, n), -1)\n",
    "\n",
    "# 执行 QR 分解\n",
    "Q, R = facto_QR_hessenberg(A)\n",
    "\n",
    "# 验证结果\n",
    "print(\"是否满足 A = Q @ R：\", np.allclose(A, Q @ R))\n",
    "print(\"是否满足 Q^T Q = I：\", np.allclose(Q.T @ Q, np.eye(n)))"
   ]
  },
  {
   "cell_type": "markdown",
   "metadata": {},
   "source": [
    "**结果：**\n",
    "\n",
    "- **A = Q @ R**：应返回 `True`，表示分解正确。\n",
    "- **Q 是正交矩阵**：`Q.T @ Q` 应接近单位矩阵。"
   ]
  },
  {
   "cell_type": "markdown",
   "metadata": {},
   "source": [
    "8. 编写函数 `QR_hessenberg(A)` "
   ]
  },
  {
   "cell_type": "code",
   "execution_count": 9,
   "metadata": {},
   "outputs": [],
   "source": [
    "def QR_hessenberg(A, max_iter=2000, tol=1e-10):\n",
    "    \"\"\"\n",
    "    使用 QR 方法计算 Hessenberg 矩阵的特征值。\n",
    "\n",
    "    参数：\n",
    "    A        -- Hessenberg 矩阵，形状为 (n, n)\n",
    "    max_iter -- 最大迭代次数\n",
    "    tol      -- 收敛阈值\n",
    "\n",
    "    返回：\n",
    "    eigvals -- 特征值的近似值\n",
    "    \"\"\"\n",
    "    n = A.shape[0]\n",
    "    H = A.copy()\n",
    "    for i in range(max_iter):\n",
    "        Q, R = facto_QR_hessenberg(H)\n",
    "        H = R @ Q\n",
    "        # 检查收敛性\n",
    "        off_diag = np.abs(np.diag(H, -1))\n",
    "        if np.all(off_diag < tol):\n",
    "            break\n",
    "    eigvals = np.diag(H)\n",
    "    return eigvals"
   ]
  },
  {
   "cell_type": "markdown",
   "metadata": {},
   "source": [
    "**解释：**\n",
    "\n",
    "- **循环迭代**：在每次迭代中，执行 QR 分解，并更新 $H = RQ$。\n",
    "- **收敛判断**：当子对角线元素的绝对值小于阈值时，认为已收敛。\n",
    "- **返回特征值**：对角线上的元素即为特征值的近似值。"
   ]
  },
  {
   "cell_type": "markdown",
   "metadata": {},
   "source": [
    "9. 测试程序"
   ]
  },
  {
   "cell_type": "code",
   "execution_count": 10,
   "metadata": {},
   "outputs": [
    {
     "name": "stdout",
     "output_type": "stream",
     "text": [
      "QR 方法计算的特征值： [-0.16086215  0.08703156  0.7218376   1.23824599  1.70959867]\n",
      "精确特征值： [-0.16086215  0.08703156  0.7218376   1.23824599  1.70959867]\n",
      "差异： [1.38777878e-16 2.77555756e-17 1.11022302e-16 1.99840144e-15\n",
      " 1.33226763e-15]\n"
     ]
    }
   ],
   "source": [
    "# 构造对称三对角矩阵\n",
    "n = 5\n",
    "diagonal = np.random.rand(n)\n",
    "off_diagonal = np.random.rand(n - 1)\n",
    "A_sym_tridiag = np.diag(diagonal) + np.diag(off_diagonal, 1) + np.diag(off_diagonal, -1)\n",
    "\n",
    "# 执行 QR 方法\n",
    "eigvals_qr = QR_hessenberg(A_sym_tridiag)\n",
    "\n",
    "# 使用 numpy 计算精确特征值\n",
    "eigvals_exact = np.linalg.eigvalsh(A_sym_tridiag)\n",
    "\n",
    "# 比较结果\n",
    "print(\"QR 方法计算的特征值：\", np.sort(eigvals_qr))\n",
    "print(\"精确特征值：\", np.sort(eigvals_exact))\n",
    "print(\"差异：\", np.abs(np.sort(eigvals_qr) - np.sort(eigvals_exact)))"
   ]
  },
  {
   "cell_type": "markdown",
   "metadata": {},
   "source": [
    "**结果与评论：**\n",
    "\n",
    "- **结果比较**：QR 方法计算的特征值应与 `np.linalg.eigvalsh` 的结果接近。\n",
    "- **非对称 Hessenberg 矩阵**：如果矩阵不是对称的，QR 方法可能无法收敛或得到正确的特征值。"
   ]
  },
  {
   "cell_type": "markdown",
   "metadata": {},
   "source": [
    "10.  在 Lanczos 算法中替换 np.linalg.eig"
   ]
  },
  {
   "cell_type": "code",
   "execution_count": 11,
   "metadata": {},
   "outputs": [],
   "source": [
    "def Lanczos_with_QR(A, nbiter):\n",
    "    \"\"\"\n",
    "    使用 Lanczos 算法并在特征值计算中使用 QR 方法。\n",
    "\n",
    "    参数：\n",
    "    A      -- 对称矩阵，形状为 (n, n)\n",
    "    nbiter -- 迭代次数\n",
    "\n",
    "    返回：\n",
    "    eigval -- 大小为 (nbiter, nbiter) 的数组，每行包含对应迭代的 Ritz 值\n",
    "    \"\"\"\n",
    "    n = A.shape[0]\n",
    "    nbiter = min(nbiter, n)  # 确保 nbiter 不超过 n\n",
    "    eigval = np.zeros((nbiter, nbiter))\n",
    "    v = np.random.rand(n)\n",
    "    v = v / np.linalg.norm(v)\n",
    "    vold = np.zeros(n)\n",
    "    beta = 0.0\n",
    "    alphas = []\n",
    "    betas = []\n",
    "    for p in range(nbiter):\n",
    "        v, vold, beta, alpha = iter_Arnoldi_sym(A, v, vold, beta)\n",
    "        alphas.append(alpha)\n",
    "        betas.append(beta)\n",
    "        # 构造三对角矩阵 T_p\n",
    "        T_p = np.diag(alphas) + np.diag(betas[:-1], k=1) + np.diag(betas[:-1], k=-1)\n",
    "        # 使用 QR 方法计算特征值\n",
    "        eigvals_Tp = QR_hessenberg(T_p)\n",
    "        eigvals_Tp_sorted = np.sort(eigvals_Tp)\n",
    "        # 将 Ritz 值存入数组\n",
    "        eigval[p, :p+1] = eigvals_Tp_sorted  # 使用 p+1 而不是 len(eigvals_Tp_sorted)\n",
    "    return eigval\n"
   ]
  },
  {
   "cell_type": "markdown",
   "metadata": {},
   "source": [
    "\n",
    "**验证与比较计算时间：**"
   ]
  },
  {
   "cell_type": "code",
   "execution_count": 12,
   "metadata": {},
   "outputs": [
    {
     "name": "stdout",
     "output_type": "stream",
     "text": [
      "使用 QR 方法的计算时间：0.0185 秒\n",
      "使用 numpy.linalg.eigvalsh 的计算时间：0.0003 秒\n",
      "QR 方法的最终 Ritz 值： [-0.50120757 -0.01664921  1.04390091  1.58016159  2.17553596]\n",
      "numpy.linalg.eigvalsh 的最终 Ritz 值： [-1.50716099 -0.51380968  0.5177636   1.40024068  1.76192687]\n"
     ]
    }
   ],
   "source": [
    "import time\n",
    "\n",
    "# 确保 nbiter 不超过 n\n",
    "nbiter = min(nbiter, n)\n",
    "\n",
    "# 使用 Lanczos 算法和 QR 方法\n",
    "start_time = time.time()\n",
    "eigvals_qr = Lanczos_with_QR(A, nbiter)\n",
    "time_qr = time.time() - start_time\n",
    "\n",
    "# 使用 Lanczos 算法和 numpy.linalg.eigvalsh\n",
    "start_time = time.time()\n",
    "eigvals_np = Lanczos(A, nbiter)\n",
    "time_np = time.time() - start_time\n",
    "\n",
    "print(f\"使用 QR 方法的计算时间：{time_qr:.4f} 秒\")\n",
    "print(f\"使用 numpy.linalg.eigvalsh 的计算时间：{time_np:.4f} 秒\")\n",
    "\n",
    "# 比较结果\n",
    "iteration = nbiter - 1\n",
    "eigvals_qr_final = eigvals_qr[iteration, :iteration+1]\n",
    "eigvals_np_final = eigvals_np[iteration, :iteration+1]\n",
    "\n",
    "print(\"QR 方法的最终 Ritz 值：\", eigvals_qr_final)\n",
    "print(\"numpy.linalg.eigvalsh 的最终 Ritz 值：\", eigvals_np_final)\n"
   ]
  }
 ],
 "metadata": {
  "kernelspec": {
   "display_name": "myconda",
   "language": "python",
   "name": "python3"
  },
  "language_info": {
   "codemirror_mode": {
    "name": "ipython",
    "version": 3
   },
   "file_extension": ".py",
   "mimetype": "text/x-python",
   "name": "python",
   "nbconvert_exporter": "python",
   "pygments_lexer": "ipython3",
   "version": "3.10.9"
  }
 },
 "nbformat": 4,
 "nbformat_minor": 2
}
