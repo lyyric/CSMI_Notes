{
 "cells": [
  {
   "cell_type": "markdown",
   "metadata": {},
   "source": [
    "TP2 : Méthodes GMRES et Gradient conjugué"
   ]
  },
  {
   "cell_type": "code",
   "execution_count": 1,
   "metadata": {},
   "outputs": [],
   "source": [
    "import numpy as np \n",
    "import scipy as sp\n",
    "import scipy.sparse as spsp\n",
    "import scipy.sparse.linalg as spsplin"
   ]
  },
  {
   "cell_type": "code",
   "execution_count": 2,
   "metadata": {},
   "outputs": [],
   "source": [
    "def Arnoldi(A, V, H):\n",
    "\n",
    "    n, p = np.shape(V)         \n",
    "    Vp = np.zeros((n, p+1))\n",
    "    Hp = np.zeros((p+1, p))\n",
    "\n",
    "    Hp[:-1, :-1] = H[:, :]          \n",
    "    Vp[:, :-1] = V[:, :]\n",
    "\n",
    "\n",
    "    Av = A@V[:, -1]\n",
    "\n",
    "    for i in range(p):       \n",
    "        Hp[i, -1] = Vp[:, i] @ Av\n",
    "\n",
    "    wp = Av - V @ Hp[:-1, -1]          #<--------------- a modifier\n",
    "    \n",
    "    Hp[-1, -1] = np.linalg.norm(wp)\n",
    "    Vp[:, -1] = wp/Hp[-1, -1]\n",
    "\n",
    "    return Vp, Hp"
   ]
  },
  {
   "cell_type": "code",
   "execution_count": 3,
   "metadata": {},
   "outputs": [],
   "source": [
    "def gmres(A, b, xexact):\n",
    "    n = len(b)\n",
    "    x0 = np.zeros(n)           \n",
    "\n",
    "    res0 = b - A @ x0\n",
    "    resnorm0 = np.linalg.norm(res0)\n",
    "\n",
    "    V = np.zeros((n, 1))\n",
    "    V[:, 0] = res0 / resnorm0\n",
    "    H = np.zeros((1, 0))\n",
    "\n",
    "    err_list = []\n",
    "    resnorm_list = []          \n",
    "\n",
    "    resnorm = 1.\n",
    "    it = 0\n",
    "    while (resnorm >= 1e-6) and (it <= n):    \n",
    "        it += 1\n",
    "\n",
    "        V, H = Arnoldi(A, V, H)\n",
    "        Q, R = sp.linalg.qr(H)\n",
    "        y = np.linalg.solve(R[:-1, :], resnorm0 * Q[0, :-1])\n",
    "        x = x0 + V[:, :-1] @ y\n",
    "\n",
    "        resnorm = np.linalg.norm(b - A @ x) / resnorm0\n",
    "        err = np.linalg.norm(x - xexact) / np.linalg.norm(xexact)\n",
    "\n",
    "        err_list.append(err)\n",
    "        resnorm_list.append(resnorm)\n",
    "\n",
    "\n",
    "    return x, err_list, resnorm_list\n"
   ]
  },
  {
   "cell_type": "code",
   "execution_count": 4,
   "metadata": {},
   "outputs": [
    {
     "name": "stdout",
     "output_type": "stream",
     "text": [
      "Solution :  [0.36672478 0.36745602 0.35008632 0.42723813 0.4254077 ]\n",
      "Erreur :  [0.08335044395729141, 0.005579084901842266, 0.00013424740270171986, 1.0598309874494114e-08]\n",
      "Résidu :  [0.06326169713825255, 0.004365553455550372, 0.00010749052445908867, 8.348025941605074e-09]\n"
     ]
    }
   ],
   "source": [
    "#Test :\n",
    "n = 5\n",
    "\n",
    "A = np.diag(2*np.ones(n)) + 0.5 * np.random.rand(n, n)/np.sqrt(n)\n",
    "b = np.ones(n)\n",
    "x_exact = np.linalg.solve(A, b)\n",
    "\n",
    "x, err_list, resnorm_list = gmres(A, b, x_exact)\n",
    "\n",
    "print(\"Solution : \", x)\n",
    "print(\"Erreur : \", err_list)\n",
    "print(\"Résidu : \", resnorm_list)\n"
   ]
  },
  {
   "cell_type": "code",
   "execution_count": null,
   "metadata": {},
   "outputs": [],
   "source": []
  },
  {
   "cell_type": "code",
   "execution_count": null,
   "metadata": {},
   "outputs": [],
   "source": []
  },
  {
   "cell_type": "code",
   "execution_count": null,
   "metadata": {},
   "outputs": [],
   "source": []
  }
 ],
 "metadata": {
  "kernelspec": {
   "display_name": "myconda",
   "language": "python",
   "name": "python3"
  },
  "language_info": {
   "codemirror_mode": {
    "name": "ipython",
    "version": 3
   },
   "file_extension": ".py",
   "mimetype": "text/x-python",
   "name": "python",
   "nbconvert_exporter": "python",
   "pygments_lexer": "ipython3",
   "version": "3.12.7"
  }
 },
 "nbformat": 4,
 "nbformat_minor": 2
}
