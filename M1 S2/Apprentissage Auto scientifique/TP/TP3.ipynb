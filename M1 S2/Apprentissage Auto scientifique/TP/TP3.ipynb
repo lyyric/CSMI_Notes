{
 "cells": [
  {
   "cell_type": "markdown",
   "id": "78b6a383",
   "metadata": {},
   "source": [
    "# TP 3 : Méthode Physic-Informed Neural Network"
   ]
  },
  {
   "cell_type": "code",
   "execution_count": 7,
   "id": "ef8e3222",
   "metadata": {},
   "outputs": [],
   "source": [
    "import torch"
   ]
  },
  {
   "cell_type": "code",
   "execution_count": 12,
   "id": "c7f9b9b9",
   "metadata": {},
   "outputs": [],
   "source": [
    "def rejection_sampling(nb_data, phi, bounds=[[-1.0, 1.0], [-1.0, 1.0]]):\n",
    "    data = []\n",
    "    while len(data) < nb_data:\n",
    "        x = torch.rand((nb_data, 2))\n",
    "        x[:, 0] = x[:, 0] * (bounds[0][1] - bounds[0][0]) + bounds[0][0]\n",
    "        x[:, 1] = x[:, 1] * (bounds[1][1] - bounds[1][0]) + bounds[1][0]\n",
    "        mask = phi(x) < 0\n",
    "        selected = x[mask]\n",
    "        data.append(selected)\n",
    "        data = torch.cat(data, dim=0)[:,nb_data]\n",
    "    return data"
   ]
  },
  {
   "cell_type": "code",
   "execution_count": 13,
   "id": "43926dea",
   "metadata": {},
   "outputs": [
    {
     "ename": "IndexError",
     "evalue": "index 1000 is out of bounds for dimension 1 with size 2",
     "output_type": "error",
     "traceback": [
      "\u001b[0;31m---------------------------------------------------------------------------\u001b[0m",
      "\u001b[0;31mIndexError\u001b[0m                                Traceback (most recent call last)",
      "Cell \u001b[0;32mIn[13], line 15\u001b[0m\n\u001b[1;32m     11\u001b[0m     plt\u001b[38;5;241m.\u001b[39mtitle(\u001b[38;5;124m\"\u001b[39m\u001b[38;5;124mRejection Sampling in Unit Disk\u001b[39m\u001b[38;5;124m\"\u001b[39m)\n\u001b[1;32m     13\u001b[0m     plt\u001b[38;5;241m.\u001b[39mshow()\n\u001b[0;32m---> 15\u001b[0m test_rejection_sampling()\n",
      "Cell \u001b[0;32mIn[13], line 7\u001b[0m, in \u001b[0;36mtest_rejection_sampling\u001b[0;34m()\u001b[0m\n\u001b[1;32m      6\u001b[0m \u001b[38;5;28;01mdef\u001b[39;00m \u001b[38;5;21mtest_rejection_sampling\u001b[39m():\n\u001b[0;32m----> 7\u001b[0m     x \u001b[38;5;241m=\u001b[39m rejection_sampling(\u001b[38;5;241m1000\u001b[39m, phi_unit_disk)\n\u001b[1;32m      8\u001b[0m     x \u001b[38;5;241m=\u001b[39m x\u001b[38;5;241m.\u001b[39mdetach()\u001b[38;5;241m.\u001b[39mnumpy()\n\u001b[1;32m      9\u001b[0m     plt\u001b[38;5;241m.\u001b[39mfigure(figsize\u001b[38;5;241m=\u001b[39m(\u001b[38;5;241m5\u001b[39m, \u001b[38;5;241m5\u001b[39m))\n",
      "Cell \u001b[0;32mIn[12], line 10\u001b[0m, in \u001b[0;36mrejection_sampling\u001b[0;34m(nb_data, phi, bounds)\u001b[0m\n\u001b[1;32m      8\u001b[0m     selected \u001b[38;5;241m=\u001b[39m x[mask]\n\u001b[1;32m      9\u001b[0m     data\u001b[38;5;241m.\u001b[39mappend(selected)\n\u001b[0;32m---> 10\u001b[0m     data \u001b[38;5;241m=\u001b[39m torch\u001b[38;5;241m.\u001b[39mcat(data, dim\u001b[38;5;241m=\u001b[39m\u001b[38;5;241m0\u001b[39m)[:,nb_data]\n\u001b[1;32m     11\u001b[0m \u001b[38;5;28;01mreturn\u001b[39;00m data\n",
      "\u001b[0;31mIndexError\u001b[0m: index 1000 is out of bounds for dimension 1 with size 2"
     ]
    }
   ],
   "source": [
    "import matplotlib.pyplot as plt\n",
    "\n",
    "def phi_unit_disk(x):\n",
    "    return x[:, 0]**2 + x[:, 1]**2 - 1.0\n",
    "\n",
    "def test_rejection_sampling():\n",
    "    x = rejection_sampling(1000, phi_unit_disk)\n",
    "    x = x.detach().numpy()\n",
    "    plt.figure(figsize=(5, 5))\n",
    "    plt.scatter(x[:, 0], x[:, 1], s=5, c='blue')\n",
    "    plt.title(\"Rejection Sampling in Unit Disk\")\n",
    "\n",
    "    plt.show()\n",
    "\n",
    "test_rejection_sampling()"
   ]
  }
 ],
 "metadata": {
  "kernelspec": {
   "display_name": "Python 3",
   "language": "python",
   "name": "python3"
  },
  "language_info": {
   "codemirror_mode": {
    "name": "ipython",
    "version": 3
   },
   "file_extension": ".py",
   "mimetype": "text/x-python",
   "name": "python",
   "nbconvert_exporter": "python",
   "pygments_lexer": "ipython3",
   "version": "3.12.9"
  }
 },
 "nbformat": 4,
 "nbformat_minor": 5
}
