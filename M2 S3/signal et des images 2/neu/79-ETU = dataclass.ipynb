{
 "cells": [
  {
   "cell_type": "markdown",
   "metadata": {
    "id": "_5smuk2Bcfvm"
   },
   "source": [
    "# Dataclasses\n",
    "\n",
    "Très pratique pour créer des objets en python, sans trop écrire.\n",
    "\n",
    "Les lib `stax` et `equinox` sont basées dessus."
   ]
  },
  {
   "cell_type": "markdown",
   "metadata": {
    "id": "OTL89zaNb55s"
   },
   "source": [
    "## Qu'est-ce qu'un attribut de classe ?"
   ]
  },
  {
   "cell_type": "code",
   "execution_count": 1,
   "metadata": {
    "colab": {
     "base_uri": "https://localhost:8080/"
    },
    "executionInfo": {
     "elapsed": 4,
     "status": "ok",
     "timestamp": 1755714210382,
     "user": {
      "displayName": "vincent vigon",
      "userId": "09456169185020192907"
     },
     "user_tz": -120
    },
    "id": "4oqxHUFJaTFX",
    "outputId": "83b187fc-dbef-4f6a-c0ed-b79a8c692966"
   },
   "outputs": [
    {
     "name": "stdout",
     "output_type": "stream",
     "text": [
      "Je suis un attribut de classe\n"
     ]
    }
   ],
   "source": [
    "class MaClasse:\n",
    "    attribut_de_classe = \"Je suis un attribut de classe\"\n",
    "\n",
    "    def __init__(self, nom):\n",
    "        self.nom = nom\n",
    "\n",
    "# Accès via la classe\n",
    "print(MaClasse.attribut_de_classe)"
   ]
  },
  {
   "cell_type": "code",
   "execution_count": 51,
   "metadata": {
    "colab": {
     "base_uri": "https://localhost:8080/"
    },
    "executionInfo": {
     "elapsed": 5,
     "status": "ok",
     "timestamp": 1755714210388,
     "user": {
      "displayName": "vincent vigon",
      "userId": "09456169185020192907"
     },
     "user_tz": -120
    },
    "id": "JqK9yJTWcIUN",
    "outputId": "ce4e4867-271c-44f7-b509-0bfa047c58d9"
   },
   "outputs": [],
   "source": [
    "# Accès via une instance\n",
    "instance1 = MaClasse(\"Objet 1\")\n",
    "instance2 = MaClasse(\"Objet 2\")\n",
    "print(instance1.attribut_de_classe)\n",
    "print(instance2.attribut_de_classe)"
   ]
  },
  {
   "cell_type": "code",
   "execution_count": 52,
   "metadata": {
    "colab": {
     "base_uri": "https://localhost:8080/"
    },
    "executionInfo": {
     "elapsed": 4,
     "status": "ok",
     "timestamp": 1755714210391,
     "user": {
      "displayName": "vincent vigon",
      "userId": "09456169185020192907"
     },
     "user_tz": -120
    },
    "id": "Elu7Hak_cIYV",
    "outputId": "72057185-fa0d-4e00-9157-7c38e7cb6eaa"
   },
   "outputs": [],
   "source": [
    "# Modification via la classe\n",
    "MaClasse.attribut_de_classe = \"J'ai été modifié via la classe\"\n",
    "print(instance1.attribut_de_classe)\n",
    "print(instance2.attribut_de_classe)"
   ]
  },
  {
   "cell_type": "code",
   "execution_count": 53,
   "metadata": {
    "colab": {
     "base_uri": "https://localhost:8080/"
    },
    "executionInfo": {
     "elapsed": 13,
     "status": "ok",
     "timestamp": 1755714210417,
     "user": {
      "displayName": "vincent vigon",
      "userId": "09456169185020192907"
     },
     "user_tz": -120
    },
    "id": "TILeTrFHcIa7",
    "outputId": "afc3afc1-78a1-42d3-ef81-507cc4e5deb4"
   },
   "outputs": [],
   "source": [
    "# Modification via une instance (crée un attribut d'instance)\n",
    "instance1.attribut_de_classe = \"J'ai été modifié via l'instance 1\"\n",
    "print(instance1.attribut_de_classe) # Affiche l'attribut d'instance\n",
    "print(instance2.attribut_de_classe) # Affiche l'attribut de classe"
   ]
  },
  {
   "cell_type": "markdown",
   "metadata": {
    "id": "GMr06vjFcO8i"
   },
   "source": [
    "## Qu'est-ce qu'une dataclass"
   ]
  },
  {
   "cell_type": "markdown",
   "metadata": {
    "id": "VmdiweIJleae"
   },
   "source": [
    "Le décorateur `@dataclass` génère automatiquement des méthodes spéciales (comme `__init__`, `__repr__`, `__eq__`) basées sur les *annotations de type* que vous avez fournies:"
   ]
  },
  {
   "cell_type": "code",
   "execution_count": 2,
   "metadata": {
    "colab": {
     "base_uri": "https://localhost:8080/"
    },
    "executionInfo": {
     "elapsed": 17,
     "status": "ok",
     "timestamp": 1755714210446,
     "user": {
      "displayName": "vincent vigon",
      "userId": "09456169185020192907"
     },
     "user_tz": -120
    },
    "id": "8ca13651",
    "outputId": "c37334c3-8094-4b45-e332-210b7875d7d9"
   },
   "outputs": [
    {
     "name": "stdout",
     "output_type": "stream",
     "text": [
      "Valeur de l'instance\n",
      "Je suis un attribut de classe traditionnel\n",
      "Je suis un attribut de classe traditionnel\n"
     ]
    }
   ],
   "source": [
    "from dataclasses import dataclass\n",
    "\n",
    "@dataclass\n",
    "class MaDataclass:\n",
    "    attribut_instance: str  # Ceci deviendra un paramètre de __init__ et un attribut d'instance\n",
    "    attribut_classe_traditionnel = \"Je suis un attribut de classe traditionnel\" # Ceci reste un attribut de classe\n",
    "\n",
    "# Création d'une instance\n",
    "instance = MaDataclass(attribut_instance=\"Valeur de l'instance\")\n",
    "\n",
    "# Accès à l'attribut d'instance\n",
    "print(instance.attribut_instance)\n",
    "\n",
    "# Accès à l'attribut de classe traditionnel\n",
    "print(MaDataclass.attribut_classe_traditionnel)\n",
    "print(instance.attribut_classe_traditionnel) # On peut aussi y accéder via l'instance\n",
    "\n",
    "# Essayer d'accéder à l'attribut de classe traditionnel via __init__ donnerait une erreur:\n",
    "# instance_erreur = MaDataclass(attribut_classe_traditionnel=\"Essai\") # Ceci provoquerait une erreur si non défini dans __init__"
   ]
  },
  {
   "cell_type": "markdown",
   "metadata": {
    "id": "0UhVoSEomaBA"
   },
   "source": [
    "On peut aussi définir des attributs d'instances inititalisé, et des sans types."
   ]
  },
  {
   "cell_type": "code",
   "execution_count": 55,
   "metadata": {
    "executionInfo": {
     "elapsed": 60,
     "status": "ok",
     "timestamp": 1755714210507,
     "user": {
      "displayName": "vincent vigon",
      "userId": "09456169185020192907"
     },
     "user_tz": -120
    },
    "id": "PcFdrxGJl_74"
   },
   "outputs": [],
   "source": [
    "from typing import Any\n",
    "@dataclass\n",
    "class MaDataclass:\n",
    "    attribut_instance: str\n",
    "    attribut_instance_initialisé: str = \"Valeur par défaut\"\n",
    "\n",
    "    attribut_instance_sans_type:Any = None\n",
    "\n",
    "    attribut_classe_traditionnel = \"Je suis un attribut de classe traditionnel\""
   ]
  },
  {
   "cell_type": "markdown",
   "metadata": {
    "id": "99iwyRzVmhcj"
   },
   "source": [
    "Comme pour les fonctions, les attributs initilisés doivent arriver en seconde position:\n",
    "\n",
    "    @dataclass\n",
    "    class MaDataclass:\n",
    "        attribut_instance_initialisé: str = \"Valeur par défaut\"\n",
    "        attribut_instance: str  \n",
    "        \n",
    "Ceci provoque une erreur."
   ]
  },
  {
   "cell_type": "markdown",
   "metadata": {
    "id": "f7fe65be"
   },
   "source": [
    "### Rendre une Dataclass Hashable\n",
    "\n",
    "Pour qu'une dataclass soit hashable, elle doit respecter deux conditions principales :\n",
    "\n",
    "1.  **Tous les champs doivent être hashable :** Chaque attribut défini dans la dataclass doit être d'un type hashable. Les types built-in courants comme `int`, `float`, `str`, `bool`, et `tuple` sont hashable. Les types comme `list`, `dict`, et `set` ne le sont pas (sauf un `set` composé de hashable).\n",
    "\n",
    "2.  **La dataclass doit être \"frozen\" :** Vous devez définir la dataclass avec le paramètre `frozen=True`. Cela rend les instances de la dataclass immuables, ce qui est une exigence pour être hashable. ité.\n",
    "\n",
    "Lorsque `frozen=True`, Python génère une méthode `__hash__` pour la dataclass, ce qui la rend utilisable comme clé dans un dictionnaire"
   ]
  },
  {
   "cell_type": "code",
   "execution_count": 56,
   "metadata": {
    "colab": {
     "base_uri": "https://localhost:8080/"
    },
    "executionInfo": {
     "elapsed": 48,
     "status": "ok",
     "timestamp": 1755714210507,
     "user": {
      "displayName": "vincent vigon",
      "userId": "09456169185020192907"
     },
     "user_tz": -120
    },
    "id": "ZcISJisqnUZi",
    "outputId": "d205a2d2-9fbd-430e-b8e1-3b20f1801a72"
   },
   "outputs": [],
   "source": [
    "from dataclasses import dataclass\n",
    "import sys\n",
    "\n",
    "@dataclass(frozen=True) # frozen=True rend la dataclass immuable et hashable\n",
    "class PointImmuable:\n",
    "    x: int\n",
    "    y: int\n",
    "    description: str = \"Un point dans l'espace\" # Un champ avec valeur par défaut\n",
    "\n",
    "# Création d'instances\n",
    "point1 = PointImmuable(x=10, y=20)\n",
    "point1bis = PointImmuable(x=10, y=20)\n",
    "\n",
    "point2 = PointImmuable(x=10, y=20, description=\"Même point\") # Même x et y, mais description différente\n",
    "point3 = PointImmuable(x=30, y=40)\n",
    "\n",
    "# Les instances de PointImmuable sont hashable\n",
    "print(f\"Hash de point1: {hash(point1)}\")\n",
    "print(f\"Hash de point1bis: {hash(point1bis)}\")\n",
    "print(f\"Hash de point2: {hash(point2)}\") # Le hash dépend de tous les champs\n",
    "print(f\"Hash de point3: {hash(point3)}\") # Le hash dépend de tous les champs"
   ]
  },
  {
   "cell_type": "code",
   "execution_count": 57,
   "metadata": {
    "colab": {
     "base_uri": "https://localhost:8080/"
    },
    "executionInfo": {
     "elapsed": 5,
     "status": "ok",
     "timestamp": 1755714210509,
     "user": {
      "displayName": "vincent vigon",
      "userId": "09456169185020192907"
     },
     "user_tz": -120
    },
    "id": "wb6RhJWOnsb1",
    "outputId": "69132ca5-51fd-4880-ae5d-b2161f444faf"
   },
   "outputs": [],
   "source": [
    "# Utilisation dans un set (qui nécessite des éléments hashable)\n",
    "set_de_points = {point1,point1bis, point2, point3}\n",
    "print(f\"nombre de points différent: {len(set_de_points)}\")"
   ]
  },
  {
   "cell_type": "code",
   "execution_count": 58,
   "metadata": {
    "colab": {
     "base_uri": "https://localhost:8080/"
    },
    "executionInfo": {
     "elapsed": 48,
     "status": "ok",
     "timestamp": 1755714210557,
     "user": {
      "displayName": "vincent vigon",
      "userId": "09456169185020192907"
     },
     "user_tz": -120
    },
    "id": "dFH0j3c-n6wd",
    "outputId": "3dd1793d-a92f-4fb3-d1b4-5db4ceb29d05"
   },
   "outputs": [],
   "source": [
    "# Tenter de modifier une instance frozen lève une erreur\n",
    "try:\n",
    "    point1.x = 5\n",
    "except Exception as e:\n",
    "    print(f\"\\nErreur lors de la modification d'une instance frozen: {e}\")"
   ]
  },
  {
   "cell_type": "code",
   "execution_count": 59,
   "metadata": {
    "colab": {
     "base_uri": "https://localhost:8080/"
    },
    "executionInfo": {
     "elapsed": 40,
     "status": "ok",
     "timestamp": 1755714210597,
     "user": {
      "displayName": "vincent vigon",
      "userId": "09456169185020192907"
     },
     "user_tz": -120
    },
    "id": "6b7515c7",
    "outputId": "39e6f49e-69ba-4ba3-9d7a-cf8c66a13336"
   },
   "outputs": [],
   "source": [
    "# Exemple de dataclass non hashable (car non frozen)\n",
    "@dataclass\n",
    "class PointModifiable:\n",
    "    x: int\n",
    "    y: int\n",
    "\n",
    "point_mod = PointModifiable(x=1, y=1)\n",
    "\n",
    "# Tenter de hasher une instance non frozen lève un TypeError par défaut si la classe ne définit pas __eq__ ou __hash__\n",
    "# Si __eq__ est défini mais pas __hash__, l'instance est non hashable\n",
    "try:\n",
    "    hash(point_mod)\n",
    "except TypeError as e:\n",
    "     print(f\"\\nErreur lors du hachage d'une instance non frozen: {e}\")"
   ]
  },
  {
   "cell_type": "markdown",
   "metadata": {
    "id": "Qk2PvZtqorU3"
   },
   "source": [
    "## Expliquez ceci"
   ]
  },
  {
   "cell_type": "code",
   "execution_count": 60,
   "metadata": {
    "executionInfo": {
     "elapsed": 675,
     "status": "ok",
     "timestamp": 1755714211273,
     "user": {
      "displayName": "vincent vigon",
      "userId": "09456169185020192907"
     },
     "user_tz": -120
    },
    "id": "C4Nl3Lbppojo"
   },
   "outputs": [],
   "source": [
    "%reset -f\n",
    "from dataclasses import dataclass"
   ]
  },
  {
   "cell_type": "code",
   "execution_count": 61,
   "metadata": {
    "colab": {
     "base_uri": "https://localhost:8080/"
    },
    "executionInfo": {
     "elapsed": 4,
     "status": "ok",
     "timestamp": 1755714211279,
     "user": {
      "displayName": "vincent vigon",
      "userId": "09456169185020192907"
     },
     "user_tz": -120
    },
    "id": "I2hDUd8KoCRX",
    "outputId": "5582b9fe-4412-41a0-cc04-3de1aff2d6dc"
   },
   "outputs": [],
   "source": [
    "@dataclass\n",
    "class Toto:\n",
    "    a:int=1\n",
    "    b:int=2\n",
    "    c:int=3\n",
    "    def __init__(self,d:int):\n",
    "        self.d=d\n",
    "\n",
    "toto1=Toto(4)\n",
    "print(toto1)"
   ]
  },
  {
   "cell_type": "code",
   "execution_count": 62,
   "metadata": {
    "colab": {
     "base_uri": "https://localhost:8080/"
    },
    "executionInfo": {
     "elapsed": 16,
     "status": "ok",
     "timestamp": 1755714211307,
     "user": {
      "displayName": "vincent vigon",
      "userId": "09456169185020192907"
     },
     "user_tz": -120
    },
    "id": "CfiKZL2oplY_",
    "outputId": "08c17717-c1b6-4d3f-ba25-c017ad60c1b5"
   },
   "outputs": [],
   "source": [
    "toto2=Toto(5)\n",
    "toto1==toto2"
   ]
  },
  {
   "cell_type": "code",
   "execution_count": 63,
   "metadata": {
    "colab": {
     "base_uri": "https://localhost:8080/"
    },
    "executionInfo": {
     "elapsed": 68,
     "status": "ok",
     "timestamp": 1755714211376,
     "user": {
      "displayName": "vincent vigon",
      "userId": "09456169185020192907"
     },
     "user_tz": -120
    },
    "id": "E5p5aD8Polrc",
    "outputId": "dcccaff5-5241-45fd-c8d3-b95974f0e266"
   },
   "outputs": [],
   "source": [
    "@dataclass\n",
    "class Tata:\n",
    "    a:int\n",
    "    b:int\n",
    "    c:int\n",
    "    def __init__(self,a,b,c):\n",
    "        self.a=a\n",
    "        self.b=b\n",
    "        self.c=c\n",
    "tata1=Tata(1,2,3)\n",
    "print(tata1)"
   ]
  },
  {
   "cell_type": "code",
   "execution_count": 64,
   "metadata": {
    "colab": {
     "base_uri": "https://localhost:8080/"
    },
    "executionInfo": {
     "elapsed": 49,
     "status": "ok",
     "timestamp": 1755714211376,
     "user": {
      "displayName": "vincent vigon",
      "userId": "09456169185020192907"
     },
     "user_tz": -120
    },
    "id": "QnXrdQHmp52S",
    "outputId": "86e88d55-7c5e-4d66-c82a-688677d1f76e"
   },
   "outputs": [],
   "source": [
    "print(toto1)"
   ]
  },
  {
   "cell_type": "code",
   "execution_count": 65,
   "metadata": {
    "colab": {
     "base_uri": "https://localhost:8080/"
    },
    "executionInfo": {
     "elapsed": 41,
     "status": "ok",
     "timestamp": 1755714211416,
     "user": {
      "displayName": "vincent vigon",
      "userId": "09456169185020192907"
     },
     "user_tz": -120
    },
    "id": "AhIuZfhjpD_l",
    "outputId": "ff6f712d-45ae-4b2c-d98a-4efcea5b3590"
   },
   "outputs": [],
   "source": [
    "toto1==tata1"
   ]
  },
  {
   "cell_type": "code",
   "execution_count": 66,
   "metadata": {
    "colab": {
     "base_uri": "https://localhost:8080/"
    },
    "executionInfo": {
     "elapsed": 45,
     "status": "ok",
     "timestamp": 1755714211461,
     "user": {
      "displayName": "vincent vigon",
      "userId": "09456169185020192907"
     },
     "user_tz": -120
    },
    "id": "x27JO6ORpb54",
    "outputId": "4387cf6f-8ffe-44f2-85ea-a74af2f9629e"
   },
   "outputs": [],
   "source": [
    "@dataclass(frozen=True)\n",
    "class Bou:\n",
    "    a:int=1\n",
    "    b:int=2\n",
    "    c:int=3\n",
    "    def __init__(self,d:int):\n",
    "        self.d=d\n",
    "try:\n",
    "    bou1=Bou(4)\n",
    "except Exception as e:\n",
    "    print(e)"
   ]
  },
  {
   "cell_type": "code",
   "execution_count": 67,
   "metadata": {
    "colab": {
     "base_uri": "https://localhost:8080/"
    },
    "executionInfo": {
     "elapsed": 20,
     "status": "ok",
     "timestamp": 1755714211479,
     "user": {
      "displayName": "vincent vigon",
      "userId": "09456169185020192907"
     },
     "user_tz": -120
    },
    "id": "MpRRLSggqKpE",
    "outputId": "e1b31b1c-9dab-4708-8974-a2d3ca6dc2f1"
   },
   "outputs": [],
   "source": [
    "@dataclass(frozen=True)\n",
    "class Bou:\n",
    "    a:int=1\n",
    "    b:int=2\n",
    "    c:int=3\n",
    "    d:int=4\n",
    "    def __init__(self,d:int):\n",
    "        self.d=d\n",
    "try:\n",
    "    bou1=Bou(4)\n",
    "except Exception as e:\n",
    "    print(e)"
   ]
  },
  {
   "cell_type": "markdown",
   "metadata": {
    "id": "eWYU23Xpqasy"
   },
   "source": [
    "On ne peut pas modifier les champs. Mais c'est pénible si on veut faire des calcules dans le constructeur. Heureusement il y a la `factory-design-pattern`"
   ]
  },
  {
   "cell_type": "code",
   "execution_count": 68,
   "metadata": {
    "colab": {
     "base_uri": "https://localhost:8080/"
    },
    "executionInfo": {
     "elapsed": 56,
     "status": "ok",
     "timestamp": 1755714211548,
     "user": {
      "displayName": "vincent vigon",
      "userId": "09456169185020192907"
     },
     "user_tz": -120
    },
    "id": "opDu0poPqY1a",
    "outputId": "9891c63c-a5bb-42b2-f05d-54bca2e15550"
   },
   "outputs": [],
   "source": [
    "@dataclass(frozen=True)\n",
    "class Bou:\n",
    "    a:int=1\n",
    "    b:int=2\n",
    "    c:int=3\n",
    "\n",
    "    @staticmethod\n",
    "    def factory(d:int):\n",
    "        return Bou(d,d//2,d//3)\n",
    "\n",
    "bou1=Bou.factory(5000)\n",
    "print(bou1)"
   ]
  },
  {
   "cell_type": "markdown",
   "metadata": {
    "id": "-SMCXlHPq8pa"
   },
   "source": [
    "C'est très commode. Cela permet même d'avoir plusieurs façon d'initialiser son objet"
   ]
  },
  {
   "cell_type": "code",
   "execution_count": 69,
   "metadata": {
    "colab": {
     "base_uri": "https://localhost:8080/"
    },
    "executionInfo": {
     "elapsed": 34,
     "status": "ok",
     "timestamp": 1755714211581,
     "user": {
      "displayName": "vincent vigon",
      "userId": "09456169185020192907"
     },
     "user_tz": -120
    },
    "id": "n_65_eOpq6ww",
    "outputId": "870cef6d-227d-4690-8284-d8e9adec3954"
   },
   "outputs": [],
   "source": [
    "@dataclass(frozen=True)\n",
    "class Bou:\n",
    "    a:int=1\n",
    "    b:int=2\n",
    "    c:int=3\n",
    "\n",
    "    @staticmethod\n",
    "    def factory_from_d(d:int):\n",
    "        a,b,c=d,d//2,d//3\n",
    "        return Bou(a,b,c)\n",
    "\n",
    "    @staticmethod\n",
    "    def factory_from_ad(a:int,d:int):\n",
    "        b=d//2\n",
    "        c=d//3\n",
    "        return Bou(a,b,c)\n",
    "\n",
    "\n",
    "bou2=Bou.factory_from_ad(7,5000)\n",
    "print(bou2)"
   ]
  },
  {
   "cell_type": "markdown",
   "metadata": {
    "id": "6fp8pxhftAqw"
   },
   "source": [
    "## Les lib basées sur Dataclass"
   ]
  },
  {
   "cell_type": "markdown",
   "metadata": {
    "id": "pMy5idcbtiS1"
   },
   "source": [
    "### Flax"
   ]
  },
  {
   "cell_type": "markdown",
   "metadata": {
    "id": "9Cj-HpVPtHbo"
   },
   "source": [
    "Les modules que l'on crée avec `flax.linen` sont des dataclass."
   ]
  },
  {
   "cell_type": "code",
   "execution_count": 70,
   "metadata": {
    "colab": {
     "base_uri": "https://localhost:8080/"
    },
    "executionInfo": {
     "elapsed": 3,
     "status": "ok",
     "timestamp": 1755714211628,
     "user": {
      "displayName": "vincent vigon",
      "userId": "09456169185020192907"
     },
     "user_tz": -120
    },
    "id": "4f0bbee6",
    "outputId": "81903655-a972-4583-a712-5708566f388e"
   },
   "outputs": [],
   "source": [
    "import flax.linen as nn\n",
    "from dataclasses import is_dataclass\n",
    "\n",
    "# Définir un module simple pour l'inspection\n",
    "class SimpleModule(nn.Module):\n",
    "    num_features: int\n",
    "\n",
    "    @nn.compact\n",
    "    def __call__(self, x):\n",
    "        x = nn.Dense(self.num_features)(x)\n",
    "        return x\n",
    "\n",
    "# Vérifier si SimpleModule est une dataclass\n",
    "print(f\"Est-ce que SimpleModule est une dataclass ? {is_dataclass(SimpleModule)}\")"
   ]
  },
  {
   "cell_type": "markdown",
   "metadata": {
    "id": "joVdXksjtUKZ"
   },
   "source": [
    "Ils ne sont pas frozen, cependant on ne peut pas modifier leur attribus sauf dans la méthode `setup`"
   ]
  },
  {
   "cell_type": "markdown",
   "metadata": {
    "id": "vR39M-kgtgT9"
   },
   "source": [
    "### Equinox"
   ]
  },
  {
   "cell_type": "code",
   "execution_count": 71,
   "metadata": {
    "executionInfo": {
     "elapsed": 6695,
     "status": "ok",
     "timestamp": 1755714218322,
     "user": {
      "displayName": "vincent vigon",
      "userId": "09456169185020192907"
     },
     "user_tz": -120
    },
    "id": "564a7e13"
   },
   "outputs": [],
   "source": [
    "!pip install -q equinox"
   ]
  },
  {
   "cell_type": "markdown",
   "metadata": {
    "id": "exrFt6r2tlW8"
   },
   "source": [
    "Les modules que l'on crée avec equinox sont des dataclass frozen."
   ]
  },
  {
   "cell_type": "code",
   "execution_count": 1,
   "metadata": {
    "colab": {
     "base_uri": "https://localhost:8080/"
    },
    "executionInfo": {
     "elapsed": 5,
     "status": "ok",
     "timestamp": 1755714218328,
     "user": {
      "displayName": "vincent vigon",
      "userId": "09456169185020192907"
     },
     "user_tz": -120
    },
    "id": "7ff694ac",
    "outputId": "e10d7ece-e6e9-4464-d650-8dafdee76e45"
   },
   "outputs": [
    {
     "name": "stdout",
     "output_type": "stream",
     "text": [
      "Est-ce que SimpleEquinoxModule est une dataclass ? True\n"
     ]
    }
   ],
   "source": [
    "import equinox as eqx\n",
    "from dataclasses import is_dataclass\n",
    "\n",
    "# Définir un module simple pour l'inspection\n",
    "class SimpleEquinoxModule(eqx.Module):\n",
    "    weight: eqx.nn.Linear\n",
    "\n",
    "    def __init__(self, in_features: int, out_features: int, *, key):\n",
    "        self.weight = eqx.nn.Linear(in_features, out_features, key=key)\n",
    "\n",
    "    def __call__(self, x):\n",
    "        return self.weight(x)\n",
    "\n",
    "# Vérifier si SimpleEquinoxModule est une dataclass\n",
    "print(f\"Est-ce que SimpleEquinoxModule est une dataclass ? {is_dataclass(SimpleEquinoxModule)}\")"
   ]
  },
  {
   "cell_type": "code",
   "execution_count": 73,
   "metadata": {
    "colab": {
     "base_uri": "https://localhost:8080/"
    },
    "executionInfo": {
     "elapsed": 3,
     "status": "ok",
     "timestamp": 1755714218332,
     "user": {
      "displayName": "vincent vigon",
      "userId": "09456169185020192907"
     },
     "user_tz": -120
    },
    "id": "q4Rau8-zt8bd",
    "outputId": "22e21601-3cf9-4967-807b-4b22084d26b3"
   },
   "outputs": [],
   "source": [
    "dataclass_params = SimpleEquinoxModule.__dataclass_params__\n",
    "print(dataclass_params)"
   ]
  }
 ],
 "metadata": {
  "colab": {
   "authorship_tag": "ABX9TyOnnpmZlobKFnXP0ZlHvtsD",
   "provenance": []
  },
  "kernelspec": {
   "display_name": "study",
   "language": "python",
   "name": "python3"
  },
  "language_info": {
   "codemirror_mode": {
    "name": "ipython",
    "version": 3
   },
   "file_extension": ".py",
   "mimetype": "text/x-python",
   "name": "python",
   "nbconvert_exporter": "python",
   "pygments_lexer": "ipython3",
   "version": "3.12.11"
  }
 },
 "nbformat": 4,
 "nbformat_minor": 0
}
