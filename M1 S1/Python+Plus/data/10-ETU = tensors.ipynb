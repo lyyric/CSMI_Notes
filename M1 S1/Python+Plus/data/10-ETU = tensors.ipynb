{
 "cells": [
  {
   "cell_type": "markdown",
   "metadata": {
    "id": "r832EvznwNm_"
   },
   "source": [
    "# Tensors\n",
    "\n",
    "Attention, si vous ne maitrisez pas déjà numpy, vous devez faire le TP spécifique numpy (dossier `py`).  "
   ]
  },
  {
   "cell_type": "code",
   "execution_count": 1,
   "metadata": {
    "id": "ucYKZBJ3Nb2C"
   },
   "outputs": [],
   "source": [
    "%reset -f"
   ]
  },
  {
   "cell_type": "code",
   "execution_count": 2,
   "metadata": {
    "id": "essvPFQfMeS9"
   },
   "outputs": [
    {
     "name": "stderr",
     "output_type": "stream",
     "text": [
      "2024-11-28 16:07:06.009867: I tensorflow/core/platform/cpu_feature_guard.cc:210] This TensorFlow binary is optimized to use available CPU instructions in performance-critical operations.\n",
      "To enable the following instructions: SSE4.1 SSE4.2 AVX AVX2 FMA, in other operations, rebuild TensorFlow with the appropriate compiler flags.\n"
     ]
    }
   ],
   "source": [
    "import numpy as np\n",
    "import tensorflow as tf\n",
    "import torch\n",
    "\n",
    "import matplotlib.pyplot as plt\n",
    "import os\n",
    "np.set_printoptions(linewidth=500,precision=2,suppress=True)"
   ]
  },
  {
   "cell_type": "markdown",
   "metadata": {
    "id": "QHcgFOYASZX0"
   },
   "source": [
    "## Tenseurs"
   ]
  },
  {
   "cell_type": "markdown",
   "metadata": {
    "id": "H9UySOPLXdaw"
   },
   "source": [
    "### Definition\n",
    "\n",
    "Un tenseur est un tableau multidimensionnel. Ils ont un type de données `dtype` et une forme `shape`. Nous allons comparer 3 lib. À la fin, vous devrez pouvoir comprendre le tableau ci-dessous"
   ]
  },
  {
   "cell_type": "markdown",
   "metadata": {
    "id": "qbEC41GVhGJO"
   },
   "source": [
    "\n",
    "|  | numpy | tensorflow | pytorch |\n",
    "|:---|:--- |:---|:---|\n",
    "| défaut  | 64 bits | 32 bits | 32float/64int bits |\n",
    "| défaut  | CPU | GPU | CPU\n",
    "| GPU possible | non | oui | oui |\n",
    "| tenseurs mutables  | oui | non | oui|\n",
    "| cast automatique | oui | non |oui |\n",
    "| opération inplace | certaines | aucune | au choix |\n",
    "| différentiation | non | oui | oui |\n",
    "\n",
    "Attention: numpy ne peut pas servir pour créer des réseaux de neurone, mais elle est bien pratique pour prétraiter les données."
   ]
  },
  {
   "cell_type": "code",
   "execution_count": 3,
   "metadata": {
    "id": "F-UT94EAI6Y_"
   },
   "outputs": [],
   "source": [
    "data = [[1., 2],[3, 4],[5,6]]\n",
    "X_torch = torch.tensor(data)\n",
    "X_tf = tf.constant(data)\n",
    "X_np = np.array(data)"
   ]
  },
  {
   "cell_type": "code",
   "execution_count": 4,
   "metadata": {
    "colab": {
     "base_uri": "https://localhost:8080/"
    },
    "executionInfo": {
     "elapsed": 6,
     "status": "ok",
     "timestamp": 1730760944159,
     "user": {
      "displayName": "vincent vigon",
      "userId": "09456169185020192907"
     },
     "user_tz": -60
    },
    "id": "QyADOSNBJdi6",
    "outputId": "941f103c-daca-422a-b5c7-fc7d50e7cf68"
   },
   "outputs": [
    {
     "name": "stdout",
     "output_type": "stream",
     "text": [
      "torch.Size([3, 2]) torch.float32\n",
      "(3, 2) <dtype: 'float32'>\n",
      "(3, 2) float64\n"
     ]
    }
   ],
   "source": [
    "for X in [X_torch,X_tf,X_np]:\n",
    "    print(X.shape,X.dtype)"
   ]
  },
  {
   "cell_type": "markdown",
   "metadata": {
    "id": "VJaxSfnYxRQi"
   },
   "source": [
    "***À vous:*** Qu'est-ce que cela donne avec `data = [[1, 2],[3, 4],[5,6]]` (le point en moins)?\n",
    "  "
   ]
  },
  {
   "cell_type": "markdown",
   "metadata": {
    "id": "amUz7KauU6xc"
   },
   "source": [
    "***À vous:*** Que vérifie-t-on dans le programme ci-dessous?"
   ]
  },
  {
   "cell_type": "code",
   "execution_count": 5,
   "metadata": {
    "id": "T0Eqc-07KRL5"
   },
   "outputs": [],
   "source": [
    "def modify(X):\n",
    "    X[0,0]=7"
   ]
  },
  {
   "cell_type": "code",
   "execution_count": 6,
   "metadata": {
    "colab": {
     "base_uri": "https://localhost:8080/"
    },
    "executionInfo": {
     "elapsed": 5,
     "status": "ok",
     "timestamp": 1730760944159,
     "user": {
      "displayName": "vincent vigon",
      "userId": "09456169185020192907"
     },
     "user_tz": -60
    },
    "id": "OTYyrNxEwzdZ",
    "outputId": "3e053146-93c2-4d78-f40a-f6b816e088d0"
   },
   "outputs": [
    {
     "name": "stdout",
     "output_type": "stream",
     "text": [
      "torch\n",
      "tensor([[7., 2.],\n",
      "        [3., 4.],\n",
      "        [5., 6.]])\n",
      "tf\n",
      "'tensorflow.python.framework.ops.EagerTensor' object does not support item assignment\n",
      "np\n",
      "[[7. 2.]\n",
      " [3. 4.]\n",
      " [5. 6.]]\n"
     ]
    }
   ],
   "source": [
    "for title,X in [(\"torch\",X_torch),(\"tf\",X_tf),(\"np\",X_np)]:\n",
    "    print(title)\n",
    "    try:\n",
    "        modify(X)\n",
    "        print(X)\n",
    "    except Exception as e:\n",
    "        print(e)"
   ]
  },
  {
   "cell_type": "markdown",
   "metadata": {
    "id": "CZRwITe6K6W3"
   },
   "source": [
    "### Conversions\n",
    "\n",
    "On peut appliquer des fonctions d'une lib sur des tenseurs d'autre lib, mais le résultat est imprévisible."
   ]
  },
  {
   "cell_type": "code",
   "execution_count": 7,
   "metadata": {
    "colab": {
     "base_uri": "https://localhost:8080/"
    },
    "executionInfo": {
     "elapsed": 5,
     "status": "ok",
     "timestamp": 1730760944159,
     "user": {
      "displayName": "vincent vigon",
      "userId": "09456169185020192907"
     },
     "user_tz": -60
    },
    "id": "KbNyVV-OK5rD",
    "outputId": "2fde663d-f88d-4d1b-e87b-3da5bd89786b"
   },
   "outputs": [
    {
     "name": "stdout",
     "output_type": "stream",
     "text": [
      "title_tensor: torch\n",
      "\t title_func: torch\n",
      "\t\t torch.float32\n",
      "\t title_func: tf\n",
      "\t\t torch.float32\n",
      "\t title_func: np\n",
      "\t\t torch.float32\n",
      "title_tensor: tf\n",
      "\t title_func: torch\n",
      "\t\t sin(): argument 'input' (position 1) must be Tensor, not tensorflow.python.framework.ops.EagerTensor\n",
      "\t title_func: tf\n",
      "\t\t <dtype: 'float32'>\n",
      "\t title_func: np\n",
      "\t\t <dtype: 'float32'>\n",
      "title_tensor: np\n",
      "\t title_func: torch\n",
      "\t\t sin(): argument 'input' (position 1) must be Tensor, not numpy.ndarray\n",
      "\t title_func: tf\n",
      "\t\t float64\n",
      "\t title_func: np\n",
      "\t\t float64\n"
     ]
    }
   ],
   "source": [
    "for title_tensor,X in [(\"torch\",X_torch),(\"tf\",X_tf),(\"np\",X_np)]:\n",
    "    print(\"title_tensor:\",title_tensor)\n",
    "    for title_func,fn in [(\"torch\",torch.sin),(\"tf\",tf.sin),(\"np\",np.sin)]:\n",
    "        print(\"\\t title_func:\",title_func)\n",
    "        try:\n",
    "            res=fn(X)\n",
    "            print(\"\\t\\t\",X.dtype)\n",
    "        except Exception as e:\n",
    "            print(\"\\t\\t\",e)"
   ]
  },
  {
   "cell_type": "markdown",
   "metadata": {
    "id": "8XRyqbkOi70-"
   },
   "source": [
    "Idem si on fait des opérations entre tenseurs."
   ]
  },
  {
   "cell_type": "code",
   "execution_count": 8,
   "metadata": {
    "colab": {
     "base_uri": "https://localhost:8080/"
    },
    "executionInfo": {
     "elapsed": 4,
     "status": "ok",
     "timestamp": 1730760944159,
     "user": {
      "displayName": "vincent vigon",
      "userId": "09456169185020192907"
     },
     "user_tz": -60
    },
    "id": "_WZfA1g3OB8w",
    "outputId": "0a96849e-ca41-4770-e94a-5711b14f2cbe"
   },
   "outputs": [
    {
     "name": "stdout",
     "output_type": "stream",
     "text": [
      "title_tensor1: torch\n",
      "\t title_tensor2: torch\n",
      "\t\t torch.float32\n",
      "\t title_tensor2: tf\n",
      "\t\t <dtype: 'float32'>\n",
      "\t title_tensor2: np\n",
      "\t\t torch.float64\n",
      "title_tensor1: tf\n",
      "\t title_tensor2: torch\n",
      "\t\t <dtype: 'float32'>\n",
      "\t title_tensor2: tf\n",
      "\t\t <dtype: 'float32'>\n",
      "\t title_tensor2: np\n",
      "\t\t <dtype: 'float32'>\n",
      "title_tensor1: np\n",
      "\t title_tensor2: torch\n",
      "\t\t Concatenation operation is not implemented for NumPy arrays, use np.concatenate() instead. Please do not rely on this error; it may not be given on all Python implementations.\n",
      "\t title_tensor2: tf\n",
      "\t\t <dtype: 'float32'>\n",
      "\t title_tensor2: np\n",
      "\t\t float64\n"
     ]
    }
   ],
   "source": [
    "for title_tensor1,X in [(\"torch\",X_torch),(\"tf\",X_tf),(\"np\",X_np)]:\n",
    "    print(\"title_tensor1:\",title_tensor1)\n",
    "    for title_tensor2,Y in [(\"torch\",X_torch),(\"tf\",X_tf),(\"np\",X_np)]:\n",
    "        print(\"\\t title_tensor2:\",title_tensor2)\n",
    "        try:\n",
    "            Z=X+Y\n",
    "            print(\"\\t\\t\",Z.dtype)\n",
    "        except Exception as e:\n",
    "            print(\"\\t\\t\",e)"
   ]
  },
  {
   "cell_type": "markdown",
   "metadata": {
    "id": "z6mHTk7olPVj"
   },
   "source": [
    "Certaine lib font des 'cast' automatique, d'autre nom:"
   ]
  },
  {
   "cell_type": "code",
   "execution_count": 9,
   "metadata": {
    "colab": {
     "base_uri": "https://localhost:8080/"
    },
    "executionInfo": {
     "elapsed": 3,
     "status": "ok",
     "timestamp": 1730760944159,
     "user": {
      "displayName": "vincent vigon",
      "userId": "09456169185020192907"
     },
     "user_tz": -60
    },
    "id": "18C022C-krNO",
    "outputId": "a919b28d-351c-4213-a870-609b83f02110"
   },
   "outputs": [
    {
     "data": {
      "text/plain": [
       "array([[0., 0., 0.],\n",
       "       [0., 0., 0.],\n",
       "       [0., 0., 0.]])"
      ]
     },
     "execution_count": 9,
     "metadata": {},
     "output_type": "execute_result"
    }
   ],
   "source": [
    "np.zeros([3,3],dtype=np.float32)+np.zeros([3,3],dtype=np.float64)+np.zeros([3,3],dtype=np.int32)"
   ]
  },
  {
   "cell_type": "code",
   "execution_count": 10,
   "metadata": {
    "colab": {
     "base_uri": "https://localhost:8080/"
    },
    "executionInfo": {
     "elapsed": 3,
     "status": "ok",
     "timestamp": 1730760944159,
     "user": {
      "displayName": "vincent vigon",
      "userId": "09456169185020192907"
     },
     "user_tz": -60
    },
    "id": "Bwy7uDaglDnA",
    "outputId": "2de32a29-1584-43fd-e2c0-095388b3f4e8"
   },
   "outputs": [
    {
     "name": "stdout",
     "output_type": "stream",
     "text": [
      "cannot compute AddV2 as input #1(zero-based) was expected to be a float tensor but is a double tensor [Op:AddV2] name: \n"
     ]
    }
   ],
   "source": [
    "try:\n",
    "    tf.zeros([3,3],dtype=tf.float32)+tf.zeros([3,3],dtype=np.float64)\n",
    "except Exception as e:\n",
    "    print(e)"
   ]
  },
  {
   "cell_type": "code",
   "execution_count": 11,
   "metadata": {
    "colab": {
     "base_uri": "https://localhost:8080/"
    },
    "executionInfo": {
     "elapsed": 2,
     "status": "ok",
     "timestamp": 1730760944159,
     "user": {
      "displayName": "vincent vigon",
      "userId": "09456169185020192907"
     },
     "user_tz": -60
    },
    "id": "eiB8JwW1lDpq",
    "outputId": "b6642773-f7e4-47fe-bacd-a320d3c33a5c"
   },
   "outputs": [
    {
     "data": {
      "text/plain": [
       "tensor([[0., 0., 0.],\n",
       "        [0., 0., 0.],\n",
       "        [0., 0., 0.]], dtype=torch.float64)"
      ]
     },
     "execution_count": 11,
     "metadata": {},
     "output_type": "execute_result"
    }
   ],
   "source": [
    "torch.zeros([3,3],dtype=torch.float32)+torch.zeros([3,3],dtype=torch.float64)"
   ]
  },
  {
   "cell_type": "markdown",
   "metadata": {
    "id": "NU6nX-1mtDgl"
   },
   "source": [
    "### Méthode post/prétraitement numpy"
   ]
  },
  {
   "cell_type": "markdown",
   "metadata": {
    "id": "6-yE4cO1O3gO"
   },
   "source": [
    "***Règle d'or:*** Séparer bien votre programme en plusieurs parties. Chaque partie avec sa lib ad hoc. Faites des conversions explicite entre ces parties. Exemple:"
   ]
  },
  {
   "cell_type": "code",
   "execution_count": 12,
   "metadata": {
    "colab": {
     "base_uri": "https://localhost:8080/",
     "height": 430
    },
    "executionInfo": {
     "elapsed": 706,
     "status": "ok",
     "timestamp": 1730760944863,
     "user": {
      "displayName": "vincent vigon",
      "userId": "09456169185020192907"
     },
     "user_tz": -60
    },
    "id": "tfuuJ2GpjQ3M",
    "outputId": "4bbbdaa7-c5b9-4a7c-d56c-6ecdb5aafbbe"
   },
   "outputs": [
    {
     "data": {
      "image/png": "[encoded data removed]",
      "text/plain": [
       "<Figure size 640x480 with 1 Axes>"
      ]
     },
     "metadata": {},
     "output_type": "display_data"
    }
   ],
   "source": [
    "#Création, prétraitement des données. Numpy est le plus pratique:\n",
    "X_np=np.random.normal(size=[1000])\n",
    "X_np[X_np<0]=0\n",
    "plt.hist(X_np,edgecolor='k');"
   ]
  },
  {
   "cell_type": "code",
   "execution_count": 13,
   "metadata": {
    "id": "JxB3ydFbj9GX"
   },
   "outputs": [],
   "source": [
    "#Traitement tensorflow:\n",
    "X_tf=tf.constant(X_np,dtype=tf.float32)\n",
    "X_tf=tf.sin(X_tf**3) #imaginer plein de gros calculs"
   ]
  },
  {
   "cell_type": "code",
   "execution_count": 14,
   "metadata": {
    "colab": {
     "base_uri": "https://localhost:8080/",
     "height": 430
    },
    "executionInfo": {
     "elapsed": 2,
     "status": "ok",
     "timestamp": 1730760946501,
     "user": {
      "displayName": "vincent vigon",
      "userId": "09456169185020192907"
     },
     "user_tz": -60
    },
    "id": "wbZKY8X3kWZl",
    "outputId": "bb3708f6-549a-4a56-bfd0-a6f9c5ecd871"
   },
   "outputs": [
    {
     "data": {
      "image/png": "[encoded data removed]",
      "text/plain": [
       "<Figure size 640x480 with 1 Axes>"
      ]
     },
     "metadata": {},
     "output_type": "display_data"
    }
   ],
   "source": [
    "#post traitement\n",
    "plt.hist(X_tf.numpy(),edgecolor=\"k\");"
   ]
  },
  {
   "cell_type": "markdown",
   "metadata": {
    "id": "hBFr4cv4tphz"
   },
   "source": [
    "### Méthode quasi tout torch\n",
    "\n",
    "Torch est très proche de numpy dans ses possibilités (en particulier le fait de pouvoir modifier des bouts de tenseurs).\n",
    "\n",
    "Perso, dans un projet de deeplearning, j'utilise quasi tout le temps torch, y compris pour les prétraitements.\n",
    "\n",
    "Et dans un projet sans deeplearning, j'utilise uniquement numpy qui est un peu plus rapide si on travaille uniquement sur cpu."
   ]
  },
  {
   "cell_type": "code",
   "execution_count": 15,
   "metadata": {
    "colab": {
     "base_uri": "https://localhost:8080/",
     "height": 437
    },
    "executionInfo": {
     "elapsed": 529,
     "status": "ok",
     "timestamp": 1730760947028,
     "user": {
      "displayName": "vincent vigon",
      "userId": "09456169185020192907"
     },
     "user_tz": -60
    },
    "id": "5diDXZmptvUQ",
    "outputId": "ac269fd8-378f-45fe-9e27-15445c4b72ba"
   },
   "outputs": [
    {
     "data": {
      "image/png": "[encoded data removed]",
      "text/plain": [
       "<Figure size 480x480 with 1 Axes>"
      ]
     },
     "metadata": {},
     "output_type": "display_data"
    }
   ],
   "source": [
    "torch.set_default_dtype(torch.float64)\n",
    "A=torch.ones([10,10])\n",
    "A[3,3]=5\n",
    "A+=torch.randn(10,10)\n",
    "\n",
    "plt.matshow(A);"
   ]
  },
  {
   "cell_type": "markdown",
   "metadata": {
    "id": "a3ybmto1ugXT"
   },
   "source": [
    "On verra plus tard qu'il faut parfois faire ceci:\n",
    "\n",
    "Si on bosse sur le GPU:\n",
    "\n",
    "    plt.matshow(A.cpu())\n",
    "\n",
    "Si on `A` est relié à un graph de calcul\n",
    "\n",
    "    plt.matshow(A.detach())\n",
    "\n",
    "Et si les deux\n",
    "\n",
    "    plt.matshow(A.detach().cpu()\n",
    "\n"
   ]
  },
  {
   "cell_type": "markdown",
   "metadata": {
    "id": "PBNP8yTRfu_X"
   },
   "source": [
    "## Accélération GPU\n",
    "\n",
    "En tf ou en torch, on peut accélérer les calculs avec le GPU.\n"
   ]
  },
  {
   "cell_type": "markdown",
   "metadata": {
    "id": "uNOjLYKImJeJ"
   },
   "source": [
    "### Tensorflow"
   ]
  },
  {
   "cell_type": "markdown",
   "metadata": {
    "id": "-BFZCN-MZ63S"
   },
   "source": [
    "\n",
    "Si dans colab, vous n'avez mis en route le GPU, la liste ci-dessous sera vide. Sinon, allez dans\n",
    "\n",
    "    Exécution>modifier le type d'excécution\n",
    "\n",
    "Colab vous propose alors 1 GPU. D'autre serveur peuvent en proposer plus.  "
   ]
  },
  {
   "cell_type": "code",
   "execution_count": 16,
   "metadata": {
    "cellView": "code",
    "colab": {
     "base_uri": "https://localhost:8080/"
    },
    "executionInfo": {
     "elapsed": 2,
     "status": "ok",
     "timestamp": 1730760947028,
     "user": {
      "displayName": "vincent vigon",
      "userId": "09456169185020192907"
     },
     "user_tz": -60
    },
    "id": "3Twf_Rw-gQFM",
    "outputId": "1a80577b-c7c9-4b9a-81c7-728e99175f70"
   },
   "outputs": [
    {
     "data": {
      "text/plain": [
       "[LogicalDevice(name='/device:CPU:0', device_type='CPU')]"
      ]
     },
     "execution_count": 16,
     "metadata": {},
     "output_type": "execute_result"
    }
   ],
   "source": [
    "tf.config.list_logical_devices()"
   ]
  },
  {
   "cell_type": "markdown",
   "metadata": {
    "id": "5ghy9kO3Zp6f"
   },
   "source": [
    "Quand on a créé un tenseur, l'attribut `.device` fournit une chaine de caractère qui caractérise le dispositif l'héberge."
   ]
  },
  {
   "cell_type": "code",
   "execution_count": 17,
   "metadata": {
    "colab": {
     "base_uri": "https://localhost:8080/",
     "height": 36
    },
    "executionInfo": {
     "elapsed": 2,
     "status": "ok",
     "timestamp": 1730760947028,
     "user": {
      "displayName": "vincent vigon",
      "userId": "09456169185020192907"
     },
     "user_tz": -60
    },
    "id": "lr0XURaBZw6b",
    "outputId": "9169db30-62f2-4866-d608-7b9aa1d44d7a"
   },
   "outputs": [
    {
     "data": {
      "text/plain": [
       "'/job:localhost/replica:0/task:0/device:CPU:0'"
      ]
     },
     "execution_count": 17,
     "metadata": {},
     "output_type": "execute_result"
    }
   ],
   "source": [
    "X_tf=tf.ones([3,3])\n",
    "X_tf.device"
   ]
  },
  {
   "cell_type": "markdown",
   "metadata": {
    "id": "vpgYzgVXW2Ud"
   },
   "source": [
    "Cette chaîne de caractère se termine par `cuda:N` ou `GPU:N` signifie que le tenseur est placé sur le `N`-ème GPU de l'hôte.\n"
   ]
  },
  {
   "cell_type": "code",
   "execution_count": 18,
   "metadata": {
    "id": "5chWIXpG3mHE"
   },
   "outputs": [
    {
     "name": "stderr",
     "output_type": "stream",
     "text": [
      "2024-11-28 16:07:10.147566: W external/local_tsl/tsl/framework/cpu_allocator_impl.cc:83] Allocation of 196000000 exceeds 10% of free system memory.\n"
     ]
    }
   ],
   "source": [
    "size=7000\n",
    "X_tf=tf.ones([size,size])"
   ]
  },
  {
   "cell_type": "code",
   "execution_count": 19,
   "metadata": {
    "colab": {
     "base_uri": "https://localhost:8080/"
    },
    "executionInfo": {
     "elapsed": 516,
     "status": "ok",
     "timestamp": 1730760947543,
     "user": {
      "displayName": "vincent vigon",
      "userId": "09456169185020192907"
     },
     "user_tz": -60
    },
    "id": "ndmym-VzmxDg",
    "outputId": "0cf9dfcf-cbe5-4ca9-c908-9680c32d586d"
   },
   "outputs": [
    {
     "name": "stderr",
     "output_type": "stream",
     "text": [
      "2024-11-28 16:07:10.208540: W external/local_tsl/tsl/framework/cpu_allocator_impl.cc:83] Allocation of 196000000 exceeds 10% of free system memory.\n"
     ]
    },
    {
     "name": "stdout",
     "output_type": "stream",
     "text": [
      "CPU times: user 21.1 s, sys: 426 ms, total: 21.5 s\n",
      "Wall time: 2.22 s\n"
     ]
    },
    {
     "data": {
      "text/plain": [
       "<tf.Tensor: shape=(7000, 7000), dtype=float32, numpy=\n",
       "array([[7000., 7000., 7000., ..., 7000., 7000., 7000.],\n",
       "       [7000., 7000., 7000., ..., 7000., 7000., 7000.],\n",
       "       [7000., 7000., 7000., ..., 7000., 7000., 7000.],\n",
       "       ...,\n",
       "       [7000., 7000., 7000., ..., 7000., 7000., 7000.],\n",
       "       [7000., 7000., 7000., ..., 7000., 7000., 7000.],\n",
       "       [7000., 7000., 7000., ..., 7000., 7000., 7000.]], dtype=float32)>"
      ]
     },
     "execution_count": 19,
     "metadata": {},
     "output_type": "execute_result"
    }
   ],
   "source": [
    "%%time\n",
    "X_tf@X_tf"
   ]
  },
  {
   "cell_type": "markdown",
   "metadata": {
    "id": "ZWZQCimzuqyP"
   },
   "source": [
    "### Placement explicite\n",
    "\n",
    "Mais on peut décider soit même du placement en utilisant le contexte-manager `tf.device`:"
   ]
  },
  {
   "cell_type": "code",
   "execution_count": 20,
   "metadata": {
    "colab": {
     "base_uri": "https://localhost:8080/"
    },
    "executionInfo": {
     "elapsed": 11709,
     "status": "ok",
     "timestamp": 1730760959251,
     "user": {
      "displayName": "vincent vigon",
      "userId": "09456169185020192907"
     },
     "user_tz": -60
    },
    "id": "LEhp_HmL3TWD",
    "outputId": "df3771d0-9a7f-4d34-cc42-8f5fbd53c5d7"
   },
   "outputs": [
    {
     "name": "stderr",
     "output_type": "stream",
     "text": [
      "2024-11-28 16:07:12.434033: W external/local_tsl/tsl/framework/cpu_allocator_impl.cc:83] Allocation of 196000000 exceeds 10% of free system memory.\n"
     ]
    },
    {
     "name": "stdout",
     "output_type": "stream",
     "text": [
      "(7000, 7000)\n",
      "CPU times: user 21.2 s, sys: 450 ms, total: 21.7 s\n",
      "Wall time: 2.25 s\n"
     ]
    }
   ],
   "source": [
    "%%time\n",
    "with tf.device(\"CPU:0\"): #ou \"GPU:i\" pour utiliser le GPU numéro i\n",
    "    print( (X_tf@X_tf).shape)"
   ]
  },
  {
   "cell_type": "markdown",
   "metadata": {
    "id": "_GMwd4ehmQy-"
   },
   "source": [
    "### Torch"
   ]
  },
  {
   "cell_type": "code",
   "execution_count": 21,
   "metadata": {
    "colab": {
     "base_uri": "https://localhost:8080/"
    },
    "executionInfo": {
     "elapsed": 335,
     "status": "ok",
     "timestamp": 1730760959584,
     "user": {
      "displayName": "vincent vigon",
      "userId": "09456169185020192907"
     },
     "user_tz": -60
    },
    "id": "A_rmc-DcmSVy",
    "outputId": "a66c54ab-b4c0-49cf-b13e-b42390d9000a"
   },
   "outputs": [
    {
     "data": {
      "text/plain": [
       "device(type='cpu')"
      ]
     },
     "execution_count": 21,
     "metadata": {},
     "output_type": "execute_result"
    }
   ],
   "source": [
    "X_torch=torch.ones([size,size])\n",
    "X_torch.device"
   ]
  },
  {
   "cell_type": "code",
   "execution_count": 22,
   "metadata": {
    "colab": {
     "base_uri": "https://localhost:8080/"
    },
    "executionInfo": {
     "elapsed": 2,
     "status": "ok",
     "timestamp": 1730760959584,
     "user": {
      "displayName": "vincent vigon",
      "userId": "09456169185020192907"
     },
     "user_tz": -60
    },
    "id": "M18r9nMYmYnF",
    "outputId": "d65fccbb-6199-48d5-d33c-48e9cf929ecb"
   },
   "outputs": [
    {
     "ename": "AssertionError",
     "evalue": "Torch not compiled with CUDA enabled",
     "output_type": "error",
     "traceback": [
      "\u001b[0;31m---------------------------------------------------------------------------\u001b[0m",
      "\u001b[0;31mAssertionError\u001b[0m                            Traceback (most recent call last)",
      "Cell \u001b[0;32mIn[22], line 1\u001b[0m\n\u001b[0;32m----> 1\u001b[0m X_torch\u001b[38;5;241m=\u001b[39mX_torch\u001b[38;5;241m.\u001b[39mto(\u001b[38;5;124m\"\u001b[39m\u001b[38;5;124mcuda\u001b[39m\u001b[38;5;124m\"\u001b[39m)\n\u001b[1;32m      2\u001b[0m X_torch\u001b[38;5;241m.\u001b[39mdevice\n",
      "File \u001b[0;32m~/anaconda3/envs/myconda/lib/python3.12/site-packages/torch/cuda/__init__.py:310\u001b[0m, in \u001b[0;36m_lazy_init\u001b[0;34m()\u001b[0m\n\u001b[1;32m    305\u001b[0m     \u001b[38;5;28;01mraise\u001b[39;00m \u001b[38;5;167;01mRuntimeError\u001b[39;00m(\n\u001b[1;32m    306\u001b[0m         \u001b[38;5;124m\"\u001b[39m\u001b[38;5;124mCannot re-initialize CUDA in forked subprocess. To use CUDA with \u001b[39m\u001b[38;5;124m\"\u001b[39m\n\u001b[1;32m    307\u001b[0m         \u001b[38;5;124m\"\u001b[39m\u001b[38;5;124mmultiprocessing, you must use the \u001b[39m\u001b[38;5;124m'\u001b[39m\u001b[38;5;124mspawn\u001b[39m\u001b[38;5;124m'\u001b[39m\u001b[38;5;124m start method\u001b[39m\u001b[38;5;124m\"\u001b[39m\n\u001b[1;32m    308\u001b[0m     )\n\u001b[1;32m    309\u001b[0m \u001b[38;5;28;01mif\u001b[39;00m \u001b[38;5;129;01mnot\u001b[39;00m \u001b[38;5;28mhasattr\u001b[39m(torch\u001b[38;5;241m.\u001b[39m_C, \u001b[38;5;124m\"\u001b[39m\u001b[38;5;124m_cuda_getDeviceCount\u001b[39m\u001b[38;5;124m\"\u001b[39m):\n\u001b[0;32m--> 310\u001b[0m     \u001b[38;5;28;01mraise\u001b[39;00m \u001b[38;5;167;01mAssertionError\u001b[39;00m(\u001b[38;5;124m\"\u001b[39m\u001b[38;5;124mTorch not compiled with CUDA enabled\u001b[39m\u001b[38;5;124m\"\u001b[39m)\n\u001b[1;32m    311\u001b[0m \u001b[38;5;28;01mif\u001b[39;00m _cudart \u001b[38;5;129;01mis\u001b[39;00m \u001b[38;5;28;01mNone\u001b[39;00m:\n\u001b[1;32m    312\u001b[0m     \u001b[38;5;28;01mraise\u001b[39;00m \u001b[38;5;167;01mAssertionError\u001b[39;00m(\n\u001b[1;32m    313\u001b[0m         \u001b[38;5;124m\"\u001b[39m\u001b[38;5;124mlibcudart functions unavailable. It looks like you have a broken build?\u001b[39m\u001b[38;5;124m\"\u001b[39m\n\u001b[1;32m    314\u001b[0m     )\n",
      "\u001b[0;31mAssertionError\u001b[0m: Torch not compiled with CUDA enabled"
     ]
    }
   ],
   "source": [
    "X_torch=X_torch.to(\"cuda\")\n",
    "X_torch.device"
   ]
  },
  {
   "cell_type": "markdown",
   "metadata": {
    "id": "gyC4FB77nRZI"
   },
   "source": [
    "On pourrait revenir en arrière avec:\n",
    "\n",
    "    X_torch=X_torch.to(\"cpu\")\n",
    "\n",
    "ou bien\n",
    "\n",
    "    X_torch=X_torch.cpu()\n",
    "\n"
   ]
  },
  {
   "cell_type": "code",
   "execution_count": null,
   "metadata": {
    "colab": {
     "base_uri": "https://localhost:8080/"
    },
    "executionInfo": {
     "elapsed": 3457,
     "status": "ok",
     "timestamp": 1730760963040,
     "user": {
      "displayName": "vincent vigon",
      "userId": "09456169185020192907"
     },
     "user_tz": -60
    },
    "id": "rcU0GCcLmhyD",
    "outputId": "600870f2-e9e3-4842-c1fd-7b709dc5565b"
   },
   "outputs": [],
   "source": [
    "%%time\n",
    "X_torch@X_torch"
   ]
  },
  {
   "cell_type": "markdown",
   "metadata": {
    "id": "4AkWsLlK_xSD"
   },
   "source": [
    "### Fixer un cadre de travail"
   ]
  },
  {
   "cell_type": "code",
   "execution_count": null,
   "metadata": {
    "id": "tfSoVVFy_3sj"
   },
   "outputs": [],
   "source": [
    "torch.set_default_device(\"cuda\")\n",
    "torch.set_default_dtype(torch.float32)"
   ]
  },
  {
   "cell_type": "code",
   "execution_count": null,
   "metadata": {
    "colab": {
     "base_uri": "https://localhost:8080/"
    },
    "executionInfo": {
     "elapsed": 12,
     "status": "ok",
     "timestamp": 1730760963040,
     "user": {
      "displayName": "vincent vigon",
      "userId": "09456169185020192907"
     },
     "user_tz": -60
    },
    "id": "69KjCZbVAKaI",
    "outputId": "dd3e82a3-0828-4e86-f785-75bc43959e20"
   },
   "outputs": [],
   "source": [
    "#dorénavent, si on ne précise rien, on travaille sur cuda et en float32\n",
    "A=torch.ones([2,2])\n",
    "A.device, A.dtype"
   ]
  },
  {
   "cell_type": "code",
   "execution_count": null,
   "metadata": {
    "colab": {
     "base_uri": "https://localhost:8080/"
    },
    "executionInfo": {
     "elapsed": 11,
     "status": "ok",
     "timestamp": 1730760963040,
     "user": {
      "displayName": "vincent vigon",
      "userId": "09456169185020192907"
     },
     "user_tz": -60
    },
    "id": "3TnauasbAMa-",
    "outputId": "d17a0588-e5c8-4d51-f2d5-6d67fb189ddc"
   },
   "outputs": [],
   "source": [
    "#et si on a un doute:\n",
    "print(torch.get_default_device())\n",
    "print(torch.get_default_dtype())"
   ]
  },
  {
   "cell_type": "markdown",
   "metadata": {
    "id": "U7xkmtsqAeyB"
   },
   "source": [
    "Conseil:\n",
    "* Pour le deep-learning travaillez en float32\n",
    "* Pour des solver numériques, travaillez en float64\n",
    "* Pour les entiers, décidez au cas par cas: si vous avez besoin de stocker d'énorme tenseur contenant des petits entiers, n'hésitez pas à choisir des `int16` ou même des `uint8` (pour stocker des images par exemple)."
   ]
  },
  {
   "cell_type": "markdown",
   "metadata": {
    "id": "HX7_I5Rg4NPb"
   },
   "source": [
    "## Calcul tensoriel\n",
    "\n"
   ]
  },
  {
   "cell_type": "markdown",
   "metadata": {
    "id": "cwhFpqZGBS7K"
   },
   "source": [
    "### Variation sur les syntaxes"
   ]
  },
  {
   "cell_type": "markdown",
   "metadata": {
    "id": "L3xkckEGonCf"
   },
   "source": [
    "Petites variations"
   ]
  },
  {
   "cell_type": "code",
   "execution_count": null,
   "metadata": {
    "id": "LO1M4wf2oLx4"
   },
   "outputs": [],
   "source": [
    "data = [[1., 2],[3, 4],[5,6]]\n",
    "X_torch = torch.tensor(data)\n",
    "X_tf = tf.constant(data)\n",
    "X_np = np.array(data)"
   ]
  },
  {
   "cell_type": "code",
   "execution_count": null,
   "metadata": {
    "colab": {
     "base_uri": "https://localhost:8080/"
    },
    "executionInfo": {
     "elapsed": 11,
     "status": "ok",
     "timestamp": 1730760963041,
     "user": {
      "displayName": "vincent vigon",
      "userId": "09456169185020192907"
     },
     "user_tz": -60
    },
    "id": "HV97nczHoe3Z",
    "outputId": "52a2e9b5-79db-484f-daa1-9710dfb217a6"
   },
   "outputs": [],
   "source": [
    "tf.reduce_sum(X_tf,axis=0)"
   ]
  },
  {
   "cell_type": "code",
   "execution_count": null,
   "metadata": {
    "colab": {
     "base_uri": "https://localhost:8080/"
    },
    "executionInfo": {
     "elapsed": 10,
     "status": "ok",
     "timestamp": 1730760963041,
     "user": {
      "displayName": "vincent vigon",
      "userId": "09456169185020192907"
     },
     "user_tz": -60
    },
    "id": "e16eQr3Toe6F",
    "outputId": "12759f65-6393-4c8b-9e1e-4f683f12a838"
   },
   "outputs": [],
   "source": [
    "np.sum(X_np,axis=0)\n",
    "#ou bien X_np.sum(axis=0)"
   ]
  },
  {
   "cell_type": "code",
   "execution_count": null,
   "metadata": {
    "colab": {
     "base_uri": "https://localhost:8080/"
    },
    "executionInfo": {
     "elapsed": 9,
     "status": "ok",
     "timestamp": 1730760963041,
     "user": {
      "displayName": "vincent vigon",
      "userId": "09456169185020192907"
     },
     "user_tz": -60
    },
    "id": "XZQ3xpcBoXSn",
    "outputId": "c4f93f80-44e3-4ab3-c796-394ac4ddf551"
   },
   "outputs": [],
   "source": [
    "X_torch.sum(dim=0)\n",
    "#ou bien torch.sum(X_torch,dim=0)"
   ]
  },
  {
   "cell_type": "code",
   "execution_count": null,
   "metadata": {
    "colab": {
     "base_uri": "https://localhost:8080/"
    },
    "executionInfo": {
     "elapsed": 8,
     "status": "ok",
     "timestamp": 1730760963041,
     "user": {
      "displayName": "vincent vigon",
      "userId": "09456169185020192907"
     },
     "user_tz": -60
    },
    "id": "GhS8n3Vno0YN",
    "outputId": "c887732e-4a9c-4636-b2c3-41f604034f79"
   },
   "outputs": [],
   "source": [
    "X_torch.shape"
   ]
  },
  {
   "cell_type": "markdown",
   "metadata": {
    "id": "imEHqbCb-Wxb"
   },
   "source": [
    "### inplace/via des copies"
   ]
  },
  {
   "cell_type": "code",
   "execution_count": null,
   "metadata": {
    "colab": {
     "base_uri": "https://localhost:8080/"
    },
    "executionInfo": {
     "elapsed": 7,
     "status": "ok",
     "timestamp": 1730760963041,
     "user": {
      "displayName": "vincent vigon",
      "userId": "09456169185020192907"
     },
     "user_tz": -60
    },
    "id": "ASprD-Nao87q",
    "outputId": "4290cd25-31e2-4274-a70f-f6aa2b243db8"
   },
   "outputs": [],
   "source": [
    "X=torch.ones([2,2])\n",
    "Y=torch.sin(X) # ou bien Y=X.sin()\n",
    "print(X,\"\\n\",Y)"
   ]
  },
  {
   "cell_type": "code",
   "execution_count": null,
   "metadata": {
    "colab": {
     "base_uri": "https://localhost:8080/"
    },
    "executionInfo": {
     "elapsed": 7,
     "status": "ok",
     "timestamp": 1730760963041,
     "user": {
      "displayName": "vincent vigon",
      "userId": "09456169185020192907"
     },
     "user_tz": -60
    },
    "id": "GjbsQWxZ-qFH",
    "outputId": "3713e2d1-9176-4eff-c842-3760006e9767"
   },
   "outputs": [],
   "source": [
    "X=torch.ones([2,2])\n",
    "Y=torch.sin_(X)# ou bizn Y =X.sin_() # ou bien Y=torch ???\n",
    "print(X,\"\\n\",Y)"
   ]
  },
  {
   "cell_type": "markdown",
   "metadata": {
    "id": "kLPQU1bleIUj"
   },
   "source": [
    "Le suffixe `_` désigne les opérations dites \"in-place\""
   ]
  },
  {
   "cell_type": "code",
   "execution_count": null,
   "metadata": {
    "colab": {
     "base_uri": "https://localhost:8080/"
    },
    "executionInfo": {
     "elapsed": 6,
     "status": "ok",
     "timestamp": 1730760963041,
     "user": {
      "displayName": "vincent vigon",
      "userId": "09456169185020192907"
     },
     "user_tz": -60
    },
    "id": "fS39tQ_M_CvP",
    "outputId": "e3ad2a29-aca2-4c6c-dbae-e49492c096c8"
   },
   "outputs": [],
   "source": [
    "X=tf.ones([2,2])\n",
    "Y=tf.sin(X)\n",
    "print(X,\"\\n\",Y)"
   ]
  },
  {
   "cell_type": "markdown",
   "metadata": {
    "id": "MGiTO8rFefH2"
   },
   "source": [
    "Aucune opération n'est \"in place\" avec les tenseurs \"constant\" de `tf`. Tensorflow possède une seconde classe de tenseurs \"Variable\" qui permettent certaines opérations inplace."
   ]
  },
  {
   "cell_type": "code",
   "execution_count": null,
   "metadata": {
    "colab": {
     "base_uri": "https://localhost:8080/"
    },
    "executionInfo": {
     "elapsed": 5,
     "status": "ok",
     "timestamp": 1730760963041,
     "user": {
      "displayName": "vincent vigon",
      "userId": "09456169185020192907"
     },
     "user_tz": -60
    },
    "id": "fY4XafWZeWkk",
    "outputId": "9a3c4a8b-9ded-44cd-c65d-750ebae09495"
   },
   "outputs": [],
   "source": [
    "X=np.ones([2,2])\n",
    "Y=np.sin(X)\n",
    "print(X,\"\\n\",Y)"
   ]
  },
  {
   "cell_type": "markdown",
   "metadata": {
    "id": "Zn6GWRA-eva0"
   },
   "source": [
    "En numpy les opérations: `+=`, `-=`, `*=` sont 'inplace'. C'est très souvent source de bug. Exemple:"
   ]
  },
  {
   "cell_type": "code",
   "execution_count": null,
   "metadata": {
    "colab": {
     "base_uri": "https://localhost:8080/",
     "height": 54
    },
    "executionInfo": {
     "elapsed": 5,
     "status": "ok",
     "timestamp": 1730760963041,
     "user": {
      "displayName": "vincent vigon",
      "userId": "09456169185020192907"
     },
     "user_tz": -60
    },
    "id": "YKTmY08KXArS",
    "outputId": "5a46d33a-949f-43bf-8c3c-80e32cc2d331"
   },
   "outputs": [],
   "source": [
    "def cov(X,Y):\n",
    "    X-=np.mean(X)\n",
    "    Y-=np.mean(Y)\n",
    "    return np.mean(X*Y)\n",
    "\"\"\"\n",
    "Cette fonction calcule la covariance.\n",
    "Mais l'utilisateur qui l'utilisera aura une mauvaise surprise.\n",
    "\"\"\""
   ]
  },
  {
   "cell_type": "markdown",
   "metadata": {
    "id": "P1vx4uGJf2v4"
   },
   "source": [
    "Les affectations via les crochets qui créées des \"vues\" sur les tenseurs:"
   ]
  },
  {
   "cell_type": "code",
   "execution_count": null,
   "metadata": {
    "colab": {
     "base_uri": "https://localhost:8080/"
    },
    "executionInfo": {
     "elapsed": 309,
     "status": "ok",
     "timestamp": 1730760963346,
     "user": {
      "displayName": "vincent vigon",
      "userId": "09456169185020192907"
     },
     "user_tz": -60
    },
    "id": "T8P7-JyRe99p",
    "outputId": "3588f7f7-c321-4991-eb81-7c69e2d5feb2"
   },
   "outputs": [],
   "source": [
    "#piège classique\n",
    "X=np.ones([3,3])\n",
    "Y=X[:2,:2]\n",
    "Y[:,:]=0\n",
    "X"
   ]
  },
  {
   "cell_type": "markdown",
   "metadata": {
    "id": "xXtAUO-0fR4K"
   },
   "source": [
    "C'est idem en torch. Observez:\n",
    "\n"
   ]
  },
  {
   "cell_type": "code",
   "execution_count": null,
   "metadata": {
    "colab": {
     "base_uri": "https://localhost:8080/"
    },
    "executionInfo": {
     "elapsed": 5,
     "status": "ok",
     "timestamp": 1730760963346,
     "user": {
      "displayName": "vincent vigon",
      "userId": "09456169185020192907"
     },
     "user_tz": -60
    },
    "id": "B0hhx9fR_rBP",
    "outputId": "6524a2cd-9159-486f-cb89-4d064119abd3"
   },
   "outputs": [],
   "source": [
    "x=torch.tensor(0.)\n",
    "xs=[]\n",
    "for _ in range(5):\n",
    "    x+=1\n",
    "    xs.append(x)\n",
    "print(xs)"
   ]
  },
  {
   "cell_type": "code",
   "execution_count": null,
   "metadata": {
    "colab": {
     "base_uri": "https://localhost:8080/"
    },
    "executionInfo": {
     "elapsed": 4,
     "status": "ok",
     "timestamp": 1730760963346,
     "user": {
      "displayName": "vincent vigon",
      "userId": "09456169185020192907"
     },
     "user_tz": -60
    },
    "id": "V6e8tWDIAKG0",
    "outputId": "bb2df139-386d-4397-ea23-4c2fd20a80f1"
   },
   "outputs": [],
   "source": [
    "x=torch.tensor(0.)\n",
    "xs=[]\n",
    "for _ in range(5):\n",
    "    x=x+1\n",
    "    xs.append(x)\n",
    "print(xs)"
   ]
  },
  {
   "cell_type": "markdown",
   "metadata": {
    "id": "vfcLL9uHA4md"
   },
   "source": [
    "Attention, les méthodes `.numpy()` ou `.detach()` font des copies de surface:"
   ]
  },
  {
   "cell_type": "code",
   "execution_count": null,
   "metadata": {
    "colab": {
     "base_uri": "https://localhost:8080/"
    },
    "executionInfo": {
     "elapsed": 335,
     "status": "ok",
     "timestamp": 1730761065779,
     "user": {
      "displayName": "vincent vigon",
      "userId": "09456169185020192907"
     },
     "user_tz": -60
    },
    "id": "oshSS5iy_9uk",
    "outputId": "ab7e1dfc-ced6-4846-e19f-5a9989f6ca40"
   },
   "outputs": [],
   "source": [
    "x=torch.tensor(0.,device=\"cpu\")\n",
    "xs=[]\n",
    "for _ in range(5):\n",
    "    x+=1\n",
    "    xs.append(x.numpy())\n",
    "print(xs)"
   ]
  },
  {
   "cell_type": "code",
   "execution_count": null,
   "metadata": {
    "colab": {
     "base_uri": "https://localhost:8080/"
    },
    "executionInfo": {
     "elapsed": 219,
     "status": "ok",
     "timestamp": 1730761071056,
     "user": {
      "displayName": "vincent vigon",
      "userId": "09456169185020192907"
     },
     "user_tz": -60
    },
    "id": "QAzsL3rrwIDC",
    "outputId": "aa7d785a-fa26-4a23-e938-c33b18384b08"
   },
   "outputs": [],
   "source": [
    "x=torch.tensor(0.)\n",
    "xs=[]\n",
    "for _ in range(5):\n",
    "    x+=1\n",
    "    xs.append(x.detach())\n",
    "print(xs)"
   ]
  },
  {
   "cell_type": "markdown",
   "metadata": {
    "id": "PnS6Z1QTBBnk"
   },
   "source": [
    "Il faut utiliser `.clone()` pour une copie des données"
   ]
  },
  {
   "cell_type": "code",
   "execution_count": null,
   "metadata": {
    "colab": {
     "base_uri": "https://localhost:8080/"
    },
    "executionInfo": {
     "elapsed": 450,
     "status": "ok",
     "timestamp": 1730761074540,
     "user": {
      "displayName": "vincent vigon",
      "userId": "09456169185020192907"
     },
     "user_tz": -60
    },
    "id": "NduALvsoBErH",
    "outputId": "b2dd8fd8-9e36-4782-e714-b8246599f200"
   },
   "outputs": [],
   "source": [
    "x=torch.tensor(0.)\n",
    "xs=[]\n",
    "for _ in range(5):\n",
    "    x+=1\n",
    "    xs.append(x.clone())\n",
    "print(xs)"
   ]
  },
  {
   "cell_type": "markdown",
   "metadata": {
    "id": "qLI1WACty5aR"
   },
   "source": [
    "***A vous:*** Et la méthode `.cpu()` d'après vous, fait-elle une copie ?"
   ]
  },
  {
   "cell_type": "markdown",
   "metadata": {
    "id": "vjcFyQmzAzgR"
   },
   "source": [
    "***Conseil:*** Testez pour savoir !"
   ]
  },
  {
   "cell_type": "markdown",
   "metadata": {
    "id": "cUlyzzG_h4xX"
   },
   "source": [
    "## Broadcasting\n",
    "\n",
    "C'est faire des opérations entre des tenseurs qui n'ont pas la même shape"
   ]
  },
  {
   "cell_type": "markdown",
   "metadata": {
    "id": "v2Yb0WMHKpQY"
   },
   "source": [
    "###  Lemme des shapes\n",
    "\n",
    "***Lemme:*** Considérons une opération \"terme à terme\" entre deux tenseurs `A` et `B`. Par exemple l'opération `A+B`.\n",
    "Pour qu'elle soit valide, il faut que, pour chaque dimension `i` l'une des 3 contraintes suivantes soit satisfaite:\n",
    "\n",
    "* `A.shape[i]=B.shape[i]`\n",
    "* `A.shape[i]=1`\n",
    "* `B.shape[i]=1`\n",
    "\n",
    "Exemple d'opération valide:"
   ]
  },
  {
   "cell_type": "code",
   "execution_count": null,
   "metadata": {
    "colab": {
     "base_uri": "https://localhost:8080/"
    },
    "executionInfo": {
     "elapsed": 232,
     "status": "ok",
     "timestamp": 1730761080274,
     "user": {
      "displayName": "vincent vigon",
      "userId": "09456169185020192907"
     },
     "user_tz": -60
    },
    "id": "0foo_FjjLXkC",
    "outputId": "cd341cdd-135b-440e-e04b-96e1d5af1bf9"
   },
   "outputs": [],
   "source": [
    "A=tf.random.uniform([3,1,1,2,3,1])\n",
    "B=tf.random.uniform([3,5,5,1,1,3])\n",
    "(A+B).shape"
   ]
  },
  {
   "cell_type": "markdown",
   "metadata": {
    "id": "qGt_F5JTLy8F"
   },
   "source": [
    "Quand on a `A.shape[i]=n` et `B.shape[i]=1`, alors valeurs `B` sont répétée `n` fois le long de la i-ème dimension.\n",
    "\n",
    "Observons:"
   ]
  },
  {
   "cell_type": "code",
   "execution_count": null,
   "metadata": {
    "colab": {
     "base_uri": "https://localhost:8080/"
    },
    "executionInfo": {
     "elapsed": 463,
     "status": "ok",
     "timestamp": 1730761081838,
     "user": {
      "displayName": "vincent vigon",
      "userId": "09456169185020192907"
     },
     "user_tz": -60
    },
    "id": "k0EHmdOfMsQo",
    "outputId": "ca23f0d5-e7e7-44e5-bcb5-eb2d3015a854"
   },
   "outputs": [],
   "source": [
    "A=tf.constant([1,10,100]) # shape (3,)\n",
    "B=tf.constant([2,5]) # shape (2,)\n",
    "\n",
    "A = A [None,:]  #shape (1,3)\n",
    "B = B [:,None]  #shape (2,1)\n",
    "C=A*B\n",
    "C"
   ]
  },
  {
   "cell_type": "markdown",
   "metadata": {
    "id": "gw2BIFPohfmp"
   },
   "source": [
    "On a en fait effectuer $C_{ij}=A_j B_i$\n",
    "\n",
    "\n"
   ]
  },
  {
   "cell_type": "markdown",
   "metadata": {
    "id": "f9npUd2YTbH8"
   },
   "source": [
    "### Utilisation\n",
    "\n",
    "On ajoute des dimensions supplémentaires pour faire des opérations qu'on écrirait très naturellement en math. Exemple au pif: on veut définir\n",
    "\n",
    "\n",
    "$$\n",
    "\\sum_{j,l} A_{i,j} \\sin(B_{j,k,l} - C_{i,l})\n",
    "$$\n",
    "On passe d'abord par le tenseur:\n",
    "$$\n",
    "D_{i,j,k,l} =A_{i,j} \\sin(B_{j,k,l} - C_{i,l})\n",
    "$$\n",
    "que l'on somme ensuite suivant les axes $j,l$\n",
    "\n"
   ]
  },
  {
   "cell_type": "code",
   "execution_count": null,
   "metadata": {
    "colab": {
     "base_uri": "https://localhost:8080/"
    },
    "executionInfo": {
     "elapsed": 247,
     "status": "ok",
     "timestamp": 1730761082943,
     "user": {
      "displayName": "vincent vigon",
      "userId": "09456169185020192907"
     },
     "user_tz": -60
    },
    "id": "Fc4MASEVTS3j",
    "outputId": "432c87e2-5891-40ca-81dc-413c4d35f923"
   },
   "outputs": [],
   "source": [
    "A=tf.random.uniform([3,3])\n",
    "B=tf.random.uniform([3,3,3])\n",
    "C=tf.random.uniform([3,3])\n",
    "\n",
    "#On ajoute des 'None' sur les axes absents\n",
    "D=A[:,:,None,None]* tf.sin(B[None,:,:,:]-C[:,None,None,:])\n",
    "result=tf.reduce_sum(D,axis=[1,3])\n",
    "result"
   ]
  },
  {
   "cell_type": "markdown",
   "metadata": {
    "id": "voIo35vvkbCL"
   },
   "source": [
    "Attention, si on fait des opérations entre tenseurs de dimensions différentes, les lib ajoutent des `None` au début:"
   ]
  },
  {
   "cell_type": "code",
   "execution_count": null,
   "metadata": {
    "colab": {
     "base_uri": "https://localhost:8080/"
    },
    "executionInfo": {
     "elapsed": 445,
     "status": "ok",
     "timestamp": 1730761084483,
     "user": {
      "displayName": "vincent vigon",
      "userId": "09456169185020192907"
     },
     "user_tz": -60
    },
    "id": "IBXDOqtEkpdo",
    "outputId": "7497ba3c-da5d-481f-edea-0c37a519296f"
   },
   "outputs": [],
   "source": [
    "A=tf.random.uniform([3,3])\n",
    "B=tf.random.uniform([3])\n",
    "A+B"
   ]
  },
  {
   "cell_type": "code",
   "execution_count": null,
   "metadata": {
    "colab": {
     "base_uri": "https://localhost:8080/"
    },
    "executionInfo": {
     "elapsed": 2,
     "status": "ok",
     "timestamp": 1730761084816,
     "user": {
      "displayName": "vincent vigon",
      "userId": "09456169185020192907"
     },
     "user_tz": -60
    },
    "id": "coULQQvRkwPi",
    "outputId": "1a44ef9a-5efa-4c82-bd40-b767ccad9cc6"
   },
   "outputs": [],
   "source": [
    "A+B[None,:]"
   ]
  },
  {
   "cell_type": "markdown",
   "metadata": {
    "id": "uur4qq9qDzrx"
   },
   "source": [
    "***À vous:*** Considérons:"
   ]
  },
  {
   "cell_type": "code",
   "execution_count": null,
   "metadata": {
    "id": "L2VWkhBrD3yx"
   },
   "outputs": [],
   "source": [
    "a=tf.constant([[1.,2,3],[4,5,6],[7,8,9]])\n",
    "b=tf.constant([1.,1,1])\n",
    "c = 5"
   ]
  },
  {
   "cell_type": "markdown",
   "metadata": {
    "id": "cI4lWyPBEE0n"
   },
   "source": [
    "calculez\n",
    "\n",
    "    Sum_i (a[ij] - b[i] +c )^2\n",
    "    Sum_i (a[ij] - b[j] +c )^2"
   ]
  },
  {
   "cell_type": "markdown",
   "metadata": {
    "id": "hwnk5GscUKE4"
   },
   "source": [
    "## Coller des tenseurs"
   ]
  },
  {
   "cell_type": "markdown",
   "metadata": {
    "id": "eRZXzj268QTE"
   },
   "source": [
    "C'est une opération courante: on crée des données dans une boucle, puis on veut les réunir en un seul gros tenseur.\n",
    "\n",
    "Prenons l'exemple de vecteurs que l'on veut réunir en une matrice.\n",
    "\n",
    "En numpy, on peut faire cela comme ceci:"
   ]
  },
  {
   "cell_type": "code",
   "execution_count": null,
   "metadata": {
    "colab": {
     "base_uri": "https://localhost:8080/"
    },
    "executionInfo": {
     "elapsed": 332,
     "status": "ok",
     "timestamp": 1730761092052,
     "user": {
      "displayName": "vincent vigon",
      "userId": "09456169185020192907"
     },
     "user_tz": -60
    },
    "id": "bEPv8I4qUJVl",
    "outputId": "4e8abe1e-d307-4f2e-b78c-f82be92f9a83"
   },
   "outputs": [],
   "source": [
    "nb_line=5\n",
    "A=np.zeros([nb_line,2])\n",
    "for i in range(nb_line):\n",
    "    A[i,:] = i*np.ones([2])\n",
    "A"
   ]
  },
  {
   "cell_type": "markdown",
   "metadata": {
    "id": "6_NONO9ylith"
   },
   "source": [
    "On pourrait aussi le faire en torch, mais pas en tf. Cependant, il est souvent plus efficace d'utiliser la fonction `stack` qui existe dans les 3 lib:\n",
    "\n"
   ]
  },
  {
   "cell_type": "code",
   "execution_count": null,
   "metadata": {
    "colab": {
     "base_uri": "https://localhost:8080/"
    },
    "executionInfo": {
     "elapsed": 4,
     "status": "ok",
     "timestamp": 1730761092052,
     "user": {
      "displayName": "vincent vigon",
      "userId": "09456169185020192907"
     },
     "user_tz": -60
    },
    "id": "CFmxAsn1ld2I",
    "outputId": "2b4a8f78-0301-48df-f743-250ec1a4c8c4"
   },
   "outputs": [],
   "source": [
    "for lib in [np,tf,torch]:\n",
    "    A=[]\n",
    "    for i in range(5):\n",
    "        A.append( i*lib.ones([2]))\n",
    "    A=lib.stack(A)#par défaut dim ou axis=0\n",
    "    print(A)"
   ]
  },
  {
   "cell_type": "markdown",
   "metadata": {
    "id": "EJdgXtmUUTGA"
   },
   "source": [
    "On peut aussi faire la même chose avec les fonctions de concaténation. Mais attention:\n",
    "\n",
    "    tf.concat = np.concatenate = torch.cat = torch.concat\n",
    "\n",
    "On s'étonne que les gens ne se comprennent pas  🙄"
   ]
  },
  {
   "cell_type": "code",
   "execution_count": null,
   "metadata": {
    "colab": {
     "base_uri": "https://localhost:8080/"
    },
    "executionInfo": {
     "elapsed": 2,
     "status": "ok",
     "timestamp": 1730761092052,
     "user": {
      "displayName": "vincent vigon",
      "userId": "09456169185020192907"
     },
     "user_tz": -60
    },
    "id": "ATcrG6mJ-nVY",
    "outputId": "9caea56d-8a29-4dc0-aebc-53931a58c35e"
   },
   "outputs": [],
   "source": [
    "A=[]\n",
    "for i in range(5):\n",
    "    A.append(i*np.ones([1,2]))\n",
    "A=np.concatenate(A,axis=0)\n",
    "print(A)"
   ]
  }
 ],
 "metadata": {
  "accelerator": "GPU",
  "colab": {
   "gpuType": "T4",
   "provenance": []
  },
  "kernelspec": {
   "display_name": "myconda",
   "language": "python",
   "name": "python3"
  },
  "language_info": {
   "codemirror_mode": {
    "name": "ipython",
    "version": 3
   },
   "file_extension": ".py",
   "mimetype": "text/x-python",
   "name": "python",
   "nbconvert_exporter": "python",
   "pygments_lexer": "ipython3",
   "version": "3.12.7"
  }
 },
 "nbformat": 4,
 "nbformat_minor": 0
}
