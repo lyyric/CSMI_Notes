{
 "cells": [
  {
   "cell_type": "markdown",
   "id": "7NPX4q-8tIiL",
   "metadata": {
    "id": "7NPX4q-8tIiL"
   },
   "source": [
    "## Construire un pytree"
   ]
  },
  {
   "cell_type": "markdown",
   "id": "lken_Im9gf6T",
   "metadata": {
    "id": "lken_Im9gf6T"
   },
   "source": [
    "### Qu'est-ce qu'un pytree ?\n",
    "\n",
    "\n",
    "Un PyTree est une structure arborescente construite à partir d'objets Python enregistré dans le \"registre des conteneurs\". Dans ce registre il y a par défaut: `list`, `tuple`, `dict`, `namedtuple`.  \n",
    "\n",
    "Mais on peut aussi créer des objets  et les ajouter dans ce registre.\n",
    "\n",
    "Tout objet qui ne figure pas dans le registre est considéré comme une feuille du pytree.\n",
    "\n",
    "\n",
    "\n",
    "Les pytree servent à enregistrer:\n",
    "\n",
    "* Les paramètres d'un modèle: on construit un pytree dont les feuilles sont des tenseurs jax.\n",
    "* Les paramètres d'un optimiseur\n",
    "* Les data d'entrainement\n",
    "* etc.\n"
   ]
  },
  {
   "cell_type": "markdown",
   "id": "lWiUCXDrtX4Q",
   "metadata": {
    "id": "lWiUCXDrtX4Q"
   },
   "source": [
    "### Conteneurs `list`, `tuple`, `dict`"
   ]
  },
  {
   "cell_type": "code",
   "execution_count": 1,
   "id": "pAUnOdmojDvm",
   "metadata": {
    "id": "pAUnOdmojDvm"
   },
   "outputs": [],
   "source": [
    "import jax\n",
    "import jax.numpy as jnp\n",
    "\n",
    "a_pytree=[\n",
    "    1,\n",
    "    {'k1': object(),'k2': (3, (4,5))}, #dictionnaire\n",
    "    None,\n",
    "    (), #un tuple vide,\n",
    "    (\"a\",1),\n",
    "    jnp.array([1, 2, 3])\n",
    "    ]"
   ]
  },
  {
   "cell_type": "markdown",
   "id": "DTCUC1KfolNp",
   "metadata": {
    "id": "DTCUC1KfolNp"
   },
   "source": [
    "Un pytree a une struture:"
   ]
  },
  {
   "cell_type": "code",
   "execution_count": 2,
   "id": "ByQ3KR85ojdE",
   "metadata": {
    "colab": {
     "base_uri": "https://localhost:8080/"
    },
    "executionInfo": {
     "elapsed": 16,
     "status": "ok",
     "timestamp": 1755584351044,
     "user": {
      "displayName": "vincent vigon",
      "userId": "09456169185020192907"
     },
     "user_tz": -120
    },
    "id": "ByQ3KR85ojdE",
    "outputId": "6d4d20d4-3e3a-4ed3-abf1-55e1830172a8"
   },
   "outputs": [
    {
     "data": {
      "text/plain": [
       "PyTreeDef([*, {'k1': *, 'k2': (*, (*, *))}, None, (), (*, *), *])"
      ]
     },
     "execution_count": 2,
     "metadata": {},
     "output_type": "execute_result"
    }
   ],
   "source": [
    "jax.tree.structure(a_pytree)"
   ]
  },
  {
   "cell_type": "markdown",
   "id": "s2_ZqQaxoqAI",
   "metadata": {
    "id": "s2_ZqQaxoqAI"
   },
   "source": [
    "Et un contenu qui sont ses feuilles:"
   ]
  },
  {
   "cell_type": "code",
   "execution_count": 3,
   "id": "B0QQXj8woar8",
   "metadata": {
    "colab": {
     "base_uri": "https://localhost:8080/"
    },
    "executionInfo": {
     "elapsed": 25,
     "status": "ok",
     "timestamp": 1755584351478,
     "user": {
      "displayName": "vincent vigon",
      "userId": "09456169185020192907"
     },
     "user_tz": -120
    },
    "id": "B0QQXj8woar8",
    "outputId": "c4fbf1ab-5d3e-4a3f-d5f5-973a3c924c07"
   },
   "outputs": [
    {
     "data": {
      "text/plain": [
       "[1, <object at 0x138b180d0>, 3, 4, 5, 'a', 1, Array([1, 2, 3], dtype=int32)]"
      ]
     },
     "execution_count": 3,
     "metadata": {},
     "output_type": "execute_result"
    }
   ],
   "source": [
    "jax.tree.leaves(a_pytree)"
   ]
  },
  {
   "cell_type": "markdown",
   "id": "V9r1dkxRo4-M",
   "metadata": {
    "id": "V9r1dkxRo4-M"
   },
   "source": [
    "Applatir un pytree, c'est donner les feuilles et la structure"
   ]
  },
  {
   "cell_type": "code",
   "execution_count": 4,
   "id": "A6Z4d_q9opkR",
   "metadata": {
    "colab": {
     "base_uri": "https://localhost:8080/"
    },
    "executionInfo": {
     "elapsed": 10,
     "status": "ok",
     "timestamp": 1744400700582,
     "user": {
      "displayName": "vincent vigon",
      "userId": "09456169185020192907"
     },
     "user_tz": -120
    },
    "id": "A6Z4d_q9opkR",
    "outputId": "e163f0f3-8d65-4c8a-c93e-683b23dd0a4e"
   },
   "outputs": [
    {
     "data": {
      "text/plain": [
       "([1, <object at 0x138b180d0>, 3, 4, 5, 'a', 1, Array([1, 2, 3], dtype=int32)],\n",
       " PyTreeDef([*, {'k1': *, 'k2': (*, (*, *))}, None, (), (*, *), *]))"
      ]
     },
     "execution_count": 4,
     "metadata": {},
     "output_type": "execute_result"
    }
   ],
   "source": [
    "jax.tree.flatten(a_pytree)"
   ]
  },
  {
   "cell_type": "markdown",
   "id": "yxe8duOXRlu7",
   "metadata": {
    "id": "yxe8duOXRlu7"
   },
   "source": [
    "Désapplatir c'est crée un pytree à partir de ses feuilles et de sa structure:"
   ]
  },
  {
   "cell_type": "code",
   "execution_count": 5,
   "id": "rvQayOxgpA4u",
   "metadata": {
    "colab": {
     "base_uri": "https://localhost:8080/"
    },
    "executionInfo": {
     "elapsed": 3,
     "status": "ok",
     "timestamp": 1744400701464,
     "user": {
      "displayName": "vincent vigon",
      "userId": "09456169185020192907"
     },
     "user_tz": -120
    },
    "id": "rvQayOxgpA4u",
    "outputId": "cfd8e846-32f1-408b-b5c9-56cb113a8a89"
   },
   "outputs": [
    {
     "data": {
      "text/plain": [
       "[100, (200, 300), [400, 500]]"
      ]
     },
     "execution_count": 5,
     "metadata": {},
     "output_type": "execute_result"
    }
   ],
   "source": [
    "vals, treedef = jax.tree.flatten([1, (2, 3), [4, 5]])\n",
    "\n",
    "newvals = [100, 200, 300, 400, 500]\n",
    "\n",
    "jax.tree.unflatten(treedef, newvals)"
   ]
  },
  {
   "cell_type": "markdown",
   "id": "4kR1eEFKR57p",
   "metadata": {
    "id": "4kR1eEFKR57p"
   },
   "source": [
    "⇑ on a créer un nouveau pytree en changeant les feuilles."
   ]
  },
  {
   "cell_type": "markdown",
   "id": "W16G6IFuoJmU",
   "metadata": {
    "id": "W16G6IFuoJmU"
   },
   "source": [
    "### conteneur `namedtuple`\n",
    "\n",
    "Très pratique les namedtuple. On peut les construire avec une fonction:"
   ]
  },
  {
   "cell_type": "code",
   "execution_count": 6,
   "id": "EINpC8V6o86q",
   "metadata": {
    "id": "EINpC8V6o86q"
   },
   "outputs": [],
   "source": [
    "from collections import namedtuple\n",
    "\n",
    "Point_1 = namedtuple('Point', ['x', 'y'])\n",
    "\n",
    "p = Point_1(x=1, y=2)"
   ]
  },
  {
   "cell_type": "code",
   "execution_count": 7,
   "id": "Jyr3ZgIspCBW",
   "metadata": {
    "colab": {
     "base_uri": "https://localhost:8080/"
    },
    "executionInfo": {
     "elapsed": 4,
     "status": "ok",
     "timestamp": 1744400703669,
     "user": {
      "displayName": "vincent vigon",
      "userId": "09456169185020192907"
     },
     "user_tz": -120
    },
    "id": "Jyr3ZgIspCBW",
    "outputId": "0c5d5179-f993-4c89-beca-7d1e226ea6da"
   },
   "outputs": [
    {
     "name": "stdout",
     "output_type": "stream",
     "text": [
      "1 2\n"
     ]
    }
   ],
   "source": [
    "print(p[0],p[1])"
   ]
  },
  {
   "cell_type": "markdown",
   "id": "zHCADuYdnje2",
   "metadata": {
    "id": "zHCADuYdnje2"
   },
   "source": [
    "Ils ont toutes les propriétés des tuples, mais en plus on peut appeler leurs éléments comme des attributs."
   ]
  },
  {
   "cell_type": "code",
   "execution_count": 8,
   "id": "ecazH0oMnaMj",
   "metadata": {
    "colab": {
     "base_uri": "https://localhost:8080/"
    },
    "executionInfo": {
     "elapsed": 6,
     "status": "ok",
     "timestamp": 1744400705165,
     "user": {
      "displayName": "vincent vigon",
      "userId": "09456169185020192907"
     },
     "user_tz": -120
    },
    "id": "ecazH0oMnaMj",
    "outputId": "86cc6387-84f3-4acb-df18-eea6503aa7b5"
   },
   "outputs": [
    {
     "name": "stdout",
     "output_type": "stream",
     "text": [
      "1 2\n"
     ]
    }
   ],
   "source": [
    "print(p.x, p.y)"
   ]
  },
  {
   "cell_type": "markdown",
   "id": "GcgJ7XNkpLVg",
   "metadata": {
    "id": "GcgJ7XNkpLVg"
   },
   "source": [
    "On peut les construire par héritage:"
   ]
  },
  {
   "cell_type": "code",
   "execution_count": 9,
   "id": "vPIZ2Tbpl1h1",
   "metadata": {
    "id": "vPIZ2Tbpl1h1"
   },
   "outputs": [],
   "source": [
    "from typing import NamedTuple\n",
    "\n",
    "class Point_2(NamedTuple):\n",
    "    x:int\n",
    "    y:int"
   ]
  },
  {
   "cell_type": "code",
   "execution_count": null,
   "id": "bnFWq5G2nq0d",
   "metadata": {
    "colab": {
     "base_uri": "https://localhost:8080/"
    },
    "executionInfo": {
     "elapsed": 5,
     "status": "ok",
     "timestamp": 1744400707025,
     "user": {
      "displayName": "vincent vigon",
      "userId": "09456169185020192907"
     },
     "user_tz": -120
    },
    "id": "bnFWq5G2nq0d",
    "outputId": "1ec3c786-3047-48f6-adff-77f4a1c75d00"
   },
   "outputs": [],
   "source": [
    "p = Point_2(x=1, y=2)\n",
    "print(p.x, p.y)"
   ]
  },
  {
   "cell_type": "code",
   "execution_count": null,
   "id": "0k6_ZMpIpbLC",
   "metadata": {
    "colab": {
     "base_uri": "https://localhost:8080/"
    },
    "executionInfo": {
     "elapsed": 4,
     "status": "ok",
     "timestamp": 1744400708324,
     "user": {
      "displayName": "vincent vigon",
      "userId": "09456169185020192907"
     },
     "user_tz": -120
    },
    "id": "0k6_ZMpIpbLC",
    "outputId": "c88e77cb-8e7b-4b40-9c91-65237a2e508d"
   },
   "outputs": [],
   "source": [
    "print(p[0],p[1])"
   ]
  },
  {
   "cell_type": "markdown",
   "id": "eOa2KbTopf59",
   "metadata": {
    "id": "eOa2KbTopf59"
   },
   "source": [
    "Vérifions que cela marche comme conteneur pour les pytree:"
   ]
  },
  {
   "cell_type": "code",
   "execution_count": null,
   "id": "i6JbQyLNpdKG",
   "metadata": {
    "colab": {
     "base_uri": "https://localhost:8080/"
    },
    "executionInfo": {
     "elapsed": 134,
     "status": "ok",
     "timestamp": 1744400709641,
     "user": {
      "displayName": "vincent vigon",
      "userId": "09456169185020192907"
     },
     "user_tz": -120
    },
    "id": "i6JbQyLNpdKG",
    "outputId": "dfbf03b7-6ed4-4703-f8a0-2bf57077ab9b"
   },
   "outputs": [],
   "source": [
    "points=Point_2(x=jnp.zeros([3]),y=jnp.ones([3]))\n",
    "\n",
    "jax.tree.structure(points)"
   ]
  },
  {
   "cell_type": "code",
   "execution_count": null,
   "id": "UuCbdgdouc4Q",
   "metadata": {
    "colab": {
     "base_uri": "https://localhost:8080/"
    },
    "executionInfo": {
     "elapsed": 6,
     "status": "ok",
     "timestamp": 1744400711770,
     "user": {
      "displayName": "vincent vigon",
      "userId": "09456169185020192907"
     },
     "user_tz": -120
    },
    "id": "UuCbdgdouc4Q",
    "outputId": "8db1409d-be2a-4b97-b3ae-7fc1c7cf2822"
   },
   "outputs": [],
   "source": [
    "jax.tree.leaves(points)"
   ]
  },
  {
   "cell_type": "markdown",
   "id": "auEyvw-vqSxe",
   "metadata": {
    "id": "auEyvw-vqSxe"
   },
   "source": [
    "### conteneur perso\n",
    "\n",
    "\n",
    "Voilà comme déclarer notre propre classe comme conteneur."
   ]
  },
  {
   "cell_type": "code",
   "execution_count": null,
   "id": "fxYeCRP7p5Bh",
   "metadata": {
    "colab": {
     "base_uri": "https://localhost:8080/"
    },
    "executionInfo": {
     "elapsed": 5,
     "status": "ok",
     "timestamp": 1744400713159,
     "user": {
      "displayName": "vincent vigon",
      "userId": "09456169185020192907"
     },
     "user_tz": -120
    },
    "id": "fxYeCRP7p5Bh",
    "outputId": "46eacc5f-4383-46ee-bde1-fedc381b7893"
   },
   "outputs": [],
   "source": [
    "from jax.tree_util import register_pytree_node\n",
    "\n",
    "class Point_3:\n",
    "    def __init__(self, x, y):\n",
    "        self.x = x\n",
    "        self.y = y\n",
    "\n",
    "    def __repr__(self):\n",
    "        return f\"Point(x={self.x}, y={self.y})\"\n",
    "\n",
    "\n",
    "#on explique comment applatir un objet de notre classe spéciale\n",
    "def point_flatten(v):\n",
    "    children = (v.x, v.y)\n",
    "    aux_data = None # n'importe quoi qui pourrait nous aider.\n",
    "    return (children, aux_data)\n",
    "\n",
    "\n",
    "#On explique comment on construit notre objet à partir de sa version applatie.\n",
    "def point_unflatten(aux_data, children):\n",
    "    return Point_3(children[0],children[1])\n",
    "\n",
    "\n",
    "# Global registration\n",
    "register_pytree_node(\n",
    "    Point_3,\n",
    "    point_flatten,    # Instruct JAX what are the children nodes.\n",
    "    point_unflatten   # Instruct JAX how to pack back into a `RegisteredSpecial`.\n",
    ")\n",
    "\n",
    "\n",
    "points=Point_3(x=jnp.zeros([3]),y=jnp.ones([3]))\n",
    "jax.tree.structure(points)"
   ]
  },
  {
   "cell_type": "code",
   "execution_count": null,
   "id": "h-w3YK1WunPP",
   "metadata": {
    "colab": {
     "base_uri": "https://localhost:8080/"
    },
    "executionInfo": {
     "elapsed": 4,
     "status": "ok",
     "timestamp": 1744400714209,
     "user": {
      "displayName": "vincent vigon",
      "userId": "09456169185020192907"
     },
     "user_tz": -120
    },
    "id": "h-w3YK1WunPP",
    "outputId": "0b371619-a8ee-45a4-85a7-86a5a38951ab"
   },
   "outputs": [],
   "source": [
    "jax.tree.leaves(points)"
   ]
  },
  {
   "cell_type": "markdown",
   "id": "Zjmg-jJEkyBv",
   "metadata": {
    "id": "Zjmg-jJEkyBv"
   },
   "source": [
    "##  Action sur les pytree"
   ]
  },
  {
   "cell_type": "markdown",
   "id": "nId0OGrpvphb",
   "metadata": {
    "id": "nId0OGrpvphb"
   },
   "source": [
    "### Des feuilles avec des noms"
   ]
  },
  {
   "cell_type": "code",
   "execution_count": null,
   "id": "UKkXOQNCv3qB",
   "metadata": {
    "id": "UKkXOQNCv3qB"
   },
   "outputs": [],
   "source": [
    "import collections\n",
    "\n",
    "points=Point_3(x=jnp.zeros([3]),y=jnp.ones([3]))\n",
    "point =Point_1(x=1,y=3)\n",
    "\n",
    "tree = [1, {'k1': 2, 'k2': (3, 4)}, points,point]"
   ]
  },
  {
   "cell_type": "code",
   "execution_count": null,
   "id": "yRXKHWHQvw-m",
   "metadata": {
    "colab": {
     "base_uri": "https://localhost:8080/"
    },
    "executionInfo": {
     "elapsed": 3,
     "status": "ok",
     "timestamp": 1744400751220,
     "user": {
      "displayName": "vincent vigon",
      "userId": "09456169185020192907"
     },
     "user_tz": -120
    },
    "id": "yRXKHWHQvw-m",
    "outputId": "298981f0-346b-4373-9f2a-67c37057439b"
   },
   "outputs": [],
   "source": [
    "flattened, structure = jax.tree_util.tree_flatten_with_path(tree)\n",
    "\n",
    "for key_path, value in flattened:\n",
    "    print(key_path)\n",
    "    print(f'Value of tree{jax.tree_util.keystr(key_path)}: {value}')\n",
    "    print()"
   ]
  },
  {
   "cell_type": "markdown",
   "id": "2-j1ZcEyw2ZR",
   "metadata": {
    "id": "2-j1ZcEyw2ZR"
   },
   "source": [
    "### map"
   ]
  },
  {
   "cell_type": "code",
   "execution_count": null,
   "id": "HybRES96jJ7H",
   "metadata": {
    "colab": {
     "base_uri": "https://localhost:8080/"
    },
    "executionInfo": {
     "elapsed": 2,
     "status": "ok",
     "timestamp": 1740057475474,
     "user": {
      "displayName": "vincent vigon",
      "userId": "09456169185020192907"
     },
     "user_tz": -60
    },
    "id": "HybRES96jJ7H",
    "outputId": "1cf574c0-fc62-41b9-86ae-e05b872f7987"
   },
   "outputs": [],
   "source": [
    "a_pytree = [\n",
    "    [1, 2, 3],\n",
    "    {\"a\":1,\"b\": 2},\n",
    "    [1, 2, 3, 4]\n",
    "]\n",
    "\n",
    "jax.tree.map(lambda x: x*2, a_pytree)"
   ]
  },
  {
   "cell_type": "markdown",
   "id": "gy0sqv36lC6J",
   "metadata": {
    "id": "gy0sqv36lC6J"
   },
   "source": [
    "Appliquer une fonction à 2 arguments sur 2 pytree:"
   ]
  },
  {
   "cell_type": "code",
   "execution_count": null,
   "id": "n_kjiDw6k0xi",
   "metadata": {
    "colab": {
     "base_uri": "https://localhost:8080/"
    },
    "executionInfo": {
     "elapsed": 9,
     "status": "ok",
     "timestamp": 1740057475483,
     "user": {
      "displayName": "vincent vigon",
      "userId": "09456169185020192907"
     },
     "user_tz": -60
    },
    "id": "n_kjiDw6k0xi",
    "outputId": "d2a672ca-d115-428c-a26a-0defb8fe4f3e"
   },
   "outputs": [],
   "source": [
    "another_pytree = a_pytree\n",
    "jax.tree.map(lambda x, y: x+y, a_pytree, another_pytree)"
   ]
  },
  {
   "cell_type": "markdown",
   "id": "X75XlNCQ8VFj",
   "metadata": {
    "id": "X75XlNCQ8VFj"
   },
   "source": [
    "### Dériver"
   ]
  },
  {
   "cell_type": "code",
   "execution_count": null,
   "id": "aQMWEjkE9ScJ",
   "metadata": {
    "colab": {
     "base_uri": "https://localhost:8080/"
    },
    "executionInfo": {
     "elapsed": 14,
     "status": "ok",
     "timestamp": 1740057475501,
     "user": {
      "displayName": "vincent vigon",
      "userId": "09456169185020192907"
     },
     "user_tz": -60
    },
    "id": "aQMWEjkE9ScJ",
    "outputId": "f06a8b60-4d30-43fe-9dd1-2e3ce20b4179"
   },
   "outputs": [],
   "source": [
    "def fn(point):\n",
    "    return point.x**2 * point.y**3\n",
    "\n",
    "point = Point_3(3.,1.)\n",
    "point"
   ]
  },
  {
   "cell_type": "code",
   "execution_count": null,
   "id": "Tp-GTqM-9rVg",
   "metadata": {
    "colab": {
     "base_uri": "https://localhost:8080/"
    },
    "executionInfo": {
     "elapsed": 305,
     "status": "ok",
     "timestamp": 1740057475807,
     "user": {
      "displayName": "vincent vigon",
      "userId": "09456169185020192907"
     },
     "user_tz": -60
    },
    "id": "Tp-GTqM-9rVg",
    "outputId": "8f0c32bc-8e33-486c-fce8-a5ad50aaea8e"
   },
   "outputs": [],
   "source": [
    "jax.grad(fn)(point)"
   ]
  },
  {
   "cell_type": "markdown",
   "id": "8HbXV4lfUkbQ",
   "metadata": {
    "id": "8HbXV4lfUkbQ"
   },
   "source": [
    "***A vous:*** Introduisez un bug ou un print dans la fonction `point_unflatten` pour vérifiez que `grad` va bien l'utiliser."
   ]
  },
  {
   "cell_type": "markdown",
   "id": "oFRCru_OC5kG",
   "metadata": {
    "id": "oFRCru_OC5kG"
   },
   "source": [
    "## pytree de tenseur\n",
    "\n",
    "Les paramètres de nos modèles seront des pytree de tenseurs.\n",
    "\n",
    "Mais aussi souvent, les inputs de nos modèle, quand il faut les structurer, sont des pytree de tenseurs."
   ]
  },
  {
   "cell_type": "code",
   "execution_count": null,
   "id": "9KzJ656UDTSh",
   "metadata": {
    "id": "9KzJ656UDTSh"
   },
   "outputs": [],
   "source": [
    "import jax.random as jr"
   ]
  },
  {
   "cell_type": "code",
   "execution_count": null,
   "id": "0L3E1QWSDDT4",
   "metadata": {
    "id": "0L3E1QWSDDT4"
   },
   "outputs": [],
   "source": [
    "layer_widths=(2,5,9,3)\n",
    "rkey=jr.key(0)\n",
    "params = []\n",
    "for n_in, n_out in zip(layer_widths[:-1], layer_widths[1:]):\n",
    "    rk,rkey=jr.split(rkey)\n",
    "    params.append(\n",
    "        {\"weight\":jr.normal(rk,shape=(n_in, n_out))*jnp.sqrt(2/n_in),\n",
    "        \"bias\":jnp.zeros([n_out])})"
   ]
  },
  {
   "cell_type": "code",
   "execution_count": null,
   "id": "oQSTlr-nDebb",
   "metadata": {
    "colab": {
     "base_uri": "https://localhost:8080/"
    },
    "executionInfo": {
     "elapsed": 42,
     "status": "ok",
     "timestamp": 1755585886820,
     "user": {
      "displayName": "vincent vigon",
      "userId": "09456169185020192907"
     },
     "user_tz": -120
    },
    "id": "oQSTlr-nDebb",
    "outputId": "b6b61094-8ff9-4588-9b93-461dcf239faa"
   },
   "outputs": [],
   "source": [
    "for leaves in jax.tree.leaves(params):\n",
    "    print(leaves.shape)"
   ]
  },
  {
   "cell_type": "code",
   "execution_count": null,
   "id": "e4PX-xFiD8_r",
   "metadata": {
    "id": "e4PX-xFiD8_r"
   },
   "outputs": [],
   "source": [
    "from jax.flatten_util import ravel_pytree\n",
    "\n",
    "params_flat, unflatten_fn = ravel_pytree(params)"
   ]
  },
  {
   "cell_type": "code",
   "execution_count": null,
   "id": "kvVxuw0BFAN-",
   "metadata": {
    "colab": {
     "base_uri": "https://localhost:8080/"
    },
    "executionInfo": {
     "elapsed": 8,
     "status": "ok",
     "timestamp": 1755586154520,
     "user": {
      "displayName": "vincent vigon",
      "userId": "09456169185020192907"
     },
     "user_tz": -120
    },
    "id": "kvVxuw0BFAN-",
    "outputId": "be50d7d9-ad99-4f18-d1a2-2ca177345582"
   },
   "outputs": [],
   "source": [
    "params_flat.shape"
   ]
  },
  {
   "cell_type": "code",
   "execution_count": null,
   "id": "oCRuW-jKFBwm",
   "metadata": {
    "colab": {
     "base_uri": "https://localhost:8080/"
    },
    "executionInfo": {
     "elapsed": 92,
     "status": "ok",
     "timestamp": 1755586186627,
     "user": {
      "displayName": "vincent vigon",
      "userId": "09456169185020192907"
     },
     "user_tz": -120
    },
    "id": "oCRuW-jKFBwm",
    "outputId": "cb1b6586-5252-401a-f9d0-62431eeee250"
   },
   "outputs": [],
   "source": [
    "params_back=unflatten_fn(params_flat)\n",
    "for leaves in jax.tree.leaves(params_back):\n",
    "    print(leaves.shape)"
   ]
  },
  {
   "cell_type": "markdown",
   "id": "EiB7ZDMxGfHp",
   "metadata": {
    "id": "EiB7ZDMxGfHp"
   },
   "source": [
    "## Défi prog"
   ]
  },
  {
   "cell_type": "markdown",
   "id": "trhV5vylG4rL",
   "metadata": {
    "id": "trhV5vylG4rL"
   },
   "source": [
    "Il s'agit de créer une fonction `select_pytree_from_subpath` qui permette d'extraire un sous-pytree. Par exemple considérons:\n",
    "\n",
    "        tree_input = (1, {\"a\": (2,[5,6]), \"c\": [3, 4]})\n",
    "\n",
    "\n",
    "On crée un sélector: un pytree de booléen dont la structure est incluse dans celle du pytree initial\n",
    "\n",
    "\n",
    "        tree_selector = (True, {\"a\": False, \"c\": True})\n",
    "\n",
    "\n",
    "Le résultat sera le `tree_input` auquel on aura coupé toutes les branches qui correspondent à un `False` dans le `tree_selector`\n",
    "\n",
    "\n",
    "        tree_output = select_pytree_from_subpath\n",
    "        (tree_input, tree_selector,False)\n",
    "\n",
    "\n",
    "Le `tree_output` sera:\n",
    "\n",
    "        (1, {'a': None, 'c': [3, 4]})\n"
   ]
  },
  {
   "cell_type": "markdown",
   "id": "ZeR5AIZMIpvr",
   "metadata": {
    "id": "ZeR5AIZMIpvr"
   },
   "source": [
    "Aide: Voici le début de ma solution. Mais si vous voulez partir sur une autre idée ..."
   ]
  },
  {
   "cell_type": "code",
   "execution_count": null,
   "id": "VSA4boKqF0xr",
   "metadata": {
    "id": "VSA4boKqF0xr"
   },
   "outputs": [],
   "source": [
    "def select_pytree_from_subpath(pytree,tree_selector,replace_leaves_by_TrueFalse):\n",
    "\n",
    "    flattened, structure = jax.tree_util.tree_flatten_with_path(pytree)\n",
    "    flattened_selector, _ = jax.tree_util.tree_flatten_with_path(tree_selector)\n",
    "    keys_selector=[kv[0] for kv in flattened_selector if kv[1]]\n",
    "\n",
    "    def is_super_key(k):\n",
    "        for key_selector in keys_selector:\n",
    "            if k[:len(key_selector)]==key_selector:\n",
    "                return True\n",
    "        return False\n",
    "\n",
    "    flattened_selected=[]\n",
    "    ...\n",
    "\n",
    "    tree_selected=jax.tree.unflatten(structure,flattened_selected)\n",
    "    return tree_selected"
   ]
  },
  {
   "cell_type": "markdown",
   "id": "tw4-fGsctNlH",
   "metadata": {
    "id": "tw4-fGsctNlH"
   },
   "source": [
    "Voici le programme test:"
   ]
  },
  {
   "cell_type": "code",
   "execution_count": null,
   "id": "58VAvyJ2GhUQ",
   "metadata": {
    "id": "58VAvyJ2GhUQ"
   },
   "outputs": [],
   "source": [
    "def test():\n",
    "    tree_input = (1, {\"a\": 2, \"c\": [3, 4]})\n",
    "\n",
    "    tree_selector = (False, {\"a\": True, \"c\": True})\n",
    "    tree_output=select_pytree_from_subpath(tree_input,tree_selector,False)\n",
    "    assert str(tree_output)==\"(None, {'a': 2, 'c': [3, 4]})\"\n",
    "    tree_selector = (False, {\"a\": True, \"c\": True})\n",
    "    tree_output = select_pytree_from_subpath(tree_input, tree_selector, True)\n",
    "    assert str(tree_output) == \"(False, {'a': True, 'c': [True, True]})\"\n",
    "\n",
    "\n",
    "    tree_selector = (True, {\"a\": False, \"c\": True})\n",
    "    tree_output = select_pytree_from_subpath(tree_input, tree_selector,False)\n",
    "    assert str(tree_output)==\"(1, {'a': None, 'c': [3, 4]})\"\n",
    "    tree_output = select_pytree_from_subpath(tree_input, tree_selector, True)\n",
    "    assert str(tree_output) == \"(True, {'a': False, 'c': [True, True]})\"\n",
    "\n",
    "    tree_selector = (True, {\"c\": True})\n",
    "    tree_output = select_pytree_from_subpath(tree_input, tree_selector,False)\n",
    "    assert str(tree_output) == \"(1, {'a': None, 'c': [3, 4]})\"\n",
    "\n",
    "    tree_selector = (True, {\"a\": True, \"c\": False})\n",
    "    tree_output = select_pytree_from_subpath(tree_input, tree_selector,False)\n",
    "    assert str(tree_output) == \"(1, {'a': 2, 'c': [None, None]})\"\n",
    "    tree_output = select_pytree_from_subpath(tree_input, tree_selector,True)\n",
    "    assert str(tree_output) == \"(True, {'a': True, 'c': [False, False]})\"\n",
    "\n",
    "test()"
   ]
  },
  {
   "cell_type": "code",
   "execution_count": null,
   "id": "0IPwmv7zGmZu",
   "metadata": {
    "id": "0IPwmv7zGmZu"
   },
   "outputs": [],
   "source": []
  }
 ],
 "metadata": {
  "colab": {
   "provenance": []
  },
  "kernelspec": {
   "display_name": "study",
   "language": "python",
   "name": "python3"
  },
  "language_info": {
   "codemirror_mode": {
    "name": "ipython",
    "version": 3
   },
   "file_extension": ".py",
   "mimetype": "text/x-python",
   "name": "python",
   "nbconvert_exporter": "python",
   "pygments_lexer": "ipython3",
   "version": "3.12.11"
  }
 },
 "nbformat": 4,
 "nbformat_minor": 5
}
