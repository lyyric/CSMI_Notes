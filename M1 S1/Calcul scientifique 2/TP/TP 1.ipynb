{
  "cells": [
    {
      "cell_type": "code",
      "execution_count": null,
      "metadata": {
        "id": "E1iMIRH4nmB7"
      },
      "outputs": [
        {
          "ename": "",
          "evalue": "",
          "output_type": "error",
          "traceback": [
            "\u001b[1;31mRunning cells with 'usr (Python 3.12.4)' requires the ipykernel package.\n",
            "\u001b[1;31mRun the following command to install 'ipykernel' into the Python environment. \n",
            "\u001b[1;31mCommand: '/usr/bin/python -m pip install ipykernel -U --force-reinstall'"
          ]
        }
      ],
      "source": [
        "import numpy as np\n",
        "import scipy as sp\n",
        "import scipy.sparse as spsp"
      ]
    },
    {
      "cell_type": "markdown",
      "metadata": {
        "id": "uTMS4ledncSE"
      },
      "source": [
        "## Partie 1. (Format Compressed Sparse Row)\n"
      ]
    },
    {
      "cell_type": "markdown",
      "metadata": {
        "id": "AzWioKBvntLQ"
      },
      "source": [
        "1."
      ]
    },
    {
      "cell_type": "code",
      "execution_count": 4,
      "metadata": {
        "colab": {
          "base_uri": "https://localhost:8080/"
        },
        "id": "_tbxaWzrnr69",
        "outputId": "d594536d-bf10-4953-a3d4-70d72feaa79f"
      },
      "outputs": [
        {
          "name": "stdout",
          "output_type": "stream",
          "text": [
            "A.toarray() =\n",
            " [[1 0 2]\n",
            " [0 0 3]\n",
            " [4 5 6]]\n"
          ]
        }
      ],
      "source": [
        "row = np.array([0, 0, 1, 2, 2, 2])\n",
        "col = np.array([0, 2, 2, 0, 1, 2])\n",
        "data = np.array([1, 2, 3, 4, 5, 6])\n",
        "A = spsp.csr_matrix((data, (row, col)), shape=(3, 3))\n",
        "\n",
        "print(\"A.toarray() =\\n\", A.toarray())"
      ]
    },
    {
      "cell_type": "code",
      "execution_count": 5,
      "metadata": {
        "colab": {
          "base_uri": "https://localhost:8080/"
        },
        "id": "wVreMCgLpCd6",
        "outputId": "7777f0ef-a700-41eb-d18f-f9fe88279eda"
      },
      "outputs": [
        {
          "name": "stdout",
          "output_type": "stream",
          "text": [
            "A =\n",
            "   (0, 0)\t1\n",
            "  (0, 2)\t2\n",
            "  (1, 2)\t3\n",
            "  (2, 0)\t4\n",
            "  (2, 1)\t5\n",
            "  (2, 2)\t6\n"
          ]
        }
      ],
      "source": [
        "print(\"A =\\n\", A)"
      ]
    },
    {
      "cell_type": "markdown",
      "metadata": {
        "id": "8FZPBTswpHO5"
      },
      "source": [
        "2."
      ]
    },
    {
      "cell_type": "code",
      "execution_count": 6,
      "metadata": {
        "colab": {
          "base_uri": "https://localhost:8080/"
        },
        "id": "aRLDVyQcpI8H",
        "outputId": "539811a2-4272-46ac-d37c-73e3bd92a577"
      },
      "outputs": [
        {
          "name": "stdout",
          "output_type": "stream",
          "text": [
            "A[0, :] =\n",
            "   (0, 0)\t1\n",
            "  (0, 2)\t2\n"
          ]
        }
      ],
      "source": [
        "print(\"A[0, :] =\\n\", A[0, :])"
      ]
    },
    {
      "cell_type": "markdown",
      "metadata": {
        "id": "yPsxa75zpSH2"
      },
      "source": [
        "3."
      ]
    },
    {
      "cell_type": "markdown",
      "metadata": {
        "id": "WqW-nniSpS5l"
      },
      "source": [
        "4."
      ]
    },
    {
      "cell_type": "markdown",
      "metadata": {
        "id": "l8McuxWmpTmq"
      },
      "source": [
        "## Partie 2. (Factorisation LU)"
      ]
    },
    {
      "cell_type": "markdown",
      "metadata": {
        "id": "cmAoKPUKpatI"
      },
      "source": [
        "5."
      ]
    },
    {
      "cell_type": "markdown",
      "metadata": {
        "id": "fRzg7TcTpbzE"
      },
      "source": [
        "6."
      ]
    },
    {
      "cell_type": "markdown",
      "metadata": {
        "id": "rhUS7sdXpcqc"
      },
      "source": [
        "7."
      ]
    },
    {
      "cell_type": "markdown",
      "metadata": {
        "id": "YK5IZa9jpqDF"
      },
      "source": [
        "## Partie 3 (Remplissage - fill in)."
      ]
    },
    {
      "cell_type": "markdown",
      "metadata": {
        "id": "otG68UMNpdhr"
      },
      "source": [
        "8."
      ]
    },
    {
      "cell_type": "markdown",
      "metadata": {
        "id": "iM_SyibnpebB"
      },
      "source": [
        "9."
      ]
    },
    {
      "cell_type": "markdown",
      "metadata": {
        "id": "W20KONrxpfJx"
      },
      "source": [
        "10."
      ]
    },
    {
      "cell_type": "markdown",
      "metadata": {
        "id": "Xw2oicnbpthm"
      },
      "source": [
        "## Partie 4 (temps de calcul)."
      ]
    },
    {
      "cell_type": "markdown",
      "metadata": {
        "id": "UXzWrtucpf-h"
      },
      "source": [
        "11."
      ]
    },
    {
      "cell_type": "markdown",
      "metadata": {
        "id": "Z3p-NqtZpgyh"
      },
      "source": [
        "12."
      ]
    },
    {
      "cell_type": "markdown",
      "metadata": {
        "id": "CSTdBdeDphw8"
      },
      "source": [
        "13."
      ]
    }
  ],
  "metadata": {
    "colab": {
      "provenance": [],
      "toc_visible": true
    },
    "kernelspec": {
      "display_name": "Python 3",
      "name": "python3"
    },
    "language_info": {
      "name": "python",
      "version": "3.12.4"
    }
  },
  "nbformat": 4,
  "nbformat_minor": 0
}
